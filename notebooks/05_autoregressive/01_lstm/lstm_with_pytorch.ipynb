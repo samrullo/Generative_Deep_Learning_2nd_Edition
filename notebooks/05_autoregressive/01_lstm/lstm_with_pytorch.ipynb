{
 "cells": [
  {
   "cell_type": "code",
   "execution_count": 52,
   "metadata": {},
   "outputs": [],
   "source": [
    "import pathlib\n",
    "import json\n",
    "import torch\n",
    "import torch.nn.functional as F\n",
    "from torchtext.data.utils import get_tokenizer\n",
    "from torchtext.vocab import build_vocab_from_iterator"
   ]
  },
  {
   "cell_type": "code",
   "execution_count": 3,
   "metadata": {},
   "outputs": [
    {
     "name": "stdout",
     "output_type": "stream",
     "text": [
      "recipe_data length : 20130\n"
     ]
    }
   ],
   "source": [
    "# here we are loading a list of json objects from a file\n",
    "data_folder=pathlib.Path(r\"C:\\Users\\amrul\\programming\\deep_learning\\dl_projects\\Generative_Deep_Learning_2nd_Edition\\data\\recipes\")\n",
    "data_filename = \"full_format_recipes.json\"\n",
    "data_file = data_folder/data_filename\n",
    "\n",
    "with open(str(data_file),\"r\") as fh:\n",
    "    recipe_data = json.load(fh)\n",
    "\n",
    "print(f\"recipe_data length : {len(recipe_data)}\")"
   ]
  },
  {
   "cell_type": "code",
   "execution_count": 4,
   "metadata": {},
   "outputs": [],
   "source": [
    "# we are building a list of text. each text is recipe title and recipe directions concatenated with a pipe character\n",
    "recipe_text = [f\"Recipe for {recipe['title']} | {' '.join([direction for direction in recipe['directions']])}\" \n",
    "               for recipe in recipe_data \n",
    "               if 'title' in recipe \n",
    "               and recipe['title'] is not None \n",
    "               and 'directions' in recipe \n",
    "               and recipe['directions'] is not None]"
   ]
  },
  {
   "cell_type": "code",
   "execution_count": 5,
   "metadata": {},
   "outputs": [
    {
     "name": "stdout",
     "output_type": "stream",
     "text": [
      "recipe_text length : 20111\n"
     ]
    }
   ],
   "source": [
    "print(f\"recipe_text length : {len(recipe_text)}\")"
   ]
  },
  {
   "cell_type": "markdown",
   "metadata": {},
   "source": [
    "# Build tokenizer"
   ]
  },
  {
   "cell_type": "code",
   "execution_count": 6,
   "metadata": {},
   "outputs": [],
   "source": [
    "VOCAB_SIZE = 10000\n",
    "MAX_LEN = 200\n",
    "EMBEDDING_DIM = 100\n",
    "N_UNITS = 128\n",
    "VALIDATION_SPLIT = 0.2\n",
    "SEED = 42\n",
    "LOAD_MODEL = False\n",
    "BATCH_SIZE = 32\n",
    "EPOCHS = 25"
   ]
  },
  {
   "cell_type": "code",
   "execution_count": 8,
   "metadata": {},
   "outputs": [
    {
     "name": "stdout",
     "output_type": "stream",
     "text": [
      "['recipe', 'for', 'lentil', ',', 'apple', ',', 'and', 'turkey', 'wrap', '|', '1', '.', 'place', 'the', 'stock', ',', 'lentils', ',', 'celery', ',', 'carrot', ',', 'thyme', ',', 'and', 'salt', 'in', 'a', 'medium', 'saucepan', 'and', 'bring', 'to', 'a', 'boil', '.', 'reduce', 'heat', 'to', 'low', 'and', 'simmer', 'until', 'the', 'lentils', 'are', 'tender', ',', 'about', '30', 'minutes', ',', 'depending', 'on', 'the', 'lentils', '.', '(', 'if', 'they', 'begin', 'to', 'dry', 'out', ',', 'add', 'water', 'as', 'needed', '.', ')', 'remove', 'and', 'discard', 'the', 'thyme', '.', 'drain', 'and', 'transfer', 'the', 'mixture', 'to', 'a', 'bowl', 'let', 'cool', '.', '2', '.', 'fold', 'in', 'the', 'tomato', ',', 'apple', ',', 'lemon', 'juice', ',', 'and', 'olive', 'oil', '.', 'season', 'with', 'the', 'pepper', '.', '3', '.', 'to', 'assemble', 'a', 'wrap', ',', 'place', '1', 'lavash', 'sheet', 'on', 'a', 'clean', 'work', 'surface', '.', 'spread', 'some', 'of', 'the', 'lentil', 'mixture', 'on', 'the', 'end', 'nearest', 'you', ',', 'leaving', 'a', '1-inch', 'border', '.', 'top', 'with', 'several', 'slices', 'of', 'turkey', ',', 'then', 'some', 'of', 'the', 'lettuce', '.', 'roll', 'up', 'the', 'lavash', ',', 'slice', 'crosswise', ',', 'and', 'serve', '.', 'if', 'using', 'tortillas', ',', 'spread', 'the', 'lentils', 'in', 'the', 'center', ',', 'top', 'with', 'the', 'turkey', 'and', 'lettuce', ',', 'and', 'fold', 'up', 'the', 'bottom', ',', 'left', 'side', ',', 'and', 'right', 'side', 'before', 'rolling', 'away', 'from', 'you', '.']\n"
     ]
    }
   ],
   "source": [
    "# we initialize tokenizer provided by torchtext.utils.data\n",
    "# this basic english tokenizer tokenizes english text on whitespaces and punctuation marks\n",
    "tokenizer = get_tokenizer('basic_english')\n",
    "\n",
    "tokenized_text = tokenizer(recipe_text[0])\n",
    "print(tokenized_text)"
   ]
  },
  {
   "cell_type": "code",
   "execution_count": 9,
   "metadata": {},
   "outputs": [],
   "source": [
    "# here we define a generator that will yield text from a long list\n",
    "# generators are usually handy when dealing with an open ended iterable, because it is memory efficient\n",
    "\n",
    "def yield_tokens(data_iter):\n",
    "    for text in data_iter:\n",
    "        yield tokenizer(text)"
   ]
  },
  {
   "cell_type": "code",
   "execution_count": 10,
   "metadata": {},
   "outputs": [],
   "source": [
    "# here we are building a vocabulary by using torchtext.vocab build_vocab_from_iterator\n",
    "# we are passing text generator to it as the first argument\n",
    "# we are also specifying maximum vocab size. most probably this function will prepare vocabulary from the first VOCAB_SIZE most frequent tokens that appear in the corpus\n",
    "vocab = build_vocab_from_iterator(yield_tokens(recipe_text),specials=[\"<unk>\"],max_tokens=VOCAB_SIZE)\n",
    "vocab.set_default_index(vocab['<unk>'])"
   ]
  },
  {
   "cell_type": "code",
   "execution_count": 11,
   "metadata": {},
   "outputs": [],
   "source": [
    "# token to id mapping\n",
    "word_to_index = vocab.get_stoi()"
   ]
  },
  {
   "cell_type": "code",
   "execution_count": 12,
   "metadata": {},
   "outputs": [],
   "source": [
    "# token id to token mapping\n",
    "index_to_word = {idx:word for word,idx in word_to_index.items()}"
   ]
  },
  {
   "cell_type": "code",
   "execution_count": 13,
   "metadata": {},
   "outputs": [
    {
     "name": "stdout",
     "output_type": "stream",
     "text": [
      "word_to_index length : 10000\n"
     ]
    }
   ],
   "source": [
    "print(f\"word_to_index length : {len(word_to_index)}\")"
   ]
  },
  {
   "cell_type": "code",
   "execution_count": null,
   "metadata": {},
   "outputs": [],
   "source": [
    "# this will return a list of token ids after applying tokenizer on the text\n",
    "vocab(tokenizer(recipe_text[0]))"
   ]
  },
  {
   "cell_type": "code",
   "execution_count": 15,
   "metadata": {},
   "outputs": [],
   "source": [
    "def text_vectorization(batch_text):\n",
    "    \"\"\"\n",
    "    take batch_text which is a list of text and return vectorized batch of data where each record is a series integers which represent indices of word tokens\n",
    "    \"\"\"\n",
    "    tokenized_texts = [torch.tensor(vocab(tokenizer(text))) for text in batch_text]\n",
    "    vectorized_texts = torch.nn.utils.rnn.pad_sequence(tokenized_texts,batch_first=True)\n",
    "\n",
    "    if vectorized_texts.size(1)>MAX_LEN+1:\n",
    "        vectorized_texts = vectorized_texts[:,:MAX_LEN+1]\n",
    "    return vectorized_texts"
   ]
  },
  {
   "cell_type": "code",
   "execution_count": 16,
   "metadata": {},
   "outputs": [],
   "source": [
    "# here we are converting our list of recipe text into a matrix with shape (N,L) where N is the number of recipes\n",
    "# and L is the number of tokens. The values in each sample are token IDs\n",
    "recipe_vectorized = text_vectorization(recipe_text)"
   ]
  },
  {
   "cell_type": "code",
   "execution_count": 17,
   "metadata": {},
   "outputs": [
    {
     "name": "stdout",
     "output_type": "stream",
     "text": [
      "recipe vectorized shape : torch.Size([20111, 201])\n"
     ]
    }
   ],
   "source": [
    "# we can confirm that recipe_vectorized has (N,L) shape\n",
    "print(f\"recipe vectorized shape : {recipe_vectorized.shape}\")"
   ]
  },
  {
   "cell_type": "markdown",
   "metadata": {},
   "source": [
    "# Prepare dataset"
   ]
  },
  {
   "cell_type": "code",
   "execution_count": 18,
   "metadata": {},
   "outputs": [],
   "source": [
    "# I suppose because we are going to train our LSTM model on next token prediction\n",
    "# we are preparing x and y where x are tokens from start to end -1 and y are tokens from 1 to end\n",
    "x,y = recipe_vectorized[:,:-1],recipe_vectorized[:,1:]"
   ]
  },
  {
   "cell_type": "code",
   "execution_count": 19,
   "metadata": {},
   "outputs": [],
   "source": [
    "# preparing our Dataset\n",
    "from torch.utils.data import TensorDataset,DataLoader\n",
    "\n",
    "dataset = TensorDataset(x,y)\n"
   ]
  },
  {
   "cell_type": "code",
   "execution_count": 20,
   "metadata": {},
   "outputs": [
    {
     "name": "stdout",
     "output_type": "stream",
     "text": [
      "length of dataset : 20111\n",
      "one_x shape : torch.Size([200]), one_y shape : torch.Size([200])\n"
     ]
    }
   ],
   "source": [
    "# our dataset returns x and y both of which are vectors of the same size\n",
    "print(f\"length of dataset : {len(dataset)}\")\n",
    "one_x, one_y = dataset[0]\n",
    "print(f\"one_x shape : {one_x.shape}, one_y shape : {one_y.shape}\")"
   ]
  },
  {
   "cell_type": "code",
   "execution_count": 21,
   "metadata": {},
   "outputs": [
    {
     "name": "stdout",
     "output_type": "stream",
     "text": [
      "train dataset size : 14077, validation dataset size : 3016, test dataset size : 3018\n"
     ]
    }
   ],
   "source": [
    "# we randomly split our dataset to train, validation and test datasets\n",
    "from torch.utils.data import random_split\n",
    "\n",
    "total_size = len(dataset)\n",
    "train_size = int(0.7*total_size)\n",
    "val_size = int(0.15*total_size)\n",
    "test_size = total_size - train_size - val_size\n",
    "\n",
    "train_ds, val_ds, test_ds = random_split(dataset,[train_size,val_size,test_size])\n",
    "print(f\"train dataset size : {len(train_ds)}, validation dataset size : {len(val_ds)}, test dataset size : {len(test_ds)}\")"
   ]
  },
  {
   "cell_type": "code",
   "execution_count": 22,
   "metadata": {},
   "outputs": [],
   "source": [
    "# initialize Dataloaders for each split\n",
    "train_loader = DataLoader(train_ds, batch_size=BATCH_SIZE, shuffle=True)\n",
    "val_loader = DataLoader(val_ds,batch_size=BATCH_SIZE,shuffle=False)\n",
    "test_loader = DataLoader(test_ds,batch_size=BATCH_SIZE,shuffle=False)"
   ]
  },
  {
   "cell_type": "markdown",
   "metadata": {},
   "source": [
    "# Build the model"
   ]
  },
  {
   "cell_type": "code",
   "execution_count": 37,
   "metadata": {},
   "outputs": [],
   "source": [
    "import torch\n",
    "import torch.nn as nn\n",
    "\n",
    "class LSTMModel(nn.Module):\n",
    "    def __init__(self,vocab_size, embed_dim, n_units):\n",
    "        super(LSTMModel,self).__init__()\n",
    "        self.embedding = nn.Embedding(vocab_size, embed_dim)\n",
    "\n",
    "        # batch_first means input has shape (N,L,D) where N is batch size and L is sequence length and D is embedding dimension\n",
    "        # nn.LSTM outputs tensor with shape (N,L,H) where N is batch size, L is sequence length and H is hidden layer size or n_units in this case\n",
    "        # it returns hidden states at each timestep\n",
    "        self.lstm = nn.LSTM(embed_dim,n_units,batch_first=True)\n",
    "\n",
    "        # this dense layer will output (N,V) where N is batch size and V matches vocabulary size\n",
    "        self.dense = nn.Linear(n_units,vocab_size)\n",
    "\n",
    "        # we apply softmax on second dimension of densel layer output to produce probabilities for each token in the vocabulary\n",
    "        #self.softmax = nn.Softmax(dim=-1)\n",
    "    \n",
    "    def forward(self,x):\n",
    "        x = self.embedding(x)\n",
    "        x,_ = self.lstm(x)\n",
    "        out = self.dense(x)\n",
    "        return out"
   ]
  },
  {
   "cell_type": "markdown",
   "metadata": {},
   "source": [
    "# Define training loop, initialize model and define text generator"
   ]
  },
  {
   "cell_type": "code",
   "execution_count": 24,
   "metadata": {},
   "outputs": [],
   "source": [
    "device = (torch.device('cuda') if torch.cuda.is_available() else torch.device('cpu'))\n",
    "# device=torch.device('cpu')"
   ]
  },
  {
   "cell_type": "code",
   "execution_count": 48,
   "metadata": {},
   "outputs": [],
   "source": [
    "def compute_loss(model,loss_fn,data_loader):    \n",
    "    total_loss = 0\n",
    "    for x,y in data_loader:\n",
    "        x = x.to(device=device)\n",
    "        y = y.to(device=device)\n",
    "        with torch.no_grad():\n",
    "            out = model(x)\n",
    "            loss = loss_fn(out.view(-1,VOCAB_SIZE),y.view(-1))\n",
    "            total_loss += loss.item()\n",
    "    return total_loss / len(data_loader)\n"
   ]
  },
  {
   "cell_type": "code",
   "execution_count": 26,
   "metadata": {},
   "outputs": [],
   "source": [
    "from tqdm import tqdm\n",
    "import numpy as np"
   ]
  },
  {
   "cell_type": "code",
   "execution_count": 27,
   "metadata": {},
   "outputs": [],
   "source": [
    "def sample_from(probs, temperature):\n",
    "    # lower temperature will boost probabilities up and allows us to generate text with higher variety\n",
    "    probs = probs ** (1/temperature)\n",
    "    probs = probs / np.sum(probs)\n",
    "\n",
    "    # np.random.choice returns single number between zero and len(probs). the probability of choosing each number in that range is represented by probs\n",
    "    return np.random.choice(len(probs),p=probs),probs"
   ]
  },
  {
   "cell_type": "code",
   "execution_count": 53,
   "metadata": {},
   "outputs": [],
   "source": [
    "def generate_text(model,start_prompt,max_tokens,temperature):\n",
    "    start_tokens = [word_to_index[word] for word in start_prompt.split()]\n",
    "\n",
    "    sample_token = None\n",
    "\n",
    "    info=[]\n",
    "\n",
    "    while len(start_tokens) < max_tokens and sample_token != 0:\n",
    "        x = torch.tensor(start_tokens).unsqueeze(0)\n",
    "        x = x.to(device=device)\n",
    "        with torch.no_grad():\n",
    "            logits = model(x)\n",
    "            preds = F.softmax(logits,dim=-1)\n",
    "        sample_token, probs = sample_from(preds[0,-1,:].cpu().numpy(),temperature)\n",
    "        start_tokens.append(sample_token)\n",
    "        start_prompt = f\"{start_prompt} {index_to_word[sample_token]}\"\n",
    "        info.append({\"prompt\":start_prompt,\"word_probs\":probs})\n",
    "    print(f\"generated text : \\n {start_prompt}\")\n",
    "    return info"
   ]
  },
  {
   "cell_type": "code",
   "execution_count": 29,
   "metadata": {},
   "outputs": [],
   "source": [
    "checkpoint_folder = pathlib.Path(r\"C:\\Users\\amrul\\programming\\deep_learning\\dl_projects\\Generative_Deep_Learning_2nd_Edition\\notebooks\\05_autoregressive\\01_lstm\\checkpoint\")"
   ]
  },
  {
   "cell_type": "code",
   "execution_count": 56,
   "metadata": {},
   "outputs": [],
   "source": [
    "def training_loop(n_epochs,optimizer, model, loss_fn, train_loader, val_loader,max_gen_tokens=10, gen_temperature=1.0):\n",
    "    best_val_loss = float('inf')\n",
    "    train_losses = []\n",
    "    val_losses = []\n",
    "    generated_infos = []\n",
    "\n",
    "    for epoch in tqdm(range(1,n_epochs+1),position=0, desc=\"Epoch Loop\"):\n",
    "        loss_train = 0\n",
    "\n",
    "        model.train()\n",
    "        for x,y in tqdm(train_loader, position=0, desc=\"Train Loop\"):\n",
    "            x = x.to(device=device)\n",
    "            y = y.to(device=device)\n",
    "\n",
    "            out = model(x)\n",
    "\n",
    "            loss = loss_fn(out.reshape(-1,VOCAB_SIZE),y.reshape(-1))\n",
    "            train_losses.append(loss.item())            \n",
    "\n",
    "            optimizer.zero_grad()\n",
    "            loss.backward()\n",
    "            optimizer.step()\n",
    "\n",
    "            loss_train += loss.item()\n",
    "        loss_train_avg = loss_train / len(train_loader)\n",
    "        print(f\"Epoch {epoch} average loss is {loss_train_avg}\")\n",
    "\n",
    "        model.eval()\n",
    "        val_loss = compute_loss(model,loss_fn,val_loader)\n",
    "\n",
    "        if val_loss < best_val_loss:\n",
    "            best_val_loss = val_loss\n",
    "            torch.save(model.state_dict(),str(checkpoint_folder/\"best_lstm_pytoch_params.pt\"))\n",
    "        val_losses.append(val_loss)\n",
    "\n",
    "        generated_infos.append(generate_text(model,\"recipe for\", max_gen_tokens, gen_temperature))\n",
    "    \n",
    "    return train_losses, val_losses, generated_infos"
   ]
  },
  {
   "cell_type": "code",
   "execution_count": 57,
   "metadata": {},
   "outputs": [],
   "source": [
    "model = LSTMModel(VOCAB_SIZE,EMBEDDING_DIM,N_UNITS)\n",
    "model = model.to(device=device)"
   ]
  },
  {
   "cell_type": "code",
   "execution_count": 58,
   "metadata": {},
   "outputs": [
    {
     "name": "stdout",
     "output_type": "stream",
     "text": [
      "x type : torch.int64 x shape : torch.Size([32, 200])\n",
      "out shape is torch.Size([32, 200, 10000])\n",
      "x type : torch.int64 x shape : torch.Size([32, 200])\n",
      "out shape is torch.Size([32, 200, 10000])\n",
      "x type : torch.int64 x shape : torch.Size([32, 200])\n",
      "out shape is torch.Size([32, 200, 10000])\n",
      "x type : torch.int64 x shape : torch.Size([32, 200])\n",
      "out shape is torch.Size([32, 200, 10000])\n"
     ]
    }
   ],
   "source": [
    "for idx,(x,y) in enumerate(train_loader):\n",
    "    x = x.to(device=device)\n",
    "    y=y.to(device=device)\n",
    "    with torch.no_grad():\n",
    "        print(f\"x type : {x.dtype} x shape : {x.shape}\")\n",
    "        out = model(x)\n",
    "        print(f\"out shape is {out.shape}\")\n",
    "    \n",
    "    if idx>2:\n",
    "        break"
   ]
  },
  {
   "cell_type": "code",
   "execution_count": 59,
   "metadata": {},
   "outputs": [
    {
     "data": {
      "text/plain": [
       "(torch.Size([32, 200]), torch.Size([32, 200, 10000]))"
      ]
     },
     "execution_count": 59,
     "metadata": {},
     "output_type": "execute_result"
    }
   ],
   "source": [
    "y.shape,out.shape"
   ]
  },
  {
   "cell_type": "code",
   "execution_count": 60,
   "metadata": {},
   "outputs": [],
   "source": [
    "import torch.optim as optim\n",
    "\n",
    "learning_rate = 0.001\n",
    "\n",
    "loss_fn = nn.CrossEntropyLoss()\n",
    "\n",
    "optimizer = optim.Adam(model.parameters(),lr=learning_rate)\n"
   ]
  },
  {
   "cell_type": "code",
   "execution_count": 47,
   "metadata": {},
   "outputs": [
    {
     "data": {
      "text/plain": [
       "tensor(9.2541, device='cuda:0')"
      ]
     },
     "execution_count": 47,
     "metadata": {},
     "output_type": "execute_result"
    }
   ],
   "source": [
    "loss_fn(out.view(-1,VOCAB_SIZE),y.view(-1))"
   ]
  },
  {
   "cell_type": "code",
   "execution_count": 61,
   "metadata": {},
   "outputs": [
    {
     "name": "stderr",
     "output_type": "stream",
     "text": [
      "Train Loop: 100%|██████████| 440/440 [00:05<00:00, 83.51it/s]\n"
     ]
    },
    {
     "name": "stdout",
     "output_type": "stream",
     "text": [
      "Epoch 1 average loss is 3.8654191716150805\n"
     ]
    },
    {
     "name": "stderr",
     "output_type": "stream",
     "text": [
      "Epoch Loop:   4%|▍         | 1/25 [00:05<02:16,  5.71s/it]"
     ]
    },
    {
     "name": "stdout",
     "output_type": "stream",
     "text": [
      "generated text : \n",
      " recipe for vinaigrette in a shaker , and rinse |\n"
     ]
    },
    {
     "name": "stderr",
     "output_type": "stream",
     "text": [
      "Train Loop: 100%|██████████| 440/440 [00:04<00:00, 90.09it/s]\n"
     ]
    },
    {
     "name": "stdout",
     "output_type": "stream",
     "text": [
      "Epoch 2 average loss is 2.7318639489737424\n"
     ]
    },
    {
     "name": "stderr",
     "output_type": "stream",
     "text": [
      "Epoch Loop:   8%|▊         | 2/25 [00:11<02:06,  5.50s/it]"
     ]
    },
    {
     "name": "stdout",
     "output_type": "stream",
     "text": [
      "generated text : \n",
      " recipe for russian frosting , mint with rum salad |\n"
     ]
    },
    {
     "name": "stderr",
     "output_type": "stream",
     "text": [
      "Train Loop: 100%|██████████| 440/440 [00:04<00:00, 89.61it/s]\n"
     ]
    },
    {
     "name": "stdout",
     "output_type": "stream",
     "text": [
      "Epoch 3 average loss is 2.4265393183989956\n"
     ]
    },
    {
     "name": "stderr",
     "output_type": "stream",
     "text": [
      "Epoch Loop:  12%|█▏        | 3/25 [00:16<01:59,  5.43s/it]"
     ]
    },
    {
     "name": "stdout",
     "output_type": "stream",
     "text": [
      "generated text : \n",
      " recipe for and heirloom basil | cut the bacon in\n"
     ]
    },
    {
     "name": "stderr",
     "output_type": "stream",
     "text": [
      "Train Loop: 100%|██████████| 440/440 [00:04<00:00, 89.19it/s]\n"
     ]
    },
    {
     "name": "stdout",
     "output_type": "stream",
     "text": [
      "Epoch 4 average loss is 2.2638618485494093\n"
     ]
    },
    {
     "name": "stderr",
     "output_type": "stream",
     "text": [
      "Epoch Loop:  16%|█▌        | 4/25 [00:21<01:53,  5.41s/it]"
     ]
    },
    {
     "name": "stdout",
     "output_type": "stream",
     "text": [
      "generated text : \n",
      " recipe for spaghetti with salsa between pistachios | in a\n"
     ]
    },
    {
     "name": "stderr",
     "output_type": "stream",
     "text": [
      "Train Loop: 100%|██████████| 440/440 [00:04<00:00, 89.21it/s]\n"
     ]
    },
    {
     "name": "stdout",
     "output_type": "stream",
     "text": [
      "Epoch 5 average loss is 2.151973100954836\n"
     ]
    },
    {
     "name": "stderr",
     "output_type": "stream",
     "text": [
      "Epoch Loop:  20%|██        | 5/25 [00:27<01:47,  5.39s/it]"
     ]
    },
    {
     "name": "stdout",
     "output_type": "stream",
     "text": [
      "generated text : \n",
      " recipe for red sundae king relish | preheat oven to\n"
     ]
    },
    {
     "name": "stderr",
     "output_type": "stream",
     "text": [
      "Train Loop: 100%|██████████| 440/440 [00:04<00:00, 89.45it/s]\n"
     ]
    },
    {
     "name": "stdout",
     "output_type": "stream",
     "text": [
      "Epoch 6 average loss is 2.0649130661379207\n"
     ]
    },
    {
     "name": "stderr",
     "output_type": "stream",
     "text": [
      "Epoch Loop:  24%|██▍       | 6/25 [00:32<01:42,  5.39s/it]"
     ]
    },
    {
     "name": "stdout",
     "output_type": "stream",
     "text": [
      "generated text : \n",
      " recipe for asian mango mayonnaise | mix together all ingredients\n"
     ]
    },
    {
     "name": "stderr",
     "output_type": "stream",
     "text": [
      "Train Loop: 100%|██████████| 440/440 [00:04<00:00, 89.55it/s]\n"
     ]
    },
    {
     "name": "stdout",
     "output_type": "stream",
     "text": [
      "Epoch 7 average loss is 1.9955483482642606\n"
     ]
    },
    {
     "name": "stderr",
     "output_type": "stream",
     "text": [
      "Epoch Loop:  28%|██▊       | 7/25 [00:37<01:36,  5.38s/it]"
     ]
    },
    {
     "name": "stdout",
     "output_type": "stream",
     "text": [
      "generated text : \n",
      " recipe for ginger avocado posole | in a large pot\n"
     ]
    },
    {
     "name": "stderr",
     "output_type": "stream",
     "text": [
      "Train Loop: 100%|██████████| 440/440 [00:04<00:00, 89.11it/s]\n"
     ]
    },
    {
     "name": "stdout",
     "output_type": "stream",
     "text": [
      "Epoch 8 average loss is 1.9396377579732376\n"
     ]
    },
    {
     "name": "stderr",
     "output_type": "stream",
     "text": [
      "Epoch Loop:  32%|███▏      | 8/25 [00:43<01:31,  5.38s/it]"
     ]
    },
    {
     "name": "stdout",
     "output_type": "stream",
     "text": [
      "generated text : \n",
      " recipe for goan streusel | before using . finely grind\n"
     ]
    },
    {
     "name": "stderr",
     "output_type": "stream",
     "text": [
      "Train Loop: 100%|██████████| 440/440 [00:04<00:00, 89.16it/s]\n"
     ]
    },
    {
     "name": "stdout",
     "output_type": "stream",
     "text": [
      "Epoch 9 average loss is 1.8929960884831167\n"
     ]
    },
    {
     "name": "stderr",
     "output_type": "stream",
     "text": [
      "Epoch Loop:  36%|███▌      | 9/25 [00:48<01:26,  5.38s/it]"
     ]
    },
    {
     "name": "stdout",
     "output_type": "stream",
     "text": [
      "generated text : \n",
      " recipe for arugula ganache | toss onion ingredients with 1\n"
     ]
    },
    {
     "name": "stderr",
     "output_type": "stream",
     "text": [
      "Train Loop: 100%|██████████| 440/440 [00:04<00:00, 89.49it/s]\n"
     ]
    },
    {
     "name": "stdout",
     "output_type": "stream",
     "text": [
      "Epoch 10 average loss is 1.8537413640455767\n"
     ]
    },
    {
     "name": "stderr",
     "output_type": "stream",
     "text": [
      "Epoch Loop:  40%|████      | 10/25 [00:54<01:20,  5.38s/it]"
     ]
    },
    {
     "name": "stdout",
     "output_type": "stream",
     "text": [
      "generated text : \n",
      " recipe for lemon-coconut spring chutney | trim fraîche from the\n"
     ]
    },
    {
     "name": "stderr",
     "output_type": "stream",
     "text": [
      "Train Loop: 100%|██████████| 440/440 [00:04<00:00, 89.73it/s]\n"
     ]
    },
    {
     "name": "stdout",
     "output_type": "stream",
     "text": [
      "Epoch 11 average loss is 1.8200272906910289\n"
     ]
    },
    {
     "name": "stderr",
     "output_type": "stream",
     "text": [
      "Epoch Loop:  44%|████▍     | 11/25 [00:59<01:15,  5.37s/it]"
     ]
    },
    {
     "name": "stdout",
     "output_type": "stream",
     "text": [
      "generated text : \n",
      " recipe for caramelized-shallot ginger with tangerine and roast reduction |\n"
     ]
    },
    {
     "name": "stderr",
     "output_type": "stream",
     "text": [
      "Train Loop: 100%|██████████| 440/440 [00:04<00:00, 89.54it/s]\n"
     ]
    },
    {
     "name": "stdout",
     "output_type": "stream",
     "text": [
      "Epoch 12 average loss is 1.790908687764948\n"
     ]
    },
    {
     "name": "stderr",
     "output_type": "stream",
     "text": [
      "Epoch Loop:  48%|████▊     | 12/25 [01:04<01:09,  5.37s/it]"
     ]
    },
    {
     "name": "stdout",
     "output_type": "stream",
     "text": [
      "generated text : \n",
      " recipe for espresso plums | in a blender or 9-inch\n"
     ]
    },
    {
     "name": "stderr",
     "output_type": "stream",
     "text": [
      "Train Loop: 100%|██████████| 440/440 [00:04<00:00, 89.63it/s]\n"
     ]
    },
    {
     "name": "stdout",
     "output_type": "stream",
     "text": [
      "Epoch 13 average loss is 1.7648477773774753\n"
     ]
    },
    {
     "name": "stderr",
     "output_type": "stream",
     "text": [
      "Epoch Loop:  52%|█████▏    | 13/25 [01:10<01:04,  5.36s/it]"
     ]
    },
    {
     "name": "stdout",
     "output_type": "stream",
     "text": [
      "generated text : \n",
      " recipe for sugarcane greek-style coconut | in bowl of ice\n"
     ]
    },
    {
     "name": "stderr",
     "output_type": "stream",
     "text": [
      "Train Loop: 100%|██████████| 440/440 [00:04<00:00, 89.81it/s]\n"
     ]
    },
    {
     "name": "stdout",
     "output_type": "stream",
     "text": [
      "Epoch 14 average loss is 1.74194363897497\n"
     ]
    },
    {
     "name": "stderr",
     "output_type": "stream",
     "text": [
      "Epoch Loop:  56%|█████▌    | 14/25 [01:15<00:58,  5.36s/it]"
     ]
    },
    {
     "name": "stdout",
     "output_type": "stream",
     "text": [
      "generated text : \n",
      " recipe for japanese-style spritz | preheat the oven to 450°f\n"
     ]
    },
    {
     "name": "stderr",
     "output_type": "stream",
     "text": [
      "Train Loop: 100%|██████████| 440/440 [00:04<00:00, 89.28it/s]\n"
     ]
    },
    {
     "name": "stdout",
     "output_type": "stream",
     "text": [
      "Epoch 15 average loss is 1.7209873627532613\n"
     ]
    },
    {
     "name": "stderr",
     "output_type": "stream",
     "text": [
      "Epoch Loop:  60%|██████    | 15/25 [01:20<00:53,  5.37s/it]"
     ]
    },
    {
     "name": "stdout",
     "output_type": "stream",
     "text": [
      "generated text : \n",
      " recipe for garbanzo beans with carrots , leeks , mushrooms\n"
     ]
    },
    {
     "name": "stderr",
     "output_type": "stream",
     "text": [
      "Train Loop: 100%|██████████| 440/440 [00:04<00:00, 89.89it/s]\n"
     ]
    },
    {
     "name": "stdout",
     "output_type": "stream",
     "text": [
      "Epoch 16 average loss is 1.7022016286849975\n"
     ]
    },
    {
     "name": "stderr",
     "output_type": "stream",
     "text": [
      "Epoch Loop:  64%|██████▍   | 16/25 [01:26<00:48,  5.36s/it]"
     ]
    },
    {
     "name": "stdout",
     "output_type": "stream",
     "text": [
      "generated text : \n",
      " recipe for almond-apricot and date crostini | combine first 4\n"
     ]
    },
    {
     "name": "stderr",
     "output_type": "stream",
     "text": [
      "Train Loop: 100%|██████████| 440/440 [00:04<00:00, 89.50it/s]\n"
     ]
    },
    {
     "name": "stdout",
     "output_type": "stream",
     "text": [
      "Epoch 17 average loss is 1.685004549947652\n"
     ]
    },
    {
     "name": "stderr",
     "output_type": "stream",
     "text": [
      "Epoch Loop:  68%|██████▊   | 17/25 [01:31<00:42,  5.36s/it]"
     ]
    },
    {
     "name": "stdout",
     "output_type": "stream",
     "text": [
      "generated text : \n",
      " recipe for <unk>\n"
     ]
    },
    {
     "name": "stderr",
     "output_type": "stream",
     "text": [
      "Train Loop: 100%|██████████| 440/440 [00:04<00:00, 89.58it/s]\n"
     ]
    },
    {
     "name": "stdout",
     "output_type": "stream",
     "text": [
      "Epoch 18 average loss is 1.6694383483041417\n"
     ]
    },
    {
     "name": "stderr",
     "output_type": "stream",
     "text": [
      "Epoch Loop:  72%|███████▏  | 18/25 [01:36<00:37,  5.36s/it]"
     ]
    },
    {
     "name": "stdout",
     "output_type": "stream",
     "text": [
      "generated text : \n",
      " recipe for lemon steaks with <unk>\n"
     ]
    },
    {
     "name": "stderr",
     "output_type": "stream",
     "text": [
      "Train Loop: 100%|██████████| 440/440 [00:04<00:00, 89.49it/s]\n"
     ]
    },
    {
     "name": "stdout",
     "output_type": "stream",
     "text": [
      "Epoch 19 average loss is 1.6547823954712262\n"
     ]
    },
    {
     "name": "stderr",
     "output_type": "stream",
     "text": [
      "Epoch Loop:  76%|███████▌  | 19/25 [01:42<00:32,  5.36s/it]"
     ]
    },
    {
     "name": "stdout",
     "output_type": "stream",
     "text": [
      "generated text : \n",
      " recipe for <unk>\n"
     ]
    },
    {
     "name": "stderr",
     "output_type": "stream",
     "text": [
      "Train Loop: 100%|██████████| 440/440 [00:04<00:00, 89.80it/s]\n"
     ]
    },
    {
     "name": "stdout",
     "output_type": "stream",
     "text": [
      "Epoch 20 average loss is 1.6412998567927968\n"
     ]
    },
    {
     "name": "stderr",
     "output_type": "stream",
     "text": [
      "Epoch Loop:  80%|████████  | 20/25 [01:47<00:26,  5.36s/it]"
     ]
    },
    {
     "name": "stdout",
     "output_type": "stream",
     "text": [
      "generated text : \n",
      " recipe for mushroom shepherd ' s sweet-and-sour red white shrimp\n"
     ]
    },
    {
     "name": "stderr",
     "output_type": "stream",
     "text": [
      "Train Loop: 100%|██████████| 440/440 [00:04<00:00, 89.50it/s]\n"
     ]
    },
    {
     "name": "stdout",
     "output_type": "stream",
     "text": [
      "Epoch 21 average loss is 1.6289873654192144\n"
     ]
    },
    {
     "name": "stderr",
     "output_type": "stream",
     "text": [
      "Epoch Loop:  84%|████████▍ | 21/25 [01:52<00:21,  5.35s/it]"
     ]
    },
    {
     "name": "stdout",
     "output_type": "stream",
     "text": [
      "generated text : \n",
      " recipe for orange tropical potatoes | 1 . 2 .\n"
     ]
    },
    {
     "name": "stderr",
     "output_type": "stream",
     "text": [
      "Train Loop: 100%|██████████| 440/440 [00:04<00:00, 89.50it/s]\n"
     ]
    },
    {
     "name": "stdout",
     "output_type": "stream",
     "text": [
      "Epoch 22 average loss is 1.617325213009661\n"
     ]
    },
    {
     "name": "stderr",
     "output_type": "stream",
     "text": [
      "Epoch Loop:  88%|████████▊ | 22/25 [01:58<00:16,  5.36s/it]"
     ]
    },
    {
     "name": "stdout",
     "output_type": "stream",
     "text": [
      "generated text : \n",
      " recipe for open-face blueberry & blueberry meringues | drop potatoes\n"
     ]
    },
    {
     "name": "stderr",
     "output_type": "stream",
     "text": [
      "Train Loop: 100%|██████████| 440/440 [00:04<00:00, 89.71it/s]\n"
     ]
    },
    {
     "name": "stdout",
     "output_type": "stream",
     "text": [
      "Epoch 23 average loss is 1.6063285887241363\n"
     ]
    },
    {
     "name": "stderr",
     "output_type": "stream",
     "text": [
      "Epoch Loop:  92%|█████████▏| 23/25 [02:03<00:10,  5.36s/it]"
     ]
    },
    {
     "name": "stdout",
     "output_type": "stream",
     "text": [
      "generated text : \n",
      " recipe for yukon gold potato and smoked salmon in chinese\n"
     ]
    },
    {
     "name": "stderr",
     "output_type": "stream",
     "text": [
      "Train Loop: 100%|██████████| 440/440 [00:04<00:00, 89.85it/s]\n"
     ]
    },
    {
     "name": "stdout",
     "output_type": "stream",
     "text": [
      "Epoch 24 average loss is 1.596013676036488\n"
     ]
    },
    {
     "name": "stderr",
     "output_type": "stream",
     "text": [
      "Epoch Loop:  96%|█████████▌| 24/25 [02:09<00:05,  5.36s/it]"
     ]
    },
    {
     "name": "stdout",
     "output_type": "stream",
     "text": [
      "generated text : \n",
      " recipe for trout with orange mayonnaise , and sour cream\n"
     ]
    },
    {
     "name": "stderr",
     "output_type": "stream",
     "text": [
      "Train Loop: 100%|██████████| 440/440 [00:04<00:00, 89.87it/s]\n"
     ]
    },
    {
     "name": "stdout",
     "output_type": "stream",
     "text": [
      "Epoch 25 average loss is 1.5863681422038511\n"
     ]
    },
    {
     "name": "stderr",
     "output_type": "stream",
     "text": [
      "Epoch Loop: 100%|██████████| 25/25 [02:14<00:00,  5.37s/it]"
     ]
    },
    {
     "name": "stdout",
     "output_type": "stream",
     "text": [
      "generated text : \n",
      " recipe for chocolate almond crisps | position in oven rack\n"
     ]
    },
    {
     "name": "stderr",
     "output_type": "stream",
     "text": [
      "\n"
     ]
    }
   ],
   "source": [
    "train_losses, val_losses, generated_infos = training_loop(EPOCHS,optimizer,model,loss_fn,train_loader,val_loader)"
   ]
  },
  {
   "cell_type": "code",
   "execution_count": 65,
   "metadata": {},
   "outputs": [
    {
     "data": {
      "image/png": "[encoded data removed]",
      "text/plain": [
       "<Figure size 640x480 with 1 Axes>"
      ]
     },
     "metadata": {},
     "output_type": "display_data"
    }
   ],
   "source": [
    "import matplotlib.pyplot as plt\n",
    "\n",
    "plt.plot(train_losses)\n",
    "plt.title(\"Train losses\")\n",
    "plt.show()"
   ]
  },
  {
   "cell_type": "code",
   "execution_count": 76,
   "metadata": {},
   "outputs": [
    {
     "name": "stdout",
     "output_type": "stream",
     "text": [
      "generated text : \n",
      " mix flour with  salt , pepper , and garlic cloves with salt and pepper to taste in a small saucepan over medium heat . add onion and cook , stirring , until softened , about 3 minutes . add wine and cook , stirring , until softened , about 5 minutes . add rice and cook , stirring , until softened , about 5 minutes . add water and simmer , covered , until tender , about 5 minutes . remove from heat and let stand , covered , 10 minutes . peel and seed peppers . cut off and discard core from each slice . cut peel and white pith from oranges . cut segments free from membranes and discard membranes . heat oil in a 12-inch heavy skillet over moderately high heat until hot but not smoking , then cook onions , stirring , until golden , about 3 minutes . add wine and cook , stirring , until softened , about 5 minutes . add tomatoes and simmer , covered , stirring occasionally , until vegetables are tender , about 1 hour . remove from heat and stir in remaining ingredients . <unk>\n"
     ]
    }
   ],
   "source": [
    "gen_info = generate_text(model,\"mix flour with \",200,0.2)"
   ]
  },
  {
   "cell_type": "code",
   "execution_count": 79,
   "metadata": {},
   "outputs": [],
   "source": [
    "params=model.parameters()"
   ]
  },
  {
   "cell_type": "code",
   "execution_count": 81,
   "metadata": {},
   "outputs": [],
   "source": [
    "theparams=[param for param in params]"
   ]
  },
  {
   "cell_type": "code",
   "execution_count": 101,
   "metadata": {},
   "outputs": [
    {
     "data": {
      "text/plain": [
       "array([    1,     2,     6,    24,   120,   720,  5040, 40320])"
      ]
     },
     "execution_count": 101,
     "metadata": {},
     "output_type": "execute_result"
    }
   ],
   "source": [
    "np.cumprod(np.arange(1,9))"
   ]
  }
 ],
 "metadata": {
  "kernelspec": {
   "display_name": "dl_311_venv",
   "language": "python",
   "name": "python3"
  },
  "language_info": {
   "codemirror_mode": {
    "name": "ipython",
    "version": 3
   },
   "file_extension": ".py",
   "mimetype": "text/x-python",
   "name": "python",
   "nbconvert_exporter": "python",
   "pygments_lexer": "ipython3",
   "version": "3.11.6"
  }
 },
 "nbformat": 4,
 "nbformat_minor": 2
}
