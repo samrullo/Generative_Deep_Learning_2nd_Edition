{
 "cells": [
  {
   "cell_type": "code",
   "execution_count": 1,
   "metadata": {},
   "outputs": [],
   "source": [
    "import sys\n",
    "import pathlib\n",
    "\n",
    "sys.path.append(r\"C:\\Users\\amrul\\programming\\deep_learning\\dl_projects\\Generative_Deep_Learning_2nd_Edition\")"
   ]
  },
  {
   "cell_type": "code",
   "execution_count": 2,
   "metadata": {},
   "outputs": [],
   "source": [
    "import torch\n",
    "import torch.nn as nn\n",
    "import torch.nn.functional as F\n",
    "import torch\n",
    "from torchvision import datasets, transforms\n",
    "from tqdm import tqdm\n",
    "\n",
    "IMAGE_SIZE = 64\n",
    "BATCH_SIZE = 64\n",
    "DATASET_REPETITIONS = 5\n",
    "LOAD_MODEL = False\n",
    "\n",
    "NOISE_EMBEDDING_SIZE = 32\n",
    "PLOT_DIFFUSION_STEPS = 20\n",
    "\n",
    "# optimization\n",
    "EMA = 0.999\n",
    "LEARNING_RATE = 1e-3\n",
    "WEIGHT_DECAY = 1e-4\n",
    "EPOCHS = 50\n"
   ]
  },
  {
   "cell_type": "code",
   "execution_count": 3,
   "metadata": {},
   "outputs": [],
   "source": [
    "from notebooks.utils import display"
   ]
  },
  {
   "cell_type": "code",
   "execution_count": 4,
   "metadata": {},
   "outputs": [],
   "source": [
    "import torch\n",
    "import torch.nn as nn\n",
    "from ddm_torch_model import DiffusionModel,get_flower_images_train_dataset,convert_images_torch_to_numpy_for_display,training_loop,Normalizer"
   ]
  },
  {
   "cell_type": "code",
   "execution_count": 5,
   "metadata": {},
   "outputs": [
    {
     "name": "stdout",
     "output_type": "stream",
     "text": [
      "Loaded flower train dataset : 6552\n"
     ]
    }
   ],
   "source": [
    "train_data = get_flower_images_train_dataset()\n",
    "print(f\"Loaded flower train dataset : {len(train_data)}\")"
   ]
  },
  {
   "cell_type": "code",
   "execution_count": 6,
   "metadata": {},
   "outputs": [
    {
     "name": "stdout",
     "output_type": "stream",
     "text": [
      "torch.Size([3, 64, 64]) <class 'torch.Tensor'>\n"
     ]
    }
   ],
   "source": [
    "image,label=train_data[0]\n",
    "print(image.shape,type(image))"
   ]
  },
  {
   "cell_type": "code",
   "execution_count": 7,
   "metadata": {},
   "outputs": [],
   "source": [
    "from torch.utils.data import DataLoader\n",
    "\n",
    "train_loader = DataLoader(train_data,batch_size=BATCH_SIZE,shuffle=True)"
   ]
  },
  {
   "cell_type": "code",
   "execution_count": 8,
   "metadata": {},
   "outputs": [],
   "source": [
    "from ddm_torch_model import calc_mean_and_std\n",
    "recalculate_means_stds=False\n",
    "\n",
    "if recalculate_means_stds:\n",
    "    total_mean = torch.zeros(3)\n",
    "    total_var = torch.zeros(3)\n",
    "    for images,_ in tqdm(train_loader):\n",
    "        mean,std = calc_mean_and_std(images)\n",
    "        total_mean += mean\n",
    "        total_var += std**2\n",
    "\n",
    "    final_mean =total_mean/len(train_loader)\n",
    "    final_var = total_var/len(train_loader)\n",
    "    final_std = torch.sqrt(final_var)\n",
    "    print(f\"final mean : {final_mean}, final std : {final_std}\")\n",
    "else:\n",
    "    final_mean = torch.tensor([0.4352, 0.3771, 0.2871])\n",
    "    final_std = torch.tensor([0.2853, 0.2328, 0.2580])"
   ]
  },
  {
   "cell_type": "code",
   "execution_count": 9,
   "metadata": {},
   "outputs": [
    {
     "data": {
      "text/plain": [
       "tensor([0.2853, 0.2328, 0.2580])"
      ]
     },
     "execution_count": 9,
     "metadata": {},
     "output_type": "execute_result"
    }
   ],
   "source": [
    "final_std"
   ]
  },
  {
   "cell_type": "code",
   "execution_count": 10,
   "metadata": {},
   "outputs": [
    {
     "name": "stdout",
     "output_type": "stream",
     "text": [
      "cuda\n"
     ]
    }
   ],
   "source": [
    "device = torch.device('cuda') if torch.cuda.is_available() else torch.device('cpu')\n",
    "print(device)"
   ]
  },
  {
   "cell_type": "code",
   "execution_count": 11,
   "metadata": {},
   "outputs": [],
   "source": [
    "normalizer = Normalizer()\n",
    "normalizer.mean=final_mean\n",
    "normalizer.std = final_std\n",
    "model = DiffusionModel(3,normalizer,device)\n",
    "model = model.to(device)"
   ]
  },
  {
   "cell_type": "code",
   "execution_count": 12,
   "metadata": {},
   "outputs": [
    {
     "data": {
      "text/plain": [
       "0"
      ]
     },
     "execution_count": 12,
     "metadata": {},
     "output_type": "execute_result"
    }
   ],
   "source": [
    "len(model.unet.skips)"
   ]
  },
  {
   "cell_type": "code",
   "execution_count": 13,
   "metadata": {},
   "outputs": [],
   "source": [
    "import torch.optim as optim\n",
    "optimizer = optim.AdamW(model.parameters(),lr=LEARNING_RATE)"
   ]
  },
  {
   "cell_type": "code",
   "execution_count": 14,
   "metadata": {},
   "outputs": [],
   "source": [
    "mae_loss = nn.L1Loss()"
   ]
  },
  {
   "cell_type": "code",
   "execution_count": 15,
   "metadata": {},
   "outputs": [
    {
     "name": "stderr",
     "output_type": "stream",
     "text": [
      "Epoch loop:   0%|          | 0/50 [00:00<?, ?it/s]c:\\Users\\amrul\\pyvirtualenvs\\dl_311_venv\\Lib\\site-packages\\torch\\nn\\modules\\loss.py:101: UserWarning: Using a target size (torch.Size([64, 3, 64, 64])) that is different to the input size (torch.Size([64, 1, 1, 1])). This will likely lead to incorrect results due to broadcasting. Please ensure they have the same size.\n",
      "  return F.l1_loss(input, target, reduction=self.reduction)\n",
      "c:\\Users\\amrul\\pyvirtualenvs\\dl_311_venv\\Lib\\site-packages\\torch\\nn\\modules\\loss.py:101: UserWarning: Using a target size (torch.Size([24, 3, 64, 64])) that is different to the input size (torch.Size([24, 1, 1, 1])). This will likely lead to incorrect results due to broadcasting. Please ensure they have the same size.\n",
      "  return F.l1_loss(input, target, reduction=self.reduction)\n",
      "Train loader loop: 100%|██████████| 103/103 [00:59<00:00,  1.73it/s]\n",
      "Epoch loop:   2%|▏         | 1/50 [00:59<48:33, 59.46s/it]"
     ]
    },
    {
     "name": "stdout",
     "output_type": "stream",
     "text": [
      "Epoch 0 train loss : 0.3464556536049519\n"
     ]
    },
    {
     "name": "stderr",
     "output_type": "stream",
     "text": [
      "Train loader loop: 100%|██████████| 103/103 [00:23<00:00,  4.47it/s]\n",
      "Epoch loop:   4%|▍         | 2/50 [01:22<30:25, 38.04s/it]"
     ]
    },
    {
     "name": "stdout",
     "output_type": "stream",
     "text": [
      "Epoch 1 train loss : 0.26158577898173657\n"
     ]
    },
    {
     "name": "stderr",
     "output_type": "stream",
     "text": [
      "Train loader loop: 100%|██████████| 103/103 [00:22<00:00,  4.53it/s]\n",
      "Epoch loop:   6%|▌         | 3/50 [01:45<24:19, 31.05s/it]"
     ]
    },
    {
     "name": "stdout",
     "output_type": "stream",
     "text": [
      "Epoch 2 train loss : 0.23059729812214674\n"
     ]
    },
    {
     "name": "stderr",
     "output_type": "stream",
     "text": [
      "Train loader loop: 100%|██████████| 103/103 [00:22<00:00,  4.58it/s]\n",
      "Epoch loop:   8%|▊         | 4/50 [02:07<21:12, 27.67s/it]"
     ]
    },
    {
     "name": "stdout",
     "output_type": "stream",
     "text": [
      "Epoch 3 train loss : 0.2109443760901979\n"
     ]
    },
    {
     "name": "stderr",
     "output_type": "stream",
     "text": [
      "Train loader loop: 100%|██████████| 103/103 [00:22<00:00,  4.52it/s]\n",
      "Epoch loop:  10%|█         | 5/50 [02:30<19:26, 25.91s/it]"
     ]
    },
    {
     "name": "stdout",
     "output_type": "stream",
     "text": [
      "Epoch 4 train loss : 0.19533572584679984\n"
     ]
    },
    {
     "name": "stderr",
     "output_type": "stream",
     "text": [
      "Train loader loop: 100%|██████████| 103/103 [00:22<00:00,  4.54it/s]\n",
      "Epoch loop:  12%|█▏        | 6/50 [02:53<18:12, 24.83s/it]"
     ]
    },
    {
     "name": "stdout",
     "output_type": "stream",
     "text": [
      "Epoch 5 train loss : 0.18220306310838866\n"
     ]
    },
    {
     "name": "stderr",
     "output_type": "stream",
     "text": [
      "Train loader loop: 100%|██████████| 103/103 [00:22<00:00,  4.63it/s]\n",
      "Epoch loop:  14%|█▍        | 7/50 [03:15<17:11, 23.99s/it]"
     ]
    },
    {
     "name": "stdout",
     "output_type": "stream",
     "text": [
      "Epoch 6 train loss : 0.17813564345095922\n"
     ]
    },
    {
     "name": "stderr",
     "output_type": "stream",
     "text": [
      "Train loader loop: 100%|██████████| 103/103 [00:22<00:00,  4.58it/s]\n",
      "Epoch loop:  16%|█▌        | 8/50 [03:38<16:27, 23.51s/it]"
     ]
    },
    {
     "name": "stdout",
     "output_type": "stream",
     "text": [
      "Epoch 7 train loss : 0.16176011022722836\n"
     ]
    },
    {
     "name": "stderr",
     "output_type": "stream",
     "text": [
      "Train loader loop: 100%|██████████| 103/103 [00:22<00:00,  4.61it/s]\n",
      "Epoch loop:  18%|█▊        | 9/50 [04:00<15:49, 23.15s/it]"
     ]
    },
    {
     "name": "stdout",
     "output_type": "stream",
     "text": [
      "Epoch 8 train loss : 0.1643055009755116\n"
     ]
    },
    {
     "name": "stderr",
     "output_type": "stream",
     "text": [
      "Train loader loop: 100%|██████████| 103/103 [00:22<00:00,  4.58it/s]\n",
      "Epoch loop:  20%|██        | 10/50 [04:22<15:17, 22.95s/it]"
     ]
    },
    {
     "name": "stdout",
     "output_type": "stream",
     "text": [
      "Epoch 9 train loss : 0.1623445657416455\n"
     ]
    },
    {
     "name": "stderr",
     "output_type": "stream",
     "text": [
      "Train loader loop: 100%|██████████| 103/103 [00:22<00:00,  4.52it/s]\n",
      "Epoch loop:  22%|██▏       | 11/50 [04:45<14:53, 22.90s/it]"
     ]
    },
    {
     "name": "stdout",
     "output_type": "stream",
     "text": [
      "Epoch 10 train loss : 0.15683979468727574\n"
     ]
    },
    {
     "name": "stderr",
     "output_type": "stream",
     "text": []
    }
   ],
   "source": [
    "ret = training_loop(EPOCHS,optimizer,model,mae_loss,train_loader,device)"
   ]
  }
 ],
 "metadata": {
  "kernelspec": {
   "display_name": "dl_311_venv",
   "language": "python",
   "name": "python3"
  },
  "language_info": {
   "codemirror_mode": {
    "name": "ipython",
    "version": 3
   },
   "file_extension": ".py",
   "mimetype": "text/x-python",
   "name": "python",
   "nbconvert_exporter": "python",
   "pygments_lexer": "ipython3",
   "version": "3.11.6"
  }
 },
 "nbformat": 4,
 "nbformat_minor": 2
}
