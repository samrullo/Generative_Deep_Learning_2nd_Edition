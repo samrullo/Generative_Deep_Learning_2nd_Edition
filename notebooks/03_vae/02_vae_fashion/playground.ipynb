{
 "cells": [
  {
   "cell_type": "code",
   "execution_count": 1,
   "metadata": {},
   "outputs": [],
   "source": [
    "import torch"
   ]
  },
  {
   "cell_type": "code",
   "execution_count": 2,
   "metadata": {},
   "outputs": [
    {
     "name": "stdout",
     "output_type": "stream",
     "text": [
      "images size : torch.Size([10, 1, 32, 32])\n"
     ]
    }
   ],
   "source": [
    "# make a dummy image with size (batch_size, no_channels, height, width)\n",
    "images=torch.randn(10,1,32,32)\n",
    "print(f\"images size : {images.size()}\")"
   ]
  },
  {
   "cell_type": "code",
   "execution_count": 3,
   "metadata": {},
   "outputs": [
    {
     "name": "stdout",
     "output_type": "stream",
     "text": [
      "out shape : torch.Size([10, 32, 16, 16])\n"
     ]
    }
   ],
   "source": [
    "import torch.nn as nn\n",
    "\n",
    "conv = nn.Conv2d(1,32,kernel_size=3, stride=2, padding=1)\n",
    "out = conv(images)\n",
    "print(f\"out shape : {out.size()}\")"
   ]
  },
  {
   "cell_type": "code",
   "execution_count": 6,
   "metadata": {},
   "outputs": [
    {
     "name": "stdout",
     "output_type": "stream",
     "text": [
      "old height : 31, new height : 16.0\n"
     ]
    }
   ],
   "source": [
    "# here is how height changes given kernel_size, stride and padding\n",
    "height=31\n",
    "kernel_size=3\n",
    "stride=2\n",
    "padding=1\n",
    "\n",
    "new_height = (height-kernel_size+2*padding)/stride + 1\n",
    "print(f\"old height : {height}, new height : {new_height}\")"
   ]
  },
  {
   "cell_type": "code",
   "execution_count": 8,
   "metadata": {},
   "outputs": [
    {
     "name": "stdout",
     "output_type": "stream",
     "text": [
      "flat_images size : torch.Size([10, 1024])\n"
     ]
    }
   ],
   "source": [
    "# let's see how torch.flatten works\n",
    "flat_images = torch.flatten(images,start_dim=1)\n",
    "print(f\"flat_images size : {flat_images.size()}\")"
   ]
  }
 ],
 "metadata": {
  "kernelspec": {
   "display_name": "dl_311_venv",
   "language": "python",
   "name": "python3"
  },
  "language_info": {
   "codemirror_mode": {
    "name": "ipython",
    "version": 3
   },
   "file_extension": ".py",
   "mimetype": "text/x-python",
   "name": "python",
   "nbconvert_exporter": "python",
   "pygments_lexer": "ipython3",
   "version": "3.11.6"
  }
 },
 "nbformat": 4,
 "nbformat_minor": 2
}
