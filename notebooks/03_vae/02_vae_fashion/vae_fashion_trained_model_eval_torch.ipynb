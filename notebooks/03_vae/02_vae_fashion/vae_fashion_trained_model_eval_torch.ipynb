{
 "cells": [
  {
   "cell_type": "code",
   "execution_count": 1,
   "metadata": {},
   "outputs": [],
   "source": [
    "import sys\n",
    "sys.path.append(r\"C:\\Users\\amrul\\programming\\deep_learning\\dl_projects\\Generative_Deep_Learning_2nd_Edition\")"
   ]
  },
  {
   "cell_type": "code",
   "execution_count": 2,
   "metadata": {},
   "outputs": [],
   "source": [
    "import pathlib\n",
    "\n",
    "models_folder = pathlib.Path.cwd()/\"models\"\n",
    "weights_filename = \"vae_pytorch_best.pt\"\n",
    "weights_filepath=models_folder/weights_filename"
   ]
  },
  {
   "cell_type": "code",
   "execution_count": 3,
   "metadata": {},
   "outputs": [
    {
     "name": "stdout",
     "output_type": "stream",
     "text": [
      "train_ds : 60000, test_ds : 10000\n"
     ]
    }
   ],
   "source": [
    "from vae_fashion_utils import get_fashion_mnist_datasets,get_fashion_mnist_dataloaders\n",
    "\n",
    "train_ds,test_ds = get_fashion_mnist_datasets()\n",
    "train_loader,test_loader = get_fashion_mnist_dataloaders(train_ds,test_ds)\n",
    "print(f\"train_ds : {len(train_ds)}, test_ds : {len(test_ds)}\")\n"
   ]
  },
  {
   "cell_type": "code",
   "execution_count": 4,
   "metadata": {},
   "outputs": [],
   "source": [
    "import torch\n",
    "import torch.nn as nn\n",
    "from vae_fashion_utils import Encoder,Decoder,Sampling,VAE\n",
    "\n",
    "embedding_size = 2\n",
    "encoder_out_size = 4\n",
    "encoder_out_channels = 128\n",
    "sampling = Sampling()\n",
    "encoder = Encoder(out_size=encoder_out_size,out_channels=encoder_out_channels)\n",
    "decoder = Decoder(inp_channels=encoder_out_channels,inp_size=encoder_out_size)\n",
    "vae = VAE(encoder,sampling,decoder)\n"
   ]
  },
  {
   "cell_type": "code",
   "execution_count": 5,
   "metadata": {},
   "outputs": [
    {
     "name": "stdout",
     "output_type": "stream",
     "text": [
      "total parameters : 533509\n"
     ]
    }
   ],
   "source": [
    "total_parameters_size = sum([p.numel() for p in vae.parameters()])\n",
    "print(f\"total parameters : {total_parameters_size}\")"
   ]
  },
  {
   "cell_type": "code",
   "execution_count": 6,
   "metadata": {},
   "outputs": [
    {
     "data": {
      "text/plain": [
       "<All keys matched successfully>"
      ]
     },
     "execution_count": 6,
     "metadata": {},
     "output_type": "execute_result"
    }
   ],
   "source": [
    "# load the weightf from the file and apply it to our vae model\n",
    "state_dict = torch.load(str(weights_filepath))\n",
    "vae.load_state_dict(state_dict)"
   ]
  },
  {
   "cell_type": "code",
   "execution_count": 8,
   "metadata": {},
   "outputs": [
    {
     "name": "stdout",
     "output_type": "stream",
     "text": [
      "image type : <class 'torch.Tensor'>, its shape : torch.Size([1, 32, 32]), label is 3\n"
     ]
    }
   ],
   "source": [
    "import random\n",
    "idx = random.choice(range(len(train_ds)))\n",
    "image,label = train_ds[idx]\n",
    "print(f\"{idx}image type : {type(image)}, its shape : {image.size()}, label is {label}\")"
   ]
  }
 ],
 "metadata": {
  "kernelspec": {
   "display_name": "dl_311_venv",
   "language": "python",
   "name": "python3"
  },
  "language_info": {
   "codemirror_mode": {
    "name": "ipython",
    "version": 3
   },
   "file_extension": ".py",
   "mimetype": "text/x-python",
   "name": "python",
   "nbconvert_exporter": "python",
   "pygments_lexer": "ipython3",
   "version": "3.11.6"
  }
 },
 "nbformat": 4,
 "nbformat_minor": 2
}
