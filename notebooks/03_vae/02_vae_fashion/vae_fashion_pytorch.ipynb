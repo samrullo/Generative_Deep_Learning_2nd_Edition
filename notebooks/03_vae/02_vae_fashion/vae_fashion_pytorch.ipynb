{
 "cells": [
  {
   "cell_type": "markdown",
   "metadata": {},
   "source": [
    "# Download FASHION MNIST dataset using torchvision.datasets\n",
    "## And apply transforms.Pad and transforms.ToTensor"
   ]
  },
  {
   "cell_type": "code",
   "execution_count": 1,
   "metadata": {},
   "outputs": [],
   "source": [
    "import os\n",
    "import pathlib\n",
    "\n",
    "working_folder = pathlib.Path.cwd()\n",
    "models_folder = working_folder/ \"models\"\n",
    "datasets_folder = pathlib.Path(r\"C:\\Users\\amrul\\programming\\deep_learning\\dl_projects\\Generative_Deep_Learning_2nd_Edition\\data\\fashion\")"
   ]
  },
  {
   "cell_type": "code",
   "execution_count": 2,
   "metadata": {},
   "outputs": [],
   "source": [
    "import torch\n",
    "from torchvision import datasets, transforms\n",
    "\n",
    "output_size = (32,32)\n",
    "\n",
    "# Define the transformation to apply to the dataset\n",
    "transform = transforms.Compose([\n",
    "    transforms.Pad(2),\n",
    "    transforms.ToTensor(),\n",
    "    #transforms.Normalize((0.5,),(0.5,))\n",
    "\n",
    "])\n",
    "\n",
    "# Load the Fashion MNIST training dataset\n",
    "train_dataset = datasets.FashionMNIST(\n",
    "    root=str(datasets_folder),\n",
    "    train=True,\n",
    "    download=True,\n",
    "    transform=transform\n",
    ")\n",
    "\n",
    "# Load the Fashion MNIST test dataset\n",
    "test_dataset = datasets.FashionMNIST(\n",
    "    root=str(datasets_folder),\n",
    "    train=False,\n",
    "    download=True,\n",
    "    transform=transform\n",
    ")\n",
    "\n"
   ]
  },
  {
   "cell_type": "code",
   "execution_count": 3,
   "metadata": {},
   "outputs": [
    {
     "data": {
      "text/plain": [
       "(torchvision.datasets.mnist.FashionMNIST,\n",
       " torchvision.datasets.mnist.MNIST,\n",
       " torchvision.datasets.vision.VisionDataset,\n",
       " torch.utils.data.dataset.Dataset,\n",
       " typing.Generic,\n",
       " object)"
      ]
     },
     "execution_count": 3,
     "metadata": {},
     "output_type": "execute_result"
    }
   ],
   "source": [
    "type(train_dataset).__mro__"
   ]
  },
  {
   "cell_type": "code",
   "execution_count": 4,
   "metadata": {},
   "outputs": [],
   "source": [
    "from torch.utils.data import random_split\n",
    "\n",
    "# Assuming you have defined the `train_dataset` as mentioned in the question\n",
    "\n",
    "# Define the validation set size (e.g., 20% of the dataset)\n",
    "validation_size = int(0.2 * len(train_dataset))\n",
    "training_size = len(train_dataset) - validation_size\n",
    "\n",
    "# Split the dataset into training and validation sets\n",
    "train_dataset, val_dataset = random_split(train_dataset, [training_size, validation_size])\n"
   ]
  },
  {
   "cell_type": "code",
   "execution_count": 5,
   "metadata": {},
   "outputs": [],
   "source": [
    "# Create data loaders\n",
    "batch_size = 100\n",
    "train_loader = torch.utils.data.DataLoader(train_dataset, batch_size=batch_size, shuffle=True)\n",
    "val_loader = torch.utils.data.DataLoader(val_dataset,batch_size=batch_size, shuffle = True)\n",
    "test_loader = torch.utils.data.DataLoader(test_dataset, batch_size=batch_size, shuffle=False)\n"
   ]
  },
  {
   "cell_type": "code",
   "execution_count": 6,
   "metadata": {},
   "outputs": [
    {
     "name": "stdout",
     "output_type": "stream",
     "text": [
      "train_dataset type : <class 'torch.utils.data.dataset.Subset'>, its length : 48000\n"
     ]
    }
   ],
   "source": [
    "print(f\"train_dataset type : {type(train_dataset)}, its length : {len(train_dataset)}\")"
   ]
  },
  {
   "cell_type": "markdown",
   "metadata": {},
   "source": [
    "## Build function to display 10 samples from the dataset"
   ]
  },
  {
   "cell_type": "code",
   "execution_count": 7,
   "metadata": {},
   "outputs": [],
   "source": [
    "import matplotlib.pyplot as plt"
   ]
  },
  {
   "cell_type": "code",
   "execution_count": 35,
   "metadata": {},
   "outputs": [],
   "source": [
    "def display_fashion_images(images, n=10, size=(20, 3), cmap=\"gray_r\", as_type=torch.float32, save_to=None):\n",
    "    \"\"\"\n",
    "    Displays n random images from each one of the supplied arrays.\n",
    "    \"\"\"\n",
    "    if images.max() > 1.0:\n",
    "        images = images / 255.0\n",
    "    elif images.min() < 0.0:\n",
    "        images = (images + 1.0) / 2.0\n",
    "\n",
    "    images = images.cpu()\n",
    "    plt.figure(figsize=size)\n",
    "    for i in range(n):\n",
    "        _ = plt.subplot(1, n, i + 1)\n",
    "        plt.imshow(images[i].to(as_type).squeeze(), cmap=cmap)\n",
    "        plt.axis(\"off\")\n",
    "\n",
    "    if save_to:\n",
    "        plt.savefig(save_to)\n",
    "        print(f\"\\nSaved to {save_to}\")\n",
    "\n",
    "    plt.show()"
   ]
  },
  {
   "cell_type": "code",
   "execution_count": 9,
   "metadata": {},
   "outputs": [
    {
     "name": "stdout",
     "output_type": "stream",
     "text": [
      "images shape : torch.Size([100, 1, 32, 32])\n",
      "labels shape : torch.Size([100])\n"
     ]
    }
   ],
   "source": [
    "import random\n",
    "batch_no = random.choice(range(len(train_loader)))\n",
    "batch_no = batch_no if batch_no<10 else 2\n",
    "for i,(images,labels) in enumerate(train_loader):\n",
    "  if i==batch_no:\n",
    "    print(f\"images shape : {images.shape}\")\n",
    "    print(f\"labels shape : {labels.shape}\")\n",
    "  elif i > batch_no:\n",
    "    break\n"
   ]
  },
  {
   "cell_type": "code",
   "execution_count": 10,
   "metadata": {},
   "outputs": [
    {
     "data": {
      "image/png": "[encoded data removed]",
      "text/plain": [
       "<Figure size 2000x300 with 10 Axes>"
      ]
     },
     "metadata": {},
     "output_type": "display_data"
    }
   ],
   "source": [
    "display_fashion_images(images[:10])"
   ]
  },
  {
   "cell_type": "markdown",
   "metadata": {},
   "source": [
    "# Build the model\n",
    "\n",
    "## Buid Sampling function\n",
    "\n",
    "This will be used to sample images from the predicted distribution by the Encoder"
   ]
  },
  {
   "cell_type": "code",
   "execution_count": 11,
   "metadata": {},
   "outputs": [],
   "source": [
    "import torch\n",
    "import torch.nn as nn\n",
    "import pdb"
   ]
  },
  {
   "cell_type": "code",
   "execution_count": 12,
   "metadata": {},
   "outputs": [],
   "source": [
    "# Sampling module\n",
    "class Sampling(nn.Module):\n",
    "  def __init__(self):\n",
    "    super(Sampling,self).__init__()\n",
    "\n",
    "  def forward(self,z_mean, z_log_var):\n",
    "    std = torch.exp(0.5 * z_log_var)\n",
    "    epsilon = torch.randn_like(std)\n",
    "    z = z_mean + epsilon * std\n",
    "    return z"
   ]
  },
  {
   "cell_type": "markdown",
   "metadata": {},
   "source": [
    "## Build the Encoder\n",
    "VAE Encoder takes an image, runs it through series of Convolution layers, while downsampling the images and increasing channel size.\n",
    "In the end it will output a mean and log of variance of a distribution, from which we will sample data and pass it through our decoder to generate an image from the latent space"
   ]
  },
  {
   "cell_type": "code",
   "execution_count": 13,
   "metadata": {},
   "outputs": [],
   "source": [
    "# Encoder\n",
    "class Encoder(nn.Module):\n",
    "  def __init__(self, out_size=4, out_channels=128,embedding_size=2):\n",
    "    super(Encoder,self).__init__()\n",
    "\n",
    "    self.conv1 = nn.Conv2d(1, 32, kernel_size=3,stride=2, padding=1)\n",
    "    self.conv2 = nn.Conv2d(32, 64, kernel_size=3, stride=2, padding=1)\n",
    "    self.conv3 = nn.Conv2d(64, 128, kernel_size=3, stride=2, padding=1)\n",
    "\n",
    "    self.z_mean_fc = nn.Linear(out_size*out_size*out_channels,embedding_size)\n",
    "    self.z_log_var_fc = nn.Linear(out_size*out_size*out_channels,embedding_size)\n",
    "\n",
    "    self.relu = nn.ReLU()\n",
    "\n",
    "  def forward(self, x):\n",
    "    # pdb.set_trace()\n",
    "    x = self.relu(self.conv1(x))\n",
    "    x = self.relu(self.conv2(x))\n",
    "    x = self.relu(self.conv3(x))\n",
    "    x = torch.flatten(x, start_dim=1)\n",
    "    z_mean = self.z_mean_fc(x)\n",
    "    z_log_var = self.z_log_var_fc(x)\n",
    "    return z_mean, z_log_var"
   ]
  },
  {
   "cell_type": "markdown",
   "metadata": {},
   "source": [
    "## Build the decoder\n",
    "The decoder will accept samples from the latent space with predetermined embedding dimension, which is 2 in this case.\n",
    "It will then pass it through series of Upsampling convolutional layers that will increase spatial size of the input while decreasing the number of channels"
   ]
  },
  {
   "cell_type": "code",
   "execution_count": 14,
   "metadata": {},
   "outputs": [],
   "source": [
    "# Decoder\n",
    "class Decoder(nn.Module):\n",
    "  def __init__(self,inp_channels=128,inp_size=4,embedding_size=2):\n",
    "    super(Decoder,self).__init__()\n",
    "\n",
    "    self.inp_channels=inp_channels\n",
    "    self.inp_size=inp_size\n",
    "    self.fc1 = nn.Linear(embedding_size, inp_size * inp_size * inp_channels)\n",
    "    self.convtrns1=nn.ConvTranspose2d(inp_channels, 128, kernel_size=4,stride=2, padding=1)\n",
    "    self.convtrns2 = nn.ConvTranspose2d(128, 64, kernel_size=4,stride=2, padding=1)\n",
    "    self.convtrns3 = nn.ConvTranspose2d(64, 32, kernel_size=4,stride=2, padding=1)\n",
    "\n",
    "    self.relu = nn.ReLU()\n",
    "    self.conv = nn.Conv2d(32,1,kernel_size=3,padding=1)\n",
    "\n",
    "  def forward(self,z):\n",
    "    x = self.fc1(z)\n",
    "    # pdb.set_trace()\n",
    "    x = x.view(-1,self.inp_channels,self.inp_size,self.inp_size)\n",
    "    x = self.relu(self.convtrns1(x))\n",
    "    x = self.relu(self.convtrns2(x))\n",
    "    x = self.relu(self.convtrns3(x))\n",
    "    x = torch.sigmoid(self.conv(x))\n",
    "    return x"
   ]
  },
  {
   "cell_type": "markdown",
   "metadata": {},
   "source": [
    "## Construct VAE model\n",
    "\n",
    "Finally we construct our VAE model which is the combination of encoder and decoder.\n",
    "It will have encoder, decoder and sampler as its attributes and use them to encode an image into latent space, predict latent space distribution in terms of mean and log of variance\n",
    "and sample data from the latent distribution and then decode it into an image in an attempt to reproduce the original image."
   ]
  },
  {
   "cell_type": "code",
   "execution_count": 15,
   "metadata": {},
   "outputs": [],
   "source": [
    "# VAE\n",
    "class VAE(nn.Module):\n",
    "  def __init__(self, encoder, sampling, decoder):\n",
    "    super(VAE,self).__init__()\n",
    "    self.encoder=encoder\n",
    "    self.decoder=decoder\n",
    "    self.sampling=sampling\n",
    "\n",
    "  def forward(self,x):\n",
    "    z_mean, z_log_var = self.encoder(x)\n",
    "    z = self.sampling(z_mean,z_log_var)\n",
    "    out = self.decoder(z)\n",
    "    return out, z_mean, z_log_var"
   ]
  },
  {
   "cell_type": "markdown",
   "metadata": {},
   "source": [
    "## Defina loss function\n",
    "\n",
    "Our loss function consists of reconstruction loss and kullback leibler loss components.\n",
    "Reconstruction loss is quite an obvious criteria as it represents the difference between the original image and reproduced image.\n",
    "We calculate reconstruction loss using ```torch.nn.functional.binary_cross_entropy```. Here is how to interpret it.\n",
    "```binary_cross_entropy``` at its core accepts the prediction for a binary class (such as heads or tails) and the target value for the binary class (0 or 1)\n",
    "When dealing with a binary class, we a are asking a question \"What is the odds of class being white?\". Target with value 0 will mean it was black, and 1 will mean it was white.\n",
    "Our prediction will represent the probability of the predicted class being \"white\".\n",
    "Now you might ask how this works when comparing two images with shapes (C,H,W). In this case, ```binary_cross_entropy``` will treat every pixel value of reproduced and actual images as probabilities.\n",
    "Then for every pixel, it will treat pixel values from reconstructed image and target image as the probabilities of that pixel belonging to some imaginary class \"A\". The actual class is irrevalant. The probabilities being close are relevant. When probabilities are close, our loss will decline.\n",
    "\n",
    "Next is Kullback-Leibler. KL gives us the metric of how much two distributions differ. When we have two probability distributions with density functions p(x) and q(x), KL is sum((p(x)/q(x)) *p(x)). In our case we will be calculating divergence between Normal distribution with mean of zero and stddev of 1 and the one that our model predicts.\n",
    "Essentially, we are trying to make our latent distribution to have similar parameters as standard normal distribution.\n",
    "The formula to calculate KL divergence between two Normal distributions is ()"
   ]
  },
  {
   "cell_type": "markdown",
   "metadata": {},
   "source": [
    "The Kullback-Leibler (KL) divergence is a measure of how one probability distribution diverges from a second, expected probability distribution. For two normal (Gaussian) distributions, the KL divergence can be calculated using their means (\\( \\mu_1, \\mu_2 \\)) and standard deviations (\\( \\sigma_1, \\sigma_2 \\)).\n",
    "\n",
    "The formula for the KL divergence from a normal distribution \\( N(\\mu_1, \\sigma_1^2) \\) to another normal distribution \\( N(\\mu_2, \\sigma_2^2) \\) is given by:\n",
    "\n",
    "$$\n",
    "KL(N(\\mu_1, \\sigma_1^2) \\, || \\, N(\\mu_2, \\sigma_2^2)) = \\log\\left(\\frac{\\sigma_2}{\\sigma_1}\\right) + \\frac{\\sigma_1^2 + (\\mu_1 - \\mu_2)^2}{2 \\sigma_2^2} - \\frac{1}{2}\n",
    "$$\n",
    "\n",
    "In this formula:\n",
    "- \\( \\log \\) is the natural logarithm.\n",
    "- \\( \\sigma_1 \\) and \\( \\sigma_2 \\) are the standard deviations of the first and second distributions, respectively.\n",
    "- \\( \\mu_1 \\) and \\( \\mu_2 \\) are the means of the first and second distributions, respectively.\n",
    "\n",
    "This formula quantifies the amount of information lost when \\( N(\\mu_1, \\sigma_1^2) \\) is used to approximate \\( N(\\mu_2, \\sigma_2^2) \\). It's important to note that KL divergence is not symmetric; that is, \\( KL(N(\\mu_1, \\sigma_1^2) \\, || \\, N(\\mu_2, \\sigma_2^2)) \\) is generally not equal to \\( KL(N(\\mu_2, \\sigma_2^2) \\, || \\, N(\\mu_1, \\sigma_1^2)) \\)."
   ]
  },
  {
   "cell_type": "code",
   "execution_count": 16,
   "metadata": {},
   "outputs": [],
   "source": [
    "# Loss function\n",
    "def loss_fn(reconst, data, z_mean, z_log_var, BETA = 500):\n",
    "  # pdb.set_trace()\n",
    "  reconst_loss = torch.mean(BETA * torch.nn.functional.binary_cross_entropy(reconst, data, reduction='none').sum(dim=(1,2,3)))\n",
    "  kl_loss = torch.mean(-0.5 * torch.sum(1+z_log_var-z_mean.pow(2)-z_log_var.exp(),dim=1))\n",
    "  total_loss = reconst_loss + kl_loss\n",
    "  return total_loss, reconst_loss, kl_loss"
   ]
  },
  {
   "cell_type": "code",
   "execution_count": 17,
   "metadata": {},
   "outputs": [],
   "source": [
    "device = (torch.device('cuda') if torch.cuda.is_available() else torch.device('cpu'))"
   ]
  },
  {
   "cell_type": "code",
   "execution_count": 19,
   "metadata": {},
   "outputs": [],
   "source": [
    "from tqdm import tqdm"
   ]
  },
  {
   "cell_type": "code",
   "execution_count": 20,
   "metadata": {},
   "outputs": [],
   "source": [
    "# calculate loss\n",
    "def compute_loss(model,data_loader, BETA=500):\n",
    "  model.eval()\n",
    "\n",
    "  total_loss = 0\n",
    "  num_samples = 0\n",
    "\n",
    "  with torch.no_grad():\n",
    "    for images,labels in tqdm(data_loader,position=0,desc=\"Val Loss compute\"):\n",
    "      images = images.to(device)\n",
    "      reconst,z_mean,z_log_var = model(images)\n",
    "      loss, reconst_loss, kl_loss = loss_fn(reconst, images, z_mean, z_log_var, BETA=BETA)\n",
    "\n",
    "      total_loss += loss.item()\n",
    "      num_samples +=images.size(0)\n",
    "  avg_loss = total_loss / num_samples\n",
    "  model.train()\n",
    "  return avg_loss"
   ]
  },
  {
   "cell_type": "code",
   "execution_count": 21,
   "metadata": {},
   "outputs": [],
   "source": [
    "\n",
    "\n",
    "def training_loop(n_epochs, optimizer, model, loss_fn, train_loader, val_loader, test_loader):\n",
    "  \"\"\"\n",
    "  train loop\n",
    "  \"\"\"\n",
    "  best_val_loss = float('inf')\n",
    "  train_losses = []\n",
    "  val_losses = []\n",
    "  test_losses = []\n",
    "  for epoch in tqdm(range(1, n_epochs+1), position=0, desc=\"Epoch loop\"):\n",
    "    loss_train = 0\n",
    "    for images, labels in tqdm(train_loader, position=0, desc=\"Within epoch iterations\"):\n",
    "      images = images.to(device=device)\n",
    "      labels = images.to(device=device)\n",
    "      reconst, z_mean, z_log_var = model(images)\n",
    "\n",
    "      total_loss, reconst_loss, kl_loss = loss_fn(reconst,images,z_mean,z_log_var)\n",
    "      train_losses.append({\"total\":total_loss.item(),\"reconst\":reconst_loss.item(),\"kl\":kl_loss.item()})\n",
    "\n",
    "      optimizer.zero_grad()\n",
    "      total_loss.backward()\n",
    "      optimizer.step()\n",
    "\n",
    "      loss_train += total_loss.item()\n",
    "\n",
    "    loss_train_avg = loss_train / len(train_loader)\n",
    "\n",
    "    print(f\"Epoch {epoch} average train loss : {loss_train_avg}\")\n",
    "\n",
    "    with torch.no_grad():\n",
    "      val_loss = compute_loss(model,val_loader)\n",
    "\n",
    "      if val_loss < best_val_loss:\n",
    "        best_val_loss = val_loss\n",
    "\n",
    "        print(f\"epoch {epoch}, saving vae model with best loss of {best_val_loss}\")\n",
    "        torch.save(model.state_dict(),str(models_folder/f\"vae_pytorch_best.pt\"))\n",
    "  return train_losses"
   ]
  },
  {
   "cell_type": "code",
   "execution_count": 22,
   "metadata": {},
   "outputs": [],
   "source": [
    "embedding_size = 2\n",
    "encoder_out_size = 4\n",
    "encoder_out_channels = 128\n",
    "sampling = Sampling()\n",
    "encoder = Encoder(out_size=encoder_out_size,out_channels=encoder_out_channels)\n",
    "decoder = Decoder(inp_channels=encoder_out_channels,inp_size=encoder_out_size)\n",
    "vae = VAE(encoder,sampling,decoder)\n"
   ]
  },
  {
   "cell_type": "code",
   "execution_count": 23,
   "metadata": {},
   "outputs": [],
   "source": [
    "import torch.optim as optim"
   ]
  },
  {
   "cell_type": "code",
   "execution_count": 26,
   "metadata": {},
   "outputs": [],
   "source": [
    "vae = vae.to(device)"
   ]
  },
  {
   "cell_type": "code",
   "execution_count": 27,
   "metadata": {},
   "outputs": [
    {
     "name": "stderr",
     "output_type": "stream",
     "text": [
      "Within epoch iterations: 100%|██████████| 480/480 [00:07<00:00, 63.60it/s] \n"
     ]
    },
    {
     "name": "stdout",
     "output_type": "stream",
     "text": [
      "Epoch 1 average train loss : 156698.57919921874\n"
     ]
    },
    {
     "name": "stderr",
     "output_type": "stream",
     "text": [
      "Val Loss compute: 100%|██████████| 120/120 [00:00<00:00, 170.83it/s]\n",
      "Epoch loop:  20%|██        | 1/5 [00:08<00:33,  8.26s/it]"
     ]
    },
    {
     "name": "stdout",
     "output_type": "stream",
     "text": [
      "epoch 1, saving vae model with best loss of 1356.932451171875\n"
     ]
    },
    {
     "name": "stderr",
     "output_type": "stream",
     "text": [
      "Within epoch iterations: 100%|██████████| 480/480 [00:04<00:00, 107.11it/s]\n"
     ]
    },
    {
     "name": "stdout",
     "output_type": "stream",
     "text": [
      "Epoch 2 average train loss : 133769.76860351564\n"
     ]
    },
    {
     "name": "stderr",
     "output_type": "stream",
     "text": [
      "Val Loss compute: 100%|██████████| 120/120 [00:00<00:00, 167.48it/s]\n",
      "Epoch loop:  40%|████      | 2/5 [00:13<00:19,  6.46s/it]"
     ]
    },
    {
     "name": "stdout",
     "output_type": "stream",
     "text": [
      "epoch 2, saving vae model with best loss of 1322.1196848958334\n"
     ]
    },
    {
     "name": "stderr",
     "output_type": "stream",
     "text": [
      "Within epoch iterations: 100%|██████████| 480/480 [00:04<00:00, 107.27it/s]\n"
     ]
    },
    {
     "name": "stdout",
     "output_type": "stream",
     "text": [
      "Epoch 3 average train loss : 131233.83198242186\n"
     ]
    },
    {
     "name": "stderr",
     "output_type": "stream",
     "text": [
      "Val Loss compute: 100%|██████████| 120/120 [00:00<00:00, 162.57it/s]\n",
      "Epoch loop:  60%|██████    | 3/5 [00:18<00:11,  5.89s/it]"
     ]
    },
    {
     "name": "stdout",
     "output_type": "stream",
     "text": [
      "epoch 3, saving vae model with best loss of 1304.6739954427082\n"
     ]
    },
    {
     "name": "stderr",
     "output_type": "stream",
     "text": [
      "Within epoch iterations: 100%|██████████| 480/480 [00:04<00:00, 105.64it/s]\n"
     ]
    },
    {
     "name": "stdout",
     "output_type": "stream",
     "text": [
      "Epoch 4 average train loss : 129986.84401041667\n"
     ]
    },
    {
     "name": "stderr",
     "output_type": "stream",
     "text": [
      "Val Loss compute: 100%|██████████| 120/120 [00:00<00:00, 168.10it/s]\n",
      "Epoch loop:  80%|████████  | 4/5 [00:23<00:05,  5.65s/it]"
     ]
    },
    {
     "name": "stdout",
     "output_type": "stream",
     "text": [
      "epoch 4, saving vae model with best loss of 1293.6714661458334\n"
     ]
    },
    {
     "name": "stderr",
     "output_type": "stream",
     "text": [
      "Within epoch iterations: 100%|██████████| 480/480 [00:04<00:00, 106.93it/s]\n"
     ]
    },
    {
     "name": "stdout",
     "output_type": "stream",
     "text": [
      "Epoch 5 average train loss : 129089.10913085938\n"
     ]
    },
    {
     "name": "stderr",
     "output_type": "stream",
     "text": [
      "Val Loss compute: 100%|██████████| 120/120 [00:00<00:00, 171.88it/s]\n",
      "Epoch loop: 100%|██████████| 5/5 [00:29<00:00,  5.83s/it]"
     ]
    },
    {
     "name": "stdout",
     "output_type": "stream",
     "text": [
      "epoch 5, saving vae model with best loss of 1288.0764029947916\n"
     ]
    },
    {
     "name": "stderr",
     "output_type": "stream",
     "text": [
      "\n"
     ]
    }
   ],
   "source": [
    "n_epochs=5\n",
    "\n",
    "learning_rate = 0.0005\n",
    "\n",
    "optimizer = optim.Adam(vae.parameters(), lr = learning_rate)\n",
    "\n",
    "train_losses = training_loop(n_epochs,optimizer,vae,loss_fn,train_loader,val_loader,test_loader)"
   ]
  },
  {
   "cell_type": "code",
   "execution_count": 28,
   "metadata": {},
   "outputs": [
    {
     "name": "stdout",
     "output_type": "stream",
     "text": [
      "length of train_losses : 2400\n"
     ]
    }
   ],
   "source": [
    "train_total_losses=[item['total'] for item in train_losses]\n",
    "train_reconst_losses=[item['reconst'] for item in train_losses]\n",
    "train_kl_losses=[item['kl'] for item in train_losses]\n",
    "print(f\"length of train_losses : {len(train_losses)}\")"
   ]
  },
  {
   "cell_type": "code",
   "execution_count": 29,
   "metadata": {},
   "outputs": [
    {
     "data": {
      "image/png": "[encoded data removed]",
      "text/plain": [
       "<Figure size 640x480 with 1 Axes>"
      ]
     },
     "metadata": {},
     "output_type": "display_data"
    }
   ],
   "source": [
    "plt.plot(train_total_losses)\n",
    "plt.show()"
   ]
  },
  {
   "cell_type": "code",
   "execution_count": 37,
   "metadata": {},
   "outputs": [
    {
     "name": "stdout",
     "output_type": "stream",
     "text": [
      "picked up batch number : 150/480\n",
      "images shape : torch.Size([100, 1, 32, 32])\n",
      "labels shape : torch.Size([100])\n"
     ]
    }
   ],
   "source": [
    "import random\n",
    "batch_no = random.randint(1,len(train_loader))\n",
    "print(f\"picked up batch number : {batch_no}/{len(train_loader)}\")\n",
    "for i,(images,labels) in enumerate(train_loader):\n",
    "  if i==batch_no:\n",
    "    print(f\"images shape : {images.shape}\")\n",
    "    print(f\"labels shape : {labels.shape}\")\n",
    "  elif i > batch_no:\n",
    "    break\n",
    "\n"
   ]
  },
  {
   "cell_type": "code",
   "execution_count": 38,
   "metadata": {},
   "outputs": [],
   "source": [
    "images = images[:10]\n",
    "images = images.to(device)\n",
    "with torch.no_grad():\n",
    "  reconst,z_mean,z_log_var = vae(images)"
   ]
  },
  {
   "cell_type": "code",
   "execution_count": 40,
   "metadata": {},
   "outputs": [
    {
     "name": "stdout",
     "output_type": "stream",
     "text": [
      "z_mean output shape : torch.Size([10, 2])\n",
      "z shape : torch.Size([10, 2])\n"
     ]
    }
   ],
   "source": [
    "with torch.no_grad():\n",
    "  z_mean,z_log_var=encoder(images)\n",
    "  print(f\"z_mean output shape : {z_mean.shape}\")\n",
    "  z = sampling(z_mean,z_log_var)\n",
    "  print(f\"z shape : {z.shape}\")"
   ]
  },
  {
   "cell_type": "code",
   "execution_count": 41,
   "metadata": {},
   "outputs": [
    {
     "data": {
      "image/png": "[encoded data removed]",
      "text/plain": [
       "<Figure size 2000x300 with 10 Axes>"
      ]
     },
     "metadata": {},
     "output_type": "display_data"
    },
    {
     "data": {
      "image/png": "[encoded data removed]",
      "text/plain": [
       "<Figure size 2000x300 with 10 Axes>"
      ]
     },
     "metadata": {},
     "output_type": "display_data"
    }
   ],
   "source": [
    "display_fashion_images(images)\n",
    "display_fashion_images(reconst)"
   ]
  },
  {
   "cell_type": "markdown",
   "metadata": {},
   "source": [
    "# Let's try generating images from latent dimension"
   ]
  },
  {
   "cell_type": "code",
   "execution_count": 42,
   "metadata": {},
   "outputs": [
    {
     "name": "stdout",
     "output_type": "stream",
     "text": [
      "torch.Size([2])\n",
      "torch.Size([1, 2])\n"
     ]
    }
   ],
   "source": [
    "shirt_encoding = torch.tensor([-0.59,0.24])\n",
    "print(shirt_encoding.shape)\n",
    "shirt_encoding = shirt_encoding.unsqueeze(0)\n",
    "print(shirt_encoding.shape)"
   ]
  },
  {
   "cell_type": "code",
   "execution_count": 46,
   "metadata": {},
   "outputs": [
    {
     "ename": "IndexError",
     "evalue": "index 1 is out of bounds for dimension 0 with size 1",
     "output_type": "error",
     "traceback": [
      "\u001b[1;31m---------------------------------------------------------------------------\u001b[0m",
      "\u001b[1;31mIndexError\u001b[0m                                Traceback (most recent call last)",
      "Cell \u001b[1;32mIn[46], line 4\u001b[0m\n\u001b[0;32m      2\u001b[0m \u001b[38;5;28;01mwith\u001b[39;00m torch\u001b[38;5;241m.\u001b[39mno_grad():\n\u001b[0;32m      3\u001b[0m   shirt_reconst \u001b[38;5;241m=\u001b[39m decoder(shirt_encoding)  \n\u001b[1;32m----> 4\u001b[0m   \u001b[43mdisplay_fashion_images\u001b[49m\u001b[43m(\u001b[49m\u001b[43mshirt_reconst\u001b[49m\u001b[43m)\u001b[49m\n",
      "Cell \u001b[1;32mIn[35], line 14\u001b[0m, in \u001b[0;36mdisplay_fashion_images\u001b[1;34m(images, n, size, cmap, as_type, save_to)\u001b[0m\n\u001b[0;32m     12\u001b[0m \u001b[38;5;28;01mfor\u001b[39;00m i \u001b[38;5;129;01min\u001b[39;00m \u001b[38;5;28mrange\u001b[39m(n):\n\u001b[0;32m     13\u001b[0m     _ \u001b[38;5;241m=\u001b[39m plt\u001b[38;5;241m.\u001b[39msubplot(\u001b[38;5;241m1\u001b[39m, n, i \u001b[38;5;241m+\u001b[39m \u001b[38;5;241m1\u001b[39m)\n\u001b[1;32m---> 14\u001b[0m     plt\u001b[38;5;241m.\u001b[39mimshow(\u001b[43mimages\u001b[49m\u001b[43m[\u001b[49m\u001b[43mi\u001b[49m\u001b[43m]\u001b[49m\u001b[38;5;241m.\u001b[39mto(as_type)\u001b[38;5;241m.\u001b[39msqueeze(), cmap\u001b[38;5;241m=\u001b[39mcmap)\n\u001b[0;32m     15\u001b[0m     plt\u001b[38;5;241m.\u001b[39maxis(\u001b[38;5;124m\"\u001b[39m\u001b[38;5;124moff\u001b[39m\u001b[38;5;124m\"\u001b[39m)\n\u001b[0;32m     17\u001b[0m \u001b[38;5;28;01mif\u001b[39;00m save_to:\n",
      "\u001b[1;31mIndexError\u001b[0m: index 1 is out of bounds for dimension 0 with size 1"
     ]
    },
    {
     "data": {
      "image/png": "[encoded data removed]",
      "text/plain": [
       "<Figure size 2000x300 with 2 Axes>"
      ]
     },
     "metadata": {},
     "output_type": "display_data"
    }
   ],
   "source": [
    "shirt_encoding = shirt_encoding.to(device)\n",
    "with torch.no_grad():\n",
    "  shirt_reconst = decoder(shirt_encoding)  \n",
    "  display_fashion_images(shirt_reconst)"
   ]
  },
  {
   "cell_type": "code",
   "execution_count": 45,
   "metadata": {},
   "outputs": [
    {
     "data": {
      "text/plain": [
       "torch.Size([1, 1, 32, 32])"
      ]
     },
     "execution_count": 45,
     "metadata": {},
     "output_type": "execute_result"
    }
   ],
   "source": [
    "shirt_reconst.shape"
   ]
  }
 ],
 "metadata": {
  "kernelspec": {
   "display_name": "dl_311_venv",
   "language": "python",
   "name": "python3"
  },
  "language_info": {
   "codemirror_mode": {
    "name": "ipython",
    "version": 3
   },
   "file_extension": ".py",
   "mimetype": "text/x-python",
   "name": "python",
   "nbconvert_exporter": "python",
   "pygments_lexer": "ipython3",
   "version": "3.11.6"
  }
 },
 "nbformat": 4,
 "nbformat_minor": 2
}
