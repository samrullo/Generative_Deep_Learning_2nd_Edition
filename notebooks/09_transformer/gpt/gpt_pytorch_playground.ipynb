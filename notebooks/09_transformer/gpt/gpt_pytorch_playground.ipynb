{
 "cells": [
  {
   "cell_type": "code",
   "execution_count": 1,
   "metadata": {},
   "outputs": [],
   "source": [
    "import pathlib\n",
    "import numpy as np\n",
    "import torch\n",
    "from datasets import load_dataset"
   ]
  },
  {
   "cell_type": "code",
   "execution_count": 2,
   "metadata": {},
   "outputs": [],
   "source": [
    "VOCAB_SIZE = 10000\n",
    "MAX_LEN = 80\n",
    "EMBEDDING_DIM = 256\n",
    "KEY_DIM = 256\n",
    "N_HEADS = 2\n",
    "FEED_FORWARD_DIM = 256\n",
    "VALIDATION_SPLIT = 0.2\n",
    "SEED = 42\n",
    "LOAD_MODEL = False\n",
    "BATCH_SIZE = 32\n",
    "EPOCHS = 5"
   ]
  },
  {
   "cell_type": "code",
   "execution_count": 3,
   "metadata": {},
   "outputs": [],
   "source": [
    "# Load the full dataset\n",
    "import pathlib\n",
    "datasets_folder = pathlib.Path(r\"C:\\Users\\amrul\\programming\\deep_learning\\dl_projects\\Generative_Deep_Learning_2nd_Edition\\data\")\n",
    "wine_review_filepath=datasets_folder/\"wine_reviews\"/\"winemag-data-130k-v2.json\"\n",
    "data = load_dataset(str(wine_review_filepath.parent),'json')"
   ]
  },
  {
   "cell_type": "code",
   "execution_count": 4,
   "metadata": {},
   "outputs": [
    {
     "data": {
      "text/plain": [
       "DatasetDict({\n",
       "    train: Dataset({\n",
       "        features: ['taster_twitter_handle', 'region_1', 'region_2', 'winery', 'description', 'province', 'title', 'price', 'variety', 'country', 'taster_name', 'points', 'designation'],\n",
       "        num_rows: 129971\n",
       "    })\n",
       "})"
      ]
     },
     "execution_count": 4,
     "metadata": {},
     "output_type": "execute_result"
    }
   ],
   "source": [
    "data"
   ]
  },
  {
   "cell_type": "code",
   "execution_count": 5,
   "metadata": {},
   "outputs": [
    {
     "data": {
      "text/plain": [
       "[\"Aromas include tropical fruit, broom, brimstone and dried herb. The palate isn't overly expressive, offering unripened apple, citrus and dried sage alongside brisk acidity.\",\n",
       " \"This is ripe and fruity, a wine that is smooth while still structured. Firm tannins are filled out with juicy red berry fruits and freshened with acidity. It's  already drinkable, although it will certainly be better from 2016.\",\n",
       " 'Tart and snappy, the flavors of lime flesh and rind dominate. Some green pineapple pokes through, with crisp acidity underscoring the flavors. The wine was all stainless-steel fermented.']"
      ]
     },
     "execution_count": 5,
     "metadata": {},
     "output_type": "execute_result"
    }
   ],
   "source": [
    "data['train']['description'][:3]"
   ]
  },
  {
   "cell_type": "code",
   "execution_count": 6,
   "metadata": {},
   "outputs": [],
   "source": [
    "train_ds= data['train']"
   ]
  },
  {
   "cell_type": "code",
   "execution_count": 7,
   "metadata": {},
   "outputs": [
    {
     "name": "stdout",
     "output_type": "stream",
     "text": [
      "there are 44 countries exist in wine review dataset\n"
     ]
    }
   ],
   "source": [
    "countries=train_ds['country']\n",
    "print(f\"there are {len(set(countries))} countries exist in wine review dataset\")"
   ]
  },
  {
   "cell_type": "code",
   "execution_count": 8,
   "metadata": {},
   "outputs": [
    {
     "name": "stdout",
     "output_type": "stream",
     "text": [
      "there are 708 varieties in wine review dataset\n"
     ]
    }
   ],
   "source": [
    "varieties = train_ds['variety']\n",
    "print(f\"there are {len(set(varieties))} varieties in wine review dataset\")"
   ]
  },
  {
   "cell_type": "code",
   "execution_count": 9,
   "metadata": {},
   "outputs": [],
   "source": [
    "def prepare_text_with_country_variety(batch):\n",
    "    text_with_country_variety = [f\"{country} : {province} : {variety} : {description}\" for country, province, variety, description in zip(batch['country'],batch['province'], batch['variety'], batch['description'])]\n",
    "    return {\"text\": text_with_country_variety}"
   ]
  },
  {
   "cell_type": "code",
   "execution_count": 10,
   "metadata": {},
   "outputs": [
    {
     "data": {
      "application/vnd.jupyter.widget-view+json": {
       "model_id": "c70aea3364134a6fb2b0559b661ae3ba",
       "version_major": 2,
       "version_minor": 0
      },
      "text/plain": [
       "Map:   0%|          | 0/129971 [00:00<?, ? examples/s]"
      ]
     },
     "metadata": {},
     "output_type": "display_data"
    }
   ],
   "source": [
    "wine_ds = data.map(prepare_text_with_country_variety,batched=True, batch_size=None)"
   ]
  },
  {
   "cell_type": "code",
   "execution_count": 19,
   "metadata": {},
   "outputs": [],
   "source": [
    "train_ds = wine_ds[\"train\"]"
   ]
  },
  {
   "cell_type": "code",
   "execution_count": 20,
   "metadata": {},
   "outputs": [],
   "source": [
    "df=train_ds.to_pandas()"
   ]
  },
  {
   "cell_type": "code",
   "execution_count": 25,
   "metadata": {},
   "outputs": [
    {
     "data": {
      "text/plain": [
       "variety\n",
       "Pinot Noir                        6896\n",
       "Cabernet Sauvignon                5693\n",
       "Chardonnay                        5183\n",
       "Zinfandel                         2639\n",
       "Syrah                             1870\n",
       "                                  ... \n",
       "Tempranillo-Cabernet Sauvignon       1\n",
       "Syrah-Grenache-Viognier              1\n",
       "Negroamaro                           1\n",
       "Moscato Giallo                       1\n",
       "Alvarinho                            1\n",
       "Name: count, Length: 194, dtype: int64"
      ]
     },
     "execution_count": 25,
     "metadata": {},
     "output_type": "execute_result"
    }
   ],
   "source": [
    "df[(df.country=='US')&(df.province=='California')]['variety'].value_counts()"
   ]
  },
  {
   "cell_type": "code",
   "execution_count": 27,
   "metadata": {},
   "outputs": [],
   "source": [
    "chardonnay_descriptions=df[(df.country=='US')&(df.province=='California')&(df.variety=='Chardonnay')]['description']\n"
   ]
  },
  {
   "cell_type": "code",
   "execution_count": 30,
   "metadata": {},
   "outputs": [],
   "source": [
    "chardonnay_descriptions.index=range(len(chardonnay_descriptions))"
   ]
  },
  {
   "cell_type": "code",
   "execution_count": 39,
   "metadata": {},
   "outputs": [
    {
     "data": {
      "text/plain": [
       "'This voluptuously seductive wine is also elegantly balanced. Citrus, wet stone and sea salt lift the minerality to pronounced levels, accented by a crispness of lemon peel and papaya wrapped in blossoming jasmine. Many of the vines on the site date back nearly 40 years, a demonstration that in age there is beauty.'"
      ]
     },
     "execution_count": 39,
     "metadata": {},
     "output_type": "execute_result"
    }
   ],
   "source": [
    "chardonnay_descriptions[chardonnay_descriptions.map(lambda description : \"vines\" in description)][176]"
   ]
  },
  {
   "cell_type": "code",
   "execution_count": 12,
   "metadata": {},
   "outputs": [
    {
     "data": {
      "text/plain": [
       "[\"Italy : White Blend : Aromas include tropical fruit, broom, brimstone and dried herb. The palate isn't overly expressive, offering unripened apple, citrus and dried sage alongside brisk acidity.\",\n",
       " \"Portugal : Portuguese Red : This is ripe and fruity, a wine that is smooth while still structured. Firm tannins are filled out with juicy red berry fruits and freshened with acidity. It's  already drinkable, although it will certainly be better from 2016.\"]"
      ]
     },
     "execution_count": 12,
     "metadata": {},
     "output_type": "execute_result"
    }
   ],
   "source": [
    "wine_ds[\"train\"][\"text\"][:2]"
   ]
  },
  {
   "cell_type": "code",
   "execution_count": 13,
   "metadata": {},
   "outputs": [],
   "source": [
    "from transformers import AutoTokenizer"
   ]
  },
  {
   "cell_type": "code",
   "execution_count": 14,
   "metadata": {},
   "outputs": [],
   "source": [
    "model_chkpt = \"distilbert-base-uncased\"\n",
    "tokenizer = AutoTokenizer.from_pretrained(model_chkpt)"
   ]
  },
  {
   "cell_type": "code",
   "execution_count": 15,
   "metadata": {},
   "outputs": [],
   "source": [
    "tokens = tokenizer(wine_ds[\"train\"][\"text\"][1])"
   ]
  },
  {
   "cell_type": "code",
   "execution_count": 16,
   "metadata": {},
   "outputs": [
    {
     "data": {
      "text/plain": [
       "{'input_ids': [101, 5978, 1024, 5077, 2417, 1024, 2023, 2003, 22503, 1998, 5909, 2100, 1010, 1037, 4511, 2008, 2003, 5744, 2096, 2145, 14336, 1012, 3813, 9092, 11483, 2015, 2024, 3561, 2041, 2007, 28900, 2417, 10498, 10962, 1998, 4840, 6675, 2007, 5648, 3012, 1012, 2009, 1005, 1055, 2525, 4392, 3085, 1010, 2348, 2009, 2097, 5121, 2022, 2488, 2013, 2355, 1012, 102], 'attention_mask': [1, 1, 1, 1, 1, 1, 1, 1, 1, 1, 1, 1, 1, 1, 1, 1, 1, 1, 1, 1, 1, 1, 1, 1, 1, 1, 1, 1, 1, 1, 1, 1, 1, 1, 1, 1, 1, 1, 1, 1, 1, 1, 1, 1, 1, 1, 1, 1, 1, 1, 1, 1, 1, 1, 1, 1, 1, 1]}"
      ]
     },
     "execution_count": 16,
     "metadata": {},
     "output_type": "execute_result"
    }
   ],
   "source": [
    "tokens"
   ]
  },
  {
   "cell_type": "code",
   "execution_count": 17,
   "metadata": {},
   "outputs": [],
   "source": [
    "text_tokens = {input_id : tokenizer.decode(input_id) for input_id in tokens[\"input_ids\"]}"
   ]
  },
  {
   "cell_type": "code",
   "execution_count": 18,
   "metadata": {},
   "outputs": [
    {
     "data": {
      "text/plain": [
       "{101: '[CLS]',\n",
       " 5978: 'portugal',\n",
       " 1024: ':',\n",
       " 5077: 'portuguese',\n",
       " 2417: 'red',\n",
       " 2023: 'this',\n",
       " 2003: 'is',\n",
       " 22503: 'ripe',\n",
       " 1998: 'and',\n",
       " 5909: 'fruit',\n",
       " 2100: '##y',\n",
       " 1010: ',',\n",
       " 1037: 'a',\n",
       " 4511: 'wine',\n",
       " 2008: 'that',\n",
       " 5744: 'smooth',\n",
       " 2096: 'while',\n",
       " 2145: 'still',\n",
       " 14336: 'structured',\n",
       " 1012: '.',\n",
       " 3813: 'firm',\n",
       " 9092: 'tan',\n",
       " 11483: '##nin',\n",
       " 2015: '##s',\n",
       " 2024: 'are',\n",
       " 3561: 'filled',\n",
       " 2041: 'out',\n",
       " 2007: 'with',\n",
       " 28900: 'juicy',\n",
       " 10498: 'berry',\n",
       " 10962: 'fruits',\n",
       " 4840: 'fresh',\n",
       " 6675: '##ened',\n",
       " 5648: 'acid',\n",
       " 3012: '##ity',\n",
       " 2009: 'it',\n",
       " 1005: \"'\",\n",
       " 1055: 's',\n",
       " 2525: 'already',\n",
       " 4392: 'drink',\n",
       " 3085: '##able',\n",
       " 2348: 'although',\n",
       " 2097: 'will',\n",
       " 5121: 'certainly',\n",
       " 2022: 'be',\n",
       " 2488: 'better',\n",
       " 2013: 'from',\n",
       " 2355: '2016',\n",
       " 102: '[SEP]'}"
      ]
     },
     "execution_count": 18,
     "metadata": {},
     "output_type": "execute_result"
    }
   ],
   "source": [
    "text_tokens"
   ]
  }
 ],
 "metadata": {
  "kernelspec": {
   "display_name": "dl_311_venv",
   "language": "python",
   "name": "python3"
  },
  "language_info": {
   "codemirror_mode": {
    "name": "ipython",
    "version": 3
   },
   "file_extension": ".py",
   "mimetype": "text/x-python",
   "name": "python",
   "nbconvert_exporter": "python",
   "pygments_lexer": "ipython3",
   "version": "3.11.6"
  }
 },
 "nbformat": 4,
 "nbformat_minor": 2
}
