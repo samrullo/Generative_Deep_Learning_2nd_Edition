{
 "cells": [
  {
   "cell_type": "markdown",
   "metadata": {},
   "source": [
    "# Let's load wine reviews dataset with load_dataset from datasets library of HuggingFace"
   ]
  },
  {
   "cell_type": "code",
   "execution_count": 9,
   "metadata": {},
   "outputs": [],
   "source": [
    "import re\n",
    "import pathlib\n",
    "import numpy as np\n",
    "import torch\n",
    "from datasets import load_dataset"
   ]
  },
  {
   "cell_type": "code",
   "execution_count": 20,
   "metadata": {},
   "outputs": [],
   "source": [
    "VOCAB_SIZE = 10000\n",
    "MAX_LEN = 80\n",
    "EMBEDDING_DIM = 256\n",
    "KEY_DIM = 256\n",
    "N_HEADS = 2\n",
    "FEED_FORWARD_DIM = 256\n",
    "VALIDATION_SPLIT = 0.2\n",
    "SEED = 42\n",
    "LOAD_MODEL = False\n",
    "BATCH_SIZE = 32\n",
    "EPOCHS = 5\n",
    "UNKOWN_WORD = \"<unk>\""
   ]
  },
  {
   "cell_type": "code",
   "execution_count": 3,
   "metadata": {},
   "outputs": [],
   "source": [
    "# Load the full dataset\n",
    "datasets_folder = pathlib.Path(r\"C:\\Users\\amrul\\programming\\deep_learning\\dl_projects\\Generative_Deep_Learning_2nd_Edition\\data\")\n",
    "wine_review_filepath=datasets_folder/\"wine_reviews\"/\"winemag-data-130k-v2.json\"\n",
    "data = load_dataset(str(wine_review_filepath.parent),'json')"
   ]
  },
  {
   "cell_type": "code",
   "execution_count": 4,
   "metadata": {},
   "outputs": [],
   "source": [
    "def prepare_text_with_country_variety(batch):\n",
    "    text_with_country_variety = [f\"{country} : {province} : {variety} : {description}\" for country, province, variety, description in zip(batch['country'],batch['province'], batch['variety'], batch['description'])]\n",
    "    return {\"text\": text_with_country_variety}"
   ]
  },
  {
   "cell_type": "code",
   "execution_count": 5,
   "metadata": {},
   "outputs": [],
   "source": [
    "wine_ds = data.map(prepare_text_with_country_variety,batched=True, batch_size=None)"
   ]
  },
  {
   "cell_type": "code",
   "execution_count": 7,
   "metadata": {},
   "outputs": [],
   "source": [
    "wine_reviews = wine_ds[\"train\"][\"text\"]"
   ]
  },
  {
   "cell_type": "markdown",
   "metadata": {},
   "source": [
    "# Let's build custom tokenizer\n",
    "This tokenizer will split text on whitespace and punctuation marks"
   ]
  },
  {
   "cell_type": "code",
   "execution_count": 11,
   "metadata": {},
   "outputs": [],
   "source": [
    "def custom_tokenize(text):\n",
    "    return re.findall(r\"\\w+|[^\\w\\s]\",text,re.UNICODE)"
   ]
  },
  {
   "cell_type": "code",
   "execution_count": 12,
   "metadata": {},
   "outputs": [
    {
     "name": "stdout",
     "output_type": "stream",
     "text": [
      "['Italy', ':', 'Sicily', '&', 'Sardinia', ':', 'White', 'Blend', ':', 'Aromas', 'include', 'tropical', 'fruit', ',', 'broom', ',', 'brimstone', 'and', 'dried', 'herb', '.', 'The', 'palate', 'isn', \"'\", 't', 'overly', 'expressive', ',', 'offering', 'unripened', 'apple', ',', 'citrus', 'and', 'dried', 'sage', 'alongside', 'brisk', 'acidity', '.']\n"
     ]
    }
   ],
   "source": [
    "tokens=custom_tokenize(wine_reviews[0])\n",
    "print(tokens)"
   ]
  },
  {
   "cell_type": "code",
   "execution_count": 13,
   "metadata": {},
   "outputs": [],
   "source": [
    "# build a vocabulary\n",
    "\n",
    "tokenized_wine_reviews = [custom_tokenize(text) for text in wine_reviews]"
   ]
  },
  {
   "cell_type": "code",
   "execution_count": 16,
   "metadata": {},
   "outputs": [],
   "source": [
    "wine_review_tokens = [token for tokenized_text in tokenized_wine_reviews for token in tokenized_text]"
   ]
  },
  {
   "cell_type": "code",
   "execution_count": 21,
   "metadata": {},
   "outputs": [],
   "source": [
    "from collections import Counter\n",
    "\n",
    "wine_review_token_counter = Counter(wine_review_tokens)\n",
    "wine_review_vocab_words = wine_review_token_counter.most_common(VOCAB_SIZE)\n",
    "\n",
    "wr_word_to_id = { word:idx for idx, (word,_) in enumerate(wine_review_vocab_words)}\n",
    "\n",
    "wr_word_to_id[UNKOWN_WORD] = len(wr_word_to_id)"
   ]
  },
  {
   "cell_type": "code",
   "execution_count": 24,
   "metadata": {},
   "outputs": [],
   "source": [
    "wr_id_to_word = {id:word for word, id in wr_word_to_id.items()}"
   ]
  },
  {
   "cell_type": "code",
   "execution_count": 22,
   "metadata": {},
   "outputs": [],
   "source": [
    "def enhanced_tokenize(text, word_to_id):\n",
    "    tokens = custom_tokenize(text)\n",
    "    return [token if token in word_to_id else UNKOWN_WORD for token in tokens]"
   ]
  },
  {
   "cell_type": "code",
   "execution_count": 23,
   "metadata": {},
   "outputs": [],
   "source": [
    "def tokenize_and_convert_to_ids(text, word_to_id):\n",
    "    tokens = enhanced_tokenize(text,word_to_id)\n",
    "    return [wr_word_to_id[token] for token in tokens]"
   ]
  },
  {
   "cell_type": "code",
   "execution_count": 25,
   "metadata": {},
   "outputs": [
    {
     "name": "stdout",
     "output_type": "stream",
     "text": [
      "38 : Italy\n",
      "1 : :\n",
      "445 : Sicily\n",
      "447 : &\n",
      "469 : Sardinia\n",
      "1 : :\n",
      "165 : White\n",
      "36 : Blend\n",
      "1 : :\n",
      "214 : Aromas\n",
      "980 : include\n",
      "249 : tropical\n",
      "19 : fruit\n",
      "0 : ,\n",
      "2301 : broom\n",
      "0 : ,\n",
      "4091 : brimstone\n",
      "3 : and\n",
      "117 : dried\n",
      "131 : herb\n",
      "2 : .\n",
      "17 : The\n",
      "25 : palate\n",
      "1019 : isn\n",
      "14 : '\n",
      "233 : t\n",
      "1174 : overly\n",
      "1069 : expressive\n",
      "0 : ,\n",
      "356 : offering\n",
      "10000 : <unk>\n",
      "71 : apple\n",
      "0 : ,\n",
      "81 : citrus\n",
      "3 : and\n",
      "117 : dried\n",
      "482 : sage\n",
      "162 : alongside\n",
      "457 : brisk\n",
      "29 : acidity\n",
      "2 : .\n"
     ]
    }
   ],
   "source": [
    "input_ids = tokenize_and_convert_to_ids(wine_reviews[0],wr_word_to_id)\n",
    "for id in input_ids:\n",
    "    print(f\"{id} : {wr_id_to_word[id]}\")"
   ]
  }
 ],
 "metadata": {
  "kernelspec": {
   "display_name": "dl_311_venv",
   "language": "python",
   "name": "python3"
  },
  "language_info": {
   "codemirror_mode": {
    "name": "ipython",
    "version": 3
   },
   "file_extension": ".py",
   "mimetype": "text/x-python",
   "name": "python",
   "nbconvert_exporter": "python",
   "pygments_lexer": "ipython3",
   "version": "3.11.6"
  }
 },
 "nbformat": 4,
 "nbformat_minor": 2
}
