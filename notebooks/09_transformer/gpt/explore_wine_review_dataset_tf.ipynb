{
 "cells": [
  {
   "cell_type": "code",
   "execution_count": 1,
   "metadata": {},
   "outputs": [],
   "source": [
    "from gpt_tf import VOCAB_SIZE, EMBEDDING_DIM, MAX_LEN\n",
    "from gpt_tf import TransformerBlock, TokenAndPositionEmbedding, causal_attention_mask"
   ]
  },
  {
   "cell_type": "code",
   "execution_count": 2,
   "metadata": {},
   "outputs": [],
   "source": [
    "import numpy as np\n",
    "import pathlib\n",
    "from tensorflow.keras import layers, models"
   ]
  },
  {
   "cell_type": "code",
   "execution_count": 3,
   "metadata": {},
   "outputs": [],
   "source": [
    "# Load the full dataset\n",
    "import pathlib\n",
    "import json\n",
    "\n",
    "datasets_folder = pathlib.Path(r\"C:\\Users\\amrul\\programming\\deep_learning\\dl_projects\\Generative_Deep_Learning_2nd_Edition\\data\")\n",
    "wine_review_filepath=datasets_folder/\"wine_reviews\"/\"winemag-data-130k-v2.json\"\n",
    "with open(str(wine_review_filepath)) as json_data:\n",
    "    wine_data = json.load(json_data)"
   ]
  },
  {
   "cell_type": "code",
   "execution_count": 4,
   "metadata": {},
   "outputs": [],
   "source": [
    "# Filter the dataset\n",
    "filtered_data = [\n",
    "    \"wine review : \"\n",
    "    + x[\"country\"]\n",
    "    + \" : \"\n",
    "    + x[\"province\"]\n",
    "    + \" : \"\n",
    "    + x[\"variety\"]\n",
    "    + \" : \"\n",
    "    + x[\"description\"]\n",
    "    for x in wine_data\n",
    "    if x[\"country\"] is not None\n",
    "    and x[\"province\"] is not None\n",
    "    and x[\"variety\"] is not None\n",
    "    and x[\"description\"] is not None\n",
    "]"
   ]
  },
  {
   "cell_type": "code",
   "execution_count": 5,
   "metadata": {},
   "outputs": [],
   "source": [
    "import re\n",
    "import string\n",
    "\n",
    "# Pad the punctuation, to treat them as separate 'words'\n",
    "def pad_punctuation(s):\n",
    "    s = re.sub(f\"([{string.punctuation}, '\\n'])\", r\" \\1 \", s)\n",
    "    s = re.sub(\" +\", \" \", s)\n",
    "    return s\n",
    "\n",
    "\n",
    "text_data = [pad_punctuation(x) for x in filtered_data]"
   ]
  },
  {
   "cell_type": "code",
   "execution_count": 6,
   "metadata": {},
   "outputs": [],
   "source": [
    "import tensorflow as tf\n",
    "from gpt_tf import BATCH_SIZE\n",
    "# Convert to a Tensorflow Dataset\n",
    "text_ds = (\n",
    "    tf.data.Dataset.from_tensor_slices(text_data)\n",
    "    .batch(BATCH_SIZE)\n",
    "    .shuffle(1000)\n",
    ")"
   ]
  },
  {
   "cell_type": "code",
   "execution_count": 7,
   "metadata": {},
   "outputs": [],
   "source": [
    "# Create a vectorisation layer\n",
    "vectorize_layer = layers.TextVectorization(\n",
    "    standardize=\"lower\",\n",
    "    max_tokens=VOCAB_SIZE,\n",
    "    output_mode=\"int\",\n",
    "    output_sequence_length=MAX_LEN + 1,\n",
    ")"
   ]
  },
  {
   "cell_type": "code",
   "execution_count": 8,
   "metadata": {},
   "outputs": [],
   "source": [
    "# Adapt the layer to the training set\n",
    "vectorize_layer.adapt(text_ds)\n",
    "vocab = vectorize_layer.get_vocabulary()"
   ]
  },
  {
   "cell_type": "code",
   "execution_count": 9,
   "metadata": {},
   "outputs": [],
   "source": [
    "# Create the training set of recipes and the same text shifted by one word\n",
    "def prepare_inputs(text):\n",
    "    text = tf.expand_dims(text, -1)\n",
    "    tokenized_sentences = vectorize_layer(text)\n",
    "    x = tokenized_sentences[:, :-1]\n",
    "    y = tokenized_sentences[:, 1:]\n",
    "    return x, y\n",
    "\n",
    "\n",
    "train_ds = text_ds.map(prepare_inputs)"
   ]
  },
  {
   "cell_type": "code",
   "execution_count": 17,
   "metadata": {},
   "outputs": [],
   "source": [
    "one_x, one_y = train_ds.take(1).get_single_element()"
   ]
  },
  {
   "cell_type": "code",
   "execution_count": 24,
   "metadata": {},
   "outputs": [],
   "source": [
    "word_to_id = {word:idx for idx, word in enumerate(vocab)}\n",
    "id_to_word = {id:word for word,id in word_to_id.items()}"
   ]
  },
  {
   "cell_type": "code",
   "execution_count": null,
   "metadata": {},
   "outputs": [],
   "source": [
    "word_to"
   ]
  },
  {
   "cell_type": "code",
   "execution_count": 30,
   "metadata": {},
   "outputs": [
    {
     "name": "stdout",
     "output_type": "stream",
     "text": [
      "7 : wine\n",
      "10 : review\n",
      "2 : :\n",
      "20 : us\n",
      "2 : :\n",
      "29 : california\n",
      "2 : :\n",
      "24 : red\n",
      "27 : blend\n",
      "2 : :\n",
      "12 : this\n",
      "87 : bright\n",
      "5 : and\n",
      "1043 : vivid\n",
      "7 : wine\n",
      "41 : has\n",
      "56 : fresh\n",
      "97 : raspberry\n",
      "5 : and\n",
      "36 : cherry\n",
      "26 : aromas\n",
      "3 : ,\n",
      "135 : concentrated\n",
      "22 : fruit\n",
      "16 : flavors\n",
      "5 : and\n",
      "8 : a\n",
      "77 : texture\n",
      "25 : that\n",
      "41 : has\n",
      "334 : enough\n",
      "413 : tannin\n",
      "5 : and\n",
      "30 : acidity\n",
      "46 : for\n",
      "99 : good\n",
      "160 : balance\n",
      "4 : .\n",
      "15 : it\n",
      "18 : '\n",
      "21 : s\n",
      "425 : nicely\n",
      "128 : made\n",
      "17 : in\n",
      "8 : a\n",
      "1255 : traditional\n",
      "58 : dry\n",
      "63 : style\n",
      "4 : .\n",
      "0 : \n",
      "0 : \n",
      "0 : \n",
      "0 : \n",
      "0 : \n",
      "0 : \n",
      "0 : \n",
      "0 : \n",
      "0 : \n",
      "0 : \n",
      "0 : \n",
      "0 : \n",
      "0 : \n",
      "0 : \n",
      "0 : \n",
      "0 : \n",
      "0 : \n",
      "0 : \n",
      "0 : \n",
      "0 : \n",
      "0 : \n",
      "0 : \n",
      "0 : \n",
      "0 : \n",
      "0 : \n",
      "0 : \n",
      "0 : \n",
      "0 : \n",
      "0 : \n",
      "0 : \n",
      "0 : \n"
     ]
    }
   ],
   "source": [
    "for id in list(one_x[0].numpy()):\n",
    "    print(f\"{id} : {id_to_word[id]}\")"
   ]
  }
 ],
 "metadata": {
  "kernelspec": {
   "display_name": "dl_311_venv",
   "language": "python",
   "name": "python3"
  },
  "language_info": {
   "codemirror_mode": {
    "name": "ipython",
    "version": 3
   },
   "file_extension": ".py",
   "mimetype": "text/x-python",
   "name": "python",
   "nbconvert_exporter": "python",
   "pygments_lexer": "ipython3",
   "version": "3.11.6"
  }
 },
 "nbformat": 4,
 "nbformat_minor": 2
}
