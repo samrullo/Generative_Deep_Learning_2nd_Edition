{
 "cells": [
  {
   "cell_type": "markdown",
   "id": "b076bd1a-b236-4fbc-953d-8295b25122ae",
   "metadata": {},
   "source": [
    "# 🚀 GPT"
   ]
  },
  {
   "cell_type": "markdown",
   "id": "4dca6836-0007-43f3-af65-d12ae1922c02",
   "metadata": {
    "tags": []
   },
   "source": [
    "In this notebook, we'll walk through the steps required to train your own GPT model on the wine review dataset"
   ]
  },
  {
   "cell_type": "markdown",
   "id": "3e6cb7c7-d3d5-4b12-b357-1f6118edffe0",
   "metadata": {},
   "source": [
    "The code is adapted from the excellent [GPT tutorial](https://keras.io/examples/generative/text_generation_with_miniature_gpt/) created by Apoorv Nandan available on the Keras website."
   ]
  },
  {
   "cell_type": "code",
   "execution_count": 1,
   "id": "73350761-bef2-4e96-b3ac-a158eabd2b65",
   "metadata": {
    "tags": []
   },
   "outputs": [],
   "source": [
    "%load_ext autoreload\n",
    "%autoreload 2\n",
    "import numpy as np\n",
    "import json\n",
    "import re\n",
    "import string\n",
    "from IPython.display import display, HTML\n",
    "\n",
    "import tensorflow as tf\n",
    "from tensorflow.keras import layers, models, losses, callbacks"
   ]
  },
  {
   "cell_type": "markdown",
   "id": "339e6268-ebd7-4feb-86db-1fe7abccdbe5",
   "metadata": {},
   "source": [
    "## 0. Parameters <a name=\"parameters\"></a>"
   ]
  },
  {
   "cell_type": "code",
   "execution_count": 2,
   "id": "2d8352af-343e-4c2e-8c91-95f8bac1c8a1",
   "metadata": {},
   "outputs": [],
   "source": [
    "VOCAB_SIZE = 10000\n",
    "MAX_LEN = 80\n",
    "EMBEDDING_DIM = 256\n",
    "KEY_DIM = 256\n",
    "N_HEADS = 2\n",
    "FEED_FORWARD_DIM = 256\n",
    "VALIDATION_SPLIT = 0.2\n",
    "SEED = 42\n",
    "LOAD_MODEL = False\n",
    "BATCH_SIZE = 32\n",
    "EPOCHS = 5"
   ]
  },
  {
   "cell_type": "markdown",
   "id": "b7716fac-0010-49b0-b98e-53be2259edde",
   "metadata": {},
   "source": [
    "## 1. Load the data <a name=\"load\"></a>"
   ]
  },
  {
   "cell_type": "code",
   "execution_count": 3,
   "id": "93cf6b0f-9667-4146-8911-763a8a2925d3",
   "metadata": {
    "tags": []
   },
   "outputs": [],
   "source": [
    "# Load the full dataset\n",
    "import pathlib\n",
    "datasets_folder = pathlib.Path(r\"C:\\Users\\amrul\\programming\\deep_learning\\dl_projects\\Generative_Deep_Learning_2nd_Edition\\data\")\n",
    "wine_review_filepath=datasets_folder/\"wine_reviews\"/\"winemag-data-130k-v2.json\"\n",
    "with open(str(wine_review_filepath)) as json_data:\n",
    "    wine_data = json.load(json_data)"
   ]
  },
  {
   "cell_type": "code",
   "execution_count": 4,
   "id": "2db5c0fc-0d5f-42ab-ade1-57e594c416ec",
   "metadata": {
    "tags": []
   },
   "outputs": [
    {
     "data": {
      "text/plain": [
       "{'points': '87',\n",
       " 'title': 'Kirkland Signature 2011 Mountain Cuvée Cabernet Sauvignon (Napa Valley)',\n",
       " 'description': 'Soft, supple plum envelopes an oaky structure in this Cabernet, supported by 15% Merlot. Coffee and chocolate complete the picture, finishing strong at the end, resulting in a value-priced wine of attractive flavor and immediate accessibility.',\n",
       " 'taster_name': 'Virginie Boone',\n",
       " 'taster_twitter_handle': '@vboone',\n",
       " 'price': 19,\n",
       " 'designation': 'Mountain Cuvée',\n",
       " 'variety': 'Cabernet Sauvignon',\n",
       " 'region_1': 'Napa Valley',\n",
       " 'region_2': 'Napa',\n",
       " 'province': 'California',\n",
       " 'country': 'US',\n",
       " 'winery': 'Kirkland Signature'}"
      ]
     },
     "execution_count": 4,
     "metadata": {},
     "output_type": "execute_result"
    }
   ],
   "source": [
    "wine_data[10]"
   ]
  },
  {
   "cell_type": "code",
   "execution_count": 5,
   "id": "23a74eca-f1b7-4a46-9a1f-b5806a4ed361",
   "metadata": {
    "tags": []
   },
   "outputs": [],
   "source": [
    "# Filter the dataset\n",
    "filtered_data = [\n",
    "    \"wine review : \"\n",
    "    + x[\"country\"]\n",
    "    + \" : \"\n",
    "    + x[\"province\"]\n",
    "    + \" : \"\n",
    "    + x[\"variety\"]\n",
    "    + \" : \"\n",
    "    + x[\"description\"]\n",
    "    for x in wine_data\n",
    "    if x[\"country\"] is not None\n",
    "    and x[\"province\"] is not None\n",
    "    and x[\"variety\"] is not None\n",
    "    and x[\"description\"] is not None\n",
    "]"
   ]
  },
  {
   "cell_type": "code",
   "execution_count": 6,
   "id": "389c20de-0422-4c48-a7b4-6ee12a7bf0e2",
   "metadata": {
    "tags": []
   },
   "outputs": [
    {
     "name": "stdout",
     "output_type": "stream",
     "text": [
      "129907 recipes loaded\n"
     ]
    }
   ],
   "source": [
    "# Count the recipes\n",
    "n_wines = len(filtered_data)\n",
    "print(f\"{n_wines} recipes loaded\")"
   ]
  },
  {
   "cell_type": "code",
   "execution_count": 7,
   "id": "1b2e3cf7-e416-460e-874a-0dd9637bca36",
   "metadata": {},
   "outputs": [
    {
     "name": "stdout",
     "output_type": "stream",
     "text": [
      "wine review : US : California : Pinot Noir : Oak and earth intermingle around robust aromas of wet forest floor in this vineyard-designated Pinot that hails from a high-elevation site. Small in production, it offers intense, full-bodied raspberry and blackberry steeped in smoky spice and smooth texture.\n"
     ]
    }
   ],
   "source": [
    "example = filtered_data[25]\n",
    "print(example)"
   ]
  },
  {
   "cell_type": "markdown",
   "id": "3f871aaf-d873-41c7-8946-e4eef7ac17c1",
   "metadata": {},
   "source": [
    "## 2. Tokenize the data <a name=\"tokenize\"></a>"
   ]
  },
  {
   "cell_type": "code",
   "execution_count": 8,
   "id": "5b2064fb-5dcc-4657-b470-0928d10e2ddc",
   "metadata": {
    "tags": []
   },
   "outputs": [],
   "source": [
    "# Pad the punctuation, to treat them as separate 'words'\n",
    "def pad_punctuation(s):\n",
    "    s = re.sub(f\"([{string.punctuation}, '\\n'])\", r\" \\1 \", s)\n",
    "    s = re.sub(\" +\", \" \", s)\n",
    "    return s\n",
    "\n",
    "\n",
    "text_data = [pad_punctuation(x) for x in filtered_data]"
   ]
  },
  {
   "cell_type": "code",
   "execution_count": 9,
   "id": "b87d7c65-9a46-492a-a5c0-a043b0d252f3",
   "metadata": {},
   "outputs": [
    {
     "data": {
      "text/plain": [
       "'wine review : US : California : Pinot Noir : Oak and earth intermingle around robust aromas of wet forest floor in this vineyard - designated Pinot that hails from a high - elevation site . Small in production , it offers intense , full - bodied raspberry and blackberry steeped in smoky spice and smooth texture . '"
      ]
     },
     "execution_count": 9,
     "metadata": {},
     "output_type": "execute_result"
    }
   ],
   "source": [
    "# Display an example of a recipe\n",
    "example_data = text_data[25]\n",
    "example_data"
   ]
  },
  {
   "cell_type": "code",
   "execution_count": 10,
   "id": "9834f916-b21a-4104-acc9-f28d3bd7a8c1",
   "metadata": {
    "tags": []
   },
   "outputs": [],
   "source": [
    "# Convert to a Tensorflow Dataset\n",
    "text_ds = (\n",
    "    tf.data.Dataset.from_tensor_slices(text_data)\n",
    "    .batch(BATCH_SIZE)\n",
    "    .shuffle(1000)\n",
    ")"
   ]
  },
  {
   "cell_type": "code",
   "execution_count": 11,
   "id": "884c0bcb-0807-45a1-8f7e-a32f2c6fa4de",
   "metadata": {},
   "outputs": [],
   "source": [
    "# Create a vectorisation layer\n",
    "vectorize_layer = layers.TextVectorization(\n",
    "    standardize=\"lower\",\n",
    "    max_tokens=VOCAB_SIZE,\n",
    "    output_mode=\"int\",\n",
    "    output_sequence_length=MAX_LEN + 1,\n",
    ")"
   ]
  },
  {
   "cell_type": "code",
   "execution_count": 12,
   "id": "4d6dd34a-d905-497b-926a-405380ebcf98",
   "metadata": {},
   "outputs": [],
   "source": [
    "# Adapt the layer to the training set\n",
    "vectorize_layer.adapt(text_ds)\n",
    "vocab = vectorize_layer.get_vocabulary()"
   ]
  },
  {
   "cell_type": "code",
   "execution_count": 13,
   "id": "f6c1c7ce-3cf0-40d4-a3dc-ab7090f69f2f",
   "metadata": {},
   "outputs": [
    {
     "name": "stdout",
     "output_type": "stream",
     "text": [
      "0: \n",
      "1: [UNK]\n",
      "2: :\n",
      "3: ,\n",
      "4: .\n",
      "5: and\n",
      "6: the\n",
      "7: wine\n",
      "8: a\n",
      "9: of\n"
     ]
    }
   ],
   "source": [
    "# Display some token:word mappings\n",
    "for i, word in enumerate(vocab[:10]):\n",
    "    print(f\"{i}: {word}\")"
   ]
  },
  {
   "cell_type": "code",
   "execution_count": 14,
   "id": "1cc30186-7ec6-4eb6-b29a-65df6714d321",
   "metadata": {},
   "outputs": [
    {
     "name": "stdout",
     "output_type": "stream",
     "text": [
      "[   7   10    2   20    2   29    2   43   62    2   55    5  243 4145\n",
      "  453  634   26    9  497  499  667   17   12  142   14 2214   43   25\n",
      " 2484   32    8  223   14 2213  948    4  594   17  987    3   15   75\n",
      "  237    3   64   14   82   97    5   74 2633   17  198   49    5  125\n",
      "   77    4    0    0    0    0    0    0    0    0    0    0    0    0\n",
      "    0    0    0    0    0    0    0    0    0    0    0]\n"
     ]
    }
   ],
   "source": [
    "# Display the same example converted to ints\n",
    "example_tokenised = vectorize_layer(example_data)\n",
    "print(example_tokenised.numpy())"
   ]
  },
  {
   "cell_type": "markdown",
   "id": "8c195efb-84c6-4be0-a989-a7542188ad35",
   "metadata": {},
   "source": [
    "## 3. Create the Training Set <a name=\"create\"></a>"
   ]
  },
  {
   "cell_type": "code",
   "execution_count": 15,
   "id": "740294a1-1a6b-4c89-92f2-036d7d1b788b",
   "metadata": {},
   "outputs": [],
   "source": [
    "# Create the training set of recipes and the same text shifted by one word\n",
    "def prepare_inputs(text):\n",
    "    text = tf.expand_dims(text, -1)\n",
    "    tokenized_sentences = vectorize_layer(text)\n",
    "    x = tokenized_sentences[:, :-1]\n",
    "    y = tokenized_sentences[:, 1:]\n",
    "    return x, y\n",
    "\n",
    "\n",
    "train_ds = text_ds.map(prepare_inputs)"
   ]
  },
  {
   "cell_type": "code",
   "execution_count": 16,
   "id": "cad80ffb-4298-4249-86b4-9918d62534c5",
   "metadata": {},
   "outputs": [],
   "source": [
    "example_input_output = train_ds.take(1).get_single_element()"
   ]
  },
  {
   "cell_type": "code",
   "execution_count": 17,
   "id": "67ff7263-f62d-44c1-997b-1aa99a393521",
   "metadata": {},
   "outputs": [
    {
     "name": "stdout",
     "output_type": "stream",
     "text": [
      "example_input_output type : <class 'tuple'>, and its length : 2\n",
      "x shape : (32, 80), y shape : (32, 80)\n"
     ]
    }
   ],
   "source": [
    "# Example Input\n",
    "print(f\"example_input_output type : {type(example_input_output)}, and its length : {len(example_input_output)}\")\n",
    "x_one, y_one = example_input_output\n",
    "print(f\"x shape : {x_one.shape}, y shape : {y_one.shape}\")"
   ]
  },
  {
   "cell_type": "code",
   "execution_count": 18,
   "id": "2220221e",
   "metadata": {},
   "outputs": [
    {
     "name": "stdout",
     "output_type": "stream",
     "text": [
      "one shape is (1,) and it is [32]\n",
      "two shape (2,) and it is [1 1]\n",
      "mult shape (3,) and it is [32  1  1]\n",
      "three shape (3,), [32  1  1]\n"
     ]
    }
   ],
   "source": [
    "one=tf.expand_dims(BATCH_SIZE,-1)\n",
    "print(f\"one shape is {one.shape} and it is {one}\")\n",
    "two = tf.constant([1,1],dtype=tf.int32)\n",
    "print(f\"two shape {two.shape} and it is {two}\")\n",
    "mult = tf.concat([one, two],0)\n",
    "print(f\"mult shape {mult.shape} and it is {mult}\")\n",
    "three = tf.constant([BATCH_SIZE,1,1],dtype=tf.int32)\n",
    "print(f\"three shape {three.shape}, {three}\")"
   ]
  },
  {
   "cell_type": "code",
   "execution_count": 19,
   "id": "5da5616d",
   "metadata": {},
   "outputs": [
    {
     "name": "stdout",
     "output_type": "stream",
     "text": [
      "result shape (10, 14, 10)\n"
     ]
    }
   ],
   "source": [
    "batch_size = 10\n",
    "n_src=5\n",
    "n_dest = 7\n",
    "dtype= tf.int32\n",
    "\n",
    "i = tf.range(n_dest)[:, None]\n",
    "j = tf.range(n_src)\n",
    "m = i >= j - n_src + n_dest\n",
    "mask = tf.cast(m, dtype)\n",
    "mask = tf.reshape(mask, [1, n_dest, n_src])\n",
    "mult = tf.constant([batch_size,2,2],dtype=dtype)\n",
    "result= tf.tile(mask, mult)\n",
    "print(f\"result shape {result.shape}\")\n",
    "\n"
   ]
  },
  {
   "cell_type": "markdown",
   "id": "aff50401-3abe-4c10-bba8-b35bc13ad7d5",
   "metadata": {
    "tags": []
   },
   "source": [
    "## 5. Create the causal attention mask function <a name=\"causal\"></a>"
   ]
  },
  {
   "cell_type": "code",
   "execution_count": 20,
   "id": "554a4184-61c2-4eb7-a063-d965586a8188",
   "metadata": {},
   "outputs": [
    {
     "data": {
      "text/plain": [
       "array([[1, 1, 1, 1, 1, 1, 1, 1, 1, 1],\n",
       "       [0, 1, 1, 1, 1, 1, 1, 1, 1, 1],\n",
       "       [0, 0, 1, 1, 1, 1, 1, 1, 1, 1],\n",
       "       [0, 0, 0, 1, 1, 1, 1, 1, 1, 1],\n",
       "       [0, 0, 0, 0, 1, 1, 1, 1, 1, 1],\n",
       "       [0, 0, 0, 0, 0, 1, 1, 1, 1, 1],\n",
       "       [0, 0, 0, 0, 0, 0, 1, 1, 1, 1],\n",
       "       [0, 0, 0, 0, 0, 0, 0, 1, 1, 1],\n",
       "       [0, 0, 0, 0, 0, 0, 0, 0, 1, 1],\n",
       "       [0, 0, 0, 0, 0, 0, 0, 0, 0, 1]])"
      ]
     },
     "execution_count": 20,
     "metadata": {},
     "output_type": "execute_result"
    }
   ],
   "source": [
    "def causal_attention_mask(batch_size, n_dest, n_src, dtype):\n",
    "    # this produces (n_dest,1) two dimensional tensor\n",
    "    i = tf.range(n_dest)[:, None]\n",
    "    \n",
    "    # this produces (n_src,) one dimensional tensor\n",
    "    j = tf.range(n_src)\n",
    "\n",
    "    # this produces (n_dest, n_src) two dimensional tensor\n",
    "    # it is comparing every row of i (n_dest,1) against one dimensional (n_src,)\n",
    "    # for instance first row of i which is a scalar value 0 will be compared against a list of values starting with (-n_src+n_dest,..+1, ...+2,...)\n",
    "    m = i >= j - n_src + n_dest\n",
    "\n",
    "    # casting dtype to turn boolean values to some other type such as tf.int32\n",
    "    mask = tf.cast(m, dtype)\n",
    "\n",
    "    # transforming two dimensional mask to 3 dimensional mask because our attention weights usually has shape (N, L, L), (batch_size, sequence_length, sequence_length)\n",
    "    mask = tf.reshape(mask, [1, n_dest, n_src])\n",
    "\n",
    "    # below is equivalent to tf.constant([batch_size, 1, 1], dtype=tf.int32)\n",
    "    # I have no idea why the author went through craze of concat and expand_dims\n",
    "    mult = tf.concat(        \n",
    "        [tf.expand_dims(batch_size, -1), tf.constant([1, 1], dtype=tf.int32)], 0\n",
    "    )\n",
    "\n",
    "    # this will produce mask with shape (N, n_dest, n_src). we are doing this to apply the same mask to every sample in the batch\n",
    "    return tf.tile(mask, mult)\n",
    "\n",
    "\n",
    "np.transpose(causal_attention_mask(1, 10, 10, dtype=tf.int32)[0])"
   ]
  },
  {
   "cell_type": "markdown",
   "id": "3501dbad-0860-40ad-b7d6-47950e37858f",
   "metadata": {},
   "source": [
    "## 6. Create a Transformer Block layer <a name=\"transformer\"></a>"
   ]
  },
  {
   "cell_type": "code",
   "execution_count": 21,
   "id": "5285a1cb-fce1-46b1-b088-b596002fa9ae",
   "metadata": {},
   "outputs": [],
   "source": [
    "class TransformerBlock(layers.Layer):\n",
    "    def __init__(self, num_heads, key_dim, embed_dim, ff_dim, dropout_rate=0.1):\n",
    "        super(TransformerBlock, self).__init__()\n",
    "        self.num_heads = num_heads\n",
    "        self.key_dim = key_dim\n",
    "        self.embed_dim = embed_dim\n",
    "        self.ff_dim = ff_dim\n",
    "        self.dropout_rate = dropout_rate\n",
    "        self.attn = layers.MultiHeadAttention(\n",
    "            num_heads, key_dim, output_shape=embed_dim\n",
    "        )\n",
    "        self.dropout_1 = layers.Dropout(self.dropout_rate)\n",
    "        self.ln_1 = layers.LayerNormalization(epsilon=1e-6)\n",
    "        self.ffn_1 = layers.Dense(self.ff_dim, activation=\"relu\")\n",
    "        self.ffn_2 = layers.Dense(self.embed_dim)\n",
    "        self.dropout_2 = layers.Dropout(self.dropout_rate)\n",
    "        self.ln_2 = layers.LayerNormalization(epsilon=1e-6)\n",
    "\n",
    "    def call(self, inputs):\n",
    "        input_shape = tf.shape(inputs)\n",
    "        batch_size = input_shape[0]\n",
    "        seq_len = input_shape[1]\n",
    "        causal_mask = causal_attention_mask(\n",
    "            batch_size, seq_len, seq_len, tf.bool\n",
    "        )\n",
    "        attention_output, attention_scores = self.attn(\n",
    "            inputs,\n",
    "            inputs,\n",
    "            attention_mask=causal_mask,\n",
    "            return_attention_scores=True,\n",
    "        )\n",
    "        attention_output = self.dropout_1(attention_output)\n",
    "        out1 = self.ln_1(inputs + attention_output)\n",
    "        ffn_1 = self.ffn_1(out1)\n",
    "        ffn_2 = self.ffn_2(ffn_1)\n",
    "        ffn_output = self.dropout_2(ffn_2)\n",
    "        return (self.ln_2(out1 + ffn_output), attention_scores)\n",
    "\n",
    "    def get_config(self):\n",
    "        config = super().get_config()\n",
    "        config.update(\n",
    "            {\n",
    "                \"key_dim\": self.key_dim,\n",
    "                \"embed_dim\": self.embed_dim,\n",
    "                \"num_heads\": self.num_heads,\n",
    "                \"ff_dim\": self.ff_dim,\n",
    "                \"dropout_rate\": self.dropout_rate,\n",
    "            }\n",
    "        )\n",
    "        return config"
   ]
  },
  {
   "cell_type": "markdown",
   "id": "076a6be0-9796-4974-9bcd-6ebbcfe7514e",
   "metadata": {
    "tags": []
   },
   "source": [
    "## 7. Create the Token and Position Embedding <a name=\"embedder\"></a>"
   ]
  },
  {
   "cell_type": "code",
   "execution_count": 22,
   "id": "fdf5cb25-88ae-4026-9e21-c1e6b5094a2c",
   "metadata": {},
   "outputs": [],
   "source": [
    "class TokenAndPositionEmbedding(layers.Layer):\n",
    "    def __init__(self, max_len, vocab_size, embed_dim):\n",
    "        super(TokenAndPositionEmbedding, self).__init__()\n",
    "        self.max_len = max_len\n",
    "        self.vocab_size = vocab_size\n",
    "        self.embed_dim = embed_dim\n",
    "        self.token_emb = layers.Embedding(\n",
    "            input_dim=vocab_size, output_dim=embed_dim\n",
    "        )\n",
    "        self.pos_emb = layers.Embedding(input_dim=max_len, output_dim=embed_dim)\n",
    "\n",
    "    def call(self, x):\n",
    "        maxlen = tf.shape(x)[-1]\n",
    "        positions = tf.range(start=0, limit=maxlen, delta=1)\n",
    "        positions = self.pos_emb(positions)\n",
    "        x = self.token_emb(x)\n",
    "        return x + positions\n",
    "\n",
    "    def get_config(self):\n",
    "        config = super().get_config()\n",
    "        config.update(\n",
    "            {\n",
    "                \"max_len\": self.max_len,\n",
    "                \"vocab_size\": self.vocab_size,\n",
    "                \"embed_dim\": self.embed_dim,\n",
    "            }\n",
    "        )\n",
    "        return config"
   ]
  },
  {
   "cell_type": "markdown",
   "id": "aac2e2d4-5980-47e3-b5b0-6c41c0c2d152",
   "metadata": {},
   "source": [
    "## 8. Build the Transformer model <a name=\"transformer_decoder\"></a>"
   ]
  },
  {
   "cell_type": "code",
   "execution_count": 23,
   "id": "8c57596e-e17d-4959-b6e8-7581b0bace3a",
   "metadata": {},
   "outputs": [],
   "source": [
    "inputs = layers.Input(shape=(None,), dtype=tf.int32)\n",
    "x = TokenAndPositionEmbedding(MAX_LEN, VOCAB_SIZE, EMBEDDING_DIM)(inputs)\n",
    "x, attention_scores = TransformerBlock(\n",
    "    N_HEADS, KEY_DIM, EMBEDDING_DIM, FEED_FORWARD_DIM\n",
    ")(x)\n",
    "outputs = layers.Dense(VOCAB_SIZE, activation=\"softmax\")(x)\n",
    "gpt = models.Model(inputs=inputs, outputs=[outputs, attention_scores])\n",
    "gpt.compile(\"adam\", loss=[losses.SparseCategoricalCrossentropy(), None])"
   ]
  },
  {
   "cell_type": "code",
   "execution_count": 24,
   "id": "1a1c3b0f-3382-444d-bb04-bae143ae5d61",
   "metadata": {},
   "outputs": [
    {
     "name": "stdout",
     "output_type": "stream",
     "text": [
      "Model: \"model\"\n",
      "_________________________________________________________________\n",
      " Layer (type)                Output Shape              Param #   \n",
      "=================================================================\n",
      " input_1 (InputLayer)        [(None, None)]            0         \n",
      "                                                                 \n",
      " token_and_position_embeddi  (None, None, 256)         2580480   \n",
      " ng (TokenAndPositionEmbedd                                      \n",
      " ing)                                                            \n",
      "                                                                 \n",
      " transformer_block (Transfo  ((None, None, 256),       658688    \n",
      " rmerBlock)                   (None, 2, None, None))             \n",
      "                                                                 \n",
      " dense_2 (Dense)             (None, None, 10000)       2570000   \n",
      "                                                                 \n",
      "=================================================================\n",
      "Total params: 5809168 (22.16 MB)\n",
      "Trainable params: 5809168 (22.16 MB)\n",
      "Non-trainable params: 0 (0.00 Byte)\n",
      "_________________________________________________________________\n"
     ]
    }
   ],
   "source": [
    "gpt.summary()"
   ]
  },
  {
   "cell_type": "code",
   "execution_count": 25,
   "id": "800a3c6e-fb11-4792-b6bc-9a43a7c977ad",
   "metadata": {
    "tags": []
   },
   "outputs": [],
   "source": [
    "if LOAD_MODEL:\n",
    "    # model.load_weights('./models/model')\n",
    "    gpt = models.load_model(\"./models/gpt\", compile=True)"
   ]
  },
  {
   "cell_type": "markdown",
   "id": "35b14665-4359-447b-be58-3fd58ba69084",
   "metadata": {},
   "source": [
    "## 9. Train the Transformer <a name=\"train\"></a>"
   ]
  },
  {
   "cell_type": "code",
   "execution_count": 26,
   "id": "3ddcff5f-829d-4449-99d2-9a3cb68f7d72",
   "metadata": {},
   "outputs": [],
   "source": [
    "# Create a TextGenerator checkpoint\n",
    "class TextGenerator(callbacks.Callback):\n",
    "    def __init__(self, index_to_word, top_k=10):\n",
    "        self.index_to_word = index_to_word\n",
    "        self.word_to_index = {\n",
    "            word: index for index, word in enumerate(index_to_word)\n",
    "        }\n",
    "\n",
    "    def sample_from(self, probs, temperature):\n",
    "        probs = probs ** (1 / temperature)\n",
    "        probs = probs / np.sum(probs)\n",
    "        return np.random.choice(len(probs), p=probs), probs\n",
    "\n",
    "    def generate(self, start_prompt, max_tokens, temperature):\n",
    "        start_tokens = [\n",
    "            self.word_to_index.get(x, 1) for x in start_prompt.split()\n",
    "        ]\n",
    "        sample_token = None\n",
    "        info = []\n",
    "        while len(start_tokens) < max_tokens and sample_token != 0:\n",
    "            x = np.array([start_tokens])\n",
    "            y, att = self.model.predict(x, verbose=0)\n",
    "            sample_token, probs = self.sample_from(y[0][-1], temperature)\n",
    "            info.append(\n",
    "                {\n",
    "                    \"prompt\": start_prompt,\n",
    "                    \"word_probs\": probs,\n",
    "                    \"atts\": att[0, :, -1, :],\n",
    "                }\n",
    "            )\n",
    "            start_tokens.append(sample_token)\n",
    "            start_prompt = start_prompt + \" \" + self.index_to_word[sample_token]\n",
    "        print(f\"\\ngenerated text:\\n{start_prompt}\\n\")\n",
    "        return info\n",
    "\n",
    "    def on_epoch_end(self, epoch, logs=None):\n",
    "        self.generate(\"wine review\", max_tokens=80, temperature=1.0)"
   ]
  },
  {
   "cell_type": "code",
   "execution_count": 27,
   "id": "349865fe-ffbe-450e-97be-043ae1740e78",
   "metadata": {},
   "outputs": [],
   "source": [
    "# Create a model save checkpoint\n",
    "model_checkpoint_callback = callbacks.ModelCheckpoint(\n",
    "    filepath=\"./checkpoint/checkpoint.ckpt\",\n",
    "    save_weights_only=True,\n",
    "    save_freq=\"epoch\",\n",
    "    verbose=0,\n",
    ")\n",
    "\n",
    "tensorboard_callback = callbacks.TensorBoard(log_dir=\"./logs\")\n",
    "\n",
    "# Tokenize starting prompt\n",
    "text_generator = TextGenerator(vocab)"
   ]
  },
  {
   "cell_type": "code",
   "execution_count": 28,
   "id": "461c2b3e-b5ae-4def-8bd9-e7bab8c63d8e",
   "metadata": {
    "tags": []
   },
   "outputs": [
    {
     "name": "stdout",
     "output_type": "stream",
     "text": [
      "Epoch 1/5\n",
      "4060/4060 [==============================] - ETA: 0s - loss: 2.2535 - dense_2_loss: 2.2535\n",
      "generated text:\n",
      "wine review : us : california : zinfandel : deep cherry , violet , violets , rose petal and violet aromas burst this full - bodied wine , enhanced with baking spices and vanilla . a glass bring to its core texture , detail and tannin earthy acidity and a finish . \n",
      "\n",
      "4060/4060 [==============================] - 909s 223ms/step - loss: 2.2535 - dense_2_loss: 2.2535\n",
      "Epoch 2/5\n",
      "4060/4060 [==============================] - ETA: 0s - loss: 1.9596 - dense_2_loss: 1.9596\n",
      "generated text:\n",
      "wine review : france : rhône valley : viognier : starts out with 20 % of the 10 % viognier , this is a medium - bodied 100 % viognier that is sourced from vineyards over the cool - climate levels . a crisp note of tropical fruit gives way to a full list of appetizers and seafood . \n",
      "\n",
      "4060/4060 [==============================] - 904s 223ms/step - loss: 1.9596 - dense_2_loss: 1.9596\n",
      "Epoch 3/5\n",
      "4060/4060 [==============================] - ETA: 0s - loss: 1.8900 - dense_2_loss: 1.8900\n",
      "generated text:\n",
      "wine review : argentina : mendoza province : tempranillo : kola nut aromas feature notes of graphite and candied spice . the palate is bumpy and tough and hard , heavy . flavors of blackberry and berry finish different , showing tightly packed cortese with ripe results . imported by [UNK] selections from most group into wines , this wine will have a welcome lot of fruit fruit and enough power to drink . \n",
      "\n",
      "4060/4060 [==============================] - 915s 225ms/step - loss: 1.8900 - dense_2_loss: 1.8900\n",
      "Epoch 4/5\n",
      "4060/4060 [==============================] - ETA: 0s - loss: 1.8479 - dense_2_loss: 1.8479\n",
      "generated text:\n",
      "wine review : us : new york : rosé : there ' s a touch of richness here , but overall it ' s rich and dry in style with a crisp , thirst quencher , candy - edged acidity . brisk and thirst quencher an acidic lift and a moderately - ripe finish . \n",
      "\n",
      "4060/4060 [==============================] - 907s 223ms/step - loss: 1.8479 - dense_2_loss: 1.8479\n",
      "Epoch 5/5\n",
      "4060/4060 [==============================] - ETA: 0s - loss: 1.8177 - dense_2_loss: 1.8177\n",
      "generated text:\n",
      "wine review : us : california : chardonnay : from young vines , this has an estate vineyard [UNK] the marlborough valley , so rich and bigger than a classic glass of intense aromas . the bottom line is still tightly wound , with ever so intense and exquisitely fragrant and lemony in strong in the background . lovely to drink now through 2020 . \n",
      "\n",
      "4060/4060 [==============================] - 903s 222ms/step - loss: 1.8177 - dense_2_loss: 1.8177\n"
     ]
    },
    {
     "data": {
      "text/plain": [
       "<keras.src.callbacks.History at 0x2bd9f211550>"
      ]
     },
     "execution_count": 28,
     "metadata": {},
     "output_type": "execute_result"
    }
   ],
   "source": [
    "gpt.fit(\n",
    "    train_ds,\n",
    "    epochs=EPOCHS,\n",
    "    callbacks=[model_checkpoint_callback, tensorboard_callback, text_generator],\n",
    ")"
   ]
  },
  {
   "cell_type": "code",
   "execution_count": 29,
   "id": "369bde44-2e39-4bc6-8549-a3a27ecce55c",
   "metadata": {
    "tags": []
   },
   "outputs": [
    {
     "name": "stdout",
     "output_type": "stream",
     "text": [
      "INFO:tensorflow:Assets written to: ./models/gpt\\assets\n"
     ]
    },
    {
     "name": "stderr",
     "output_type": "stream",
     "text": [
      "INFO:tensorflow:Assets written to: ./models/gpt\\assets\n"
     ]
    }
   ],
   "source": [
    "# Save the final model\n",
    "gpt.save(\"./models/gpt\")"
   ]
  },
  {
   "cell_type": "markdown",
   "id": "d64e02d2-84dc-40c8-8446-40c09adf1e20",
   "metadata": {},
   "source": [
    "# 3. Generate text using the Transformer"
   ]
  },
  {
   "cell_type": "code",
   "execution_count": 30,
   "id": "4ad23adb-3ec9-4e9a-9a59-b9f9bafca649",
   "metadata": {},
   "outputs": [],
   "source": [
    "def print_probs(info, vocab, top_k=5):\n",
    "    for i in info:\n",
    "        highlighted_text = []\n",
    "        for word, att_score in zip(\n",
    "            i[\"prompt\"].split(), np.mean(i[\"atts\"], axis=0)\n",
    "        ):\n",
    "            highlighted_text.append(\n",
    "                '<span style=\"background-color:rgba(135,206,250,'\n",
    "                + str(att_score / max(np.mean(i[\"atts\"], axis=0)))\n",
    "                + ');\">'\n",
    "                + word\n",
    "                + \"</span>\"\n",
    "            )\n",
    "        highlighted_text = \" \".join(highlighted_text)\n",
    "        display(HTML(highlighted_text))\n",
    "\n",
    "        word_probs = i[\"word_probs\"]\n",
    "        p_sorted = np.sort(word_probs)[::-1][:top_k]\n",
    "        i_sorted = np.argsort(word_probs)[::-1][:top_k]\n",
    "        for p, i in zip(p_sorted, i_sorted):\n",
    "            print(f\"{vocab[i]}:   \\t{np.round(100*p,2)}%\")\n",
    "        print(\"--------\\n\")"
   ]
  },
  {
   "cell_type": "code",
   "execution_count": 31,
   "id": "3cf25578-d47c-4b26-8252-fcdf2316a4ac",
   "metadata": {},
   "outputs": [
    {
     "name": "stdout",
     "output_type": "stream",
     "text": [
      "\n",
      "generated text:\n",
      "wine review : us : california : cabernet sauvignon : plum , earth , grilled meat and mint aromas are almost sweet , and it ' s not overly lush , like velvet , but it ' s near perfect for sipping an lusty wine . \n",
      "\n"
     ]
    }
   ],
   "source": [
    "info = text_generator.generate(\n",
    "    \"wine review : us\", max_tokens=80, temperature=1.0\n",
    ")"
   ]
  },
  {
   "cell_type": "code",
   "execution_count": 32,
   "id": "4ae2da8e-9b7c-4b71-b37b-021115b3d7ea",
   "metadata": {},
   "outputs": [
    {
     "name": "stdout",
     "output_type": "stream",
     "text": [
      "\n",
      "generated text:\n",
      "wine review : italy : piedmont : nebbiolo : aromas of underbrush , dark berry , toast , graphite and a balsamic note take shape in the glass . the full - bodied palate offers dried black cherry , prune , licorice and an earthy note of game alongside youthfully assertive tannins . drink through 2019 . \n",
      "\n"
     ]
    }
   ],
   "source": [
    "info = text_generator.generate(\n",
    "    \"wine review : italy\", max_tokens=80, temperature=0.5\n",
    ")"
   ]
  },
  {
   "cell_type": "code",
   "execution_count": 33,
   "id": "5cae6d5d-263d-4455-b96c-f315cbe284ee",
   "metadata": {},
   "outputs": [
    {
     "name": "stdout",
     "output_type": "stream",
     "text": [
      "\n",
      "generated text:\n",
      "wine review : germany : mosel : riesling : dusty mineral tones of stone fruit and minerals add a zesty spray of freshness to this dry , elegantly structured riesling . it ' s elegant and elegant , with delicate flavors of peach , lemon and lime , but it ' s a fresh , simple wine that should improve through 2020 . \n",
      "\n"
     ]
    },
    {
     "data": {
      "text/html": [
       "<span style=\"background-color:rgba(135,206,250,0.9656029);\">wine</span> <span style=\"background-color:rgba(135,206,250,1.0);\">review</span> <span style=\"background-color:rgba(135,206,250,0.48513404);\">:</span> <span style=\"background-color:rgba(135,206,250,0.2351443);\">germany</span>"
      ],
      "text/plain": [
       "<IPython.core.display.HTML object>"
      ]
     },
     "metadata": {},
     "output_type": "display_data"
    },
    {
     "name": "stdout",
     "output_type": "stream",
     "text": [
      "::   \t100.0%\n",
      "-:   \t0.0%\n",
      "grosso:   \t0.0%\n",
      "italy:   \t0.0%\n",
      "france:   \t0.0%\n",
      "--------\n",
      "\n"
     ]
    },
    {
     "data": {
      "text/html": [
       "<span style=\"background-color:rgba(135,206,250,0.3305615);\">wine</span> <span style=\"background-color:rgba(135,206,250,0.3294321);\">review</span> <span style=\"background-color:rgba(135,206,250,0.61378103);\">:</span> <span style=\"background-color:rgba(135,206,250,1.0);\">germany</span> <span style=\"background-color:rgba(135,206,250,0.31902608);\">:</span>"
      ],
      "text/plain": [
       "<IPython.core.display.HTML object>"
      ]
     },
     "metadata": {},
     "output_type": "display_data"
    },
    {
     "name": "stdout",
     "output_type": "stream",
     "text": [
      "mosel:   \t97.02%\n",
      "rheingau:   \t0.98%\n",
      "rheinhessen:   \t0.91%\n",
      "nahe:   \t0.64%\n",
      "pfalz:   \t0.19%\n",
      "--------\n",
      "\n"
     ]
    },
    {
     "data": {
      "text/html": [
       "<span style=\"background-color:rgba(135,206,250,0.70973444);\">wine</span> <span style=\"background-color:rgba(135,206,250,0.74334335);\">review</span> <span style=\"background-color:rgba(135,206,250,1.0);\">:</span> <span style=\"background-color:rgba(135,206,250,0.3747081);\">germany</span> <span style=\"background-color:rgba(135,206,250,0.6310327);\">:</span> <span style=\"background-color:rgba(135,206,250,0.3917133);\">mosel</span>"
      ],
      "text/plain": [
       "<IPython.core.display.HTML object>"
      ]
     },
     "metadata": {},
     "output_type": "display_data"
    },
    {
     "name": "stdout",
     "output_type": "stream",
     "text": [
      "::   \t99.9%\n",
      "-:   \t0.1%\n",
      "grosso:   \t0.0%\n",
      "valley:   \t0.0%\n",
      "[UNK]:   \t0.0%\n",
      "--------\n",
      "\n"
     ]
    },
    {
     "data": {
      "text/html": [
       "<span style=\"background-color:rgba(135,206,250,0.42402184);\">wine</span> <span style=\"background-color:rgba(135,206,250,0.37919277);\">review</span> <span style=\"background-color:rgba(135,206,250,0.42607912);\">:</span> <span style=\"background-color:rgba(135,206,250,0.8511446);\">germany</span> <span style=\"background-color:rgba(135,206,250,0.26907626);\">:</span> <span style=\"background-color:rgba(135,206,250,1.0);\">mosel</span> <span style=\"background-color:rgba(135,206,250,0.37063965);\">:</span>"
      ],
      "text/plain": [
       "<IPython.core.display.HTML object>"
      ]
     },
     "metadata": {},
     "output_type": "display_data"
    },
    {
     "name": "stdout",
     "output_type": "stream",
     "text": [
      "riesling:   \t99.91%\n",
      "pinot:   \t0.06%\n",
      "weissburgunder:   \t0.01%\n",
      "cabernet:   \t0.0%\n",
      "sparkling:   \t0.0%\n",
      "--------\n",
      "\n"
     ]
    },
    {
     "data": {
      "text/html": [
       "<span style=\"background-color:rgba(135,206,250,0.77237105);\">wine</span> <span style=\"background-color:rgba(135,206,250,1.0);\">review</span> <span style=\"background-color:rgba(135,206,250,0.43045476);\">:</span> <span style=\"background-color:rgba(135,206,250,0.24417573);\">germany</span> <span style=\"background-color:rgba(135,206,250,0.55851835);\">:</span> <span style=\"background-color:rgba(135,206,250,0.33329296);\">mosel</span> <span style=\"background-color:rgba(135,206,250,0.47930443);\">:</span> <span style=\"background-color:rgba(135,206,250,0.15304);\">riesling</span>"
      ],
      "text/plain": [
       "<IPython.core.display.HTML object>"
      ]
     },
     "metadata": {},
     "output_type": "display_data"
    },
    {
     "name": "stdout",
     "output_type": "stream",
     "text": [
      "::   \t100.0%\n",
      "-:   \t0.0%\n",
      "grosso:   \t0.0%\n",
      "blanc:   \t0.0%\n",
      "blend:   \t0.0%\n",
      "--------\n",
      "\n"
     ]
    },
    {
     "data": {
      "text/html": [
       "<span style=\"background-color:rgba(135,206,250,0.46957794);\">wine</span> <span style=\"background-color:rgba(135,206,250,0.5097304);\">review</span> <span style=\"background-color:rgba(135,206,250,0.46476176);\">:</span> <span style=\"background-color:rgba(135,206,250,1.0);\">germany</span> <span style=\"background-color:rgba(135,206,250,0.46554837);\">:</span> <span style=\"background-color:rgba(135,206,250,0.56173503);\">mosel</span> <span style=\"background-color:rgba(135,206,250,0.45943645);\">:</span> <span style=\"background-color:rgba(135,206,250,0.5458222);\">riesling</span> <span style=\"background-color:rgba(135,206,250,0.5258805);\">:</span>"
      ],
      "text/plain": [
       "<IPython.core.display.HTML object>"
      ]
     },
     "metadata": {},
     "output_type": "display_data"
    },
    {
     "name": "stdout",
     "output_type": "stream",
     "text": [
      "this:   \t18.12%\n",
      "a:   \t14.74%\n",
      "the:   \t10.07%\n",
      "dusty:   \t8.16%\n",
      "whiffs:   \t6.96%\n",
      "--------\n",
      "\n"
     ]
    },
    {
     "data": {
      "text/html": [
       "<span style=\"background-color:rgba(135,206,250,0.8814486);\">wine</span> <span style=\"background-color:rgba(135,206,250,1.0);\">review</span> <span style=\"background-color:rgba(135,206,250,0.3946537);\">:</span> <span style=\"background-color:rgba(135,206,250,0.42780608);\">germany</span> <span style=\"background-color:rgba(135,206,250,0.4892917);\">:</span> <span style=\"background-color:rgba(135,206,250,0.3572446);\">mosel</span> <span style=\"background-color:rgba(135,206,250,0.29548523);\">:</span> <span style=\"background-color:rgba(135,206,250,0.42449266);\">riesling</span> <span style=\"background-color:rgba(135,206,250,0.48287916);\">:</span> <span style=\"background-color:rgba(135,206,250,0.3867798);\">dusty</span>"
      ],
      "text/plain": [
       "<IPython.core.display.HTML object>"
      ]
     },
     "metadata": {},
     "output_type": "display_data"
    },
    {
     "name": "stdout",
     "output_type": "stream",
     "text": [
      "mineral:   \t74.18%\n",
      "minerals:   \t23.65%\n",
      "pollen:   \t0.81%\n",
      "earth:   \t0.32%\n",
      ",:   \t0.21%\n",
      "--------\n",
      "\n"
     ]
    },
    {
     "data": {
      "text/html": [
       "<span style=\"background-color:rgba(135,206,250,0.72089756);\">wine</span> <span style=\"background-color:rgba(135,206,250,1.0);\">review</span> <span style=\"background-color:rgba(135,206,250,0.2643922);\">:</span> <span style=\"background-color:rgba(135,206,250,0.27527425);\">germany</span> <span style=\"background-color:rgba(135,206,250,0.43509787);\">:</span> <span style=\"background-color:rgba(135,206,250,0.172463);\">mosel</span> <span style=\"background-color:rgba(135,206,250,0.22264482);\">:</span> <span style=\"background-color:rgba(135,206,250,0.15335587);\">riesling</span> <span style=\"background-color:rgba(135,206,250,0.4330995);\">:</span> <span style=\"background-color:rgba(135,206,250,0.5076583);\">dusty</span> <span style=\"background-color:rgba(135,206,250,0.23411985);\">mineral</span>"
      ],
      "text/plain": [
       "<IPython.core.display.HTML object>"
      ]
     },
     "metadata": {},
     "output_type": "display_data"
    },
    {
     "name": "stdout",
     "output_type": "stream",
     "text": [
      "tones:   \t44.52%\n",
      "and:   \t42.33%\n",
      "notes:   \t8.88%\n",
      ",:   \t3.88%\n",
      "-:   \t0.21%\n",
      "--------\n",
      "\n"
     ]
    },
    {
     "data": {
      "text/html": [
       "<span style=\"background-color:rgba(135,206,250,0.46553785);\">wine</span> <span style=\"background-color:rgba(135,206,250,1.0);\">review</span> <span style=\"background-color:rgba(135,206,250,0.3258408);\">:</span> <span style=\"background-color:rgba(135,206,250,0.26604977);\">germany</span> <span style=\"background-color:rgba(135,206,250,0.3654429);\">:</span> <span style=\"background-color:rgba(135,206,250,0.18656166);\">mosel</span> <span style=\"background-color:rgba(135,206,250,0.19233361);\">:</span> <span style=\"background-color:rgba(135,206,250,0.13565615);\">riesling</span> <span style=\"background-color:rgba(135,206,250,0.36154622);\">:</span> <span style=\"background-color:rgba(135,206,250,0.31309992);\">dusty</span> <span style=\"background-color:rgba(135,206,250,0.47362447);\">mineral</span> <span style=\"background-color:rgba(135,206,250,0.264542);\">tones</span>"
      ],
      "text/plain": [
       "<IPython.core.display.HTML object>"
      ]
     },
     "metadata": {},
     "output_type": "display_data"
    },
    {
     "name": "stdout",
     "output_type": "stream",
     "text": [
      "of:   \t45.55%\n",
      "lend:   \t13.62%\n",
      "on:   \t6.67%\n",
      "persist:   \t6.64%\n",
      "and:   \t6.22%\n",
      "--------\n",
      "\n"
     ]
    },
    {
     "data": {
      "text/html": [
       "<span style=\"background-color:rgba(135,206,250,0.3892581);\">wine</span> <span style=\"background-color:rgba(135,206,250,0.47418237);\">review</span> <span style=\"background-color:rgba(135,206,250,0.35889012);\">:</span> <span style=\"background-color:rgba(135,206,250,0.49288344);\">germany</span> <span style=\"background-color:rgba(135,206,250,0.21963045);\">:</span> <span style=\"background-color:rgba(135,206,250,0.45721442);\">mosel</span> <span style=\"background-color:rgba(135,206,250,0.2263709);\">:</span> <span style=\"background-color:rgba(135,206,250,0.49632338);\">riesling</span> <span style=\"background-color:rgba(135,206,250,0.30167544);\">:</span> <span style=\"background-color:rgba(135,206,250,0.8453425);\">dusty</span> <span style=\"background-color:rgba(135,206,250,1.0);\">mineral</span> <span style=\"background-color:rgba(135,206,250,0.88730156);\">tones</span> <span style=\"background-color:rgba(135,206,250,0.2703365);\">of</span>"
      ],
      "text/plain": [
       "<IPython.core.display.HTML object>"
      ]
     },
     "metadata": {},
     "output_type": "display_data"
    },
    {
     "name": "stdout",
     "output_type": "stream",
     "text": [
      "saffron:   \t36.11%\n",
      "slate:   \t21.29%\n",
      "stone:   \t17.24%\n",
      "pollen:   \t14.72%\n",
      "smoke:   \t2.36%\n",
      "--------\n",
      "\n"
     ]
    },
    {
     "data": {
      "text/html": [
       "<span style=\"background-color:rgba(135,206,250,0.7759194);\">wine</span> <span style=\"background-color:rgba(135,206,250,1.0);\">review</span> <span style=\"background-color:rgba(135,206,250,0.32699236);\">:</span> <span style=\"background-color:rgba(135,206,250,0.36876735);\">germany</span> <span style=\"background-color:rgba(135,206,250,0.5242373);\">:</span> <span style=\"background-color:rgba(135,206,250,0.21636355);\">mosel</span> <span style=\"background-color:rgba(135,206,250,0.2593912);\">:</span> <span style=\"background-color:rgba(135,206,250,0.17756929);\">riesling</span> <span style=\"background-color:rgba(135,206,250,0.35695836);\">:</span> <span style=\"background-color:rgba(135,206,250,0.3028317);\">dusty</span> <span style=\"background-color:rgba(135,206,250,0.2397014);\">mineral</span> <span style=\"background-color:rgba(135,206,250,0.61190146);\">tones</span> <span style=\"background-color:rgba(135,206,250,0.74716353);\">of</span> <span style=\"background-color:rgba(135,206,250,0.3163719);\">stone</span>"
      ],
      "text/plain": [
       "<IPython.core.display.HTML object>"
      ]
     },
     "metadata": {},
     "output_type": "display_data"
    },
    {
     "name": "stdout",
     "output_type": "stream",
     "text": [
      "fruit:   \t87.5%\n",
      "and:   \t10.27%\n",
      "fruits:   \t1.65%\n",
      "-:   \t0.47%\n",
      ",:   \t0.1%\n",
      "--------\n",
      "\n"
     ]
    },
    {
     "data": {
      "text/html": [
       "<span style=\"background-color:rgba(135,206,250,0.46139458);\">wine</span> <span style=\"background-color:rgba(135,206,250,1.0);\">review</span> <span style=\"background-color:rgba(135,206,250,0.30826372);\">:</span> <span style=\"background-color:rgba(135,206,250,0.3374718);\">germany</span> <span style=\"background-color:rgba(135,206,250,0.3416237);\">:</span> <span style=\"background-color:rgba(135,206,250,0.22774749);\">mosel</span> <span style=\"background-color:rgba(135,206,250,0.17661995);\">:</span> <span style=\"background-color:rgba(135,206,250,0.13551323);\">riesling</span> <span style=\"background-color:rgba(135,206,250,0.3122196);\">:</span> <span style=\"background-color:rgba(135,206,250,0.21994773);\">dusty</span> <span style=\"background-color:rgba(135,206,250,0.2110151);\">mineral</span> <span style=\"background-color:rgba(135,206,250,0.90228736);\">tones</span> <span style=\"background-color:rgba(135,206,250,0.7009324);\">of</span> <span style=\"background-color:rgba(135,206,250,0.57247156);\">stone</span> <span style=\"background-color:rgba(135,206,250,0.3309292);\">fruit</span>"
      ],
      "text/plain": [
       "<IPython.core.display.HTML object>"
      ]
     },
     "metadata": {},
     "output_type": "display_data"
    },
    {
     "name": "stdout",
     "output_type": "stream",
     "text": [
      "and:   \t97.41%\n",
      ",:   \t2.33%\n",
      "lend:   \t0.12%\n",
      "are:   \t0.03%\n",
      "on:   \t0.02%\n",
      "--------\n",
      "\n"
     ]
    },
    {
     "data": {
      "text/html": [
       "<span style=\"background-color:rgba(135,206,250,0.20557332);\">wine</span> <span style=\"background-color:rgba(135,206,250,0.2843514);\">review</span> <span style=\"background-color:rgba(135,206,250,0.26645565);\">:</span> <span style=\"background-color:rgba(135,206,250,0.2966454);\">germany</span> <span style=\"background-color:rgba(135,206,250,0.13314228);\">:</span> <span style=\"background-color:rgba(135,206,250,0.26188388);\">mosel</span> <span style=\"background-color:rgba(135,206,250,0.113280855);\">:</span> <span style=\"background-color:rgba(135,206,250,0.29481706);\">riesling</span> <span style=\"background-color:rgba(135,206,250,0.16335447);\">:</span> <span style=\"background-color:rgba(135,206,250,0.22956187);\">dusty</span> <span style=\"background-color:rgba(135,206,250,0.28057137);\">mineral</span> <span style=\"background-color:rgba(135,206,250,0.36090863);\">tones</span> <span style=\"background-color:rgba(135,206,250,0.29036817);\">of</span> <span style=\"background-color:rgba(135,206,250,0.63801664);\">stone</span> <span style=\"background-color:rgba(135,206,250,1.0);\">fruit</span> <span style=\"background-color:rgba(135,206,250,0.2510283);\">and</span>"
      ],
      "text/plain": [
       "<IPython.core.display.HTML object>"
      ]
     },
     "metadata": {},
     "output_type": "display_data"
    },
    {
     "name": "stdout",
     "output_type": "stream",
     "text": [
      "honey:   \t20.3%\n",
      "slate:   \t15.21%\n",
      "citrus:   \t12.26%\n",
      "mineral:   \t9.69%\n",
      "earth:   \t5.09%\n",
      "--------\n",
      "\n"
     ]
    },
    {
     "data": {
      "text/html": [
       "<span style=\"background-color:rgba(135,206,250,0.42603102);\">wine</span> <span style=\"background-color:rgba(135,206,250,1.0);\">review</span> <span style=\"background-color:rgba(135,206,250,0.17300624);\">:</span> <span style=\"background-color:rgba(135,206,250,0.25986078);\">germany</span> <span style=\"background-color:rgba(135,206,250,0.28061503);\">:</span> <span style=\"background-color:rgba(135,206,250,0.12738466);\">mosel</span> <span style=\"background-color:rgba(135,206,250,0.1364536);\">:</span> <span style=\"background-color:rgba(135,206,250,0.10349871);\">riesling</span> <span style=\"background-color:rgba(135,206,250,0.20688379);\">:</span> <span style=\"background-color:rgba(135,206,250,0.06876387);\">dusty</span> <span style=\"background-color:rgba(135,206,250,0.06476644);\">mineral</span> <span style=\"background-color:rgba(135,206,250,0.26777336);\">tones</span> <span style=\"background-color:rgba(135,206,250,0.2004303);\">of</span> <span style=\"background-color:rgba(135,206,250,0.08467096);\">stone</span> <span style=\"background-color:rgba(135,206,250,0.1844696);\">fruit</span> <span style=\"background-color:rgba(135,206,250,0.3948975);\">and</span> <span style=\"background-color:rgba(135,206,250,0.28238702);\">minerals</span>"
      ],
      "text/plain": [
       "<IPython.core.display.HTML object>"
      ]
     },
     "metadata": {},
     "output_type": "display_data"
    },
    {
     "name": "stdout",
     "output_type": "stream",
     "text": [
      "lend:   \t78.78%\n",
      "add:   \t14.57%\n",
      "in:   \t1.31%\n",
      "abound:   \t0.85%\n",
      "give:   \t0.71%\n",
      "--------\n",
      "\n"
     ]
    },
    {
     "data": {
      "text/html": [
       "<span style=\"background-color:rgba(135,206,250,0.59178704);\">wine</span> <span style=\"background-color:rgba(135,206,250,1.0);\">review</span> <span style=\"background-color:rgba(135,206,250,0.4214866);\">:</span> <span style=\"background-color:rgba(135,206,250,0.39998183);\">germany</span> <span style=\"background-color:rgba(135,206,250,0.7093123);\">:</span> <span style=\"background-color:rgba(135,206,250,0.43766174);\">mosel</span> <span style=\"background-color:rgba(135,206,250,0.26948652);\">:</span> <span style=\"background-color:rgba(135,206,250,0.25719425);\">riesling</span> <span style=\"background-color:rgba(135,206,250,0.324093);\">:</span> <span style=\"background-color:rgba(135,206,250,0.20583923);\">dusty</span> <span style=\"background-color:rgba(135,206,250,0.21945438);\">mineral</span> <span style=\"background-color:rgba(135,206,250,0.3538252);\">tones</span> <span style=\"background-color:rgba(135,206,250,0.21959779);\">of</span> <span style=\"background-color:rgba(135,206,250,0.15654273);\">stone</span> <span style=\"background-color:rgba(135,206,250,0.2879809);\">fruit</span> <span style=\"background-color:rgba(135,206,250,0.3271809);\">and</span> <span style=\"background-color:rgba(135,206,250,0.60493165);\">minerals</span> <span style=\"background-color:rgba(135,206,250,0.43738723);\">add</span>"
      ],
      "text/plain": [
       "<IPython.core.display.HTML object>"
      ]
     },
     "metadata": {},
     "output_type": "display_data"
    },
    {
     "name": "stdout",
     "output_type": "stream",
     "text": [
      "complexity:   \t69.86%\n",
      "a:   \t17.47%\n",
      "depth:   \t6.25%\n",
      "interest:   \t0.98%\n",
      "lift:   \t0.92%\n",
      "--------\n",
      "\n"
     ]
    },
    {
     "data": {
      "text/html": [
       "<span style=\"background-color:rgba(135,206,250,0.15638183);\">wine</span> <span style=\"background-color:rgba(135,206,250,0.2339875);\">review</span> <span style=\"background-color:rgba(135,206,250,0.18258627);\">:</span> <span style=\"background-color:rgba(135,206,250,0.26103973);\">germany</span> <span style=\"background-color:rgba(135,206,250,0.09015188);\">:</span> <span style=\"background-color:rgba(135,206,250,0.21029596);\">mosel</span> <span style=\"background-color:rgba(135,206,250,0.07902172);\">:</span> <span style=\"background-color:rgba(135,206,250,0.20837459);\">riesling</span> <span style=\"background-color:rgba(135,206,250,0.11851525);\">:</span> <span style=\"background-color:rgba(135,206,250,0.15132125);\">dusty</span> <span style=\"background-color:rgba(135,206,250,0.1477937);\">mineral</span> <span style=\"background-color:rgba(135,206,250,0.17626356);\">tones</span> <span style=\"background-color:rgba(135,206,250,0.10531325);\">of</span> <span style=\"background-color:rgba(135,206,250,0.09364989);\">stone</span> <span style=\"background-color:rgba(135,206,250,0.15693715);\">fruit</span> <span style=\"background-color:rgba(135,206,250,0.16783196);\">and</span> <span style=\"background-color:rgba(135,206,250,0.42677772);\">minerals</span> <span style=\"background-color:rgba(135,206,250,1.0);\">add</span> <span style=\"background-color:rgba(135,206,250,0.14017074);\">a</span>"
      ],
      "text/plain": [
       "<IPython.core.display.HTML object>"
      ]
     },
     "metadata": {},
     "output_type": "display_data"
    },
    {
     "name": "stdout",
     "output_type": "stream",
     "text": [
      "savory:   \t88.99%\n",
      "touch:   \t1.38%\n",
      "rich:   \t1.11%\n",
      "fresh:   \t0.68%\n",
      "sense:   \t0.56%\n",
      "--------\n",
      "\n"
     ]
    },
    {
     "data": {
      "text/html": [
       "<span style=\"background-color:rgba(135,206,250,0.26957503);\">wine</span> <span style=\"background-color:rgba(135,206,250,0.46419615);\">review</span> <span style=\"background-color:rgba(135,206,250,0.1937406);\">:</span> <span style=\"background-color:rgba(135,206,250,0.34496298);\">germany</span> <span style=\"background-color:rgba(135,206,250,0.13388549);\">:</span> <span style=\"background-color:rgba(135,206,250,0.24319014);\">mosel</span> <span style=\"background-color:rgba(135,206,250,0.14420281);\">:</span> <span style=\"background-color:rgba(135,206,250,0.33282453);\">riesling</span> <span style=\"background-color:rgba(135,206,250,0.17497417);\">:</span> <span style=\"background-color:rgba(135,206,250,0.062352214);\">dusty</span> <span style=\"background-color:rgba(135,206,250,0.09581768);\">mineral</span> <span style=\"background-color:rgba(135,206,250,0.18637101);\">tones</span> <span style=\"background-color:rgba(135,206,250,0.13776293);\">of</span> <span style=\"background-color:rgba(135,206,250,0.10035328);\">stone</span> <span style=\"background-color:rgba(135,206,250,0.249305);\">fruit</span> <span style=\"background-color:rgba(135,206,250,0.16605361);\">and</span> <span style=\"background-color:rgba(135,206,250,0.3241822);\">minerals</span> <span style=\"background-color:rgba(135,206,250,1.0);\">add</span> <span style=\"background-color:rgba(135,206,250,0.62254226);\">a</span> <span style=\"background-color:rgba(135,206,250,0.19688371);\">zesty</span>"
      ],
      "text/plain": [
       "<IPython.core.display.HTML object>"
      ]
     },
     "metadata": {},
     "output_type": "display_data"
    },
    {
     "name": "stdout",
     "output_type": "stream",
     "text": [
      ",:   \t85.53%\n",
      "edge:   \t3.25%\n",
      "tone:   \t2.68%\n",
      "quality:   \t1.16%\n",
      "spray:   \t1.12%\n",
      "--------\n",
      "\n"
     ]
    },
    {
     "data": {
      "text/html": [
       "<span style=\"background-color:rgba(135,206,250,0.40067324);\">wine</span> <span style=\"background-color:rgba(135,206,250,0.9031242);\">review</span> <span style=\"background-color:rgba(135,206,250,0.2743678);\">:</span> <span style=\"background-color:rgba(135,206,250,0.19345087);\">germany</span> <span style=\"background-color:rgba(135,206,250,0.30781263);\">:</span> <span style=\"background-color:rgba(135,206,250,0.19371341);\">mosel</span> <span style=\"background-color:rgba(135,206,250,0.17366338);\">:</span> <span style=\"background-color:rgba(135,206,250,0.14781965);\">riesling</span> <span style=\"background-color:rgba(135,206,250,0.24427246);\">:</span> <span style=\"background-color:rgba(135,206,250,0.07183111);\">dusty</span> <span style=\"background-color:rgba(135,206,250,0.08039363);\">mineral</span> <span style=\"background-color:rgba(135,206,250,0.16510923);\">tones</span> <span style=\"background-color:rgba(135,206,250,0.18194148);\">of</span> <span style=\"background-color:rgba(135,206,250,0.10350982);\">stone</span> <span style=\"background-color:rgba(135,206,250,0.1324335);\">fruit</span> <span style=\"background-color:rgba(135,206,250,0.16976713);\">and</span> <span style=\"background-color:rgba(135,206,250,0.18440047);\">minerals</span> <span style=\"background-color:rgba(135,206,250,1.0);\">add</span> <span style=\"background-color:rgba(135,206,250,0.6735758);\">a</span> <span style=\"background-color:rgba(135,206,250,0.57886106);\">zesty</span> <span style=\"background-color:rgba(135,206,250,0.19543964);\">spray</span>"
      ],
      "text/plain": [
       "<IPython.core.display.HTML object>"
      ]
     },
     "metadata": {},
     "output_type": "display_data"
    },
    {
     "name": "stdout",
     "output_type": "stream",
     "text": [
      "of:   \t99.95%\n",
      "to:   \t0.03%\n",
      "that:   \t0.01%\n",
      "profile:   \t0.0%\n",
      "and:   \t0.0%\n",
      "--------\n",
      "\n"
     ]
    },
    {
     "data": {
      "text/html": [
       "<span style=\"background-color:rgba(135,206,250,0.17356494);\">wine</span> <span style=\"background-color:rgba(135,206,250,0.2620674);\">review</span> <span style=\"background-color:rgba(135,206,250,0.22940427);\">:</span> <span style=\"background-color:rgba(135,206,250,0.43680832);\">germany</span> <span style=\"background-color:rgba(135,206,250,0.117756225);\">:</span> <span style=\"background-color:rgba(135,206,250,0.31181073);\">mosel</span> <span style=\"background-color:rgba(135,206,250,0.14522801);\">:</span> <span style=\"background-color:rgba(135,206,250,0.43268335);\">riesling</span> <span style=\"background-color:rgba(135,206,250,0.1527861);\">:</span> <span style=\"background-color:rgba(135,206,250,0.16555281);\">dusty</span> <span style=\"background-color:rgba(135,206,250,0.26783076);\">mineral</span> <span style=\"background-color:rgba(135,206,250,0.16080767);\">tones</span> <span style=\"background-color:rgba(135,206,250,0.05279929);\">of</span> <span style=\"background-color:rgba(135,206,250,0.14982541);\">stone</span> <span style=\"background-color:rgba(135,206,250,0.16877404);\">fruit</span> <span style=\"background-color:rgba(135,206,250,0.109716415);\">and</span> <span style=\"background-color:rgba(135,206,250,0.24744654);\">minerals</span> <span style=\"background-color:rgba(135,206,250,1.0);\">add</span> <span style=\"background-color:rgba(135,206,250,0.2768271);\">a</span> <span style=\"background-color:rgba(135,206,250,0.9255492);\">zesty</span> <span style=\"background-color:rgba(135,206,250,0.9220057);\">spray</span> <span style=\"background-color:rgba(135,206,250,0.20999497);\">of</span>"
      ],
      "text/plain": [
       "<IPython.core.display.HTML object>"
      ]
     },
     "metadata": {},
     "output_type": "display_data"
    },
    {
     "name": "stdout",
     "output_type": "stream",
     "text": [
      "lemon:   \t44.55%\n",
      "lime:   \t14.12%\n",
      "fresh:   \t13.58%\n",
      "tangerine:   \t5.63%\n",
      "minerality:   \t4.07%\n",
      "--------\n",
      "\n"
     ]
    },
    {
     "data": {
      "text/html": [
       "<span style=\"background-color:rgba(135,206,250,0.38000688);\">wine</span> <span style=\"background-color:rgba(135,206,250,0.98870766);\">review</span> <span style=\"background-color:rgba(135,206,250,0.37330127);\">:</span> <span style=\"background-color:rgba(135,206,250,0.42161912);\">germany</span> <span style=\"background-color:rgba(135,206,250,0.40090832);\">:</span> <span style=\"background-color:rgba(135,206,250,0.26861858);\">mosel</span> <span style=\"background-color:rgba(135,206,250,0.21984646);\">:</span> <span style=\"background-color:rgba(135,206,250,0.19058214);\">riesling</span> <span style=\"background-color:rgba(135,206,250,0.27805412);\">:</span> <span style=\"background-color:rgba(135,206,250,0.06304932);\">dusty</span> <span style=\"background-color:rgba(135,206,250,0.09792825);\">mineral</span> <span style=\"background-color:rgba(135,206,250,0.2150607);\">tones</span> <span style=\"background-color:rgba(135,206,250,0.15290903);\">of</span> <span style=\"background-color:rgba(135,206,250,0.10312763);\">stone</span> <span style=\"background-color:rgba(135,206,250,0.13049868);\">fruit</span> <span style=\"background-color:rgba(135,206,250,0.17412826);\">and</span> <span style=\"background-color:rgba(135,206,250,0.14097945);\">minerals</span> <span style=\"background-color:rgba(135,206,250,1.0);\">add</span> <span style=\"background-color:rgba(135,206,250,0.40269768);\">a</span> <span style=\"background-color:rgba(135,206,250,0.34427112);\">zesty</span> <span style=\"background-color:rgba(135,206,250,0.39419758);\">spray</span> <span style=\"background-color:rgba(135,206,250,0.67698556);\">of</span> <span style=\"background-color:rgba(135,206,250,0.46789545);\">freshness</span>"
      ],
      "text/plain": [
       "<IPython.core.display.HTML object>"
      ]
     },
     "metadata": {},
     "output_type": "display_data"
    },
    {
     "name": "stdout",
     "output_type": "stream",
     "text": [
      "to:   \t91.22%\n",
      "on:   \t7.06%\n",
      "and:   \t0.73%\n",
      "in:   \t0.67%\n",
      ".:   \t0.29%\n",
      "--------\n",
      "\n"
     ]
    },
    {
     "data": {
      "text/html": [
       "<span style=\"background-color:rgba(135,206,250,0.3028713);\">wine</span> <span style=\"background-color:rgba(135,206,250,0.44928694);\">review</span> <span style=\"background-color:rgba(135,206,250,0.35513633);\">:</span> <span style=\"background-color:rgba(135,206,250,0.38520014);\">germany</span> <span style=\"background-color:rgba(135,206,250,0.2656998);\">:</span> <span style=\"background-color:rgba(135,206,250,0.36866367);\">mosel</span> <span style=\"background-color:rgba(135,206,250,0.16813684);\">:</span> <span style=\"background-color:rgba(135,206,250,0.30898434);\">riesling</span> <span style=\"background-color:rgba(135,206,250,0.17383984);\">:</span> <span style=\"background-color:rgba(135,206,250,0.07841533);\">dusty</span> <span style=\"background-color:rgba(135,206,250,0.11628101);\">mineral</span> <span style=\"background-color:rgba(135,206,250,0.13885139);\">tones</span> <span style=\"background-color:rgba(135,206,250,0.07638385);\">of</span> <span style=\"background-color:rgba(135,206,250,0.06584651);\">stone</span> <span style=\"background-color:rgba(135,206,250,0.10412851);\">fruit</span> <span style=\"background-color:rgba(135,206,250,0.07483676);\">and</span> <span style=\"background-color:rgba(135,206,250,0.14840403);\">minerals</span> <span style=\"background-color:rgba(135,206,250,0.56203574);\">add</span> <span style=\"background-color:rgba(135,206,250,0.17977625);\">a</span> <span style=\"background-color:rgba(135,206,250,0.25782606);\">zesty</span> <span style=\"background-color:rgba(135,206,250,0.26888824);\">spray</span> <span style=\"background-color:rgba(135,206,250,0.29651654);\">of</span> <span style=\"background-color:rgba(135,206,250,1.0);\">freshness</span> <span style=\"background-color:rgba(135,206,250,0.1874252);\">to</span>"
      ],
      "text/plain": [
       "<IPython.core.display.HTML object>"
      ]
     },
     "metadata": {},
     "output_type": "display_data"
    },
    {
     "name": "stdout",
     "output_type": "stream",
     "text": [
      "this:   \t98.07%\n",
      "the:   \t1.88%\n",
      "pristine:   \t0.04%\n",
      "it:   \t0.0%\n",
      "fresh:   \t0.0%\n",
      "--------\n",
      "\n"
     ]
    },
    {
     "data": {
      "text/html": [
       "<span style=\"background-color:rgba(135,206,250,0.38514927);\">wine</span> <span style=\"background-color:rgba(135,206,250,0.5993967);\">review</span> <span style=\"background-color:rgba(135,206,250,0.92711824);\">:</span> <span style=\"background-color:rgba(135,206,250,0.81066877);\">germany</span> <span style=\"background-color:rgba(135,206,250,0.33876744);\">:</span> <span style=\"background-color:rgba(135,206,250,0.96516407);\">mosel</span> <span style=\"background-color:rgba(135,206,250,0.41292053);\">:</span> <span style=\"background-color:rgba(135,206,250,0.87258047);\">riesling</span> <span style=\"background-color:rgba(135,206,250,0.34305328);\">:</span> <span style=\"background-color:rgba(135,206,250,0.2520706);\">dusty</span> <span style=\"background-color:rgba(135,206,250,0.25441054);\">mineral</span> <span style=\"background-color:rgba(135,206,250,0.26501688);\">tones</span> <span style=\"background-color:rgba(135,206,250,0.102122135);\">of</span> <span style=\"background-color:rgba(135,206,250,0.17262855);\">stone</span> <span style=\"background-color:rgba(135,206,250,0.19263068);\">fruit</span> <span style=\"background-color:rgba(135,206,250,0.10468688);\">and</span> <span style=\"background-color:rgba(135,206,250,0.18499406);\">minerals</span> <span style=\"background-color:rgba(135,206,250,0.30926248);\">add</span> <span style=\"background-color:rgba(135,206,250,0.15183744);\">a</span> <span style=\"background-color:rgba(135,206,250,0.42380813);\">zesty</span> <span style=\"background-color:rgba(135,206,250,0.27668208);\">spray</span> <span style=\"background-color:rgba(135,206,250,0.41957217);\">of</span> <span style=\"background-color:rgba(135,206,250,1.0);\">freshness</span> <span style=\"background-color:rgba(135,206,250,0.8666695);\">to</span> <span style=\"background-color:rgba(135,206,250,0.6603564);\">this</span>"
      ],
      "text/plain": [
       "<IPython.core.display.HTML object>"
      ]
     },
     "metadata": {},
     "output_type": "display_data"
    },
    {
     "name": "stdout",
     "output_type": "stream",
     "text": [
      "dry:   \t70.64%\n",
      "off:   \t7.35%\n",
      "wine:   \t6.99%\n",
      "otherwise:   \t2.25%\n",
      "zesty:   \t1.98%\n",
      "--------\n",
      "\n"
     ]
    },
    {
     "data": {
      "text/html": [
       "<span style=\"background-color:rgba(135,206,250,0.13370147);\">wine</span> <span style=\"background-color:rgba(135,206,250,0.2029273);\">review</span> <span style=\"background-color:rgba(135,206,250,0.16470607);\">:</span> <span style=\"background-color:rgba(135,206,250,0.20400023);\">germany</span> <span style=\"background-color:rgba(135,206,250,0.088847935);\">:</span> <span style=\"background-color:rgba(135,206,250,0.20978414);\">mosel</span> <span style=\"background-color:rgba(135,206,250,0.098730735);\">:</span> <span style=\"background-color:rgba(135,206,250,0.35291332);\">riesling</span> <span style=\"background-color:rgba(135,206,250,0.12385457);\">:</span> <span style=\"background-color:rgba(135,206,250,0.067302115);\">dusty</span> <span style=\"background-color:rgba(135,206,250,0.078280054);\">mineral</span> <span style=\"background-color:rgba(135,206,250,0.106172346);\">tones</span> <span style=\"background-color:rgba(135,206,250,0.06025634);\">of</span> <span style=\"background-color:rgba(135,206,250,0.06497611);\">stone</span> <span style=\"background-color:rgba(135,206,250,0.0840522);\">fruit</span> <span style=\"background-color:rgba(135,206,250,0.054567054);\">and</span> <span style=\"background-color:rgba(135,206,250,0.07200769);\">minerals</span> <span style=\"background-color:rgba(135,206,250,0.15350322);\">add</span> <span style=\"background-color:rgba(135,206,250,0.08097766);\">a</span> <span style=\"background-color:rgba(135,206,250,0.08725905);\">zesty</span> <span style=\"background-color:rgba(135,206,250,0.19799362);\">spray</span> <span style=\"background-color:rgba(135,206,250,0.24399368);\">of</span> <span style=\"background-color:rgba(135,206,250,0.35365894);\">freshness</span> <span style=\"background-color:rgba(135,206,250,0.4636494);\">to</span> <span style=\"background-color:rgba(135,206,250,1.0);\">this</span> <span style=\"background-color:rgba(135,206,250,0.19794275);\">dry</span>"
      ],
      "text/plain": [
       "<IPython.core.display.HTML object>"
      ]
     },
     "metadata": {},
     "output_type": "display_data"
    },
    {
     "name": "stdout",
     "output_type": "stream",
     "text": [
      ",:   \t77.12%\n",
      "riesling:   \t22.54%\n",
      "wine:   \t0.15%\n",
      "and:   \t0.05%\n",
      "but:   \t0.04%\n",
      "--------\n",
      "\n"
     ]
    },
    {
     "data": {
      "text/html": [
       "<span style=\"background-color:rgba(135,206,250,0.11847668);\">wine</span> <span style=\"background-color:rgba(135,206,250,0.23355578);\">review</span> <span style=\"background-color:rgba(135,206,250,0.30679527);\">:</span> <span style=\"background-color:rgba(135,206,250,0.33624947);\">germany</span> <span style=\"background-color:rgba(135,206,250,0.11142551);\">:</span> <span style=\"background-color:rgba(135,206,250,0.22106694);\">mosel</span> <span style=\"background-color:rgba(135,206,250,0.12025381);\">:</span> <span style=\"background-color:rgba(135,206,250,0.30482292);\">riesling</span> <span style=\"background-color:rgba(135,206,250,0.14082868);\">:</span> <span style=\"background-color:rgba(135,206,250,0.103394456);\">dusty</span> <span style=\"background-color:rgba(135,206,250,0.12732561);\">mineral</span> <span style=\"background-color:rgba(135,206,250,0.13555126);\">tones</span> <span style=\"background-color:rgba(135,206,250,0.06412836);\">of</span> <span style=\"background-color:rgba(135,206,250,0.08174386);\">stone</span> <span style=\"background-color:rgba(135,206,250,0.09338392);\">fruit</span> <span style=\"background-color:rgba(135,206,250,0.08020476);\">and</span> <span style=\"background-color:rgba(135,206,250,0.10772723);\">minerals</span> <span style=\"background-color:rgba(135,206,250,0.27031538);\">add</span> <span style=\"background-color:rgba(135,206,250,0.08437631);\">a</span> <span style=\"background-color:rgba(135,206,250,0.2065577);\">zesty</span> <span style=\"background-color:rgba(135,206,250,0.19736475);\">spray</span> <span style=\"background-color:rgba(135,206,250,0.19271176);\">of</span> <span style=\"background-color:rgba(135,206,250,0.48052713);\">freshness</span> <span style=\"background-color:rgba(135,206,250,0.39283815);\">to</span> <span style=\"background-color:rgba(135,206,250,0.85019964);\">this</span> <span style=\"background-color:rgba(135,206,250,1.0);\">dry</span> <span style=\"background-color:rgba(135,206,250,0.38746527);\">,</span>"
      ],
      "text/plain": [
       "<IPython.core.display.HTML object>"
      ]
     },
     "metadata": {},
     "output_type": "display_data"
    },
    {
     "name": "stdout",
     "output_type": "stream",
     "text": [
      "medium:   \t84.34%\n",
      "elegantly:   \t4.36%\n",
      "dry:   \t1.67%\n",
      "full:   \t1.3%\n",
      "light:   \t0.87%\n",
      "--------\n",
      "\n"
     ]
    },
    {
     "data": {
      "text/html": [
       "<span style=\"background-color:rgba(135,206,250,0.40279445);\">wine</span> <span style=\"background-color:rgba(135,206,250,0.59516627);\">review</span> <span style=\"background-color:rgba(135,206,250,1.0);\">:</span> <span style=\"background-color:rgba(135,206,250,0.5534122);\">germany</span> <span style=\"background-color:rgba(135,206,250,0.5113109);\">:</span> <span style=\"background-color:rgba(135,206,250,0.66293985);\">mosel</span> <span style=\"background-color:rgba(135,206,250,0.5233468);\">:</span> <span style=\"background-color:rgba(135,206,250,0.5304992);\">riesling</span> <span style=\"background-color:rgba(135,206,250,0.3489679);\">:</span> <span style=\"background-color:rgba(135,206,250,0.09656261);\">dusty</span> <span style=\"background-color:rgba(135,206,250,0.14673163);\">mineral</span> <span style=\"background-color:rgba(135,206,250,0.14652944);\">tones</span> <span style=\"background-color:rgba(135,206,250,0.13650395);\">of</span> <span style=\"background-color:rgba(135,206,250,0.08417027);\">stone</span> <span style=\"background-color:rgba(135,206,250,0.14688593);\">fruit</span> <span style=\"background-color:rgba(135,206,250,0.11295631);\">and</span> <span style=\"background-color:rgba(135,206,250,0.15673834);\">minerals</span> <span style=\"background-color:rgba(135,206,250,0.22754183);\">add</span> <span style=\"background-color:rgba(135,206,250,0.09549797);\">a</span> <span style=\"background-color:rgba(135,206,250,0.17383857);\">zesty</span> <span style=\"background-color:rgba(135,206,250,0.21816574);\">spray</span> <span style=\"background-color:rgba(135,206,250,0.23078762);\">of</span> <span style=\"background-color:rgba(135,206,250,0.32078248);\">freshness</span> <span style=\"background-color:rgba(135,206,250,0.30815148);\">to</span> <span style=\"background-color:rgba(135,206,250,0.5718588);\">this</span> <span style=\"background-color:rgba(135,206,250,0.47926435);\">dry</span> <span style=\"background-color:rgba(135,206,250,0.76216996);\">,</span> <span style=\"background-color:rgba(135,206,250,0.28277206);\">elegantly</span>"
      ],
      "text/plain": [
       "<IPython.core.display.HTML object>"
      ]
     },
     "metadata": {},
     "output_type": "display_data"
    },
    {
     "name": "stdout",
     "output_type": "stream",
     "text": [
      "structured:   \t93.86%\n",
      "balanced:   \t3.51%\n",
      "composed:   \t1.65%\n",
      "dry:   \t0.33%\n",
      "textured:   \t0.14%\n",
      "--------\n",
      "\n"
     ]
    },
    {
     "data": {
      "text/html": [
       "<span style=\"background-color:rgba(135,206,250,0.2685156);\">wine</span> <span style=\"background-color:rgba(135,206,250,0.464782);\">review</span> <span style=\"background-color:rgba(135,206,250,0.36964077);\">:</span> <span style=\"background-color:rgba(135,206,250,0.34363288);\">germany</span> <span style=\"background-color:rgba(135,206,250,0.1921172);\">:</span> <span style=\"background-color:rgba(135,206,250,0.46912342);\">mosel</span> <span style=\"background-color:rgba(135,206,250,0.23588909);\">:</span> <span style=\"background-color:rgba(135,206,250,0.6450228);\">riesling</span> <span style=\"background-color:rgba(135,206,250,0.23951839);\">:</span> <span style=\"background-color:rgba(135,206,250,0.0818988);\">dusty</span> <span style=\"background-color:rgba(135,206,250,0.12225033);\">mineral</span> <span style=\"background-color:rgba(135,206,250,0.12794892);\">tones</span> <span style=\"background-color:rgba(135,206,250,0.07673953);\">of</span> <span style=\"background-color:rgba(135,206,250,0.120535046);\">stone</span> <span style=\"background-color:rgba(135,206,250,0.13424426);\">fruit</span> <span style=\"background-color:rgba(135,206,250,0.10561473);\">and</span> <span style=\"background-color:rgba(135,206,250,0.099666886);\">minerals</span> <span style=\"background-color:rgba(135,206,250,0.13300204);\">add</span> <span style=\"background-color:rgba(135,206,250,0.10501346);\">a</span> <span style=\"background-color:rgba(135,206,250,0.10133963);\">zesty</span> <span style=\"background-color:rgba(135,206,250,0.21497624);\">spray</span> <span style=\"background-color:rgba(135,206,250,0.19711724);\">of</span> <span style=\"background-color:rgba(135,206,250,0.3623274);\">freshness</span> <span style=\"background-color:rgba(135,206,250,0.37671092);\">to</span> <span style=\"background-color:rgba(135,206,250,1.0);\">this</span> <span style=\"background-color:rgba(135,206,250,0.27741712);\">dry</span> <span style=\"background-color:rgba(135,206,250,0.67547274);\">,</span> <span style=\"background-color:rgba(135,206,250,0.66275805);\">elegantly</span> <span style=\"background-color:rgba(135,206,250,0.6564888);\">structured</span>"
      ],
      "text/plain": [
       "<IPython.core.display.HTML object>"
      ]
     },
     "metadata": {},
     "output_type": "display_data"
    },
    {
     "name": "stdout",
     "output_type": "stream",
     "text": [
      "riesling:   \t90.72%\n",
      "wine:   \t6.48%\n",
      "white:   \t2.2%\n",
      "dry:   \t0.25%\n",
      "kabinett:   \t0.1%\n",
      "--------\n",
      "\n"
     ]
    },
    {
     "data": {
      "text/html": [
       "<span style=\"background-color:rgba(135,206,250,0.31651744);\">wine</span> <span style=\"background-color:rgba(135,206,250,0.7373544);\">review</span> <span style=\"background-color:rgba(135,206,250,0.53796303);\">:</span> <span style=\"background-color:rgba(135,206,250,0.39414066);\">germany</span> <span style=\"background-color:rgba(135,206,250,0.2598998);\">:</span> <span style=\"background-color:rgba(135,206,250,0.27613902);\">mosel</span> <span style=\"background-color:rgba(135,206,250,0.2930072);\">:</span> <span style=\"background-color:rgba(135,206,250,0.16795768);\">riesling</span> <span style=\"background-color:rgba(135,206,250,0.273824);\">:</span> <span style=\"background-color:rgba(135,206,250,0.06549868);\">dusty</span> <span style=\"background-color:rgba(135,206,250,0.07792634);\">mineral</span> <span style=\"background-color:rgba(135,206,250,0.22667192);\">tones</span> <span style=\"background-color:rgba(135,206,250,0.09319228);\">of</span> <span style=\"background-color:rgba(135,206,250,0.06765256);\">stone</span> <span style=\"background-color:rgba(135,206,250,0.09323858);\">fruit</span> <span style=\"background-color:rgba(135,206,250,0.07432586);\">and</span> <span style=\"background-color:rgba(135,206,250,0.08061316);\">minerals</span> <span style=\"background-color:rgba(135,206,250,0.3905373);\">add</span> <span style=\"background-color:rgba(135,206,250,0.16496257);\">a</span> <span style=\"background-color:rgba(135,206,250,0.096209094);\">zesty</span> <span style=\"background-color:rgba(135,206,250,0.18193589);\">spray</span> <span style=\"background-color:rgba(135,206,250,0.19581924);\">of</span> <span style=\"background-color:rgba(135,206,250,0.26058877);\">freshness</span> <span style=\"background-color:rgba(135,206,250,0.3918051);\">to</span> <span style=\"background-color:rgba(135,206,250,0.67968625);\">this</span> <span style=\"background-color:rgba(135,206,250,0.2866201);\">dry</span> <span style=\"background-color:rgba(135,206,250,0.5597091);\">,</span> <span style=\"background-color:rgba(135,206,250,0.3352978);\">elegantly</span> <span style=\"background-color:rgba(135,206,250,1.0);\">structured</span> <span style=\"background-color:rgba(135,206,250,0.59862244);\">riesling</span>"
      ],
      "text/plain": [
       "<IPython.core.display.HTML object>"
      ]
     },
     "metadata": {},
     "output_type": "display_data"
    },
    {
     "name": "stdout",
     "output_type": "stream",
     "text": [
      ".:   \t99.99%\n",
      ",:   \t0.01%\n",
      "that:   \t0.0%\n",
      "from:   \t0.0%\n",
      "full:   \t0.0%\n",
      "--------\n",
      "\n"
     ]
    },
    {
     "data": {
      "text/html": [
       "<span style=\"background-color:rgba(135,206,250,0.3930293);\">wine</span> <span style=\"background-color:rgba(135,206,250,0.4562678);\">review</span> <span style=\"background-color:rgba(135,206,250,0.6872816);\">:</span> <span style=\"background-color:rgba(135,206,250,0.8916609);\">germany</span> <span style=\"background-color:rgba(135,206,250,0.8772445);\">:</span> <span style=\"background-color:rgba(135,206,250,1.0);\">mosel</span> <span style=\"background-color:rgba(135,206,250,0.5186315);\">:</span> <span style=\"background-color:rgba(135,206,250,0.6763722);\">riesling</span> <span style=\"background-color:rgba(135,206,250,0.2952088);\">:</span> <span style=\"background-color:rgba(135,206,250,0.14038637);\">dusty</span> <span style=\"background-color:rgba(135,206,250,0.18856177);\">mineral</span> <span style=\"background-color:rgba(135,206,250,0.217898);\">tones</span> <span style=\"background-color:rgba(135,206,250,0.08773042);\">of</span> <span style=\"background-color:rgba(135,206,250,0.11142219);\">stone</span> <span style=\"background-color:rgba(135,206,250,0.13782017);\">fruit</span> <span style=\"background-color:rgba(135,206,250,0.10950077);\">and</span> <span style=\"background-color:rgba(135,206,250,0.1803659);\">minerals</span> <span style=\"background-color:rgba(135,206,250,0.18033078);\">add</span> <span style=\"background-color:rgba(135,206,250,0.07721878);\">a</span> <span style=\"background-color:rgba(135,206,250,0.17621276);\">zesty</span> <span style=\"background-color:rgba(135,206,250,0.1925224);\">spray</span> <span style=\"background-color:rgba(135,206,250,0.10662297);\">of</span> <span style=\"background-color:rgba(135,206,250,0.27333376);\">freshness</span> <span style=\"background-color:rgba(135,206,250,0.13893536);\">to</span> <span style=\"background-color:rgba(135,206,250,0.37109384);\">this</span> <span style=\"background-color:rgba(135,206,250,0.2746112);\">dry</span> <span style=\"background-color:rgba(135,206,250,0.22940989);\">,</span> <span style=\"background-color:rgba(135,206,250,0.32506183);\">elegantly</span> <span style=\"background-color:rgba(135,206,250,0.35865292);\">structured</span> <span style=\"background-color:rgba(135,206,250,0.7230969);\">riesling</span> <span style=\"background-color:rgba(135,206,250,0.61414415);\">.</span>"
      ],
      "text/plain": [
       "<IPython.core.display.HTML object>"
      ]
     },
     "metadata": {},
     "output_type": "display_data"
    },
    {
     "name": "stdout",
     "output_type": "stream",
     "text": [
      "it:   \t94.37%\n",
      "the:   \t3.04%\n",
      ":   \t0.57%\n",
      "zesty:   \t0.36%\n",
      "a:   \t0.29%\n",
      "--------\n",
      "\n"
     ]
    },
    {
     "data": {
      "text/html": [
       "<span style=\"background-color:rgba(135,206,250,0.07357883);\">wine</span> <span style=\"background-color:rgba(135,206,250,0.12048291);\">review</span> <span style=\"background-color:rgba(135,206,250,0.5410488);\">:</span> <span style=\"background-color:rgba(135,206,250,0.29778334);\">germany</span> <span style=\"background-color:rgba(135,206,250,0.08727079);\">:</span> <span style=\"background-color:rgba(135,206,250,0.21426801);\">mosel</span> <span style=\"background-color:rgba(135,206,250,0.09998565);\">:</span> <span style=\"background-color:rgba(135,206,250,0.113886155);\">riesling</span> <span style=\"background-color:rgba(135,206,250,0.08505019);\">:</span> <span style=\"background-color:rgba(135,206,250,0.061400272);\">dusty</span> <span style=\"background-color:rgba(135,206,250,0.07330273);\">mineral</span> <span style=\"background-color:rgba(135,206,250,0.11206088);\">tones</span> <span style=\"background-color:rgba(135,206,250,0.03585622);\">of</span> <span style=\"background-color:rgba(135,206,250,0.03673801);\">stone</span> <span style=\"background-color:rgba(135,206,250,0.061954018);\">fruit</span> <span style=\"background-color:rgba(135,206,250,0.03395415);\">and</span> <span style=\"background-color:rgba(135,206,250,0.08401669);\">minerals</span> <span style=\"background-color:rgba(135,206,250,0.07350569);\">add</span> <span style=\"background-color:rgba(135,206,250,0.029031487);\">a</span> <span style=\"background-color:rgba(135,206,250,0.075120755);\">zesty</span> <span style=\"background-color:rgba(135,206,250,0.09981071);\">spray</span> <span style=\"background-color:rgba(135,206,250,0.05034102);\">of</span> <span style=\"background-color:rgba(135,206,250,0.09929462);\">freshness</span> <span style=\"background-color:rgba(135,206,250,0.06826558);\">to</span> <span style=\"background-color:rgba(135,206,250,0.07618789);\">this</span> <span style=\"background-color:rgba(135,206,250,0.1452881);\">dry</span> <span style=\"background-color:rgba(135,206,250,0.16472486);\">,</span> <span style=\"background-color:rgba(135,206,250,0.1409804);\">elegantly</span> <span style=\"background-color:rgba(135,206,250,0.3656727);\">structured</span> <span style=\"background-color:rgba(135,206,250,0.32536367);\">riesling</span> <span style=\"background-color:rgba(135,206,250,1.0);\">.</span> <span style=\"background-color:rgba(135,206,250,0.32799295);\">it</span>"
      ],
      "text/plain": [
       "<IPython.core.display.HTML object>"
      ]
     },
     "metadata": {},
     "output_type": "display_data"
    },
    {
     "name": "stdout",
     "output_type": "stream",
     "text": [
      "':   \t99.97%\n",
      "finishes:   \t0.01%\n",
      "drinks:   \t0.01%\n",
      "is:   \t0.0%\n",
      "boasts:   \t0.0%\n",
      "--------\n",
      "\n"
     ]
    },
    {
     "data": {
      "text/html": [
       "<span style=\"background-color:rgba(135,206,250,0.09260148);\">wine</span> <span style=\"background-color:rgba(135,206,250,0.1506462);\">review</span> <span style=\"background-color:rgba(135,206,250,0.16301756);\">:</span> <span style=\"background-color:rgba(135,206,250,0.10524414);\">germany</span> <span style=\"background-color:rgba(135,206,250,0.07468475);\">:</span> <span style=\"background-color:rgba(135,206,250,0.13165721);\">mosel</span> <span style=\"background-color:rgba(135,206,250,0.06960052);\">:</span> <span style=\"background-color:rgba(135,206,250,0.10176869);\">riesling</span> <span style=\"background-color:rgba(135,206,250,0.07623786);\">:</span> <span style=\"background-color:rgba(135,206,250,0.05283441);\">dusty</span> <span style=\"background-color:rgba(135,206,250,0.041099723);\">mineral</span> <span style=\"background-color:rgba(135,206,250,0.042787172);\">tones</span> <span style=\"background-color:rgba(135,206,250,0.02777587);\">of</span> <span style=\"background-color:rgba(135,206,250,0.024366109);\">stone</span> <span style=\"background-color:rgba(135,206,250,0.031940605);\">fruit</span> <span style=\"background-color:rgba(135,206,250,0.031528093);\">and</span> <span style=\"background-color:rgba(135,206,250,0.040686835);\">minerals</span> <span style=\"background-color:rgba(135,206,250,0.033653393);\">add</span> <span style=\"background-color:rgba(135,206,250,0.028602438);\">a</span> <span style=\"background-color:rgba(135,206,250,0.05475229);\">zesty</span> <span style=\"background-color:rgba(135,206,250,0.04704366);\">spray</span> <span style=\"background-color:rgba(135,206,250,0.03432952);\">of</span> <span style=\"background-color:rgba(135,206,250,0.06115625);\">freshness</span> <span style=\"background-color:rgba(135,206,250,0.05119881);\">to</span> <span style=\"background-color:rgba(135,206,250,0.059754632);\">this</span> <span style=\"background-color:rgba(135,206,250,0.075614884);\">dry</span> <span style=\"background-color:rgba(135,206,250,0.07988318);\">,</span> <span style=\"background-color:rgba(135,206,250,0.09816977);\">elegantly</span> <span style=\"background-color:rgba(135,206,250,0.18128008);\">structured</span> <span style=\"background-color:rgba(135,206,250,0.34619182);\">riesling</span> <span style=\"background-color:rgba(135,206,250,0.46733066);\">.</span> <span style=\"background-color:rgba(135,206,250,1.0);\">it</span> <span style=\"background-color:rgba(135,206,250,0.07959706);\">'</span>"
      ],
      "text/plain": [
       "<IPython.core.display.HTML object>"
      ]
     },
     "metadata": {},
     "output_type": "display_data"
    },
    {
     "name": "stdout",
     "output_type": "stream",
     "text": [
      "s:   \t100.0%\n",
      "ll:   \t0.0%\n",
      "t:   \t0.0%\n",
      "d:   \t0.0%\n",
      "[UNK]:   \t0.0%\n",
      "--------\n",
      "\n"
     ]
    },
    {
     "data": {
      "text/html": [
       "<span style=\"background-color:rgba(135,206,250,0.102434486);\">wine</span> <span style=\"background-color:rgba(135,206,250,0.15106867);\">review</span> <span style=\"background-color:rgba(135,206,250,0.6835808);\">:</span> <span style=\"background-color:rgba(135,206,250,0.34396845);\">germany</span> <span style=\"background-color:rgba(135,206,250,0.1074852);\">:</span> <span style=\"background-color:rgba(135,206,250,0.3504724);\">mosel</span> <span style=\"background-color:rgba(135,206,250,0.12027467);\">:</span> <span style=\"background-color:rgba(135,206,250,0.29386777);\">riesling</span> <span style=\"background-color:rgba(135,206,250,0.14673853);\">:</span> <span style=\"background-color:rgba(135,206,250,0.119129136);\">dusty</span> <span style=\"background-color:rgba(135,206,250,0.12674864);\">mineral</span> <span style=\"background-color:rgba(135,206,250,0.11193872);\">tones</span> <span style=\"background-color:rgba(135,206,250,0.0401287);\">of</span> <span style=\"background-color:rgba(135,206,250,0.049950756);\">stone</span> <span style=\"background-color:rgba(135,206,250,0.058160875);\">fruit</span> <span style=\"background-color:rgba(135,206,250,0.05525675);\">and</span> <span style=\"background-color:rgba(135,206,250,0.09483786);\">minerals</span> <span style=\"background-color:rgba(135,206,250,0.08310928);\">add</span> <span style=\"background-color:rgba(135,206,250,0.028643688);\">a</span> <span style=\"background-color:rgba(135,206,250,0.11355794);\">zesty</span> <span style=\"background-color:rgba(135,206,250,0.11435195);\">spray</span> <span style=\"background-color:rgba(135,206,250,0.05242461);\">of</span> <span style=\"background-color:rgba(135,206,250,0.11970939);\">freshness</span> <span style=\"background-color:rgba(135,206,250,0.06464167);\">to</span> <span style=\"background-color:rgba(135,206,250,0.11155229);\">this</span> <span style=\"background-color:rgba(135,206,250,0.19033289);\">dry</span> <span style=\"background-color:rgba(135,206,250,0.1536945);\">,</span> <span style=\"background-color:rgba(135,206,250,0.14288107);\">elegantly</span> <span style=\"background-color:rgba(135,206,250,0.2933018);\">structured</span> <span style=\"background-color:rgba(135,206,250,0.4316008);\">riesling</span> <span style=\"background-color:rgba(135,206,250,1.0);\">.</span> <span style=\"background-color:rgba(135,206,250,0.9334516);\">it</span> <span style=\"background-color:rgba(135,206,250,0.12925968);\">'</span> <span style=\"background-color:rgba(135,206,250,0.2877913);\">s</span>"
      ],
      "text/plain": [
       "<IPython.core.display.HTML object>"
      ]
     },
     "metadata": {},
     "output_type": "display_data"
    },
    {
     "name": "stdout",
     "output_type": "stream",
     "text": [
      "a:   \t49.73%\n",
      "delicate:   \t10.58%\n",
      "juicy:   \t7.82%\n",
      "dry:   \t3.75%\n",
      "an:   \t3.08%\n",
      "--------\n",
      "\n"
     ]
    },
    {
     "data": {
      "text/html": [
       "<span style=\"background-color:rgba(135,206,250,0.07801941);\">wine</span> <span style=\"background-color:rgba(135,206,250,0.12731178);\">review</span> <span style=\"background-color:rgba(135,206,250,0.19383195);\">:</span> <span style=\"background-color:rgba(135,206,250,0.19235276);\">germany</span> <span style=\"background-color:rgba(135,206,250,0.05733367);\">:</span> <span style=\"background-color:rgba(135,206,250,0.21342564);\">mosel</span> <span style=\"background-color:rgba(135,206,250,0.101399995);\">:</span> <span style=\"background-color:rgba(135,206,250,0.31989908);\">riesling</span> <span style=\"background-color:rgba(135,206,250,0.10264815);\">:</span> <span style=\"background-color:rgba(135,206,250,0.039022796);\">dusty</span> <span style=\"background-color:rgba(135,206,250,0.05859221);\">mineral</span> <span style=\"background-color:rgba(135,206,250,0.06581559);\">tones</span> <span style=\"background-color:rgba(135,206,250,0.03058358);\">of</span> <span style=\"background-color:rgba(135,206,250,0.037122127);\">stone</span> <span style=\"background-color:rgba(135,206,250,0.058802493);\">fruit</span> <span style=\"background-color:rgba(135,206,250,0.030786823);\">and</span> <span style=\"background-color:rgba(135,206,250,0.04474272);\">minerals</span> <span style=\"background-color:rgba(135,206,250,0.030151503);\">add</span> <span style=\"background-color:rgba(135,206,250,0.018950833);\">a</span> <span style=\"background-color:rgba(135,206,250,0.035478976);\">zesty</span> <span style=\"background-color:rgba(135,206,250,0.057007853);\">spray</span> <span style=\"background-color:rgba(135,206,250,0.039872553);\">of</span> <span style=\"background-color:rgba(135,206,250,0.06694908);\">freshness</span> <span style=\"background-color:rgba(135,206,250,0.04967661);\">to</span> <span style=\"background-color:rgba(135,206,250,0.07094403);\">this</span> <span style=\"background-color:rgba(135,206,250,0.06706553);\">dry</span> <span style=\"background-color:rgba(135,206,250,0.06561403);\">,</span> <span style=\"background-color:rgba(135,206,250,0.046565834);\">elegantly</span> <span style=\"background-color:rgba(135,206,250,0.10617084);\">structured</span> <span style=\"background-color:rgba(135,206,250,0.30682576);\">riesling</span> <span style=\"background-color:rgba(135,206,250,0.5438534);\">.</span> <span style=\"background-color:rgba(135,206,250,0.55521524);\">it</span> <span style=\"background-color:rgba(135,206,250,0.100019015);\">'</span> <span style=\"background-color:rgba(135,206,250,1.0);\">s</span> <span style=\"background-color:rgba(135,206,250,0.15489846);\">elegant</span>"
      ],
      "text/plain": [
       "<IPython.core.display.HTML object>"
      ]
     },
     "metadata": {},
     "output_type": "display_data"
    },
    {
     "name": "stdout",
     "output_type": "stream",
     "text": [
      "and:   \t91.73%\n",
      ",:   \t6.96%\n",
      "in:   \t0.46%\n",
      "with:   \t0.34%\n",
      "on:   \t0.24%\n",
      "--------\n",
      "\n"
     ]
    },
    {
     "data": {
      "text/html": [
       "<span style=\"background-color:rgba(135,206,250,0.05176997);\">wine</span> <span style=\"background-color:rgba(135,206,250,0.09298229);\">review</span> <span style=\"background-color:rgba(135,206,250,0.27889067);\">:</span> <span style=\"background-color:rgba(135,206,250,0.28328243);\">germany</span> <span style=\"background-color:rgba(135,206,250,0.061500836);\">:</span> <span style=\"background-color:rgba(135,206,250,0.17551993);\">mosel</span> <span style=\"background-color:rgba(135,206,250,0.062626064);\">:</span> <span style=\"background-color:rgba(135,206,250,0.19864991);\">riesling</span> <span style=\"background-color:rgba(135,206,250,0.07530234);\">:</span> <span style=\"background-color:rgba(135,206,250,0.070468016);\">dusty</span> <span style=\"background-color:rgba(135,206,250,0.08697651);\">mineral</span> <span style=\"background-color:rgba(135,206,250,0.08578178);\">tones</span> <span style=\"background-color:rgba(135,206,250,0.022131113);\">of</span> <span style=\"background-color:rgba(135,206,250,0.045121774);\">stone</span> <span style=\"background-color:rgba(135,206,250,0.050576515);\">fruit</span> <span style=\"background-color:rgba(135,206,250,0.028115654);\">and</span> <span style=\"background-color:rgba(135,206,250,0.07017394);\">minerals</span> <span style=\"background-color:rgba(135,206,250,0.057239316);\">add</span> <span style=\"background-color:rgba(135,206,250,0.023968246);\">a</span> <span style=\"background-color:rgba(135,206,250,0.08107073);\">zesty</span> <span style=\"background-color:rgba(135,206,250,0.07016188);\">spray</span> <span style=\"background-color:rgba(135,206,250,0.027957227);\">of</span> <span style=\"background-color:rgba(135,206,250,0.07843887);\">freshness</span> <span style=\"background-color:rgba(135,206,250,0.028627235);\">to</span> <span style=\"background-color:rgba(135,206,250,0.060959905);\">this</span> <span style=\"background-color:rgba(135,206,250,0.10266535);\">dry</span> <span style=\"background-color:rgba(135,206,250,0.0721863);\">,</span> <span style=\"background-color:rgba(135,206,250,0.08627949);\">elegantly</span> <span style=\"background-color:rgba(135,206,250,0.17901683);\">structured</span> <span style=\"background-color:rgba(135,206,250,0.27008083);\">riesling</span> <span style=\"background-color:rgba(135,206,250,0.3205005);\">.</span> <span style=\"background-color:rgba(135,206,250,0.25168207);\">it</span> <span style=\"background-color:rgba(135,206,250,0.062213432);\">'</span> <span style=\"background-color:rgba(135,206,250,0.64027303);\">s</span> <span style=\"background-color:rgba(135,206,250,1.0);\">elegant</span> <span style=\"background-color:rgba(135,206,250,0.36014315);\">and</span>"
      ],
      "text/plain": [
       "<IPython.core.display.HTML object>"
      ]
     },
     "metadata": {},
     "output_type": "display_data"
    },
    {
     "name": "stdout",
     "output_type": "stream",
     "text": [
      "spry:   \t30.18%\n",
      "delicate:   \t14.21%\n",
      "complex:   \t8.83%\n",
      "elegant:   \t7.33%\n",
      "penetrating:   \t5.76%\n",
      "--------\n",
      "\n"
     ]
    },
    {
     "data": {
      "text/html": [
       "<span style=\"background-color:rgba(135,206,250,0.09922784);\">wine</span> <span style=\"background-color:rgba(135,206,250,0.15981029);\">review</span> <span style=\"background-color:rgba(135,206,250,0.34749597);\">:</span> <span style=\"background-color:rgba(135,206,250,0.28356078);\">germany</span> <span style=\"background-color:rgba(135,206,250,0.077077195);\">:</span> <span style=\"background-color:rgba(135,206,250,0.31596017);\">mosel</span> <span style=\"background-color:rgba(135,206,250,0.14721921);\">:</span> <span style=\"background-color:rgba(135,206,250,0.45959792);\">riesling</span> <span style=\"background-color:rgba(135,206,250,0.13906766);\">:</span> <span style=\"background-color:rgba(135,206,250,0.05300478);\">dusty</span> <span style=\"background-color:rgba(135,206,250,0.08003581);\">mineral</span> <span style=\"background-color:rgba(135,206,250,0.08455342);\">tones</span> <span style=\"background-color:rgba(135,206,250,0.038311817);\">of</span> <span style=\"background-color:rgba(135,206,250,0.049578965);\">stone</span> <span style=\"background-color:rgba(135,206,250,0.07782064);\">fruit</span> <span style=\"background-color:rgba(135,206,250,0.039462738);\">and</span> <span style=\"background-color:rgba(135,206,250,0.05886257);\">minerals</span> <span style=\"background-color:rgba(135,206,250,0.03644572);\">add</span> <span style=\"background-color:rgba(135,206,250,0.023490308);\">a</span> <span style=\"background-color:rgba(135,206,250,0.04496092);\">zesty</span> <span style=\"background-color:rgba(135,206,250,0.07432367);\">spray</span> <span style=\"background-color:rgba(135,206,250,0.047925636);\">of</span> <span style=\"background-color:rgba(135,206,250,0.08371627);\">freshness</span> <span style=\"background-color:rgba(135,206,250,0.057803195);\">to</span> <span style=\"background-color:rgba(135,206,250,0.080229476);\">this</span> <span style=\"background-color:rgba(135,206,250,0.08526017);\">dry</span> <span style=\"background-color:rgba(135,206,250,0.077209964);\">,</span> <span style=\"background-color:rgba(135,206,250,0.05495897);\">elegantly</span> <span style=\"background-color:rgba(135,206,250,0.12593532);\">structured</span> <span style=\"background-color:rgba(135,206,250,0.3446997);\">riesling</span> <span style=\"background-color:rgba(135,206,250,0.56614465);\">.</span> <span style=\"background-color:rgba(135,206,250,0.5188593);\">it</span> <span style=\"background-color:rgba(135,206,250,0.101947315);\">'</span> <span style=\"background-color:rgba(135,206,250,1.0);\">s</span> <span style=\"background-color:rgba(135,206,250,0.15960573);\">elegant</span> <span style=\"background-color:rgba(135,206,250,0.74187905);\">and</span> <span style=\"background-color:rgba(135,206,250,0.273286);\">elegant</span>"
      ],
      "text/plain": [
       "<IPython.core.display.HTML object>"
      ]
     },
     "metadata": {},
     "output_type": "display_data"
    },
    {
     "name": "stdout",
     "output_type": "stream",
     "text": [
      ",:   \t77.04%\n",
      "on:   \t10.76%\n",
      "in:   \t8.54%\n",
      "with:   \t2.13%\n",
      "and:   \t0.97%\n",
      "--------\n",
      "\n"
     ]
    },
    {
     "data": {
      "text/html": [
       "<span style=\"background-color:rgba(135,206,250,0.061836638);\">wine</span> <span style=\"background-color:rgba(135,206,250,0.14981255);\">review</span> <span style=\"background-color:rgba(135,206,250,0.50508285);\">:</span> <span style=\"background-color:rgba(135,206,250,0.33283573);\">germany</span> <span style=\"background-color:rgba(135,206,250,0.07901157);\">:</span> <span style=\"background-color:rgba(135,206,250,0.20451097);\">mosel</span> <span style=\"background-color:rgba(135,206,250,0.095359445);\">:</span> <span style=\"background-color:rgba(135,206,250,0.2541254);\">riesling</span> <span style=\"background-color:rgba(135,206,250,0.10369394);\">:</span> <span style=\"background-color:rgba(135,206,250,0.06907819);\">dusty</span> <span style=\"background-color:rgba(135,206,250,0.08930629);\">mineral</span> <span style=\"background-color:rgba(135,206,250,0.0811813);\">tones</span> <span style=\"background-color:rgba(135,206,250,0.0320892);\">of</span> <span style=\"background-color:rgba(135,206,250,0.04725008);\">stone</span> <span style=\"background-color:rgba(135,206,250,0.04906151);\">fruit</span> <span style=\"background-color:rgba(135,206,250,0.04017598);\">and</span> <span style=\"background-color:rgba(135,206,250,0.06113308);\">minerals</span> <span style=\"background-color:rgba(135,206,250,0.115152776);\">add</span> <span style=\"background-color:rgba(135,206,250,0.024997003);\">a</span> <span style=\"background-color:rgba(135,206,250,0.081444666);\">zesty</span> <span style=\"background-color:rgba(135,206,250,0.07183043);\">spray</span> <span style=\"background-color:rgba(135,206,250,0.040119927);\">of</span> <span style=\"background-color:rgba(135,206,250,0.08539764);\">freshness</span> <span style=\"background-color:rgba(135,206,250,0.041886248);\">to</span> <span style=\"background-color:rgba(135,206,250,0.14094014);\">this</span> <span style=\"background-color:rgba(135,206,250,0.107953414);\">dry</span> <span style=\"background-color:rgba(135,206,250,0.055406243);\">,</span> <span style=\"background-color:rgba(135,206,250,0.07933826);\">elegantly</span> <span style=\"background-color:rgba(135,206,250,0.12857646);\">structured</span> <span style=\"background-color:rgba(135,206,250,0.20391434);\">riesling</span> <span style=\"background-color:rgba(135,206,250,0.44887426);\">.</span> <span style=\"background-color:rgba(135,206,250,0.3057084);\">it</span> <span style=\"background-color:rgba(135,206,250,0.047690887);\">'</span> <span style=\"background-color:rgba(135,206,250,0.5804233);\">s</span> <span style=\"background-color:rgba(135,206,250,0.48393738);\">elegant</span> <span style=\"background-color:rgba(135,206,250,1.0);\">and</span> <span style=\"background-color:rgba(135,206,250,0.94426227);\">elegant</span> <span style=\"background-color:rgba(135,206,250,0.44518736);\">,</span>"
      ],
      "text/plain": [
       "<IPython.core.display.HTML object>"
      ]
     },
     "metadata": {},
     "output_type": "display_data"
    },
    {
     "name": "stdout",
     "output_type": "stream",
     "text": [
      "with:   \t88.59%\n",
      "yet:   \t5.72%\n",
      "but:   \t4.61%\n",
      "and:   \t0.26%\n",
      "the:   \t0.11%\n",
      "--------\n",
      "\n"
     ]
    },
    {
     "data": {
      "text/html": [
       "<span style=\"background-color:rgba(135,206,250,0.08117493);\">wine</span> <span style=\"background-color:rgba(135,206,250,0.14999416);\">review</span> <span style=\"background-color:rgba(135,206,250,0.8072236);\">:</span> <span style=\"background-color:rgba(135,206,250,0.49197114);\">germany</span> <span style=\"background-color:rgba(135,206,250,0.0998294);\">:</span> <span style=\"background-color:rgba(135,206,250,0.40262315);\">mosel</span> <span style=\"background-color:rgba(135,206,250,0.17079945);\">:</span> <span style=\"background-color:rgba(135,206,250,0.3746572);\">riesling</span> <span style=\"background-color:rgba(135,206,250,0.11787735);\">:</span> <span style=\"background-color:rgba(135,206,250,0.1014578);\">dusty</span> <span style=\"background-color:rgba(135,206,250,0.1456935);\">mineral</span> <span style=\"background-color:rgba(135,206,250,0.13225944);\">tones</span> <span style=\"background-color:rgba(135,206,250,0.028396253);\">of</span> <span style=\"background-color:rgba(135,206,250,0.068230405);\">stone</span> <span style=\"background-color:rgba(135,206,250,0.073102556);\">fruit</span> <span style=\"background-color:rgba(135,206,250,0.051234238);\">and</span> <span style=\"background-color:rgba(135,206,250,0.1343125);\">minerals</span> <span style=\"background-color:rgba(135,206,250,0.059592854);\">add</span> <span style=\"background-color:rgba(135,206,250,0.032553244);\">a</span> <span style=\"background-color:rgba(135,206,250,0.12777957);\">zesty</span> <span style=\"background-color:rgba(135,206,250,0.08541207);\">spray</span> <span style=\"background-color:rgba(135,206,250,0.03217576);\">of</span> <span style=\"background-color:rgba(135,206,250,0.12607513);\">freshness</span> <span style=\"background-color:rgba(135,206,250,0.03325739);\">to</span> <span style=\"background-color:rgba(135,206,250,0.077529624);\">this</span> <span style=\"background-color:rgba(135,206,250,0.11835797);\">dry</span> <span style=\"background-color:rgba(135,206,250,0.075111);\">,</span> <span style=\"background-color:rgba(135,206,250,0.10445092);\">elegantly</span> <span style=\"background-color:rgba(135,206,250,0.16605906);\">structured</span> <span style=\"background-color:rgba(135,206,250,0.1976516);\">riesling</span> <span style=\"background-color:rgba(135,206,250,0.29282272);\">.</span> <span style=\"background-color:rgba(135,206,250,0.15193368);\">it</span> <span style=\"background-color:rgba(135,206,250,0.035862133);\">'</span> <span style=\"background-color:rgba(135,206,250,0.20092514);\">s</span> <span style=\"background-color:rgba(135,206,250,0.39350468);\">elegant</span> <span style=\"background-color:rgba(135,206,250,0.407887);\">and</span> <span style=\"background-color:rgba(135,206,250,0.6576957);\">elegant</span> <span style=\"background-color:rgba(135,206,250,1.0);\">,</span> <span style=\"background-color:rgba(135,206,250,0.6554809);\">with</span>"
      ],
      "text/plain": [
       "<IPython.core.display.HTML object>"
      ]
     },
     "metadata": {},
     "output_type": "display_data"
    },
    {
     "name": "stdout",
     "output_type": "stream",
     "text": [
      "a:   \t96.2%\n",
      "an:   \t1.65%\n",
      "delicate:   \t0.72%\n",
      "just:   \t0.29%\n",
      "crisp:   \t0.15%\n",
      "--------\n",
      "\n"
     ]
    },
    {
     "data": {
      "text/html": [
       "<span style=\"background-color:rgba(135,206,250,0.04951336);\">wine</span> <span style=\"background-color:rgba(135,206,250,0.08610661);\">review</span> <span style=\"background-color:rgba(135,206,250,0.20790826);\">:</span> <span style=\"background-color:rgba(135,206,250,0.18574631);\">germany</span> <span style=\"background-color:rgba(135,206,250,0.055760305);\">:</span> <span style=\"background-color:rgba(135,206,250,0.15570192);\">mosel</span> <span style=\"background-color:rgba(135,206,250,0.073796295);\">:</span> <span style=\"background-color:rgba(135,206,250,0.206573);\">riesling</span> <span style=\"background-color:rgba(135,206,250,0.07412911);\">:</span> <span style=\"background-color:rgba(135,206,250,0.031187566);\">dusty</span> <span style=\"background-color:rgba(135,206,250,0.047528338);\">mineral</span> <span style=\"background-color:rgba(135,206,250,0.05270594);\">tones</span> <span style=\"background-color:rgba(135,206,250,0.02404907);\">of</span> <span style=\"background-color:rgba(135,206,250,0.033217903);\">stone</span> <span style=\"background-color:rgba(135,206,250,0.045794234);\">fruit</span> <span style=\"background-color:rgba(135,206,250,0.02482175);\">and</span> <span style=\"background-color:rgba(135,206,250,0.04247819);\">minerals</span> <span style=\"background-color:rgba(135,206,250,0.032447144);\">add</span> <span style=\"background-color:rgba(135,206,250,0.015307927);\">a</span> <span style=\"background-color:rgba(135,206,250,0.027841747);\">zesty</span> <span style=\"background-color:rgba(135,206,250,0.045779675);\">spray</span> <span style=\"background-color:rgba(135,206,250,0.026079344);\">of</span> <span style=\"background-color:rgba(135,206,250,0.043140646);\">freshness</span> <span style=\"background-color:rgba(135,206,250,0.024453327);\">to</span> <span style=\"background-color:rgba(135,206,250,0.0391575);\">this</span> <span style=\"background-color:rgba(135,206,250,0.043285806);\">dry</span> <span style=\"background-color:rgba(135,206,250,0.03420147);\">,</span> <span style=\"background-color:rgba(135,206,250,0.02845191);\">elegantly</span> <span style=\"background-color:rgba(135,206,250,0.058931764);\">structured</span> <span style=\"background-color:rgba(135,206,250,0.12132407);\">riesling</span> <span style=\"background-color:rgba(135,206,250,0.1743737);\">.</span> <span style=\"background-color:rgba(135,206,250,0.097962126);\">it</span> <span style=\"background-color:rgba(135,206,250,0.03269342);\">'</span> <span style=\"background-color:rgba(135,206,250,0.19708495);\">s</span> <span style=\"background-color:rgba(135,206,250,0.06837725);\">elegant</span> <span style=\"background-color:rgba(135,206,250,0.16652055);\">and</span> <span style=\"background-color:rgba(135,206,250,0.105208665);\">elegant</span> <span style=\"background-color:rgba(135,206,250,0.27055106);\">,</span> <span style=\"background-color:rgba(135,206,250,1.0);\">with</span> <span style=\"background-color:rgba(135,206,250,0.17756997);\">delicate</span>"
      ],
      "text/plain": [
       "<IPython.core.display.HTML object>"
      ]
     },
     "metadata": {},
     "output_type": "display_data"
    },
    {
     "name": "stdout",
     "output_type": "stream",
     "text": [
      "floral:   \t27.36%\n",
      "flavors:   \t25.11%\n",
      "layers:   \t17.13%\n",
      ",:   \t8.6%\n",
      "yet:   \t4.62%\n",
      "--------\n",
      "\n"
     ]
    },
    {
     "data": {
      "text/html": [
       "<span style=\"background-color:rgba(135,206,250,0.04835719);\">wine</span> <span style=\"background-color:rgba(135,206,250,0.12044409);\">review</span> <span style=\"background-color:rgba(135,206,250,0.36498597);\">:</span> <span style=\"background-color:rgba(135,206,250,0.16990852);\">germany</span> <span style=\"background-color:rgba(135,206,250,0.08128438);\">:</span> <span style=\"background-color:rgba(135,206,250,0.090320855);\">mosel</span> <span style=\"background-color:rgba(135,206,250,0.070881814);\">:</span> <span style=\"background-color:rgba(135,206,250,0.055275187);\">riesling</span> <span style=\"background-color:rgba(135,206,250,0.06353303);\">:</span> <span style=\"background-color:rgba(135,206,250,0.01610886);\">dusty</span> <span style=\"background-color:rgba(135,206,250,0.021995313);\">mineral</span> <span style=\"background-color:rgba(135,206,250,0.04104948);\">tones</span> <span style=\"background-color:rgba(135,206,250,0.0198293);\">of</span> <span style=\"background-color:rgba(135,206,250,0.01901751);\">stone</span> <span style=\"background-color:rgba(135,206,250,0.020350613);\">fruit</span> <span style=\"background-color:rgba(135,206,250,0.013427443);\">and</span> <span style=\"background-color:rgba(135,206,250,0.023615599);\">minerals</span> <span style=\"background-color:rgba(135,206,250,0.06754651);\">add</span> <span style=\"background-color:rgba(135,206,250,0.014699219);\">a</span> <span style=\"background-color:rgba(135,206,250,0.019678827);\">zesty</span> <span style=\"background-color:rgba(135,206,250,0.034354277);\">spray</span> <span style=\"background-color:rgba(135,206,250,0.022921257);\">of</span> <span style=\"background-color:rgba(135,206,250,0.043933857);\">freshness</span> <span style=\"background-color:rgba(135,206,250,0.022593915);\">to</span> <span style=\"background-color:rgba(135,206,250,0.055344567);\">this</span> <span style=\"background-color:rgba(135,206,250,0.030997684);\">dry</span> <span style=\"background-color:rgba(135,206,250,0.034436706);\">,</span> <span style=\"background-color:rgba(135,206,250,0.045917254);\">elegantly</span> <span style=\"background-color:rgba(135,206,250,0.06434133);\">structured</span> <span style=\"background-color:rgba(135,206,250,0.061014485);\">riesling</span> <span style=\"background-color:rgba(135,206,250,0.25170696);\">.</span> <span style=\"background-color:rgba(135,206,250,0.12640391);\">it</span> <span style=\"background-color:rgba(135,206,250,0.043650378);\">'</span> <span style=\"background-color:rgba(135,206,250,0.1194332);\">s</span> <span style=\"background-color:rgba(135,206,250,0.095005706);\">elegant</span> <span style=\"background-color:rgba(135,206,250,0.11437909);\">and</span> <span style=\"background-color:rgba(135,206,250,0.14707643);\">elegant</span> <span style=\"background-color:rgba(135,206,250,0.28254172);\">,</span> <span style=\"background-color:rgba(135,206,250,1.0);\">with</span> <span style=\"background-color:rgba(135,206,250,0.22137453);\">delicate</span> <span style=\"background-color:rgba(135,206,250,0.1774032);\">flavors</span>"
      ],
      "text/plain": [
       "<IPython.core.display.HTML object>"
      ]
     },
     "metadata": {},
     "output_type": "display_data"
    },
    {
     "name": "stdout",
     "output_type": "stream",
     "text": [
      "of:   \t99.93%\n",
      "suggesting:   \t0.03%\n",
      "that:   \t0.02%\n",
      ",:   \t0.01%\n",
      "and:   \t0.01%\n",
      "--------\n",
      "\n"
     ]
    },
    {
     "data": {
      "text/html": [
       "<span style=\"background-color:rgba(135,206,250,0.04440856);\">wine</span> <span style=\"background-color:rgba(135,206,250,0.08582149);\">review</span> <span style=\"background-color:rgba(135,206,250,0.29936814);\">:</span> <span style=\"background-color:rgba(135,206,250,0.34161982);\">germany</span> <span style=\"background-color:rgba(135,206,250,0.04746003);\">:</span> <span style=\"background-color:rgba(135,206,250,0.22844644);\">mosel</span> <span style=\"background-color:rgba(135,206,250,0.08472621);\">:</span> <span style=\"background-color:rgba(135,206,250,0.2784173);\">riesling</span> <span style=\"background-color:rgba(135,206,250,0.069010824);\">:</span> <span style=\"background-color:rgba(135,206,250,0.058641262);\">dusty</span> <span style=\"background-color:rgba(135,206,250,0.11001504);\">mineral</span> <span style=\"background-color:rgba(135,206,250,0.047985904);\">tones</span> <span style=\"background-color:rgba(135,206,250,0.013163088);\">of</span> <span style=\"background-color:rgba(135,206,250,0.041616034);\">stone</span> <span style=\"background-color:rgba(135,206,250,0.050405934);\">fruit</span> <span style=\"background-color:rgba(135,206,250,0.02624616);\">and</span> <span style=\"background-color:rgba(135,206,250,0.06439008);\">minerals</span> <span style=\"background-color:rgba(135,206,250,0.03696523);\">add</span> <span style=\"background-color:rgba(135,206,250,0.01945777);\">a</span> <span style=\"background-color:rgba(135,206,250,0.06847344);\">zesty</span> <span style=\"background-color:rgba(135,206,250,0.051404934);\">spray</span> <span style=\"background-color:rgba(135,206,250,0.01441858);\">of</span> <span style=\"background-color:rgba(135,206,250,0.051093712);\">freshness</span> <span style=\"background-color:rgba(135,206,250,0.016568968);\">to</span> <span style=\"background-color:rgba(135,206,250,0.04135189);\">this</span> <span style=\"background-color:rgba(135,206,250,0.05837784);\">dry</span> <span style=\"background-color:rgba(135,206,250,0.038042095);\">,</span> <span style=\"background-color:rgba(135,206,250,0.040400703);\">elegantly</span> <span style=\"background-color:rgba(135,206,250,0.06861669);\">structured</span> <span style=\"background-color:rgba(135,206,250,0.10785551);\">riesling</span> <span style=\"background-color:rgba(135,206,250,0.112913385);\">.</span> <span style=\"background-color:rgba(135,206,250,0.067134954);\">it</span> <span style=\"background-color:rgba(135,206,250,0.016021276);\">'</span> <span style=\"background-color:rgba(135,206,250,0.096526906);\">s</span> <span style=\"background-color:rgba(135,206,250,0.12622397);\">elegant</span> <span style=\"background-color:rgba(135,206,250,0.11122054);\">and</span> <span style=\"background-color:rgba(135,206,250,0.20132259);\">elegant</span> <span style=\"background-color:rgba(135,206,250,0.22613154);\">,</span> <span style=\"background-color:rgba(135,206,250,0.35419437);\">with</span> <span style=\"background-color:rgba(135,206,250,0.73257506);\">delicate</span> <span style=\"background-color:rgba(135,206,250,1.0);\">flavors</span> <span style=\"background-color:rgba(135,206,250,0.22421342);\">of</span>"
      ],
      "text/plain": [
       "<IPython.core.display.HTML object>"
      ]
     },
     "metadata": {},
     "output_type": "display_data"
    },
    {
     "name": "stdout",
     "output_type": "stream",
     "text": [
      "stone:   \t26.29%\n",
      "white:   \t24.07%\n",
      "lemon:   \t12.85%\n",
      "lime:   \t9.25%\n",
      "peach:   \t8.02%\n",
      "--------\n",
      "\n"
     ]
    },
    {
     "data": {
      "text/html": [
       "<span style=\"background-color:rgba(135,206,250,0.073124625);\">wine</span> <span style=\"background-color:rgba(135,206,250,0.17372699);\">review</span> <span style=\"background-color:rgba(135,206,250,0.5430379);\">:</span> <span style=\"background-color:rgba(135,206,250,0.35895264);\">germany</span> <span style=\"background-color:rgba(135,206,250,0.1332456);\">:</span> <span style=\"background-color:rgba(135,206,250,0.15060069);\">mosel</span> <span style=\"background-color:rgba(135,206,250,0.123341955);\">:</span> <span style=\"background-color:rgba(135,206,250,0.086084);\">riesling</span> <span style=\"background-color:rgba(135,206,250,0.08785333);\">:</span> <span style=\"background-color:rgba(135,206,250,0.031350505);\">dusty</span> <span style=\"background-color:rgba(135,206,250,0.03508609);\">mineral</span> <span style=\"background-color:rgba(135,206,250,0.09001932);\">tones</span> <span style=\"background-color:rgba(135,206,250,0.043247055);\">of</span> <span style=\"background-color:rgba(135,206,250,0.020311914);\">stone</span> <span style=\"background-color:rgba(135,206,250,0.0688631);\">fruit</span> <span style=\"background-color:rgba(135,206,250,0.02484092);\">and</span> <span style=\"background-color:rgba(135,206,250,0.057440262);\">minerals</span> <span style=\"background-color:rgba(135,206,250,0.07042412);\">add</span> <span style=\"background-color:rgba(135,206,250,0.032894924);\">a</span> <span style=\"background-color:rgba(135,206,250,0.04134561);\">zesty</span> <span style=\"background-color:rgba(135,206,250,0.076979004);\">spray</span> <span style=\"background-color:rgba(135,206,250,0.048722494);\">of</span> <span style=\"background-color:rgba(135,206,250,0.04938266);\">freshness</span> <span style=\"background-color:rgba(135,206,250,0.0346345);\">to</span> <span style=\"background-color:rgba(135,206,250,0.053871546);\">this</span> <span style=\"background-color:rgba(135,206,250,0.060814578);\">dry</span> <span style=\"background-color:rgba(135,206,250,0.0431107);\">,</span> <span style=\"background-color:rgba(135,206,250,0.08249449);\">elegantly</span> <span style=\"background-color:rgba(135,206,250,0.10468876);\">structured</span> <span style=\"background-color:rgba(135,206,250,0.06901988);\">riesling</span> <span style=\"background-color:rgba(135,206,250,0.26511294);\">.</span> <span style=\"background-color:rgba(135,206,250,0.123935305);\">it</span> <span style=\"background-color:rgba(135,206,250,0.046528824);\">'</span> <span style=\"background-color:rgba(135,206,250,0.20378602);\">s</span> <span style=\"background-color:rgba(135,206,250,0.09882876);\">elegant</span> <span style=\"background-color:rgba(135,206,250,0.1526244);\">and</span> <span style=\"background-color:rgba(135,206,250,0.14001507);\">elegant</span> <span style=\"background-color:rgba(135,206,250,0.2595042);\">,</span> <span style=\"background-color:rgba(135,206,250,0.7484359);\">with</span> <span style=\"background-color:rgba(135,206,250,0.5275451);\">delicate</span> <span style=\"background-color:rgba(135,206,250,1.0);\">flavors</span> <span style=\"background-color:rgba(135,206,250,0.9197427);\">of</span> <span style=\"background-color:rgba(135,206,250,0.34342209);\">peach</span>"
      ],
      "text/plain": [
       "<IPython.core.display.HTML object>"
      ]
     },
     "metadata": {},
     "output_type": "display_data"
    },
    {
     "name": "stdout",
     "output_type": "stream",
     "text": [
      "and:   \t50.08%\n",
      ",:   \t49.61%\n",
      "nectar:   \t0.3%\n",
      "blossom:   \t0.01%\n",
      "-:   \t0.0%\n",
      "--------\n",
      "\n"
     ]
    },
    {
     "data": {
      "text/html": [
       "<span style=\"background-color:rgba(135,206,250,0.034540027);\">wine</span> <span style=\"background-color:rgba(135,206,250,0.08259327);\">review</span> <span style=\"background-color:rgba(135,206,250,0.27620378);\">:</span> <span style=\"background-color:rgba(135,206,250,0.21105751);\">germany</span> <span style=\"background-color:rgba(135,206,250,0.049916472);\">:</span> <span style=\"background-color:rgba(135,206,250,0.12828904);\">mosel</span> <span style=\"background-color:rgba(135,206,250,0.057820905);\">:</span> <span style=\"background-color:rgba(135,206,250,0.16601291);\">riesling</span> <span style=\"background-color:rgba(135,206,250,0.06355566);\">:</span> <span style=\"background-color:rgba(135,206,250,0.045878);\">dusty</span> <span style=\"background-color:rgba(135,206,250,0.059620872);\">mineral</span> <span style=\"background-color:rgba(135,206,250,0.047021903);\">tones</span> <span style=\"background-color:rgba(135,206,250,0.018907988);\">of</span> <span style=\"background-color:rgba(135,206,250,0.028926779);\">stone</span> <span style=\"background-color:rgba(135,206,250,0.029396812);\">fruit</span> <span style=\"background-color:rgba(135,206,250,0.025341803);\">and</span> <span style=\"background-color:rgba(135,206,250,0.03913459);\">minerals</span> <span style=\"background-color:rgba(135,206,250,0.059936956);\">add</span> <span style=\"background-color:rgba(135,206,250,0.01453718);\">a</span> <span style=\"background-color:rgba(135,206,250,0.04632176);\">zesty</span> <span style=\"background-color:rgba(135,206,250,0.04222568);\">spray</span> <span style=\"background-color:rgba(135,206,250,0.02123412);\">of</span> <span style=\"background-color:rgba(135,206,250,0.045335356);\">freshness</span> <span style=\"background-color:rgba(135,206,250,0.019923454);\">to</span> <span style=\"background-color:rgba(135,206,250,0.06594684);\">this</span> <span style=\"background-color:rgba(135,206,250,0.054071054);\">dry</span> <span style=\"background-color:rgba(135,206,250,0.029664764);\">,</span> <span style=\"background-color:rgba(135,206,250,0.037579946);\">elegantly</span> <span style=\"background-color:rgba(135,206,250,0.055517383);\">structured</span> <span style=\"background-color:rgba(135,206,250,0.078804076);\">riesling</span> <span style=\"background-color:rgba(135,206,250,0.15048067);\">.</span> <span style=\"background-color:rgba(135,206,250,0.10491043);\">it</span> <span style=\"background-color:rgba(135,206,250,0.015206953);\">'</span> <span style=\"background-color:rgba(135,206,250,0.12145801);\">s</span> <span style=\"background-color:rgba(135,206,250,0.095381446);\">elegant</span> <span style=\"background-color:rgba(135,206,250,0.124209166);\">and</span> <span style=\"background-color:rgba(135,206,250,0.141926);\">elegant</span> <span style=\"background-color:rgba(135,206,250,0.07953909);\">,</span> <span style=\"background-color:rgba(135,206,250,0.33292735);\">with</span> <span style=\"background-color:rgba(135,206,250,0.34150502);\">delicate</span> <span style=\"background-color:rgba(135,206,250,0.44084027);\">flavors</span> <span style=\"background-color:rgba(135,206,250,0.37481257);\">of</span> <span style=\"background-color:rgba(135,206,250,1.0);\">peach</span> <span style=\"background-color:rgba(135,206,250,0.31269202);\">,</span>"
      ],
      "text/plain": [
       "<IPython.core.display.HTML object>"
      ]
     },
     "metadata": {},
     "output_type": "display_data"
    },
    {
     "name": "stdout",
     "output_type": "stream",
     "text": [
      "lime:   \t27.47%\n",
      "lemon:   \t18.53%\n",
      "pear:   \t14.25%\n",
      "tangerine:   \t9.38%\n",
      "citrus:   \t9.27%\n",
      "--------\n",
      "\n"
     ]
    },
    {
     "data": {
      "text/html": [
       "<span style=\"background-color:rgba(135,206,250,0.09132608);\">wine</span> <span style=\"background-color:rgba(135,206,250,0.19753256);\">review</span> <span style=\"background-color:rgba(135,206,250,0.7315554);\">:</span> <span style=\"background-color:rgba(135,206,250,0.44299242);\">germany</span> <span style=\"background-color:rgba(135,206,250,0.14903045);\">:</span> <span style=\"background-color:rgba(135,206,250,0.23985147);\">mosel</span> <span style=\"background-color:rgba(135,206,250,0.17127255);\">:</span> <span style=\"background-color:rgba(135,206,250,0.17333275);\">riesling</span> <span style=\"background-color:rgba(135,206,250,0.12391777);\">:</span> <span style=\"background-color:rgba(135,206,250,0.0526621);\">dusty</span> <span style=\"background-color:rgba(135,206,250,0.05885513);\">mineral</span> <span style=\"background-color:rgba(135,206,250,0.08807943);\">tones</span> <span style=\"background-color:rgba(135,206,250,0.04639926);\">of</span> <span style=\"background-color:rgba(135,206,250,0.031764645);\">stone</span> <span style=\"background-color:rgba(135,206,250,0.072001696);\">fruit</span> <span style=\"background-color:rgba(135,206,250,0.03546465);\">and</span> <span style=\"background-color:rgba(135,206,250,0.07938005);\">minerals</span> <span style=\"background-color:rgba(135,206,250,0.07909806);\">add</span> <span style=\"background-color:rgba(135,206,250,0.031519465);\">a</span> <span style=\"background-color:rgba(135,206,250,0.05934429);\">zesty</span> <span style=\"background-color:rgba(135,206,250,0.089878686);\">spray</span> <span style=\"background-color:rgba(135,206,250,0.048911188);\">of</span> <span style=\"background-color:rgba(135,206,250,0.061762262);\">freshness</span> <span style=\"background-color:rgba(135,206,250,0.035881653);\">to</span> <span style=\"background-color:rgba(135,206,250,0.05289826);\">this</span> <span style=\"background-color:rgba(135,206,250,0.07269165);\">dry</span> <span style=\"background-color:rgba(135,206,250,0.05345277);\">,</span> <span style=\"background-color:rgba(135,206,250,0.08175825);\">elegantly</span> <span style=\"background-color:rgba(135,206,250,0.12194078);\">structured</span> <span style=\"background-color:rgba(135,206,250,0.093175404);\">riesling</span> <span style=\"background-color:rgba(135,206,250,0.23076321);\">.</span> <span style=\"background-color:rgba(135,206,250,0.09701838);\">it</span> <span style=\"background-color:rgba(135,206,250,0.04502994);\">'</span> <span style=\"background-color:rgba(135,206,250,0.15861942);\">s</span> <span style=\"background-color:rgba(135,206,250,0.11500865);\">elegant</span> <span style=\"background-color:rgba(135,206,250,0.13386014);\">and</span> <span style=\"background-color:rgba(135,206,250,0.16185468);\">elegant</span> <span style=\"background-color:rgba(135,206,250,0.21418782);\">,</span> <span style=\"background-color:rgba(135,206,250,0.44956052);\">with</span> <span style=\"background-color:rgba(135,206,250,0.44424054);\">delicate</span> <span style=\"background-color:rgba(135,206,250,0.7441056);\">flavors</span> <span style=\"background-color:rgba(135,206,250,0.73605335);\">of</span> <span style=\"background-color:rgba(135,206,250,0.48805276);\">peach</span> <span style=\"background-color:rgba(135,206,250,1.0);\">,</span> <span style=\"background-color:rgba(135,206,250,0.4487348);\">lemon</span>"
      ],
      "text/plain": [
       "<IPython.core.display.HTML object>"
      ]
     },
     "metadata": {},
     "output_type": "display_data"
    },
    {
     "name": "stdout",
     "output_type": "stream",
     "text": [
      "and:   \t41.76%\n",
      ",:   \t40.11%\n",
      "-:   \t13.92%\n",
      "curd:   \t3.2%\n",
      "zest:   \t0.43%\n",
      "--------\n",
      "\n"
     ]
    },
    {
     "data": {
      "text/html": [
       "<span style=\"background-color:rgba(135,206,250,0.036638916);\">wine</span> <span style=\"background-color:rgba(135,206,250,0.06696052);\">review</span> <span style=\"background-color:rgba(135,206,250,0.16068992);\">:</span> <span style=\"background-color:rgba(135,206,250,0.28229833);\">germany</span> <span style=\"background-color:rgba(135,206,250,0.056190442);\">:</span> <span style=\"background-color:rgba(135,206,250,0.15820232);\">mosel</span> <span style=\"background-color:rgba(135,206,250,0.052100632);\">:</span> <span style=\"background-color:rgba(135,206,250,0.18487659);\">riesling</span> <span style=\"background-color:rgba(135,206,250,0.061889227);\">:</span> <span style=\"background-color:rgba(135,206,250,0.061313704);\">dusty</span> <span style=\"background-color:rgba(135,206,250,0.07925074);\">mineral</span> <span style=\"background-color:rgba(135,206,250,0.06842318);\">tones</span> <span style=\"background-color:rgba(135,206,250,0.017159415);\">of</span> <span style=\"background-color:rgba(135,206,250,0.035029944);\">stone</span> <span style=\"background-color:rgba(135,206,250,0.038647063);\">fruit</span> <span style=\"background-color:rgba(135,206,250,0.023261245);\">and</span> <span style=\"background-color:rgba(135,206,250,0.060786113);\">minerals</span> <span style=\"background-color:rgba(135,206,250,0.039939106);\">add</span> <span style=\"background-color:rgba(135,206,250,0.016169121);\">a</span> <span style=\"background-color:rgba(135,206,250,0.056921862);\">zesty</span> <span style=\"background-color:rgba(135,206,250,0.055285666);\">spray</span> <span style=\"background-color:rgba(135,206,250,0.017602231);\">of</span> <span style=\"background-color:rgba(135,206,250,0.050981864);\">freshness</span> <span style=\"background-color:rgba(135,206,250,0.014063867);\">to</span> <span style=\"background-color:rgba(135,206,250,0.031965327);\">this</span> <span style=\"background-color:rgba(135,206,250,0.05851601);\">dry</span> <span style=\"background-color:rgba(135,206,250,0.02999059);\">,</span> <span style=\"background-color:rgba(135,206,250,0.048433032);\">elegantly</span> <span style=\"background-color:rgba(135,206,250,0.069982);\">structured</span> <span style=\"background-color:rgba(135,206,250,0.07247951);\">riesling</span> <span style=\"background-color:rgba(135,206,250,0.07933077);\">.</span> <span style=\"background-color:rgba(135,206,250,0.038948648);\">it</span> <span style=\"background-color:rgba(135,206,250,0.014130398);\">'</span> <span style=\"background-color:rgba(135,206,250,0.05651342);\">s</span> <span style=\"background-color:rgba(135,206,250,0.08607608);\">elegant</span> <span style=\"background-color:rgba(135,206,250,0.040255807);\">and</span> <span style=\"background-color:rgba(135,206,250,0.108517624);\">elegant</span> <span style=\"background-color:rgba(135,206,250,0.09376923);\">,</span> <span style=\"background-color:rgba(135,206,250,0.11422381);\">with</span> <span style=\"background-color:rgba(135,206,250,0.18251435);\">delicate</span> <span style=\"background-color:rgba(135,206,250,0.26512682);\">flavors</span> <span style=\"background-color:rgba(135,206,250,0.21570303);\">of</span> <span style=\"background-color:rgba(135,206,250,0.6112976);\">peach</span> <span style=\"background-color:rgba(135,206,250,0.65275526);\">,</span> <span style=\"background-color:rgba(135,206,250,1.0);\">lemon</span> <span style=\"background-color:rgba(135,206,250,0.27792332);\">and</span>"
      ],
      "text/plain": [
       "<IPython.core.display.HTML object>"
      ]
     },
     "metadata": {},
     "output_type": "display_data"
    },
    {
     "name": "stdout",
     "output_type": "stream",
     "text": [
      "lime:   \t86.33%\n",
      "tangerine:   \t6.94%\n",
      "mineral:   \t1.75%\n",
      "honeysuckle:   \t1.04%\n",
      "honey:   \t0.98%\n",
      "--------\n",
      "\n"
     ]
    },
    {
     "data": {
      "text/html": [
       "<span style=\"background-color:rgba(135,206,250,0.052150182);\">wine</span> <span style=\"background-color:rgba(135,206,250,0.12144077);\">review</span> <span style=\"background-color:rgba(135,206,250,0.5350169);\">:</span> <span style=\"background-color:rgba(135,206,250,0.38358137);\">germany</span> <span style=\"background-color:rgba(135,206,250,0.094619006);\">:</span> <span style=\"background-color:rgba(135,206,250,0.12709695);\">mosel</span> <span style=\"background-color:rgba(135,206,250,0.10148435);\">:</span> <span style=\"background-color:rgba(135,206,250,0.09652894);\">riesling</span> <span style=\"background-color:rgba(135,206,250,0.07450714);\">:</span> <span style=\"background-color:rgba(135,206,250,0.027877359);\">dusty</span> <span style=\"background-color:rgba(135,206,250,0.031699564);\">mineral</span> <span style=\"background-color:rgba(135,206,250,0.07845614);\">tones</span> <span style=\"background-color:rgba(135,206,250,0.030204942);\">of</span> <span style=\"background-color:rgba(135,206,250,0.020761045);\">stone</span> <span style=\"background-color:rgba(135,206,250,0.06448529);\">fruit</span> <span style=\"background-color:rgba(135,206,250,0.022364765);\">and</span> <span style=\"background-color:rgba(135,206,250,0.05244114);\">minerals</span> <span style=\"background-color:rgba(135,206,250,0.052379593);\">add</span> <span style=\"background-color:rgba(135,206,250,0.021974256);\">a</span> <span style=\"background-color:rgba(135,206,250,0.036360215);\">zesty</span> <span style=\"background-color:rgba(135,206,250,0.05834648);\">spray</span> <span style=\"background-color:rgba(135,206,250,0.031690262);\">of</span> <span style=\"background-color:rgba(135,206,250,0.0517495);\">freshness</span> <span style=\"background-color:rgba(135,206,250,0.023423932);\">to</span> <span style=\"background-color:rgba(135,206,250,0.047036454);\">this</span> <span style=\"background-color:rgba(135,206,250,0.047798697);\">dry</span> <span style=\"background-color:rgba(135,206,250,0.037069365);\">,</span> <span style=\"background-color:rgba(135,206,250,0.06011476);\">elegantly</span> <span style=\"background-color:rgba(135,206,250,0.076417886);\">structured</span> <span style=\"background-color:rgba(135,206,250,0.06461973);\">riesling</span> <span style=\"background-color:rgba(135,206,250,0.19275887);\">.</span> <span style=\"background-color:rgba(135,206,250,0.08924441);\">it</span> <span style=\"background-color:rgba(135,206,250,0.023552993);\">'</span> <span style=\"background-color:rgba(135,206,250,0.119579986);\">s</span> <span style=\"background-color:rgba(135,206,250,0.07066454);\">elegant</span> <span style=\"background-color:rgba(135,206,250,0.08069684);\">and</span> <span style=\"background-color:rgba(135,206,250,0.09384609);\">elegant</span> <span style=\"background-color:rgba(135,206,250,0.1354442);\">,</span> <span style=\"background-color:rgba(135,206,250,0.2801096);\">with</span> <span style=\"background-color:rgba(135,206,250,0.2211392);\">delicate</span> <span style=\"background-color:rgba(135,206,250,0.5197694);\">flavors</span> <span style=\"background-color:rgba(135,206,250,0.31393704);\">of</span> <span style=\"background-color:rgba(135,206,250,0.20779267);\">peach</span> <span style=\"background-color:rgba(135,206,250,0.5532849);\">,</span> <span style=\"background-color:rgba(135,206,250,0.2143192);\">lemon</span> <span style=\"background-color:rgba(135,206,250,1.0);\">and</span> <span style=\"background-color:rgba(135,206,250,0.36209404);\">lime</span>"
      ],
      "text/plain": [
       "<IPython.core.display.HTML object>"
      ]
     },
     "metadata": {},
     "output_type": "display_data"
    },
    {
     "name": "stdout",
     "output_type": "stream",
     "text": [
      ".:   \t47.86%\n",
      ",:   \t32.16%\n",
      "acidity:   \t9.33%\n",
      "-:   \t2.88%\n",
      "zest:   \t1.48%\n",
      "--------\n",
      "\n"
     ]
    },
    {
     "data": {
      "text/html": [
       "<span style=\"background-color:rgba(135,206,250,0.035491254);\">wine</span> <span style=\"background-color:rgba(135,206,250,0.08687078);\">review</span> <span style=\"background-color:rgba(135,206,250,0.2790181);\">:</span> <span style=\"background-color:rgba(135,206,250,0.252785);\">germany</span> <span style=\"background-color:rgba(135,206,250,0.053029966);\">:</span> <span style=\"background-color:rgba(135,206,250,0.14093815);\">mosel</span> <span style=\"background-color:rgba(135,206,250,0.06167932);\">:</span> <span style=\"background-color:rgba(135,206,250,0.18728349);\">riesling</span> <span style=\"background-color:rgba(135,206,250,0.06871405);\">:</span> <span style=\"background-color:rgba(135,206,250,0.050753094);\">dusty</span> <span style=\"background-color:rgba(135,206,250,0.06669846);\">mineral</span> <span style=\"background-color:rgba(135,206,250,0.05388101);\">tones</span> <span style=\"background-color:rgba(135,206,250,0.020848833);\">of</span> <span style=\"background-color:rgba(135,206,250,0.030709155);\">stone</span> <span style=\"background-color:rgba(135,206,250,0.031928174);\">fruit</span> <span style=\"background-color:rgba(135,206,250,0.026276534);\">and</span> <span style=\"background-color:rgba(135,206,250,0.04226196);\">minerals</span> <span style=\"background-color:rgba(135,206,250,0.06374119);\">add</span> <span style=\"background-color:rgba(135,206,250,0.014582358);\">a</span> <span style=\"background-color:rgba(135,206,250,0.04634906);\">zesty</span> <span style=\"background-color:rgba(135,206,250,0.045490462);\">spray</span> <span style=\"background-color:rgba(135,206,250,0.021376776);\">of</span> <span style=\"background-color:rgba(135,206,250,0.04711466);\">freshness</span> <span style=\"background-color:rgba(135,206,250,0.019686092);\">to</span> <span style=\"background-color:rgba(135,206,250,0.064518034);\">this</span> <span style=\"background-color:rgba(135,206,250,0.05276);\">dry</span> <span style=\"background-color:rgba(135,206,250,0.028491609);\">,</span> <span style=\"background-color:rgba(135,206,250,0.036665943);\">elegantly</span> <span style=\"background-color:rgba(135,206,250,0.05552847);\">structured</span> <span style=\"background-color:rgba(135,206,250,0.07490992);\">riesling</span> <span style=\"background-color:rgba(135,206,250,0.138376);\">.</span> <span style=\"background-color:rgba(135,206,250,0.09342907);\">it</span> <span style=\"background-color:rgba(135,206,250,0.013071265);\">'</span> <span style=\"background-color:rgba(135,206,250,0.09930788);\">s</span> <span style=\"background-color:rgba(135,206,250,0.07026877);\">elegant</span> <span style=\"background-color:rgba(135,206,250,0.07131304);\">and</span> <span style=\"background-color:rgba(135,206,250,0.08910449);\">elegant</span> <span style=\"background-color:rgba(135,206,250,0.05703146);\">,</span> <span style=\"background-color:rgba(135,206,250,0.17382582);\">with</span> <span style=\"background-color:rgba(135,206,250,0.1565227);\">delicate</span> <span style=\"background-color:rgba(135,206,250,0.21444537);\">flavors</span> <span style=\"background-color:rgba(135,206,250,0.1400521);\">of</span> <span style=\"background-color:rgba(135,206,250,0.3222368);\">peach</span> <span style=\"background-color:rgba(135,206,250,0.13554478);\">,</span> <span style=\"background-color:rgba(135,206,250,0.511696);\">lemon</span> <span style=\"background-color:rgba(135,206,250,0.85149926);\">and</span> <span style=\"background-color:rgba(135,206,250,1.0);\">lime</span> <span style=\"background-color:rgba(135,206,250,0.40551323);\">,</span>"
      ],
      "text/plain": [
       "<IPython.core.display.HTML object>"
      ]
     },
     "metadata": {},
     "output_type": "display_data"
    },
    {
     "name": "stdout",
     "output_type": "stream",
     "text": [
      "but:   \t60.25%\n",
      "with:   \t25.65%\n",
      "yet:   \t4.62%\n",
      "it:   \t2.76%\n",
      "and:   \t2.5%\n",
      "--------\n",
      "\n"
     ]
    },
    {
     "data": {
      "text/html": [
       "<span style=\"background-color:rgba(135,206,250,0.1004618);\">wine</span> <span style=\"background-color:rgba(135,206,250,0.15705916);\">review</span> <span style=\"background-color:rgba(135,206,250,0.91499156);\">:</span> <span style=\"background-color:rgba(135,206,250,0.6848478);\">germany</span> <span style=\"background-color:rgba(135,206,250,0.14532545);\">:</span> <span style=\"background-color:rgba(135,206,250,0.33436525);\">mosel</span> <span style=\"background-color:rgba(135,206,250,0.22278188);\">:</span> <span style=\"background-color:rgba(135,206,250,0.2912628);\">riesling</span> <span style=\"background-color:rgba(135,206,250,0.13979782);\">:</span> <span style=\"background-color:rgba(135,206,250,0.052018654);\">dusty</span> <span style=\"background-color:rgba(135,206,250,0.098694146);\">mineral</span> <span style=\"background-color:rgba(135,206,250,0.12364905);\">tones</span> <span style=\"background-color:rgba(135,206,250,0.038506966);\">of</span> <span style=\"background-color:rgba(135,206,250,0.042818185);\">stone</span> <span style=\"background-color:rgba(135,206,250,0.061994653);\">fruit</span> <span style=\"background-color:rgba(135,206,250,0.041781314);\">and</span> <span style=\"background-color:rgba(135,206,250,0.0922921);\">minerals</span> <span style=\"background-color:rgba(135,206,250,0.115370795);\">add</span> <span style=\"background-color:rgba(135,206,250,0.03619458);\">a</span> <span style=\"background-color:rgba(135,206,250,0.03505696);\">zesty</span> <span style=\"background-color:rgba(135,206,250,0.10631053);\">spray</span> <span style=\"background-color:rgba(135,206,250,0.032831214);\">of</span> <span style=\"background-color:rgba(135,206,250,0.07496147);\">freshness</span> <span style=\"background-color:rgba(135,206,250,0.037328105);\">to</span> <span style=\"background-color:rgba(135,206,250,0.06935855);\">this</span> <span style=\"background-color:rgba(135,206,250,0.050412867);\">dry</span> <span style=\"background-color:rgba(135,206,250,0.047664605);\">,</span> <span style=\"background-color:rgba(135,206,250,0.053675037);\">elegantly</span> <span style=\"background-color:rgba(135,206,250,0.07701336);\">structured</span> <span style=\"background-color:rgba(135,206,250,0.09792717);\">riesling</span> <span style=\"background-color:rgba(135,206,250,0.13321553);\">.</span> <span style=\"background-color:rgba(135,206,250,0.09813864);\">it</span> <span style=\"background-color:rgba(135,206,250,0.023158612);\">'</span> <span style=\"background-color:rgba(135,206,250,0.07777675);\">s</span> <span style=\"background-color:rgba(135,206,250,0.0716601);\">elegant</span> <span style=\"background-color:rgba(135,206,250,0.077353254);\">and</span> <span style=\"background-color:rgba(135,206,250,0.09062078);\">elegant</span> <span style=\"background-color:rgba(135,206,250,0.108687684);\">,</span> <span style=\"background-color:rgba(135,206,250,0.2175129);\">with</span> <span style=\"background-color:rgba(135,206,250,0.17310771);\">delicate</span> <span style=\"background-color:rgba(135,206,250,0.27857265);\">flavors</span> <span style=\"background-color:rgba(135,206,250,0.14605199);\">of</span> <span style=\"background-color:rgba(135,206,250,0.2445973);\">peach</span> <span style=\"background-color:rgba(135,206,250,0.33836287);\">,</span> <span style=\"background-color:rgba(135,206,250,0.42108774);\">lemon</span> <span style=\"background-color:rgba(135,206,250,0.46333292);\">and</span> <span style=\"background-color:rgba(135,206,250,0.6341283);\">lime</span> <span style=\"background-color:rgba(135,206,250,1.0);\">,</span> <span style=\"background-color:rgba(135,206,250,0.36330324);\">but</span>"
      ],
      "text/plain": [
       "<IPython.core.display.HTML object>"
      ]
     },
     "metadata": {},
     "output_type": "display_data"
    },
    {
     "name": "stdout",
     "output_type": "stream",
     "text": [
      "it:   \t87.11%\n",
      "the:   \t9.94%\n",
      "balanced:   \t0.41%\n",
      "finishes:   \t0.38%\n",
      "there:   \t0.27%\n",
      "--------\n",
      "\n"
     ]
    },
    {
     "data": {
      "text/html": [
       "<span style=\"background-color:rgba(135,206,250,0.040730085);\">wine</span> <span style=\"background-color:rgba(135,206,250,0.069985084);\">review</span> <span style=\"background-color:rgba(135,206,250,0.28824174);\">:</span> <span style=\"background-color:rgba(135,206,250,0.32451752);\">germany</span> <span style=\"background-color:rgba(135,206,250,0.0701078);\">:</span> <span style=\"background-color:rgba(135,206,250,0.15801011);\">mosel</span> <span style=\"background-color:rgba(135,206,250,0.06610944);\">:</span> <span style=\"background-color:rgba(135,206,250,0.10453398);\">riesling</span> <span style=\"background-color:rgba(135,206,250,0.06274399);\">:</span> <span style=\"background-color:rgba(135,206,250,0.053811695);\">dusty</span> <span style=\"background-color:rgba(135,206,250,0.068057306);\">mineral</span> <span style=\"background-color:rgba(135,206,250,0.07910909);\">tones</span> <span style=\"background-color:rgba(135,206,250,0.022948902);\">of</span> <span style=\"background-color:rgba(135,206,250,0.02494802);\">stone</span> <span style=\"background-color:rgba(135,206,250,0.04018497);\">fruit</span> <span style=\"background-color:rgba(135,206,250,0.025370523);\">and</span> <span style=\"background-color:rgba(135,206,250,0.06828611);\">minerals</span> <span style=\"background-color:rgba(135,206,250,0.04168011);\">add</span> <span style=\"background-color:rgba(135,206,250,0.015537676);\">a</span> <span style=\"background-color:rgba(135,206,250,0.043770332);\">zesty</span> <span style=\"background-color:rgba(135,206,250,0.07293378);\">spray</span> <span style=\"background-color:rgba(135,206,250,0.02071027);\">of</span> <span style=\"background-color:rgba(135,206,250,0.04773932);\">freshness</span> <span style=\"background-color:rgba(135,206,250,0.016313653);\">to</span> <span style=\"background-color:rgba(135,206,250,0.027781108);\">this</span> <span style=\"background-color:rgba(135,206,250,0.056670573);\">dry</span> <span style=\"background-color:rgba(135,206,250,0.025047489);\">,</span> <span style=\"background-color:rgba(135,206,250,0.054826178);\">elegantly</span> <span style=\"background-color:rgba(135,206,250,0.06929704);\">structured</span> <span style=\"background-color:rgba(135,206,250,0.04519277);\">riesling</span> <span style=\"background-color:rgba(135,206,250,0.07287126);\">.</span> <span style=\"background-color:rgba(135,206,250,0.022826636);\">it</span> <span style=\"background-color:rgba(135,206,250,0.013284521);\">'</span> <span style=\"background-color:rgba(135,206,250,0.046151046);\">s</span> <span style=\"background-color:rgba(135,206,250,0.059502725);\">elegant</span> <span style=\"background-color:rgba(135,206,250,0.03549116);\">and</span> <span style=\"background-color:rgba(135,206,250,0.0696089);\">elegant</span> <span style=\"background-color:rgba(135,206,250,0.049045365);\">,</span> <span style=\"background-color:rgba(135,206,250,0.07781944);\">with</span> <span style=\"background-color:rgba(135,206,250,0.09198189);\">delicate</span> <span style=\"background-color:rgba(135,206,250,0.12194169);\">flavors</span> <span style=\"background-color:rgba(135,206,250,0.09006073);\">of</span> <span style=\"background-color:rgba(135,206,250,0.115628645);\">peach</span> <span style=\"background-color:rgba(135,206,250,0.1891988);\">,</span> <span style=\"background-color:rgba(135,206,250,0.13786733);\">lemon</span> <span style=\"background-color:rgba(135,206,250,0.1889407);\">and</span> <span style=\"background-color:rgba(135,206,250,0.24233405);\">lime</span> <span style=\"background-color:rgba(135,206,250,0.8189223);\">,</span> <span style=\"background-color:rgba(135,206,250,1.0);\">but</span> <span style=\"background-color:rgba(135,206,250,0.47067815);\">it</span>"
      ],
      "text/plain": [
       "<IPython.core.display.HTML object>"
      ]
     },
     "metadata": {},
     "output_type": "display_data"
    },
    {
     "name": "stdout",
     "output_type": "stream",
     "text": [
      "':   \t89.97%\n",
      "finishes:   \t7.69%\n",
      "should:   \t1.45%\n",
      "will:   \t0.46%\n",
      "is:   \t0.19%\n",
      "--------\n",
      "\n"
     ]
    },
    {
     "data": {
      "text/html": [
       "<span style=\"background-color:rgba(135,206,250,0.04368857);\">wine</span> <span style=\"background-color:rgba(135,206,250,0.07389123);\">review</span> <span style=\"background-color:rgba(135,206,250,0.10818492);\">:</span> <span style=\"background-color:rgba(135,206,250,0.09978975);\">germany</span> <span style=\"background-color:rgba(135,206,250,0.05628697);\">:</span> <span style=\"background-color:rgba(135,206,250,0.1014288);\">mosel</span> <span style=\"background-color:rgba(135,206,250,0.04938229);\">:</span> <span style=\"background-color:rgba(135,206,250,0.08038272);\">riesling</span> <span style=\"background-color:rgba(135,206,250,0.048926834);\">:</span> <span style=\"background-color:rgba(135,206,250,0.037896525);\">dusty</span> <span style=\"background-color:rgba(135,206,250,0.031098526);\">mineral</span> <span style=\"background-color:rgba(135,206,250,0.026089936);\">tones</span> <span style=\"background-color:rgba(135,206,250,0.0150269745);\">of</span> <span style=\"background-color:rgba(135,206,250,0.013422683);\">stone</span> <span style=\"background-color:rgba(135,206,250,0.018152727);\">fruit</span> <span style=\"background-color:rgba(135,206,250,0.018575223);\">and</span> <span style=\"background-color:rgba(135,206,250,0.02687891);\">minerals</span> <span style=\"background-color:rgba(135,206,250,0.016199837);\">add</span> <span style=\"background-color:rgba(135,206,250,0.012920305);\">a</span> <span style=\"background-color:rgba(135,206,250,0.026042534);\">zesty</span> <span style=\"background-color:rgba(135,206,250,0.02783229);\">spray</span> <span style=\"background-color:rgba(135,206,250,0.013674165);\">of</span> <span style=\"background-color:rgba(135,206,250,0.026378306);\">freshness</span> <span style=\"background-color:rgba(135,206,250,0.013528922);\">to</span> <span style=\"background-color:rgba(135,206,250,0.014786076);\">this</span> <span style=\"background-color:rgba(135,206,250,0.025670975);\">dry</span> <span style=\"background-color:rgba(135,206,250,0.02162407);\">,</span> <span style=\"background-color:rgba(135,206,250,0.029875267);\">elegantly</span> <span style=\"background-color:rgba(135,206,250,0.042377215);\">structured</span> <span style=\"background-color:rgba(135,206,250,0.029602952);\">riesling</span> <span style=\"background-color:rgba(135,206,250,0.04687817);\">.</span> <span style=\"background-color:rgba(135,206,250,0.021708384);\">it</span> <span style=\"background-color:rgba(135,206,250,0.013852992);\">'</span> <span style=\"background-color:rgba(135,206,250,0.027607216);\">s</span> <span style=\"background-color:rgba(135,206,250,0.0326661);\">elegant</span> <span style=\"background-color:rgba(135,206,250,0.027891148);\">and</span> <span style=\"background-color:rgba(135,206,250,0.038159017);\">elegant</span> <span style=\"background-color:rgba(135,206,250,0.03651095);\">,</span> <span style=\"background-color:rgba(135,206,250,0.04263042);\">with</span> <span style=\"background-color:rgba(135,206,250,0.04584318);\">delicate</span> <span style=\"background-color:rgba(135,206,250,0.070790574);\">flavors</span> <span style=\"background-color:rgba(135,206,250,0.03893669);\">of</span> <span style=\"background-color:rgba(135,206,250,0.053179424);\">peach</span> <span style=\"background-color:rgba(135,206,250,0.076577164);\">,</span> <span style=\"background-color:rgba(135,206,250,0.083708964);\">lemon</span> <span style=\"background-color:rgba(135,206,250,0.11789593);\">and</span> <span style=\"background-color:rgba(135,206,250,0.13867833);\">lime</span> <span style=\"background-color:rgba(135,206,250,0.22172129);\">,</span> <span style=\"background-color:rgba(135,206,250,0.2921225);\">but</span> <span style=\"background-color:rgba(135,206,250,1.0);\">it</span> <span style=\"background-color:rgba(135,206,250,0.066150725);\">'</span>"
      ],
      "text/plain": [
       "<IPython.core.display.HTML object>"
      ]
     },
     "metadata": {},
     "output_type": "display_data"
    },
    {
     "name": "stdout",
     "output_type": "stream",
     "text": [
      "s:   \t100.0%\n",
      "ll:   \t0.0%\n",
      "d:   \t0.0%\n",
      "re:   \t0.0%\n",
      "[UNK]:   \t0.0%\n",
      "--------\n",
      "\n"
     ]
    },
    {
     "data": {
      "text/html": [
       "<span style=\"background-color:rgba(135,206,250,0.046491556);\">wine</span> <span style=\"background-color:rgba(135,206,250,0.06885899);\">review</span> <span style=\"background-color:rgba(135,206,250,0.60089535);\">:</span> <span style=\"background-color:rgba(135,206,250,0.29707053);\">germany</span> <span style=\"background-color:rgba(135,206,250,0.06627684);\">:</span> <span style=\"background-color:rgba(135,206,250,0.2643834);\">mosel</span> <span style=\"background-color:rgba(135,206,250,0.08114928);\">:</span> <span style=\"background-color:rgba(135,206,250,0.23194909);\">riesling</span> <span style=\"background-color:rgba(135,206,250,0.09515967);\">:</span> <span style=\"background-color:rgba(135,206,250,0.08693981);\">dusty</span> <span style=\"background-color:rgba(135,206,250,0.095586434);\">mineral</span> <span style=\"background-color:rgba(135,206,250,0.064421155);\">tones</span> <span style=\"background-color:rgba(135,206,250,0.021344773);\">of</span> <span style=\"background-color:rgba(135,206,250,0.028064469);\">stone</span> <span style=\"background-color:rgba(135,206,250,0.029953787);\">fruit</span> <span style=\"background-color:rgba(135,206,250,0.034482583);\">and</span> <span style=\"background-color:rgba(135,206,250,0.062077474);\">minerals</span> <span style=\"background-color:rgba(135,206,250,0.036366146);\">add</span> <span style=\"background-color:rgba(135,206,250,0.01224491);\">a</span> <span style=\"background-color:rgba(135,206,250,0.054425146);\">zesty</span> <span style=\"background-color:rgba(135,206,250,0.06536088);\">spray</span> <span style=\"background-color:rgba(135,206,250,0.018112091);\">of</span> <span style=\"background-color:rgba(135,206,250,0.050850105);\">freshness</span> <span style=\"background-color:rgba(135,206,250,0.01704127);\">to</span> <span style=\"background-color:rgba(135,206,250,0.03172136);\">this</span> <span style=\"background-color:rgba(135,206,250,0.06963462);\">dry</span> <span style=\"background-color:rgba(135,206,250,0.025681647);\">,</span> <span style=\"background-color:rgba(135,206,250,0.0447438);\">elegantly</span> <span style=\"background-color:rgba(135,206,250,0.076000966);\">structured</span> <span style=\"background-color:rgba(135,206,250,0.05957653);\">riesling</span> <span style=\"background-color:rgba(135,206,250,0.06598701);\">.</span> <span style=\"background-color:rgba(135,206,250,0.023247622);\">it</span> <span style=\"background-color:rgba(135,206,250,0.012362813);\">'</span> <span style=\"background-color:rgba(135,206,250,0.03316524);\">s</span> <span style=\"background-color:rgba(135,206,250,0.074612945);\">elegant</span> <span style=\"background-color:rgba(135,206,250,0.048732724);\">and</span> <span style=\"background-color:rgba(135,206,250,0.08549968);\">elegant</span> <span style=\"background-color:rgba(135,206,250,0.049891703);\">,</span> <span style=\"background-color:rgba(135,206,250,0.07475075);\">with</span> <span style=\"background-color:rgba(135,206,250,0.0927021);\">delicate</span> <span style=\"background-color:rgba(135,206,250,0.11798489);\">flavors</span> <span style=\"background-color:rgba(135,206,250,0.064097434);\">of</span> <span style=\"background-color:rgba(135,206,250,0.10028948);\">peach</span> <span style=\"background-color:rgba(135,206,250,0.13866627);\">,</span> <span style=\"background-color:rgba(135,206,250,0.116305836);\">lemon</span> <span style=\"background-color:rgba(135,206,250,0.14862642);\">and</span> <span style=\"background-color:rgba(135,206,250,0.14960973);\">lime</span> <span style=\"background-color:rgba(135,206,250,0.46975222);\">,</span> <span style=\"background-color:rgba(135,206,250,0.8008307);\">but</span> <span style=\"background-color:rgba(135,206,250,1.0);\">it</span> <span style=\"background-color:rgba(135,206,250,0.15626258);\">'</span> <span style=\"background-color:rgba(135,206,250,0.29587317);\">s</span>"
      ],
      "text/plain": [
       "<IPython.core.display.HTML object>"
      ]
     },
     "metadata": {},
     "output_type": "display_data"
    },
    {
     "name": "stdout",
     "output_type": "stream",
     "text": [
      "a:   \t82.68%\n",
      "an:   \t8.44%\n",
      "not:   \t2.46%\n",
      "balanced:   \t1.26%\n",
      "still:   \t0.95%\n",
      "--------\n",
      "\n"
     ]
    },
    {
     "data": {
      "text/html": [
       "<span style=\"background-color:rgba(135,206,250,0.047007926);\">wine</span> <span style=\"background-color:rgba(135,206,250,0.07753332);\">review</span> <span style=\"background-color:rgba(135,206,250,0.45016634);\">:</span> <span style=\"background-color:rgba(135,206,250,0.37912115);\">germany</span> <span style=\"background-color:rgba(135,206,250,0.05763722);\">:</span> <span style=\"background-color:rgba(135,206,250,0.24575385);\">mosel</span> <span style=\"background-color:rgba(135,206,250,0.072050445);\">:</span> <span style=\"background-color:rgba(135,206,250,0.23645668);\">riesling</span> <span style=\"background-color:rgba(135,206,250,0.07752326);\">:</span> <span style=\"background-color:rgba(135,206,250,0.08814517);\">dusty</span> <span style=\"background-color:rgba(135,206,250,0.10377708);\">mineral</span> <span style=\"background-color:rgba(135,206,250,0.075079076);\">tones</span> <span style=\"background-color:rgba(135,206,250,0.021367444);\">of</span> <span style=\"background-color:rgba(135,206,250,0.030044066);\">stone</span> <span style=\"background-color:rgba(135,206,250,0.031420793);\">fruit</span> <span style=\"background-color:rgba(135,206,250,0.025225408);\">and</span> <span style=\"background-color:rgba(135,206,250,0.07465983);\">minerals</span> <span style=\"background-color:rgba(135,206,250,0.0353036);\">add</span> <span style=\"background-color:rgba(135,206,250,0.009496434);\">a</span> <span style=\"background-color:rgba(135,206,250,0.068116985);\">zesty</span> <span style=\"background-color:rgba(135,206,250,0.05902389);\">spray</span> <span style=\"background-color:rgba(135,206,250,0.01804996);\">of</span> <span style=\"background-color:rgba(135,206,250,0.05134949);\">freshness</span> <span style=\"background-color:rgba(135,206,250,0.010610472);\">to</span> <span style=\"background-color:rgba(135,206,250,0.024204949);\">this</span> <span style=\"background-color:rgba(135,206,250,0.054092694);\">dry</span> <span style=\"background-color:rgba(135,206,250,0.024543732);\">,</span> <span style=\"background-color:rgba(135,206,250,0.044219956);\">elegantly</span> <span style=\"background-color:rgba(135,206,250,0.08469775);\">structured</span> <span style=\"background-color:rgba(135,206,250,0.05986114);\">riesling</span> <span style=\"background-color:rgba(135,206,250,0.062753335);\">.</span> <span style=\"background-color:rgba(135,206,250,0.024453655);\">it</span> <span style=\"background-color:rgba(135,206,250,0.010843663);\">'</span> <span style=\"background-color:rgba(135,206,250,0.036644783);\">s</span> <span style=\"background-color:rgba(135,206,250,0.0749182);\">elegant</span> <span style=\"background-color:rgba(135,206,250,0.03358896);\">and</span> <span style=\"background-color:rgba(135,206,250,0.085964166);\">elegant</span> <span style=\"background-color:rgba(135,206,250,0.042429794);\">,</span> <span style=\"background-color:rgba(135,206,250,0.050275974);\">with</span> <span style=\"background-color:rgba(135,206,250,0.088773414);\">delicate</span> <span style=\"background-color:rgba(135,206,250,0.13106616);\">flavors</span> <span style=\"background-color:rgba(135,206,250,0.05704129);\">of</span> <span style=\"background-color:rgba(135,206,250,0.079825416);\">peach</span> <span style=\"background-color:rgba(135,206,250,0.099934645);\">,</span> <span style=\"background-color:rgba(135,206,250,0.12891455);\">lemon</span> <span style=\"background-color:rgba(135,206,250,0.13349824);\">and</span> <span style=\"background-color:rgba(135,206,250,0.22376639);\">lime</span> <span style=\"background-color:rgba(135,206,250,0.2785986);\">,</span> <span style=\"background-color:rgba(135,206,250,0.40422666);\">but</span> <span style=\"background-color:rgba(135,206,250,0.62213916);\">it</span> <span style=\"background-color:rgba(135,206,250,0.14677985);\">'</span> <span style=\"background-color:rgba(135,206,250,1.0);\">s</span> <span style=\"background-color:rgba(135,206,250,0.28898412);\">a</span>"
      ],
      "text/plain": [
       "<IPython.core.display.HTML object>"
      ]
     },
     "metadata": {},
     "output_type": "display_data"
    },
    {
     "name": "stdout",
     "output_type": "stream",
     "text": [
      "fine:   \t9.63%\n",
      "great:   \t7.35%\n",
      "versatile:   \t6.47%\n",
      "wine:   \t4.87%\n",
      "delicious:   \t4.55%\n",
      "--------\n",
      "\n"
     ]
    },
    {
     "data": {
      "text/html": [
       "<span style=\"background-color:rgba(135,206,250,0.027342113);\">wine</span> <span style=\"background-color:rgba(135,206,250,0.05078284);\">review</span> <span style=\"background-color:rgba(135,206,250,0.17504844);\">:</span> <span style=\"background-color:rgba(135,206,250,0.3059688);\">germany</span> <span style=\"background-color:rgba(135,206,250,0.04210225);\">:</span> <span style=\"background-color:rgba(135,206,250,0.1563889);\">mosel</span> <span style=\"background-color:rgba(135,206,250,0.06597909);\">:</span> <span style=\"background-color:rgba(135,206,250,0.22742124);\">riesling</span> <span style=\"background-color:rgba(135,206,250,0.05937845);\">:</span> <span style=\"background-color:rgba(135,206,250,0.037762772);\">dusty</span> <span style=\"background-color:rgba(135,206,250,0.059711475);\">mineral</span> <span style=\"background-color:rgba(135,206,250,0.045059614);\">tones</span> <span style=\"background-color:rgba(135,206,250,0.018140588);\">of</span> <span style=\"background-color:rgba(135,206,250,0.029987933);\">stone</span> <span style=\"background-color:rgba(135,206,250,0.052804008);\">fruit</span> <span style=\"background-color:rgba(135,206,250,0.024892008);\">and</span> <span style=\"background-color:rgba(135,206,250,0.053710908);\">minerals</span> <span style=\"background-color:rgba(135,206,250,0.02386752);\">add</span> <span style=\"background-color:rgba(135,206,250,0.011658933);\">a</span> <span style=\"background-color:rgba(135,206,250,0.032107178);\">zesty</span> <span style=\"background-color:rgba(135,206,250,0.050662663);\">spray</span> <span style=\"background-color:rgba(135,206,250,0.017094566);\">of</span> <span style=\"background-color:rgba(135,206,250,0.04257392);\">freshness</span> <span style=\"background-color:rgba(135,206,250,0.011337725);\">to</span> <span style=\"background-color:rgba(135,206,250,0.02335483);\">this</span> <span style=\"background-color:rgba(135,206,250,0.04126767);\">dry</span> <span style=\"background-color:rgba(135,206,250,0.02698461);\">,</span> <span style=\"background-color:rgba(135,206,250,0.02685752);\">elegantly</span> <span style=\"background-color:rgba(135,206,250,0.05600882);\">structured</span> <span style=\"background-color:rgba(135,206,250,0.087164976);\">riesling</span> <span style=\"background-color:rgba(135,206,250,0.07096857);\">.</span> <span style=\"background-color:rgba(135,206,250,0.030879714);\">it</span> <span style=\"background-color:rgba(135,206,250,0.010087481);\">'</span> <span style=\"background-color:rgba(135,206,250,0.056692228);\">s</span> <span style=\"background-color:rgba(135,206,250,0.042109605);\">elegant</span> <span style=\"background-color:rgba(135,206,250,0.03818479);\">and</span> <span style=\"background-color:rgba(135,206,250,0.048443012);\">elegant</span> <span style=\"background-color:rgba(135,206,250,0.044148717);\">,</span> <span style=\"background-color:rgba(135,206,250,0.04206813);\">with</span> <span style=\"background-color:rgba(135,206,250,0.038584746);\">delicate</span> <span style=\"background-color:rgba(135,206,250,0.13186452);\">flavors</span> <span style=\"background-color:rgba(135,206,250,0.045434166);\">of</span> <span style=\"background-color:rgba(135,206,250,0.099716574);\">peach</span> <span style=\"background-color:rgba(135,206,250,0.06971462);\">,</span> <span style=\"background-color:rgba(135,206,250,0.13022204);\">lemon</span> <span style=\"background-color:rgba(135,206,250,0.09485508);\">and</span> <span style=\"background-color:rgba(135,206,250,0.17468561);\">lime</span> <span style=\"background-color:rgba(135,206,250,0.14343037);\">,</span> <span style=\"background-color:rgba(135,206,250,0.20243129);\">but</span> <span style=\"background-color:rgba(135,206,250,0.4479405);\">it</span> <span style=\"background-color:rgba(135,206,250,0.09522203);\">'</span> <span style=\"background-color:rgba(135,206,250,1.0);\">s</span> <span style=\"background-color:rgba(135,206,250,0.9489327);\">a</span> <span style=\"background-color:rgba(135,206,250,0.26882154);\">fresh</span>"
      ],
      "text/plain": [
       "<IPython.core.display.HTML object>"
      ]
     },
     "metadata": {},
     "output_type": "display_data"
    },
    {
     "name": "stdout",
     "output_type": "stream",
     "text": [
      ",:   \t93.8%\n",
      "and:   \t2.76%\n",
      "wine:   \t2.1%\n",
      "yet:   \t0.62%\n",
      "but:   \t0.5%\n",
      "--------\n",
      "\n"
     ]
    },
    {
     "data": {
      "text/html": [
       "<span style=\"background-color:rgba(135,206,250,0.03262221);\">wine</span> <span style=\"background-color:rgba(135,206,250,0.07587408);\">review</span> <span style=\"background-color:rgba(135,206,250,0.27108347);\">:</span> <span style=\"background-color:rgba(135,206,250,0.27989244);\">germany</span> <span style=\"background-color:rgba(135,206,250,0.05371089);\">:</span> <span style=\"background-color:rgba(135,206,250,0.14090195);\">mosel</span> <span style=\"background-color:rgba(135,206,250,0.064041376);\">:</span> <span style=\"background-color:rgba(135,206,250,0.19854526);\">riesling</span> <span style=\"background-color:rgba(135,206,250,0.06787128);\">:</span> <span style=\"background-color:rgba(135,206,250,0.049615942);\">dusty</span> <span style=\"background-color:rgba(135,206,250,0.06738625);\">mineral</span> <span style=\"background-color:rgba(135,206,250,0.05234229);\">tones</span> <span style=\"background-color:rgba(135,206,250,0.020982392);\">of</span> <span style=\"background-color:rgba(135,206,250,0.029309206);\">stone</span> <span style=\"background-color:rgba(135,206,250,0.031641625);\">fruit</span> <span style=\"background-color:rgba(135,206,250,0.025023837);\">and</span> <span style=\"background-color:rgba(135,206,250,0.0417285);\">minerals</span> <span style=\"background-color:rgba(135,206,250,0.05898037);\">add</span> <span style=\"background-color:rgba(135,206,250,0.013074018);\">a</span> <span style=\"background-color:rgba(135,206,250,0.039072793);\">zesty</span> <span style=\"background-color:rgba(135,206,250,0.044448547);\">spray</span> <span style=\"background-color:rgba(135,206,250,0.019314812);\">of</span> <span style=\"background-color:rgba(135,206,250,0.04062432);\">freshness</span> <span style=\"background-color:rgba(135,206,250,0.016266927);\">to</span> <span style=\"background-color:rgba(135,206,250,0.051211763);\">this</span> <span style=\"background-color:rgba(135,206,250,0.04224876);\">dry</span> <span style=\"background-color:rgba(135,206,250,0.024018172);\">,</span> <span style=\"background-color:rgba(135,206,250,0.029616164);\">elegantly</span> <span style=\"background-color:rgba(135,206,250,0.048680596);\">structured</span> <span style=\"background-color:rgba(135,206,250,0.06696284);\">riesling</span> <span style=\"background-color:rgba(135,206,250,0.10647134);\">.</span> <span style=\"background-color:rgba(135,206,250,0.071816616);\">it</span> <span style=\"background-color:rgba(135,206,250,0.010768951);\">'</span> <span style=\"background-color:rgba(135,206,250,0.07974397);\">s</span> <span style=\"background-color:rgba(135,206,250,0.049784888);\">elegant</span> <span style=\"background-color:rgba(135,206,250,0.04584545);\">and</span> <span style=\"background-color:rgba(135,206,250,0.057733808);\">elegant</span> <span style=\"background-color:rgba(135,206,250,0.042178947);\">,</span> <span style=\"background-color:rgba(135,206,250,0.10322947);\">with</span> <span style=\"background-color:rgba(135,206,250,0.07751339);\">delicate</span> <span style=\"background-color:rgba(135,206,250,0.11867122);\">flavors</span> <span style=\"background-color:rgba(135,206,250,0.053892676);\">of</span> <span style=\"background-color:rgba(135,206,250,0.102076545);\">peach</span> <span style=\"background-color:rgba(135,206,250,0.062218964);\">,</span> <span style=\"background-color:rgba(135,206,250,0.1257986);\">lemon</span> <span style=\"background-color:rgba(135,206,250,0.14660539);\">and</span> <span style=\"background-color:rgba(135,206,250,0.19883758);\">lime</span> <span style=\"background-color:rgba(135,206,250,0.0958791);\">,</span> <span style=\"background-color:rgba(135,206,250,0.3330725);\">but</span> <span style=\"background-color:rgba(135,206,250,0.3380394);\">it</span> <span style=\"background-color:rgba(135,206,250,0.09140497);\">'</span> <span style=\"background-color:rgba(135,206,250,0.8487175);\">s</span> <span style=\"background-color:rgba(135,206,250,0.6124123);\">a</span> <span style=\"background-color:rgba(135,206,250,1.0);\">fresh</span> <span style=\"background-color:rgba(135,206,250,0.51889616);\">,</span>"
      ],
      "text/plain": [
       "<IPython.core.display.HTML object>"
      ]
     },
     "metadata": {},
     "output_type": "display_data"
    },
    {
     "name": "stdout",
     "output_type": "stream",
     "text": [
      "fruity:   \t30.93%\n",
      "clean:   \t16.82%\n",
      "quaffable:   \t12.26%\n",
      "easy:   \t10.53%\n",
      "juicy:   \t3.98%\n",
      "--------\n",
      "\n"
     ]
    },
    {
     "data": {
      "text/html": [
       "<span style=\"background-color:rgba(135,206,250,0.057513144);\">wine</span> <span style=\"background-color:rgba(135,206,250,0.08842278);\">review</span> <span style=\"background-color:rgba(135,206,250,0.22384433);\">:</span> <span style=\"background-color:rgba(135,206,250,0.25477126);\">germany</span> <span style=\"background-color:rgba(135,206,250,0.0781599);\">:</span> <span style=\"background-color:rgba(135,206,250,0.24677695);\">mosel</span> <span style=\"background-color:rgba(135,206,250,0.110106096);\">:</span> <span style=\"background-color:rgba(135,206,250,0.30941775);\">riesling</span> <span style=\"background-color:rgba(135,206,250,0.09912593);\">:</span> <span style=\"background-color:rgba(135,206,250,0.06255946);\">dusty</span> <span style=\"background-color:rgba(135,206,250,0.075804636);\">mineral</span> <span style=\"background-color:rgba(135,206,250,0.062962495);\">tones</span> <span style=\"background-color:rgba(135,206,250,0.029467426);\">of</span> <span style=\"background-color:rgba(135,206,250,0.043525614);\">stone</span> <span style=\"background-color:rgba(135,206,250,0.053672116);\">fruit</span> <span style=\"background-color:rgba(135,206,250,0.037154138);\">and</span> <span style=\"background-color:rgba(135,206,250,0.06061573);\">minerals</span> <span style=\"background-color:rgba(135,206,250,0.026298631);\">add</span> <span style=\"background-color:rgba(135,206,250,0.017606279);\">a</span> <span style=\"background-color:rgba(135,206,250,0.03595616);\">zesty</span> <span style=\"background-color:rgba(135,206,250,0.06052038);\">spray</span> <span style=\"background-color:rgba(135,206,250,0.025397494);\">of</span> <span style=\"background-color:rgba(135,206,250,0.042854827);\">freshness</span> <span style=\"background-color:rgba(135,206,250,0.021141386);\">to</span> <span style=\"background-color:rgba(135,206,250,0.024030281);\">this</span> <span style=\"background-color:rgba(135,206,250,0.04752222);\">dry</span> <span style=\"background-color:rgba(135,206,250,0.034087636);\">,</span> <span style=\"background-color:rgba(135,206,250,0.036349367);\">elegantly</span> <span style=\"background-color:rgba(135,206,250,0.065969326);\">structured</span> <span style=\"background-color:rgba(135,206,250,0.0955803);\">riesling</span> <span style=\"background-color:rgba(135,206,250,0.07928017);\">.</span> <span style=\"background-color:rgba(135,206,250,0.03246111);\">it</span> <span style=\"background-color:rgba(135,206,250,0.020579308);\">'</span> <span style=\"background-color:rgba(135,206,250,0.05986708);\">s</span> <span style=\"background-color:rgba(135,206,250,0.04333866);\">elegant</span> <span style=\"background-color:rgba(135,206,250,0.052602768);\">and</span> <span style=\"background-color:rgba(135,206,250,0.048485518);\">elegant</span> <span style=\"background-color:rgba(135,206,250,0.055683605);\">,</span> <span style=\"background-color:rgba(135,206,250,0.051034812);\">with</span> <span style=\"background-color:rgba(135,206,250,0.043082785);\">delicate</span> <span style=\"background-color:rgba(135,206,250,0.17088714);\">flavors</span> <span style=\"background-color:rgba(135,206,250,0.0628832);\">of</span> <span style=\"background-color:rgba(135,206,250,0.0959633);\">peach</span> <span style=\"background-color:rgba(135,206,250,0.08317456);\">,</span> <span style=\"background-color:rgba(135,206,250,0.12948345);\">lemon</span> <span style=\"background-color:rgba(135,206,250,0.11024146);\">and</span> <span style=\"background-color:rgba(135,206,250,0.14570981);\">lime</span> <span style=\"background-color:rgba(135,206,250,0.15496269);\">,</span> <span style=\"background-color:rgba(135,206,250,0.19885072);\">but</span> <span style=\"background-color:rgba(135,206,250,0.45245004);\">it</span> <span style=\"background-color:rgba(135,206,250,0.12957345);\">'</span> <span style=\"background-color:rgba(135,206,250,0.9484362);\">s</span> <span style=\"background-color:rgba(135,206,250,0.7226873);\">a</span> <span style=\"background-color:rgba(135,206,250,0.24921073);\">fresh</span> <span style=\"background-color:rgba(135,206,250,1.0);\">,</span> <span style=\"background-color:rgba(135,206,250,0.50526553);\">simple</span>"
      ],
      "text/plain": [
       "<IPython.core.display.HTML object>"
      ]
     },
     "metadata": {},
     "output_type": "display_data"
    },
    {
     "name": "stdout",
     "output_type": "stream",
     "text": [
      "wine:   \t73.59%\n",
      "but:   \t8.9%\n",
      "quaffer:   \t7.68%\n",
      ",:   \t7.15%\n",
      "and:   \t1.68%\n",
      "--------\n",
      "\n"
     ]
    },
    {
     "data": {
      "text/html": [
       "<span style=\"background-color:rgba(135,206,250,0.041191097);\">wine</span> <span style=\"background-color:rgba(135,206,250,0.116216905);\">review</span> <span style=\"background-color:rgba(135,206,250,0.32074425);\">:</span> <span style=\"background-color:rgba(135,206,250,0.28999132);\">germany</span> <span style=\"background-color:rgba(135,206,250,0.088179074);\">:</span> <span style=\"background-color:rgba(135,206,250,0.13526139);\">mosel</span> <span style=\"background-color:rgba(135,206,250,0.08867545);\">:</span> <span style=\"background-color:rgba(135,206,250,0.08674163);\">riesling</span> <span style=\"background-color:rgba(135,206,250,0.07702267);\">:</span> <span style=\"background-color:rgba(135,206,250,0.031565413);\">dusty</span> <span style=\"background-color:rgba(135,206,250,0.046534102);\">mineral</span> <span style=\"background-color:rgba(135,206,250,0.07327655);\">tones</span> <span style=\"background-color:rgba(135,206,250,0.025552507);\">of</span> <span style=\"background-color:rgba(135,206,250,0.028415078);\">stone</span> <span style=\"background-color:rgba(135,206,250,0.030439295);\">fruit</span> <span style=\"background-color:rgba(135,206,250,0.029709578);\">and</span> <span style=\"background-color:rgba(135,206,250,0.04701144);\">minerals</span> <span style=\"background-color:rgba(135,206,250,0.08421739);\">add</span> <span style=\"background-color:rgba(135,206,250,0.031267658);\">a</span> <span style=\"background-color:rgba(135,206,250,0.023982627);\">zesty</span> <span style=\"background-color:rgba(135,206,250,0.05527862);\">spray</span> <span style=\"background-color:rgba(135,206,250,0.022291318);\">of</span> <span style=\"background-color:rgba(135,206,250,0.05776384);\">freshness</span> <span style=\"background-color:rgba(135,206,250,0.01885203);\">to</span> <span style=\"background-color:rgba(135,206,250,0.0517009);\">this</span> <span style=\"background-color:rgba(135,206,250,0.03400892);\">dry</span> <span style=\"background-color:rgba(135,206,250,0.034690373);\">,</span> <span style=\"background-color:rgba(135,206,250,0.050646286);\">elegantly</span> <span style=\"background-color:rgba(135,206,250,0.054196708);\">structured</span> <span style=\"background-color:rgba(135,206,250,0.0442793);\">riesling</span> <span style=\"background-color:rgba(135,206,250,0.13192919);\">.</span> <span style=\"background-color:rgba(135,206,250,0.057324786);\">it</span> <span style=\"background-color:rgba(135,206,250,0.020103224);\">'</span> <span style=\"background-color:rgba(135,206,250,0.08277013);\">s</span> <span style=\"background-color:rgba(135,206,250,0.048087053);\">elegant</span> <span style=\"background-color:rgba(135,206,250,0.045473218);\">and</span> <span style=\"background-color:rgba(135,206,250,0.055897087);\">elegant</span> <span style=\"background-color:rgba(135,206,250,0.05824768);\">,</span> <span style=\"background-color:rgba(135,206,250,0.101479866);\">with</span> <span style=\"background-color:rgba(135,206,250,0.045464866);\">delicate</span> <span style=\"background-color:rgba(135,206,250,0.12355971);\">flavors</span> <span style=\"background-color:rgba(135,206,250,0.0561612);\">of</span> <span style=\"background-color:rgba(135,206,250,0.08071054);\">peach</span> <span style=\"background-color:rgba(135,206,250,0.09040969);\">,</span> <span style=\"background-color:rgba(135,206,250,0.08234502);\">lemon</span> <span style=\"background-color:rgba(135,206,250,0.08217231);\">and</span> <span style=\"background-color:rgba(135,206,250,0.120374225);\">lime</span> <span style=\"background-color:rgba(135,206,250,0.15619732);\">,</span> <span style=\"background-color:rgba(135,206,250,0.22703892);\">but</span> <span style=\"background-color:rgba(135,206,250,0.19706893);\">it</span> <span style=\"background-color:rgba(135,206,250,0.10516959);\">'</span> <span style=\"background-color:rgba(135,206,250,0.5290659);\">s</span> <span style=\"background-color:rgba(135,206,250,0.63163674);\">a</span> <span style=\"background-color:rgba(135,206,250,0.40847546);\">fresh</span> <span style=\"background-color:rgba(135,206,250,0.9764335);\">,</span> <span style=\"background-color:rgba(135,206,250,1.0);\">simple</span> <span style=\"background-color:rgba(135,206,250,0.7832508);\">wine</span>"
      ],
      "text/plain": [
       "<IPython.core.display.HTML object>"
      ]
     },
     "metadata": {},
     "output_type": "display_data"
    },
    {
     "name": "stdout",
     "output_type": "stream",
     "text": [
      "that:   \t40.37%\n",
      ".:   \t36.04%\n",
      "to:   \t11.22%\n",
      "with:   \t6.75%\n",
      ",:   \t3.69%\n",
      "--------\n",
      "\n"
     ]
    },
    {
     "data": {
      "text/html": [
       "<span style=\"background-color:rgba(135,206,250,0.02848992);\">wine</span> <span style=\"background-color:rgba(135,206,250,0.048141602);\">review</span> <span style=\"background-color:rgba(135,206,250,0.14035793);\">:</span> <span style=\"background-color:rgba(135,206,250,0.23902768);\">germany</span> <span style=\"background-color:rgba(135,206,250,0.050585642);\">:</span> <span style=\"background-color:rgba(135,206,250,0.10553994);\">mosel</span> <span style=\"background-color:rgba(135,206,250,0.03776005);\">:</span> <span style=\"background-color:rgba(135,206,250,0.06902446);\">riesling</span> <span style=\"background-color:rgba(135,206,250,0.038016528);\">:</span> <span style=\"background-color:rgba(135,206,250,0.026185552);\">dusty</span> <span style=\"background-color:rgba(135,206,250,0.04092198);\">mineral</span> <span style=\"background-color:rgba(135,206,250,0.05509311);\">tones</span> <span style=\"background-color:rgba(135,206,250,0.010563497);\">of</span> <span style=\"background-color:rgba(135,206,250,0.015794436);\">stone</span> <span style=\"background-color:rgba(135,206,250,0.021422485);\">fruit</span> <span style=\"background-color:rgba(135,206,250,0.011412816);\">and</span> <span style=\"background-color:rgba(135,206,250,0.039489336);\">minerals</span> <span style=\"background-color:rgba(135,206,250,0.02352456);\">add</span> <span style=\"background-color:rgba(135,206,250,0.013035121);\">a</span> <span style=\"background-color:rgba(135,206,250,0.020042533);\">zesty</span> <span style=\"background-color:rgba(135,206,250,0.04155611);\">spray</span> <span style=\"background-color:rgba(135,206,250,0.00883435);\">of</span> <span style=\"background-color:rgba(135,206,250,0.02971082);\">freshness</span> <span style=\"background-color:rgba(135,206,250,0.006501473);\">to</span> <span style=\"background-color:rgba(135,206,250,0.011552832);\">this</span> <span style=\"background-color:rgba(135,206,250,0.021024842);\">dry</span> <span style=\"background-color:rgba(135,206,250,0.014813285);\">,</span> <span style=\"background-color:rgba(135,206,250,0.026618192);\">elegantly</span> <span style=\"background-color:rgba(135,206,250,0.03964236);\">structured</span> <span style=\"background-color:rgba(135,206,250,0.02974287);\">riesling</span> <span style=\"background-color:rgba(135,206,250,0.040678877);\">.</span> <span style=\"background-color:rgba(135,206,250,0.015345619);\">it</span> <span style=\"background-color:rgba(135,206,250,0.0072177993);\">'</span> <span style=\"background-color:rgba(135,206,250,0.023313427);\">s</span> <span style=\"background-color:rgba(135,206,250,0.030343825);\">elegant</span> <span style=\"background-color:rgba(135,206,250,0.0150787225);\">and</span> <span style=\"background-color:rgba(135,206,250,0.034129735);\">elegant</span> <span style=\"background-color:rgba(135,206,250,0.021877008);\">,</span> <span style=\"background-color:rgba(135,206,250,0.029753853);\">with</span> <span style=\"background-color:rgba(135,206,250,0.027809756);\">delicate</span> <span style=\"background-color:rgba(135,206,250,0.064235166);\">flavors</span> <span style=\"background-color:rgba(135,206,250,0.016473763);\">of</span> <span style=\"background-color:rgba(135,206,250,0.04335289);\">peach</span> <span style=\"background-color:rgba(135,206,250,0.029012378);\">,</span> <span style=\"background-color:rgba(135,206,250,0.04956581);\">lemon</span> <span style=\"background-color:rgba(135,206,250,0.02781826);\">and</span> <span style=\"background-color:rgba(135,206,250,0.058223616);\">lime</span> <span style=\"background-color:rgba(135,206,250,0.04221335);\">,</span> <span style=\"background-color:rgba(135,206,250,0.06858109);\">but</span> <span style=\"background-color:rgba(135,206,250,0.041904565);\">it</span> <span style=\"background-color:rgba(135,206,250,0.018860916);\">'</span> <span style=\"background-color:rgba(135,206,250,0.15839767);\">s</span> <span style=\"background-color:rgba(135,206,250,0.18923321);\">a</span> <span style=\"background-color:rgba(135,206,250,0.13852295);\">fresh</span> <span style=\"background-color:rgba(135,206,250,0.19308859);\">,</span> <span style=\"background-color:rgba(135,206,250,0.5726097);\">simple</span> <span style=\"background-color:rgba(135,206,250,1.0);\">wine</span> <span style=\"background-color:rgba(135,206,250,0.12752552);\">that</span>"
      ],
      "text/plain": [
       "<IPython.core.display.HTML object>"
      ]
     },
     "metadata": {},
     "output_type": "display_data"
    },
    {
     "name": "stdout",
     "output_type": "stream",
     "text": [
      "will:   \t39.53%\n",
      "should:   \t39.35%\n",
      "':   \t13.92%\n",
      "can:   \t1.93%\n",
      "would:   \t1.64%\n",
      "--------\n",
      "\n"
     ]
    },
    {
     "data": {
      "text/html": [
       "<span style=\"background-color:rgba(135,206,250,0.10394913);\">wine</span> <span style=\"background-color:rgba(135,206,250,0.14741088);\">review</span> <span style=\"background-color:rgba(135,206,250,0.95085216);\">:</span> <span style=\"background-color:rgba(135,206,250,0.5123477);\">germany</span> <span style=\"background-color:rgba(135,206,250,0.19950518);\">:</span> <span style=\"background-color:rgba(135,206,250,0.46714458);\">mosel</span> <span style=\"background-color:rgba(135,206,250,0.20760484);\">:</span> <span style=\"background-color:rgba(135,206,250,0.22229534);\">riesling</span> <span style=\"background-color:rgba(135,206,250,0.15932433);\">:</span> <span style=\"background-color:rgba(135,206,250,0.078866445);\">dusty</span> <span style=\"background-color:rgba(135,206,250,0.08753262);\">mineral</span> <span style=\"background-color:rgba(135,206,250,0.09047224);\">tones</span> <span style=\"background-color:rgba(135,206,250,0.03396219);\">of</span> <span style=\"background-color:rgba(135,206,250,0.023814764);\">stone</span> <span style=\"background-color:rgba(135,206,250,0.037874997);\">fruit</span> <span style=\"background-color:rgba(135,206,250,0.032772582);\">and</span> <span style=\"background-color:rgba(135,206,250,0.07457673);\">minerals</span> <span style=\"background-color:rgba(135,206,250,0.04788339);\">add</span> <span style=\"background-color:rgba(135,206,250,0.018214267);\">a</span> <span style=\"background-color:rgba(135,206,250,0.05480115);\">zesty</span> <span style=\"background-color:rgba(135,206,250,0.0923291);\">spray</span> <span style=\"background-color:rgba(135,206,250,0.02730691);\">of</span> <span style=\"background-color:rgba(135,206,250,0.057882234);\">freshness</span> <span style=\"background-color:rgba(135,206,250,0.016026588);\">to</span> <span style=\"background-color:rgba(135,206,250,0.020632392);\">this</span> <span style=\"background-color:rgba(135,206,250,0.060146518);\">dry</span> <span style=\"background-color:rgba(135,206,250,0.033893548);\">,</span> <span style=\"background-color:rgba(135,206,250,0.07467838);\">elegantly</span> <span style=\"background-color:rgba(135,206,250,0.11534264);\">structured</span> <span style=\"background-color:rgba(135,206,250,0.049841825);\">riesling</span> <span style=\"background-color:rgba(135,206,250,0.077900656);\">.</span> <span style=\"background-color:rgba(135,206,250,0.021153329);\">it</span> <span style=\"background-color:rgba(135,206,250,0.022307465);\">'</span> <span style=\"background-color:rgba(135,206,250,0.035829872);\">s</span> <span style=\"background-color:rgba(135,206,250,0.0818198);\">elegant</span> <span style=\"background-color:rgba(135,206,250,0.039664697);\">and</span> <span style=\"background-color:rgba(135,206,250,0.0927461);\">elegant</span> <span style=\"background-color:rgba(135,206,250,0.049577333);\">,</span> <span style=\"background-color:rgba(135,206,250,0.06932716);\">with</span> <span style=\"background-color:rgba(135,206,250,0.07618083);\">delicate</span> <span style=\"background-color:rgba(135,206,250,0.10231518);\">flavors</span> <span style=\"background-color:rgba(135,206,250,0.04587601);\">of</span> <span style=\"background-color:rgba(135,206,250,0.07492126);\">peach</span> <span style=\"background-color:rgba(135,206,250,0.06988435);\">,</span> <span style=\"background-color:rgba(135,206,250,0.07473077);\">lemon</span> <span style=\"background-color:rgba(135,206,250,0.060035538);\">and</span> <span style=\"background-color:rgba(135,206,250,0.09121102);\">lime</span> <span style=\"background-color:rgba(135,206,250,0.10944008);\">,</span> <span style=\"background-color:rgba(135,206,250,0.1559192);\">but</span> <span style=\"background-color:rgba(135,206,250,0.10557853);\">it</span> <span style=\"background-color:rgba(135,206,250,0.07206123);\">'</span> <span style=\"background-color:rgba(135,206,250,0.11581572);\">s</span> <span style=\"background-color:rgba(135,206,250,0.17759252);\">a</span> <span style=\"background-color:rgba(135,206,250,0.23406398);\">fresh</span> <span style=\"background-color:rgba(135,206,250,0.5126073);\">,</span> <span style=\"background-color:rgba(135,206,250,0.93984365);\">simple</span> <span style=\"background-color:rgba(135,206,250,1.0);\">wine</span> <span style=\"background-color:rgba(135,206,250,0.45804602);\">that</span> <span style=\"background-color:rgba(135,206,250,0.6701246);\">should</span>"
      ],
      "text/plain": [
       "<IPython.core.display.HTML object>"
      ]
     },
     "metadata": {},
     "output_type": "display_data"
    },
    {
     "name": "stdout",
     "output_type": "stream",
     "text": [
      "improve:   \t55.4%\n",
      "be:   \t19.27%\n",
      "hold:   \t14.48%\n",
      "continue:   \t4.9%\n",
      "develop:   \t1.17%\n",
      "--------\n",
      "\n"
     ]
    },
    {
     "data": {
      "text/html": [
       "<span style=\"background-color:rgba(135,206,250,0.13695176);\">wine</span> <span style=\"background-color:rgba(135,206,250,0.20798965);\">review</span> <span style=\"background-color:rgba(135,206,250,1.0);\">:</span> <span style=\"background-color:rgba(135,206,250,0.33311716);\">germany</span> <span style=\"background-color:rgba(135,206,250,0.20114128);\">:</span> <span style=\"background-color:rgba(135,206,250,0.4967435);\">mosel</span> <span style=\"background-color:rgba(135,206,250,0.31588334);\">:</span> <span style=\"background-color:rgba(135,206,250,0.23640765);\">riesling</span> <span style=\"background-color:rgba(135,206,250,0.21075895);\">:</span> <span style=\"background-color:rgba(135,206,250,0.040868305);\">dusty</span> <span style=\"background-color:rgba(135,206,250,0.05372668);\">mineral</span> <span style=\"background-color:rgba(135,206,250,0.05871673);\">tones</span> <span style=\"background-color:rgba(135,206,250,0.03222702);\">of</span> <span style=\"background-color:rgba(135,206,250,0.019414503);\">stone</span> <span style=\"background-color:rgba(135,206,250,0.021370282);\">fruit</span> <span style=\"background-color:rgba(135,206,250,0.037177313);\">and</span> <span style=\"background-color:rgba(135,206,250,0.041359615);\">minerals</span> <span style=\"background-color:rgba(135,206,250,0.031941462);\">add</span> <span style=\"background-color:rgba(135,206,250,0.01646856);\">a</span> <span style=\"background-color:rgba(135,206,250,0.026842585);\">zesty</span> <span style=\"background-color:rgba(135,206,250,0.04166234);\">spray</span> <span style=\"background-color:rgba(135,206,250,0.02238453);\">of</span> <span style=\"background-color:rgba(135,206,250,0.037987653);\">freshness</span> <span style=\"background-color:rgba(135,206,250,0.01962174);\">to</span> <span style=\"background-color:rgba(135,206,250,0.017985366);\">this</span> <span style=\"background-color:rgba(135,206,250,0.03067029);\">dry</span> <span style=\"background-color:rgba(135,206,250,0.02929271);\">,</span> <span style=\"background-color:rgba(135,206,250,0.044976443);\">elegantly</span> <span style=\"background-color:rgba(135,206,250,0.047988065);\">structured</span> <span style=\"background-color:rgba(135,206,250,0.04500849);\">riesling</span> <span style=\"background-color:rgba(135,206,250,0.07120635);\">.</span> <span style=\"background-color:rgba(135,206,250,0.023721315);\">it</span> <span style=\"background-color:rgba(135,206,250,0.01998858);\">'</span> <span style=\"background-color:rgba(135,206,250,0.042026278);\">s</span> <span style=\"background-color:rgba(135,206,250,0.044429827);\">elegant</span> <span style=\"background-color:rgba(135,206,250,0.05687007);\">and</span> <span style=\"background-color:rgba(135,206,250,0.050757166);\">elegant</span> <span style=\"background-color:rgba(135,206,250,0.053022135);\">,</span> <span style=\"background-color:rgba(135,206,250,0.0630225);\">with</span> <span style=\"background-color:rgba(135,206,250,0.04520028);\">delicate</span> <span style=\"background-color:rgba(135,206,250,0.07669939);\">flavors</span> <span style=\"background-color:rgba(135,206,250,0.051752035);\">of</span> <span style=\"background-color:rgba(135,206,250,0.05849858);\">peach</span> <span style=\"background-color:rgba(135,206,250,0.06966343);\">,</span> <span style=\"background-color:rgba(135,206,250,0.0666935);\">lemon</span> <span style=\"background-color:rgba(135,206,250,0.08823604);\">and</span> <span style=\"background-color:rgba(135,206,250,0.07252351);\">lime</span> <span style=\"background-color:rgba(135,206,250,0.09194212);\">,</span> <span style=\"background-color:rgba(135,206,250,0.12972197);\">but</span> <span style=\"background-color:rgba(135,206,250,0.08311851);\">it</span> <span style=\"background-color:rgba(135,206,250,0.064200126);\">'</span> <span style=\"background-color:rgba(135,206,250,0.1411483);\">s</span> <span style=\"background-color:rgba(135,206,250,0.16580701);\">a</span> <span style=\"background-color:rgba(135,206,250,0.1153661);\">fresh</span> <span style=\"background-color:rgba(135,206,250,0.2488376);\">,</span> <span style=\"background-color:rgba(135,206,250,0.49415064);\">simple</span> <span style=\"background-color:rgba(135,206,250,0.55455524);\">wine</span> <span style=\"background-color:rgba(135,206,250,0.22600305);\">that</span> <span style=\"background-color:rgba(135,206,250,0.8562716);\">should</span> <span style=\"background-color:rgba(135,206,250,0.45549443);\">improve</span>"
      ],
      "text/plain": [
       "<IPython.core.display.HTML object>"
      ]
     },
     "metadata": {},
     "output_type": "display_data"
    },
    {
     "name": "stdout",
     "output_type": "stream",
     "text": [
      "through:   \t99.41%\n",
      "over:   \t0.26%\n",
      "for:   \t0.12%\n",
      "with:   \t0.12%\n",
      "further:   \t0.02%\n",
      "--------\n",
      "\n"
     ]
    },
    {
     "data": {
      "text/html": [
       "<span style=\"background-color:rgba(135,206,250,0.040366687);\">wine</span> <span style=\"background-color:rgba(135,206,250,0.07705909);\">review</span> <span style=\"background-color:rgba(135,206,250,0.28917587);\">:</span> <span style=\"background-color:rgba(135,206,250,0.23639373);\">germany</span> <span style=\"background-color:rgba(135,206,250,0.07329097);\">:</span> <span style=\"background-color:rgba(135,206,250,0.14709301);\">mosel</span> <span style=\"background-color:rgba(135,206,250,0.09628845);\">:</span> <span style=\"background-color:rgba(135,206,250,0.1297556);\">riesling</span> <span style=\"background-color:rgba(135,206,250,0.07148698);\">:</span> <span style=\"background-color:rgba(135,206,250,0.03248795);\">dusty</span> <span style=\"background-color:rgba(135,206,250,0.044454638);\">mineral</span> <span style=\"background-color:rgba(135,206,250,0.048351828);\">tones</span> <span style=\"background-color:rgba(135,206,250,0.021655008);\">of</span> <span style=\"background-color:rgba(135,206,250,0.019037468);\">stone</span> <span style=\"background-color:rgba(135,206,250,0.017951595);\">fruit</span> <span style=\"background-color:rgba(135,206,250,0.030483795);\">and</span> <span style=\"background-color:rgba(135,206,250,0.043214943);\">minerals</span> <span style=\"background-color:rgba(135,206,250,0.03207575);\">add</span> <span style=\"background-color:rgba(135,206,250,0.0130895);\">a</span> <span style=\"background-color:rgba(135,206,250,0.024492897);\">zesty</span> <span style=\"background-color:rgba(135,206,250,0.040140435);\">spray</span> <span style=\"background-color:rgba(135,206,250,0.01732705);\">of</span> <span style=\"background-color:rgba(135,206,250,0.03823229);\">freshness</span> <span style=\"background-color:rgba(135,206,250,0.013171405);\">to</span> <span style=\"background-color:rgba(135,206,250,0.032187086);\">this</span> <span style=\"background-color:rgba(135,206,250,0.024413582);\">dry</span> <span style=\"background-color:rgba(135,206,250,0.021330524);\">,</span> <span style=\"background-color:rgba(135,206,250,0.031392887);\">elegantly</span> <span style=\"background-color:rgba(135,206,250,0.035234302);\">structured</span> <span style=\"background-color:rgba(135,206,250,0.036864113);\">riesling</span> <span style=\"background-color:rgba(135,206,250,0.0517058);\">.</span> <span style=\"background-color:rgba(135,206,250,0.026176376);\">it</span> <span style=\"background-color:rgba(135,206,250,0.009836643);\">'</span> <span style=\"background-color:rgba(135,206,250,0.03990181);\">s</span> <span style=\"background-color:rgba(135,206,250,0.030709323);\">elegant</span> <span style=\"background-color:rgba(135,206,250,0.035052627);\">and</span> <span style=\"background-color:rgba(135,206,250,0.033585574);\">elegant</span> <span style=\"background-color:rgba(135,206,250,0.030356899);\">,</span> <span style=\"background-color:rgba(135,206,250,0.04428411);\">with</span> <span style=\"background-color:rgba(135,206,250,0.032210875);\">delicate</span> <span style=\"background-color:rgba(135,206,250,0.04970343);\">flavors</span> <span style=\"background-color:rgba(135,206,250,0.027679859);\">of</span> <span style=\"background-color:rgba(135,206,250,0.03556888);\">peach</span> <span style=\"background-color:rgba(135,206,250,0.03911178);\">,</span> <span style=\"background-color:rgba(135,206,250,0.04333562);\">lemon</span> <span style=\"background-color:rgba(135,206,250,0.046630003);\">and</span> <span style=\"background-color:rgba(135,206,250,0.050610762);\">lime</span> <span style=\"background-color:rgba(135,206,250,0.04948584);\">,</span> <span style=\"background-color:rgba(135,206,250,0.09888088);\">but</span> <span style=\"background-color:rgba(135,206,250,0.07195842);\">it</span> <span style=\"background-color:rgba(135,206,250,0.025959084);\">'</span> <span style=\"background-color:rgba(135,206,250,0.080361925);\">s</span> <span style=\"background-color:rgba(135,206,250,0.067159295);\">a</span> <span style=\"background-color:rgba(135,206,250,0.08596566);\">fresh</span> <span style=\"background-color:rgba(135,206,250,0.13243762);\">,</span> <span style=\"background-color:rgba(135,206,250,0.25755075);\">simple</span> <span style=\"background-color:rgba(135,206,250,0.29790923);\">wine</span> <span style=\"background-color:rgba(135,206,250,0.20838541);\">that</span> <span style=\"background-color:rgba(135,206,250,1.0);\">should</span> <span style=\"background-color:rgba(135,206,250,0.82174754);\">improve</span> <span style=\"background-color:rgba(135,206,250,0.26532963);\">through</span>"
      ],
      "text/plain": [
       "<IPython.core.display.HTML object>"
      ]
     },
     "metadata": {},
     "output_type": "display_data"
    },
    {
     "name": "stdout",
     "output_type": "stream",
     "text": [
      "2020:   \t70.6%\n",
      "at:   \t12.51%\n",
      "2021:   \t12.11%\n",
      "the:   \t1.24%\n",
      "2025:   \t0.96%\n",
      "--------\n",
      "\n"
     ]
    },
    {
     "data": {
      "text/html": [
       "<span style=\"background-color:rgba(135,206,250,0.064694874);\">wine</span> <span style=\"background-color:rgba(135,206,250,0.11390131);\">review</span> <span style=\"background-color:rgba(135,206,250,0.17128849);\">:</span> <span style=\"background-color:rgba(135,206,250,0.09630576);\">germany</span> <span style=\"background-color:rgba(135,206,250,0.11544212);\">:</span> <span style=\"background-color:rgba(135,206,250,0.12824014);\">mosel</span> <span style=\"background-color:rgba(135,206,250,0.08028073);\">:</span> <span style=\"background-color:rgba(135,206,250,0.10396808);\">riesling</span> <span style=\"background-color:rgba(135,206,250,0.0866302);\">:</span> <span style=\"background-color:rgba(135,206,250,0.019018205);\">dusty</span> <span style=\"background-color:rgba(135,206,250,0.020095384);\">mineral</span> <span style=\"background-color:rgba(135,206,250,0.021785915);\">tones</span> <span style=\"background-color:rgba(135,206,250,0.019711003);\">of</span> <span style=\"background-color:rgba(135,206,250,0.011414043);\">stone</span> <span style=\"background-color:rgba(135,206,250,0.014879984);\">fruit</span> <span style=\"background-color:rgba(135,206,250,0.018844416);\">and</span> <span style=\"background-color:rgba(135,206,250,0.016677627);\">minerals</span> <span style=\"background-color:rgba(135,206,250,0.011958187);\">add</span> <span style=\"background-color:rgba(135,206,250,0.011518645);\">a</span> <span style=\"background-color:rgba(135,206,250,0.011328162);\">zesty</span> <span style=\"background-color:rgba(135,206,250,0.021649765);\">spray</span> <span style=\"background-color:rgba(135,206,250,0.015963348);\">of</span> <span style=\"background-color:rgba(135,206,250,0.016233426);\">freshness</span> <span style=\"background-color:rgba(135,206,250,0.011273631);\">to</span> <span style=\"background-color:rgba(135,206,250,0.0067930487);\">this</span> <span style=\"background-color:rgba(135,206,250,0.009676658);\">dry</span> <span style=\"background-color:rgba(135,206,250,0.014176316);\">,</span> <span style=\"background-color:rgba(135,206,250,0.013201152);\">elegantly</span> <span style=\"background-color:rgba(135,206,250,0.023464615);\">structured</span> <span style=\"background-color:rgba(135,206,250,0.02484696);\">riesling</span> <span style=\"background-color:rgba(135,206,250,0.03592479);\">.</span> <span style=\"background-color:rgba(135,206,250,0.008916538);\">it</span> <span style=\"background-color:rgba(135,206,250,0.0150503395);\">'</span> <span style=\"background-color:rgba(135,206,250,0.018640025);\">s</span> <span style=\"background-color:rgba(135,206,250,0.010886356);\">elegant</span> <span style=\"background-color:rgba(135,206,250,0.020009395);\">and</span> <span style=\"background-color:rgba(135,206,250,0.01214113);\">elegant</span> <span style=\"background-color:rgba(135,206,250,0.020552896);\">,</span> <span style=\"background-color:rgba(135,206,250,0.021444656);\">with</span> <span style=\"background-color:rgba(135,206,250,0.011100179);\">delicate</span> <span style=\"background-color:rgba(135,206,250,0.023233108);\">flavors</span> <span style=\"background-color:rgba(135,206,250,0.023175465);\">of</span> <span style=\"background-color:rgba(135,206,250,0.021000464);\">peach</span> <span style=\"background-color:rgba(135,206,250,0.023545254);\">,</span> <span style=\"background-color:rgba(135,206,250,0.02166327);\">lemon</span> <span style=\"background-color:rgba(135,206,250,0.02676918);\">and</span> <span style=\"background-color:rgba(135,206,250,0.020000564);\">lime</span> <span style=\"background-color:rgba(135,206,250,0.030555924);\">,</span> <span style=\"background-color:rgba(135,206,250,0.04249263);\">but</span> <span style=\"background-color:rgba(135,206,250,0.022558017);\">it</span> <span style=\"background-color:rgba(135,206,250,0.030188337);\">'</span> <span style=\"background-color:rgba(135,206,250,0.05264603);\">s</span> <span style=\"background-color:rgba(135,206,250,0.048678353);\">a</span> <span style=\"background-color:rgba(135,206,250,0.030724654);\">fresh</span> <span style=\"background-color:rgba(135,206,250,0.09052333);\">,</span> <span style=\"background-color:rgba(135,206,250,0.08238908);\">simple</span> <span style=\"background-color:rgba(135,206,250,0.11635431);\">wine</span> <span style=\"background-color:rgba(135,206,250,0.11226766);\">that</span> <span style=\"background-color:rgba(135,206,250,0.42174137);\">should</span> <span style=\"background-color:rgba(135,206,250,0.36567864);\">improve</span> <span style=\"background-color:rgba(135,206,250,1.0);\">through</span> <span style=\"background-color:rgba(135,206,250,0.16363592);\">2020</span>"
      ],
      "text/plain": [
       "<IPython.core.display.HTML object>"
      ]
     },
     "metadata": {},
     "output_type": "display_data"
    },
    {
     "name": "stdout",
     "output_type": "stream",
     "text": [
      ".:   \t99.42%\n",
      ",:   \t0.4%\n",
      "through:   \t0.05%\n",
      "and:   \t0.04%\n",
      "to:   \t0.03%\n",
      "--------\n",
      "\n"
     ]
    },
    {
     "data": {
      "text/html": [
       "<span style=\"background-color:rgba(135,206,250,0.037855424);\">wine</span> <span style=\"background-color:rgba(135,206,250,0.035541564);\">review</span> <span style=\"background-color:rgba(135,206,250,0.46144843);\">:</span> <span style=\"background-color:rgba(135,206,250,0.27084294);\">germany</span> <span style=\"background-color:rgba(135,206,250,0.07473605);\">:</span> <span style=\"background-color:rgba(135,206,250,0.24129343);\">mosel</span> <span style=\"background-color:rgba(135,206,250,0.1630989);\">:</span> <span style=\"background-color:rgba(135,206,250,0.21557526);\">riesling</span> <span style=\"background-color:rgba(135,206,250,0.09377314);\">:</span> <span style=\"background-color:rgba(135,206,250,0.037694722);\">dusty</span> <span style=\"background-color:rgba(135,206,250,0.051686876);\">mineral</span> <span style=\"background-color:rgba(135,206,250,0.042997386);\">tones</span> <span style=\"background-color:rgba(135,206,250,0.016689511);\">of</span> <span style=\"background-color:rgba(135,206,250,0.020237327);\">stone</span> <span style=\"background-color:rgba(135,206,250,0.023934947);\">fruit</span> <span style=\"background-color:rgba(135,206,250,0.0222896);\">and</span> <span style=\"background-color:rgba(135,206,250,0.039097846);\">minerals</span> <span style=\"background-color:rgba(135,206,250,0.023231238);\">add</span> <span style=\"background-color:rgba(135,206,250,0.009376031);\">a</span> <span style=\"background-color:rgba(135,206,250,0.024689807);\">zesty</span> <span style=\"background-color:rgba(135,206,250,0.034326024);\">spray</span> <span style=\"background-color:rgba(135,206,250,0.011843346);\">of</span> <span style=\"background-color:rgba(135,206,250,0.03141911);\">freshness</span> <span style=\"background-color:rgba(135,206,250,0.010059063);\">to</span> <span style=\"background-color:rgba(135,206,250,0.02599112);\">this</span> <span style=\"background-color:rgba(135,206,250,0.02747831);\">dry</span> <span style=\"background-color:rgba(135,206,250,0.017842103);\">,</span> <span style=\"background-color:rgba(135,206,250,0.020446086);\">elegantly</span> <span style=\"background-color:rgba(135,206,250,0.027716594);\">structured</span> <span style=\"background-color:rgba(135,206,250,0.03257847);\">riesling</span> <span style=\"background-color:rgba(135,206,250,0.032611478);\">.</span> <span style=\"background-color:rgba(135,206,250,0.015910406);\">it</span> <span style=\"background-color:rgba(135,206,250,0.0060856114);\">'</span> <span style=\"background-color:rgba(135,206,250,0.021744683);\">s</span> <span style=\"background-color:rgba(135,206,250,0.023554498);\">elegant</span> <span style=\"background-color:rgba(135,206,250,0.020741725);\">and</span> <span style=\"background-color:rgba(135,206,250,0.025253728);\">elegant</span> <span style=\"background-color:rgba(135,206,250,0.021864051);\">,</span> <span style=\"background-color:rgba(135,206,250,0.023543708);\">with</span> <span style=\"background-color:rgba(135,206,250,0.020815613);\">delicate</span> <span style=\"background-color:rgba(135,206,250,0.05955943);\">flavors</span> <span style=\"background-color:rgba(135,206,250,0.016094526);\">of</span> <span style=\"background-color:rgba(135,206,250,0.03151887);\">peach</span> <span style=\"background-color:rgba(135,206,250,0.02674903);\">,</span> <span style=\"background-color:rgba(135,206,250,0.035730146);\">lemon</span> <span style=\"background-color:rgba(135,206,250,0.025362892);\">and</span> <span style=\"background-color:rgba(135,206,250,0.042778853);\">lime</span> <span style=\"background-color:rgba(135,206,250,0.028578406);\">,</span> <span style=\"background-color:rgba(135,206,250,0.04452758);\">but</span> <span style=\"background-color:rgba(135,206,250,0.03009564);\">it</span> <span style=\"background-color:rgba(135,206,250,0.013312402);\">'</span> <span style=\"background-color:rgba(135,206,250,0.038174547);\">s</span> <span style=\"background-color:rgba(135,206,250,0.025695391);\">a</span> <span style=\"background-color:rgba(135,206,250,0.046413556);\">fresh</span> <span style=\"background-color:rgba(135,206,250,0.051981945);\">,</span> <span style=\"background-color:rgba(135,206,250,0.1265117);\">simple</span> <span style=\"background-color:rgba(135,206,250,0.11504729);\">wine</span> <span style=\"background-color:rgba(135,206,250,0.07015263);\">that</span> <span style=\"background-color:rgba(135,206,250,0.19943494);\">should</span> <span style=\"background-color:rgba(135,206,250,0.14519075);\">improve</span> <span style=\"background-color:rgba(135,206,250,0.08862506);\">through</span> <span style=\"background-color:rgba(135,206,250,1.0);\">2020</span> <span style=\"background-color:rgba(135,206,250,0.37998223);\">.</span>"
      ],
      "text/plain": [
       "<IPython.core.display.HTML object>"
      ]
     },
     "metadata": {},
     "output_type": "display_data"
    },
    {
     "name": "stdout",
     "output_type": "stream",
     "text": [
      ":   \t100.0%\n",
      "it:   \t0.0%\n",
      "imported:   \t0.0%\n",
      "drink:   \t0.0%\n",
      "enjoy:   \t0.0%\n",
      "--------\n",
      "\n"
     ]
    }
   ],
   "source": [
    "info = text_generator.generate(\n",
    "    \"wine review : germany\", max_tokens=80, temperature=0.5\n",
    ")\n",
    "print_probs(info, vocab)"
   ]
  },
  {
   "cell_type": "code",
   "execution_count": null,
   "id": "fcc7a7c0-6c64-47d3-acee-96e48f025e01",
   "metadata": {},
   "outputs": [],
   "source": []
  },
  {
   "cell_type": "code",
   "execution_count": null,
   "id": "4122154c-9e41-44ba-8c5f-fe88a55fe977",
   "metadata": {},
   "outputs": [],
   "source": []
  }
 ],
 "metadata": {
  "kernelspec": {
   "display_name": "Python 3 (ipykernel)",
   "language": "python",
   "name": "python3"
  },
  "language_info": {
   "codemirror_mode": {
    "name": "ipython",
    "version": 3
   },
   "file_extension": ".py",
   "mimetype": "text/x-python",
   "name": "python",
   "nbconvert_exporter": "python",
   "pygments_lexer": "ipython3",
   "version": "3.11.6"
  },
  "vscode": {
   "interpreter": {
    "hash": "31f2aee4e71d21fbe5cf8b01ff0e069b9275f58929596ceb00d14d90e3e16cd6"
   }
  }
 },
 "nbformat": 4,
 "nbformat_minor": 5
}
