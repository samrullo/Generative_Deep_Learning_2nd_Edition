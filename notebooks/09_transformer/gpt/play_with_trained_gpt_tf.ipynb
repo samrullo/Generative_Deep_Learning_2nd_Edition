{
 "cells": [
  {
   "cell_type": "markdown",
   "metadata": {},
   "source": [
    "# First Load the dataset and create vocab"
   ]
  },
  {
   "cell_type": "code",
   "execution_count": 1,
   "metadata": {},
   "outputs": [],
   "source": [
    "from gpt_tf import VOCAB_SIZE, EMBEDDING_DIM, MAX_LEN\n",
    "from gpt_tf import TransformerBlock, TokenAndPositionEmbedding, causal_attention_mask"
   ]
  },
  {
   "cell_type": "code",
   "execution_count": 2,
   "metadata": {},
   "outputs": [],
   "source": [
    "import numpy as np\n",
    "import pathlib\n",
    "from tensorflow.keras import layers, models"
   ]
  },
  {
   "cell_type": "code",
   "execution_count": 3,
   "metadata": {},
   "outputs": [],
   "source": [
    "# Load the full dataset\n",
    "import pathlib\n",
    "import json\n",
    "\n",
    "datasets_folder = pathlib.Path(r\"C:\\Users\\amrul\\programming\\deep_learning\\dl_projects\\Generative_Deep_Learning_2nd_Edition\\data\")\n",
    "wine_review_filepath=datasets_folder/\"wine_reviews\"/\"winemag-data-130k-v2.json\"\n",
    "with open(str(wine_review_filepath)) as json_data:\n",
    "    wine_data = json.load(json_data)"
   ]
  },
  {
   "cell_type": "code",
   "execution_count": 4,
   "metadata": {},
   "outputs": [],
   "source": [
    "# Filter the dataset\n",
    "filtered_data = [\n",
    "    \"wine review : \"\n",
    "    + x[\"country\"]\n",
    "    + \" : \"\n",
    "    + x[\"province\"]\n",
    "    + \" : \"\n",
    "    + x[\"variety\"]\n",
    "    + \" : \"\n",
    "    + x[\"description\"]\n",
    "    for x in wine_data\n",
    "    if x[\"country\"] is not None\n",
    "    and x[\"province\"] is not None\n",
    "    and x[\"variety\"] is not None\n",
    "    and x[\"description\"] is not None\n",
    "]"
   ]
  },
  {
   "cell_type": "code",
   "execution_count": 5,
   "metadata": {},
   "outputs": [],
   "source": [
    "import re\n",
    "import string\n",
    "\n",
    "# Pad the punctuation, to treat them as separate 'words'\n",
    "def pad_punctuation(s):\n",
    "    s = re.sub(f\"([{string.punctuation}, '\\n'])\", r\" \\1 \", s)\n",
    "    s = re.sub(\" +\", \" \", s)\n",
    "    return s\n",
    "\n",
    "\n",
    "text_data = [pad_punctuation(x) for x in filtered_data]"
   ]
  },
  {
   "cell_type": "code",
   "execution_count": 6,
   "metadata": {},
   "outputs": [],
   "source": [
    "import tensorflow as tf\n",
    "from gpt_tf import BATCH_SIZE\n",
    "# Convert to a Tensorflow Dataset\n",
    "text_ds = (\n",
    "    tf.data.Dataset.from_tensor_slices(text_data)\n",
    "    .batch(BATCH_SIZE)\n",
    "    .shuffle(1000)\n",
    ")"
   ]
  },
  {
   "cell_type": "code",
   "execution_count": 7,
   "metadata": {},
   "outputs": [],
   "source": [
    "# Create a vectorisation layer\n",
    "vectorize_layer = layers.TextVectorization(\n",
    "    standardize=\"lower\",\n",
    "    max_tokens=VOCAB_SIZE,\n",
    "    output_mode=\"int\",\n",
    "    output_sequence_length=MAX_LEN + 1,\n",
    ")"
   ]
  },
  {
   "cell_type": "code",
   "execution_count": 8,
   "metadata": {},
   "outputs": [],
   "source": [
    "# Adapt the layer to the training set\n",
    "vectorize_layer.adapt(text_ds)\n",
    "vocab = vectorize_layer.get_vocabulary()"
   ]
  },
  {
   "cell_type": "markdown",
   "metadata": {},
   "source": [
    "# Let's load the trained model and generate texts"
   ]
  },
  {
   "cell_type": "code",
   "execution_count": 9,
   "metadata": {},
   "outputs": [],
   "source": [
    "saved_model_path=pathlib.Path(r\"C:\\Users\\amrul\\programming\\deep_learning\\dl_projects\\Generative_Deep_Learning_2nd_Edition\\notebooks\\09_transformer\\gpt\\models\\gpt\")\n",
    "gpt = models.load_model(str(saved_model_path))"
   ]
  },
  {
   "cell_type": "code",
   "execution_count": 10,
   "metadata": {},
   "outputs": [
    {
     "name": "stdout",
     "output_type": "stream",
     "text": [
      "Model: \"model\"\n",
      "_________________________________________________________________\n",
      " Layer (type)                Output Shape              Param #   \n",
      "=================================================================\n",
      " input_1 (InputLayer)        [(None, None)]            0         \n",
      "                                                                 \n",
      " token_and_position_embeddi  (None, None, 256)         2580480   \n",
      " ng (TokenAndPositionEmbedd                                      \n",
      " ing)                                                            \n",
      "                                                                 \n",
      " transformer_block (Transfo  ((None, None, 256),       658688    \n",
      " rmerBlock)                   (None, 2, None, None))             \n",
      "                                                                 \n",
      " dense_2 (Dense)             (None, None, 10000)       2570000   \n",
      "                                                                 \n",
      "=================================================================\n",
      "Total params: 5809168 (22.16 MB)\n",
      "Trainable params: 5809168 (22.16 MB)\n",
      "Non-trainable params: 0 (0.00 Byte)\n",
      "_________________________________________________________________\n"
     ]
    }
   ],
   "source": [
    "gpt.summary()"
   ]
  },
  {
   "cell_type": "code",
   "execution_count": 11,
   "metadata": {},
   "outputs": [],
   "source": [
    "from gpt_tf import TextGenerator"
   ]
  },
  {
   "cell_type": "code",
   "execution_count": 13,
   "metadata": {},
   "outputs": [],
   "source": [
    "# let's import TextGenerator, initialize it and set its model\n",
    "from gpt_tf import TextGenerator\n",
    "text_generator=TextGenerator(vocab, gpt)\n"
   ]
  },
  {
   "cell_type": "code",
   "execution_count": 15,
   "metadata": {},
   "outputs": [
    {
     "name": "stdout",
     "output_type": "stream",
     "text": [
      "\n",
      "generated text:\n",
      "wine review : us : chardaney : red blend : a blend of sangiovese , cabernet sauvignon and petit verdot , this is a thick , dense and tannic wine that delivers a deep core of black cherry , spice and peppercorn that carries a hint of vanilla . smooth , firm and velvety on the palate , with a hint of fresh greens . \n",
      "\n"
     ]
    }
   ],
   "source": [
    "info=text_generator.generate(\"wine review : us : chardaney\",MAX_LEN,0.8)"
   ]
  },
  {
   "cell_type": "code",
   "execution_count": 16,
   "metadata": {},
   "outputs": [
    {
     "data": {
      "text/html": [
       "<span style=\"background-color:rgba(135,206,250,0.83283687);\">wine</span> <span style=\"background-color:rgba(135,206,250,1.0);\">review</span> <span style=\"background-color:rgba(135,206,250,0.84635067);\">:</span> <span style=\"background-color:rgba(135,206,250,0.6552798);\">us</span> <span style=\"background-color:rgba(135,206,250,0.705488);\">:</span> <span style=\"background-color:rgba(135,206,250,0.2675264);\">chardaney</span>"
      ],
      "text/plain": [
       "<IPython.core.display.HTML object>"
      ]
     },
     "metadata": {},
     "output_type": "display_data"
    },
    {
     "name": "stdout",
     "output_type": "stream",
     "text": [
      "::   \t98.34%\n",
      "valley:   \t0.55%\n",
      "hills:   \t0.47%\n",
      "-:   \t0.18%\n",
      "new:   \t0.09%\n",
      "--------\n",
      "\n"
     ]
    },
    {
     "data": {
      "text/html": [
       "<span style=\"background-color:rgba(135,206,250,0.61864966);\">wine</span> <span style=\"background-color:rgba(135,206,250,0.5480135);\">review</span> <span style=\"background-color:rgba(135,206,250,0.65564424);\">:</span> <span style=\"background-color:rgba(135,206,250,0.7245993);\">us</span> <span style=\"background-color:rgba(135,206,250,0.43454364);\">:</span> <span style=\"background-color:rgba(135,206,250,1.0);\">chardaney</span> <span style=\"background-color:rgba(135,206,250,0.63577425);\">:</span>"
      ],
      "text/plain": [
       "<IPython.core.display.HTML object>"
      ]
     },
     "metadata": {},
     "output_type": "display_data"
    },
    {
     "name": "stdout",
     "output_type": "stream",
     "text": [
      "chardonnay:   \t20.96%\n",
      "cabernet:   \t17.33%\n",
      "pinot:   \t13.89%\n",
      "red:   \t10.95%\n",
      "merlot:   \t8.85%\n",
      "--------\n",
      "\n"
     ]
    },
    {
     "data": {
      "text/html": [
       "<span style=\"background-color:rgba(135,206,250,1.0);\">wine</span> <span style=\"background-color:rgba(135,206,250,0.821299);\">review</span> <span style=\"background-color:rgba(135,206,250,0.61979616);\">:</span> <span style=\"background-color:rgba(135,206,250,0.52775526);\">us</span> <span style=\"background-color:rgba(135,206,250,0.6053059);\">:</span> <span style=\"background-color:rgba(135,206,250,0.6199689);\">chardaney</span> <span style=\"background-color:rgba(135,206,250,0.7415762);\">:</span> <span style=\"background-color:rgba(135,206,250,0.33189994);\">red</span>"
      ],
      "text/plain": [
       "<IPython.core.display.HTML object>"
      ]
     },
     "metadata": {},
     "output_type": "display_data"
    },
    {
     "name": "stdout",
     "output_type": "stream",
     "text": [
      "blend:   \t99.99%\n",
      "wine:   \t0.0%\n",
      "::   \t0.0%\n",
      "[UNK]:   \t0.0%\n",
      "bordeaux:   \t0.0%\n",
      "--------\n",
      "\n"
     ]
    },
    {
     "data": {
      "text/html": [
       "<span style=\"background-color:rgba(135,206,250,0.7016583);\">wine</span> <span style=\"background-color:rgba(135,206,250,1.0);\">review</span> <span style=\"background-color:rgba(135,206,250,0.32877663);\">:</span> <span style=\"background-color:rgba(135,206,250,0.20927334);\">us</span> <span style=\"background-color:rgba(135,206,250,0.40118062);\">:</span> <span style=\"background-color:rgba(135,206,250,0.25959393);\">chardaney</span> <span style=\"background-color:rgba(135,206,250,0.29792336);\">:</span> <span style=\"background-color:rgba(135,206,250,0.3040156);\">red</span> <span style=\"background-color:rgba(135,206,250,0.1518212);\">blend</span>"
      ],
      "text/plain": [
       "<IPython.core.display.HTML object>"
      ]
     },
     "metadata": {},
     "output_type": "display_data"
    },
    {
     "name": "stdout",
     "output_type": "stream",
     "text": [
      "::   \t100.0%\n",
      "-:   \t0.0%\n",
      "grosso:   \t0.0%\n",
      "of:   \t0.0%\n",
      "blend:   \t0.0%\n",
      "--------\n",
      "\n"
     ]
    },
    {
     "data": {
      "text/html": [
       "<span style=\"background-color:rgba(135,206,250,0.83523875);\">wine</span> <span style=\"background-color:rgba(135,206,250,0.991395);\">review</span> <span style=\"background-color:rgba(135,206,250,0.6615848);\">:</span> <span style=\"background-color:rgba(135,206,250,0.4882279);\">us</span> <span style=\"background-color:rgba(135,206,250,0.8926053);\">:</span> <span style=\"background-color:rgba(135,206,250,0.6999542);\">chardaney</span> <span style=\"background-color:rgba(135,206,250,0.5997363);\">:</span> <span style=\"background-color:rgba(135,206,250,0.50463873);\">red</span> <span style=\"background-color:rgba(135,206,250,0.5407727);\">blend</span> <span style=\"background-color:rgba(135,206,250,1.0);\">:</span>"
      ],
      "text/plain": [
       "<IPython.core.display.HTML object>"
      ]
     },
     "metadata": {},
     "output_type": "display_data"
    },
    {
     "name": "stdout",
     "output_type": "stream",
     "text": [
      "this:   \t49.13%\n",
      "a:   \t15.43%\n",
      "the:   \t7.27%\n",
      "aromas:   \t1.62%\n",
      "made:   \t1.51%\n",
      "--------\n",
      "\n"
     ]
    },
    {
     "data": {
      "text/html": [
       "<span style=\"background-color:rgba(135,206,250,0.7558109);\">wine</span> <span style=\"background-color:rgba(135,206,250,1.0);\">review</span> <span style=\"background-color:rgba(135,206,250,0.629342);\">:</span> <span style=\"background-color:rgba(135,206,250,0.40838838);\">us</span> <span style=\"background-color:rgba(135,206,250,0.3894482);\">:</span> <span style=\"background-color:rgba(135,206,250,0.66831154);\">chardaney</span> <span style=\"background-color:rgba(135,206,250,0.2985233);\">:</span> <span style=\"background-color:rgba(135,206,250,0.35042605);\">red</span> <span style=\"background-color:rgba(135,206,250,0.5243825);\">blend</span> <span style=\"background-color:rgba(135,206,250,0.93559074);\">:</span> <span style=\"background-color:rgba(135,206,250,0.30513227);\">a</span>"
      ],
      "text/plain": [
       "<IPython.core.display.HTML object>"
      ]
     },
     "metadata": {},
     "output_type": "display_data"
    },
    {
     "name": "stdout",
     "output_type": "stream",
     "text": [
      "blend:   \t57.25%\n",
      "[UNK]:   \t2.5%\n",
      "wine:   \t2.42%\n",
      "very:   \t1.27%\n",
      "big:   \t1.08%\n",
      "--------\n",
      "\n"
     ]
    },
    {
     "data": {
      "text/html": [
       "<span style=\"background-color:rgba(135,206,250,0.5452576);\">wine</span> <span style=\"background-color:rgba(135,206,250,1.0);\">review</span> <span style=\"background-color:rgba(135,206,250,0.2388559);\">:</span> <span style=\"background-color:rgba(135,206,250,0.1409673);\">us</span> <span style=\"background-color:rgba(135,206,250,0.26523393);\">:</span> <span style=\"background-color:rgba(135,206,250,0.16886294);\">chardaney</span> <span style=\"background-color:rgba(135,206,250,0.16580462);\">:</span> <span style=\"background-color:rgba(135,206,250,0.10148523);\">red</span> <span style=\"background-color:rgba(135,206,250,0.109913684);\">blend</span> <span style=\"background-color:rgba(135,206,250,0.5181313);\">:</span> <span style=\"background-color:rgba(135,206,250,0.58031446);\">a</span> <span style=\"background-color:rgba(135,206,250,0.1997396);\">blend</span>"
      ],
      "text/plain": [
       "<IPython.core.display.HTML object>"
      ]
     },
     "metadata": {},
     "output_type": "display_data"
    },
    {
     "name": "stdout",
     "output_type": "stream",
     "text": [
      "of:   \t99.89%\n",
      "from:   \t0.04%\n",
      "that:   \t0.02%\n",
      "with:   \t0.02%\n",
      "made:   \t0.01%\n",
      "--------\n",
      "\n"
     ]
    },
    {
     "data": {
      "text/html": [
       "<span style=\"background-color:rgba(135,206,250,0.46119732);\">wine</span> <span style=\"background-color:rgba(135,206,250,0.55822873);\">review</span> <span style=\"background-color:rgba(135,206,250,0.4363516);\">:</span> <span style=\"background-color:rgba(135,206,250,0.33269796);\">us</span> <span style=\"background-color:rgba(135,206,250,0.25815907);\">:</span> <span style=\"background-color:rgba(135,206,250,0.39544967);\">chardaney</span> <span style=\"background-color:rgba(135,206,250,0.26947278);\">:</span> <span style=\"background-color:rgba(135,206,250,0.30452913);\">red</span> <span style=\"background-color:rgba(135,206,250,0.32508075);\">blend</span> <span style=\"background-color:rgba(135,206,250,0.5271372);\">:</span> <span style=\"background-color:rgba(135,206,250,0.47676328);\">a</span> <span style=\"background-color:rgba(135,206,250,1.0);\">blend</span> <span style=\"background-color:rgba(135,206,250,0.3077926);\">of</span>"
      ],
      "text/plain": [
       "<IPython.core.display.HTML object>"
      ]
     },
     "metadata": {},
     "output_type": "display_data"
    },
    {
     "name": "stdout",
     "output_type": "stream",
     "text": [
      "60:   \t15.13%\n",
      "cabernet:   \t11.84%\n",
      "50:   \t8.6%\n",
      "55:   \t7.26%\n",
      "51:   \t5.83%\n",
      "--------\n",
      "\n"
     ]
    },
    {
     "data": {
      "text/html": [
       "<span style=\"background-color:rgba(135,206,250,0.6058082);\">wine</span> <span style=\"background-color:rgba(135,206,250,0.9816805);\">review</span> <span style=\"background-color:rgba(135,206,250,0.41295987);\">:</span> <span style=\"background-color:rgba(135,206,250,0.37435538);\">us</span> <span style=\"background-color:rgba(135,206,250,0.30181065);\">:</span> <span style=\"background-color:rgba(135,206,250,0.33172408);\">chardaney</span> <span style=\"background-color:rgba(135,206,250,0.29993048);\">:</span> <span style=\"background-color:rgba(135,206,250,0.124398164);\">red</span> <span style=\"background-color:rgba(135,206,250,0.69695544);\">blend</span> <span style=\"background-color:rgba(135,206,250,0.7314466);\">:</span> <span style=\"background-color:rgba(135,206,250,0.83468795);\">a</span> <span style=\"background-color:rgba(135,206,250,1.0);\">blend</span> <span style=\"background-color:rgba(135,206,250,0.763157);\">of</span> <span style=\"background-color:rgba(135,206,250,0.34056202);\">sangiovese</span>"
      ],
      "text/plain": [
       "<IPython.core.display.HTML object>"
      ]
     },
     "metadata": {},
     "output_type": "display_data"
    },
    {
     "name": "stdout",
     "output_type": "stream",
     "text": [
      ",:   \t65.11%\n",
      "and:   \t29.59%\n",
      "(:   \t3.35%\n",
      "from:   \t1.01%\n",
      "with:   \t0.49%\n",
      "--------\n",
      "\n"
     ]
    },
    {
     "data": {
      "text/html": [
       "<span style=\"background-color:rgba(135,206,250,0.35894465);\">wine</span> <span style=\"background-color:rgba(135,206,250,0.5543352);\">review</span> <span style=\"background-color:rgba(135,206,250,0.3609577);\">:</span> <span style=\"background-color:rgba(135,206,250,0.33082214);\">us</span> <span style=\"background-color:rgba(135,206,250,0.23835531);\">:</span> <span style=\"background-color:rgba(135,206,250,0.29662168);\">chardaney</span> <span style=\"background-color:rgba(135,206,250,0.19968419);\">:</span> <span style=\"background-color:rgba(135,206,250,0.18813415);\">red</span> <span style=\"background-color:rgba(135,206,250,0.26667008);\">blend</span> <span style=\"background-color:rgba(135,206,250,0.35492393);\">:</span> <span style=\"background-color:rgba(135,206,250,0.33360243);\">a</span> <span style=\"background-color:rgba(135,206,250,0.32075778);\">blend</span> <span style=\"background-color:rgba(135,206,250,0.48919526);\">of</span> <span style=\"background-color:rgba(135,206,250,1.0);\">sangiovese</span> <span style=\"background-color:rgba(135,206,250,0.40070432);\">,</span>"
      ],
      "text/plain": [
       "<IPython.core.display.HTML object>"
      ]
     },
     "metadata": {},
     "output_type": "display_data"
    },
    {
     "name": "stdout",
     "output_type": "stream",
     "text": [
      "cabernet:   \t33.75%\n",
      "merlot:   \t24.64%\n",
      "syrah:   \t21.5%\n",
      "barbera:   \t2.66%\n",
      "petit:   \t2.21%\n",
      "--------\n",
      "\n"
     ]
    },
    {
     "data": {
      "text/html": [
       "<span style=\"background-color:rgba(135,206,250,0.50350004);\">wine</span> <span style=\"background-color:rgba(135,206,250,0.94272363);\">review</span> <span style=\"background-color:rgba(135,206,250,0.35917386);\">:</span> <span style=\"background-color:rgba(135,206,250,0.2758931);\">us</span> <span style=\"background-color:rgba(135,206,250,0.2861803);\">:</span> <span style=\"background-color:rgba(135,206,250,0.33516547);\">chardaney</span> <span style=\"background-color:rgba(135,206,250,0.2865551);\">:</span> <span style=\"background-color:rgba(135,206,250,0.07887062);\">red</span> <span style=\"background-color:rgba(135,206,250,0.6126953);\">blend</span> <span style=\"background-color:rgba(135,206,250,0.55590594);\">:</span> <span style=\"background-color:rgba(135,206,250,0.740494);\">a</span> <span style=\"background-color:rgba(135,206,250,0.512412);\">blend</span> <span style=\"background-color:rgba(135,206,250,0.45020175);\">of</span> <span style=\"background-color:rgba(135,206,250,0.3196062);\">sangiovese</span> <span style=\"background-color:rgba(135,206,250,1.0);\">,</span> <span style=\"background-color:rgba(135,206,250,0.21413225);\">cabernet</span>"
      ],
      "text/plain": [
       "<IPython.core.display.HTML object>"
      ]
     },
     "metadata": {},
     "output_type": "display_data"
    },
    {
     "name": "stdout",
     "output_type": "stream",
     "text": [
      "sauvignon:   \t95.75%\n",
      "franc:   \t3.26%\n",
      ",:   \t0.53%\n",
      "and:   \t0.41%\n",
      "-:   \t0.01%\n",
      "--------\n",
      "\n"
     ]
    },
    {
     "data": {
      "text/html": [
       "<span style=\"background-color:rgba(135,206,250,0.525307);\">wine</span> <span style=\"background-color:rgba(135,206,250,0.8285997);\">review</span> <span style=\"background-color:rgba(135,206,250,0.2729103);\">:</span> <span style=\"background-color:rgba(135,206,250,0.29533398);\">us</span> <span style=\"background-color:rgba(135,206,250,0.26919967);\">:</span> <span style=\"background-color:rgba(135,206,250,0.21907869);\">chardaney</span> <span style=\"background-color:rgba(135,206,250,0.27655318);\">:</span> <span style=\"background-color:rgba(135,206,250,0.21720302);\">red</span> <span style=\"background-color:rgba(135,206,250,0.6389835);\">blend</span> <span style=\"background-color:rgba(135,206,250,0.48371086);\">:</span> <span style=\"background-color:rgba(135,206,250,0.6226024);\">a</span> <span style=\"background-color:rgba(135,206,250,0.64698964);\">blend</span> <span style=\"background-color:rgba(135,206,250,0.44024572);\">of</span> <span style=\"background-color:rgba(135,206,250,0.35667175);\">sangiovese</span> <span style=\"background-color:rgba(135,206,250,1.0);\">,</span> <span style=\"background-color:rgba(135,206,250,0.5586307);\">cabernet</span> <span style=\"background-color:rgba(135,206,250,0.29703337);\">sauvignon</span>"
      ],
      "text/plain": [
       "<IPython.core.display.HTML object>"
      ]
     },
     "metadata": {},
     "output_type": "display_data"
    },
    {
     "name": "stdout",
     "output_type": "stream",
     "text": [
      ",:   \t52.17%\n",
      "and:   \t47.61%\n",
      "(:   \t0.11%\n",
      "with:   \t0.06%\n",
      "from:   \t0.02%\n",
      "--------\n",
      "\n"
     ]
    },
    {
     "data": {
      "text/html": [
       "<span style=\"background-color:rgba(135,206,250,0.409888);\">wine</span> <span style=\"background-color:rgba(135,206,250,0.5994281);\">review</span> <span style=\"background-color:rgba(135,206,250,0.58031476);\">:</span> <span style=\"background-color:rgba(135,206,250,0.48796552);\">us</span> <span style=\"background-color:rgba(135,206,250,0.28693193);\">:</span> <span style=\"background-color:rgba(135,206,250,0.44692755);\">chardaney</span> <span style=\"background-color:rgba(135,206,250,0.24971704);\">:</span> <span style=\"background-color:rgba(135,206,250,0.3399029);\">red</span> <span style=\"background-color:rgba(135,206,250,0.32546207);\">blend</span> <span style=\"background-color:rgba(135,206,250,0.27683756);\">:</span> <span style=\"background-color:rgba(135,206,250,0.24822031);\">a</span> <span style=\"background-color:rgba(135,206,250,0.25529227);\">blend</span> <span style=\"background-color:rgba(135,206,250,0.36188883);\">of</span> <span style=\"background-color:rgba(135,206,250,0.9966467);\">sangiovese</span> <span style=\"background-color:rgba(135,206,250,1.0);\">,</span> <span style=\"background-color:rgba(135,206,250,0.8575103);\">cabernet</span> <span style=\"background-color:rgba(135,206,250,0.5357943);\">sauvignon</span> <span style=\"background-color:rgba(135,206,250,0.5717969);\">and</span>"
      ],
      "text/plain": [
       "<IPython.core.display.HTML object>"
      ]
     },
     "metadata": {},
     "output_type": "display_data"
    },
    {
     "name": "stdout",
     "output_type": "stream",
     "text": [
      "merlot:   \t50.59%\n",
      "syrah:   \t22.3%\n",
      "petit:   \t13.25%\n",
      "cabernet:   \t5.69%\n",
      "malbec:   \t1.1%\n",
      "--------\n",
      "\n"
     ]
    },
    {
     "data": {
      "text/html": [
       "<span style=\"background-color:rgba(135,206,250,0.43323582);\">wine</span> <span style=\"background-color:rgba(135,206,250,0.6418768);\">review</span> <span style=\"background-color:rgba(135,206,250,0.4046837);\">:</span> <span style=\"background-color:rgba(135,206,250,0.3317232);\">us</span> <span style=\"background-color:rgba(135,206,250,0.28986457);\">:</span> <span style=\"background-color:rgba(135,206,250,0.32503033);\">chardaney</span> <span style=\"background-color:rgba(135,206,250,0.26594204);\">:</span> <span style=\"background-color:rgba(135,206,250,0.26850125);\">red</span> <span style=\"background-color:rgba(135,206,250,0.3392008);\">blend</span> <span style=\"background-color:rgba(135,206,250,0.33135495);\">:</span> <span style=\"background-color:rgba(135,206,250,0.2769396);\">a</span> <span style=\"background-color:rgba(135,206,250,0.22244854);\">blend</span> <span style=\"background-color:rgba(135,206,250,0.23047449);\">of</span> <span style=\"background-color:rgba(135,206,250,0.4468442);\">sangiovese</span> <span style=\"background-color:rgba(135,206,250,0.47172);\">,</span> <span style=\"background-color:rgba(135,206,250,0.43375897);\">cabernet</span> <span style=\"background-color:rgba(135,206,250,0.60040367);\">sauvignon</span> <span style=\"background-color:rgba(135,206,250,1.0);\">and</span> <span style=\"background-color:rgba(135,206,250,0.4426687);\">petit</span>"
      ],
      "text/plain": [
       "<IPython.core.display.HTML object>"
      ]
     },
     "metadata": {},
     "output_type": "display_data"
    },
    {
     "name": "stdout",
     "output_type": "stream",
     "text": [
      "verdot:   \t98.8%\n",
      "sirah:   \t1.05%\n",
      "[UNK]:   \t0.13%\n",
      ",:   \t0.01%\n",
      "manseng:   \t0.0%\n",
      "--------\n",
      "\n"
     ]
    },
    {
     "data": {
      "text/html": [
       "<span style=\"background-color:rgba(135,206,250,0.51107436);\">wine</span> <span style=\"background-color:rgba(135,206,250,1.0);\">review</span> <span style=\"background-color:rgba(135,206,250,0.2279049);\">:</span> <span style=\"background-color:rgba(135,206,250,0.21920167);\">us</span> <span style=\"background-color:rgba(135,206,250,0.30366245);\">:</span> <span style=\"background-color:rgba(135,206,250,0.16887136);\">chardaney</span> <span style=\"background-color:rgba(135,206,250,0.21289387);\">:</span> <span style=\"background-color:rgba(135,206,250,0.067251444);\">red</span> <span style=\"background-color:rgba(135,206,250,0.4337618);\">blend</span> <span style=\"background-color:rgba(135,206,250,0.34184453);\">:</span> <span style=\"background-color:rgba(135,206,250,0.41641557);\">a</span> <span style=\"background-color:rgba(135,206,250,0.40808013);\">blend</span> <span style=\"background-color:rgba(135,206,250,0.21057127);\">of</span> <span style=\"background-color:rgba(135,206,250,0.08572644);\">sangiovese</span> <span style=\"background-color:rgba(135,206,250,0.35022578);\">,</span> <span style=\"background-color:rgba(135,206,250,0.10258279);\">cabernet</span> <span style=\"background-color:rgba(135,206,250,0.18250127);\">sauvignon</span> <span style=\"background-color:rgba(135,206,250,0.86078465);\">and</span> <span style=\"background-color:rgba(135,206,250,0.15681292);\">petit</span> <span style=\"background-color:rgba(135,206,250,0.31317464);\">verdot</span>"
      ],
      "text/plain": [
       "<IPython.core.display.HTML object>"
      ]
     },
     "metadata": {},
     "output_type": "display_data"
    },
    {
     "name": "stdout",
     "output_type": "stream",
     "text": [
      ",:   \t96.51%\n",
      "from:   \t1.7%\n",
      "that:   \t0.47%\n",
      "are:   \t0.2%\n",
      "is:   \t0.17%\n",
      "--------\n",
      "\n"
     ]
    },
    {
     "data": {
      "text/html": [
       "<span style=\"background-color:rgba(135,206,250,0.30712417);\">wine</span> <span style=\"background-color:rgba(135,206,250,0.5727595);\">review</span> <span style=\"background-color:rgba(135,206,250,0.41888985);\">:</span> <span style=\"background-color:rgba(135,206,250,0.43380564);\">us</span> <span style=\"background-color:rgba(135,206,250,0.25770792);\">:</span> <span style=\"background-color:rgba(135,206,250,0.3207158);\">chardaney</span> <span style=\"background-color:rgba(135,206,250,0.22165266);\">:</span> <span style=\"background-color:rgba(135,206,250,0.20878014);\">red</span> <span style=\"background-color:rgba(135,206,250,0.29913545);\">blend</span> <span style=\"background-color:rgba(135,206,250,0.21685314);\">:</span> <span style=\"background-color:rgba(135,206,250,0.16603531);\">a</span> <span style=\"background-color:rgba(135,206,250,0.20650929);\">blend</span> <span style=\"background-color:rgba(135,206,250,0.20024791);\">of</span> <span style=\"background-color:rgba(135,206,250,0.2802108);\">sangiovese</span> <span style=\"background-color:rgba(135,206,250,0.1756197);\">,</span> <span style=\"background-color:rgba(135,206,250,0.21425284);\">cabernet</span> <span style=\"background-color:rgba(135,206,250,0.23019452);\">sauvignon</span> <span style=\"background-color:rgba(135,206,250,1.0);\">and</span> <span style=\"background-color:rgba(135,206,250,0.2155044);\">petit</span> <span style=\"background-color:rgba(135,206,250,0.9083698);\">verdot</span> <span style=\"background-color:rgba(135,206,250,0.69163734);\">,</span>"
      ],
      "text/plain": [
       "<IPython.core.display.HTML object>"
      ]
     },
     "metadata": {},
     "output_type": "display_data"
    },
    {
     "name": "stdout",
     "output_type": "stream",
     "text": [
      "this:   \t89.89%\n",
      "it:   \t3.37%\n",
      "the:   \t2.64%\n",
      "with:   \t0.78%\n",
      "and:   \t0.48%\n",
      "--------\n",
      "\n"
     ]
    },
    {
     "data": {
      "text/html": [
       "<span style=\"background-color:rgba(135,206,250,0.29945567);\">wine</span> <span style=\"background-color:rgba(135,206,250,0.48451722);\">review</span> <span style=\"background-color:rgba(135,206,250,0.3721976);\">:</span> <span style=\"background-color:rgba(135,206,250,0.5480538);\">us</span> <span style=\"background-color:rgba(135,206,250,0.23474668);\">:</span> <span style=\"background-color:rgba(135,206,250,0.44608286);\">chardaney</span> <span style=\"background-color:rgba(135,206,250,0.23805921);\">:</span> <span style=\"background-color:rgba(135,206,250,0.30553117);\">red</span> <span style=\"background-color:rgba(135,206,250,0.33468303);\">blend</span> <span style=\"background-color:rgba(135,206,250,0.16038398);\">:</span> <span style=\"background-color:rgba(135,206,250,0.10187194);\">a</span> <span style=\"background-color:rgba(135,206,250,0.1718229);\">blend</span> <span style=\"background-color:rgba(135,206,250,0.09083998);\">of</span> <span style=\"background-color:rgba(135,206,250,0.18594845);\">sangiovese</span> <span style=\"background-color:rgba(135,206,250,0.2082752);\">,</span> <span style=\"background-color:rgba(135,206,250,0.1286766);\">cabernet</span> <span style=\"background-color:rgba(135,206,250,0.14470972);\">sauvignon</span> <span style=\"background-color:rgba(135,206,250,0.15921594);\">and</span> <span style=\"background-color:rgba(135,206,250,0.18855129);\">petit</span> <span style=\"background-color:rgba(135,206,250,0.3414855);\">verdot</span> <span style=\"background-color:rgba(135,206,250,1.0);\">,</span> <span style=\"background-color:rgba(135,206,250,0.3592706);\">this</span>"
      ],
      "text/plain": [
       "<IPython.core.display.HTML object>"
      ]
     },
     "metadata": {},
     "output_type": "display_data"
    },
    {
     "name": "stdout",
     "output_type": "stream",
     "text": [
      "is:   \t45.1%\n",
      "wine:   \t21.57%\n",
      "has:   \t9.13%\n",
      "blend:   \t5.76%\n",
      "offers:   \t1.75%\n",
      "--------\n",
      "\n"
     ]
    },
    {
     "data": {
      "text/html": [
       "<span style=\"background-color:rgba(135,206,250,0.3023487);\">wine</span> <span style=\"background-color:rgba(135,206,250,0.56164914);\">review</span> <span style=\"background-color:rgba(135,206,250,0.6549397);\">:</span> <span style=\"background-color:rgba(135,206,250,0.48705572);\">us</span> <span style=\"background-color:rgba(135,206,250,0.4427672);\">:</span> <span style=\"background-color:rgba(135,206,250,0.38747144);\">chardaney</span> <span style=\"background-color:rgba(135,206,250,0.28041282);\">:</span> <span style=\"background-color:rgba(135,206,250,0.22686334);\">red</span> <span style=\"background-color:rgba(135,206,250,0.2988134);\">blend</span> <span style=\"background-color:rgba(135,206,250,0.22075829);\">:</span> <span style=\"background-color:rgba(135,206,250,0.11567979);\">a</span> <span style=\"background-color:rgba(135,206,250,0.20616886);\">blend</span> <span style=\"background-color:rgba(135,206,250,0.17169148);\">of</span> <span style=\"background-color:rgba(135,206,250,0.16107707);\">sangiovese</span> <span style=\"background-color:rgba(135,206,250,0.20530501);\">,</span> <span style=\"background-color:rgba(135,206,250,0.13329376);\">cabernet</span> <span style=\"background-color:rgba(135,206,250,0.14355604);\">sauvignon</span> <span style=\"background-color:rgba(135,206,250,0.27995208);\">and</span> <span style=\"background-color:rgba(135,206,250,0.16896059);\">petit</span> <span style=\"background-color:rgba(135,206,250,0.3403575);\">verdot</span> <span style=\"background-color:rgba(135,206,250,0.7230305);\">,</span> <span style=\"background-color:rgba(135,206,250,1.0);\">this</span> <span style=\"background-color:rgba(135,206,250,0.43514246);\">is</span>"
      ],
      "text/plain": [
       "<IPython.core.display.HTML object>"
      ]
     },
     "metadata": {},
     "output_type": "display_data"
    },
    {
     "name": "stdout",
     "output_type": "stream",
     "text": [
      "a:   \t79.01%\n",
      "an:   \t4.19%\n",
      "the:   \t1.71%\n",
      "soft:   \t0.85%\n",
      "one:   \t0.73%\n",
      "--------\n",
      "\n"
     ]
    },
    {
     "data": {
      "text/html": [
       "<span style=\"background-color:rgba(135,206,250,0.31072372);\">wine</span> <span style=\"background-color:rgba(135,206,250,0.48397446);\">review</span> <span style=\"background-color:rgba(135,206,250,0.5463188);\">:</span> <span style=\"background-color:rgba(135,206,250,0.5111382);\">us</span> <span style=\"background-color:rgba(135,206,250,0.2087536);\">:</span> <span style=\"background-color:rgba(135,206,250,0.4575723);\">chardaney</span> <span style=\"background-color:rgba(135,206,250,0.20951164);\">:</span> <span style=\"background-color:rgba(135,206,250,0.3201542);\">red</span> <span style=\"background-color:rgba(135,206,250,0.30935118);\">blend</span> <span style=\"background-color:rgba(135,206,250,0.15976754);\">:</span> <span style=\"background-color:rgba(135,206,250,0.07032266);\">a</span> <span style=\"background-color:rgba(135,206,250,0.16820076);\">blend</span> <span style=\"background-color:rgba(135,206,250,0.1432476);\">of</span> <span style=\"background-color:rgba(135,206,250,0.17022495);\">sangiovese</span> <span style=\"background-color:rgba(135,206,250,0.1727977);\">,</span> <span style=\"background-color:rgba(135,206,250,0.13461387);\">cabernet</span> <span style=\"background-color:rgba(135,206,250,0.16710654);\">sauvignon</span> <span style=\"background-color:rgba(135,206,250,0.21922727);\">and</span> <span style=\"background-color:rgba(135,206,250,0.17508508);\">petit</span> <span style=\"background-color:rgba(135,206,250,0.4505123);\">verdot</span> <span style=\"background-color:rgba(135,206,250,0.55900717);\">,</span> <span style=\"background-color:rgba(135,206,250,0.9243046);\">this</span> <span style=\"background-color:rgba(135,206,250,1.0);\">is</span> <span style=\"background-color:rgba(135,206,250,0.38149408);\">a</span>"
      ],
      "text/plain": [
       "<IPython.core.display.HTML object>"
      ]
     },
     "metadata": {},
     "output_type": "display_data"
    },
    {
     "name": "stdout",
     "output_type": "stream",
     "text": [
      "blend:   \t18.33%\n",
      "soft:   \t4.93%\n",
      "big:   \t4.53%\n",
      "full:   \t4.34%\n",
      "wine:   \t3.35%\n",
      "--------\n",
      "\n"
     ]
    },
    {
     "data": {
      "text/html": [
       "<span style=\"background-color:rgba(135,206,250,0.26046526);\">wine</span> <span style=\"background-color:rgba(135,206,250,0.40568617);\">review</span> <span style=\"background-color:rgba(135,206,250,0.43768305);\">:</span> <span style=\"background-color:rgba(135,206,250,0.39257038);\">us</span> <span style=\"background-color:rgba(135,206,250,0.21955787);\">:</span> <span style=\"background-color:rgba(135,206,250,0.2831175);\">chardaney</span> <span style=\"background-color:rgba(135,206,250,0.22789691);\">:</span> <span style=\"background-color:rgba(135,206,250,0.29324916);\">red</span> <span style=\"background-color:rgba(135,206,250,0.20146473);\">blend</span> <span style=\"background-color:rgba(135,206,250,0.1311094);\">:</span> <span style=\"background-color:rgba(135,206,250,0.08895399);\">a</span> <span style=\"background-color:rgba(135,206,250,0.09614319);\">blend</span> <span style=\"background-color:rgba(135,206,250,0.09898948);\">of</span> <span style=\"background-color:rgba(135,206,250,0.1315647);\">sangiovese</span> <span style=\"background-color:rgba(135,206,250,0.110951975);\">,</span> <span style=\"background-color:rgba(135,206,250,0.10197127);\">cabernet</span> <span style=\"background-color:rgba(135,206,250,0.10887027);\">sauvignon</span> <span style=\"background-color:rgba(135,206,250,0.1528733);\">and</span> <span style=\"background-color:rgba(135,206,250,0.08684589);\">petit</span> <span style=\"background-color:rgba(135,206,250,0.2571029);\">verdot</span> <span style=\"background-color:rgba(135,206,250,0.26873043);\">,</span> <span style=\"background-color:rgba(135,206,250,0.6427092);\">this</span> <span style=\"background-color:rgba(135,206,250,0.8626934);\">is</span> <span style=\"background-color:rgba(135,206,250,1.0);\">a</span> <span style=\"background-color:rgba(135,206,250,0.41766465);\">thick</span>"
      ],
      "text/plain": [
       "<IPython.core.display.HTML object>"
      ]
     },
     "metadata": {},
     "output_type": "display_data"
    },
    {
     "name": "stdout",
     "output_type": "stream",
     "text": [
      ",:   \t86.35%\n",
      "and:   \t8.99%\n",
      "wine:   \t1.75%\n",
      "but:   \t0.35%\n",
      "blend:   \t0.32%\n",
      "--------\n",
      "\n"
     ]
    },
    {
     "data": {
      "text/html": [
       "<span style=\"background-color:rgba(135,206,250,0.0971551);\">wine</span> <span style=\"background-color:rgba(135,206,250,0.1921616);\">review</span> <span style=\"background-color:rgba(135,206,250,0.20089488);\">:</span> <span style=\"background-color:rgba(135,206,250,0.2139352);\">us</span> <span style=\"background-color:rgba(135,206,250,0.08504146);\">:</span> <span style=\"background-color:rgba(135,206,250,0.13087602);\">chardaney</span> <span style=\"background-color:rgba(135,206,250,0.09017529);\">:</span> <span style=\"background-color:rgba(135,206,250,0.09653807);\">red</span> <span style=\"background-color:rgba(135,206,250,0.13633767);\">blend</span> <span style=\"background-color:rgba(135,206,250,0.068432875);\">:</span> <span style=\"background-color:rgba(135,206,250,0.04458349);\">a</span> <span style=\"background-color:rgba(135,206,250,0.06867896);\">blend</span> <span style=\"background-color:rgba(135,206,250,0.05418563);\">of</span> <span style=\"background-color:rgba(135,206,250,0.060326703);\">sangiovese</span> <span style=\"background-color:rgba(135,206,250,0.05092853);\">,</span> <span style=\"background-color:rgba(135,206,250,0.04074539);\">cabernet</span> <span style=\"background-color:rgba(135,206,250,0.05417133);\">sauvignon</span> <span style=\"background-color:rgba(135,206,250,0.09347108);\">and</span> <span style=\"background-color:rgba(135,206,250,0.04684907);\">petit</span> <span style=\"background-color:rgba(135,206,250,0.086285815);\">verdot</span> <span style=\"background-color:rgba(135,206,250,0.08036649);\">,</span> <span style=\"background-color:rgba(135,206,250,0.33299306);\">this</span> <span style=\"background-color:rgba(135,206,250,0.4601756);\">is</span> <span style=\"background-color:rgba(135,206,250,0.3621712);\">a</span> <span style=\"background-color:rgba(135,206,250,1.0);\">thick</span> <span style=\"background-color:rgba(135,206,250,0.2200412);\">,</span>"
      ],
      "text/plain": [
       "<IPython.core.display.HTML object>"
      ]
     },
     "metadata": {},
     "output_type": "display_data"
    },
    {
     "name": "stdout",
     "output_type": "stream",
     "text": [
      "dense:   \t11.03%\n",
      "meaty:   \t9.9%\n",
      "extracted:   \t9.78%\n",
      "chewy:   \t6.92%\n",
      "concentrated:   \t4.87%\n",
      "--------\n",
      "\n"
     ]
    },
    {
     "data": {
      "text/html": [
       "<span style=\"background-color:rgba(135,206,250,0.2835481);\">wine</span> <span style=\"background-color:rgba(135,206,250,0.47769246);\">review</span> <span style=\"background-color:rgba(135,206,250,0.4803481);\">:</span> <span style=\"background-color:rgba(135,206,250,0.520625);\">us</span> <span style=\"background-color:rgba(135,206,250,0.20432004);\">:</span> <span style=\"background-color:rgba(135,206,250,0.36134934);\">chardaney</span> <span style=\"background-color:rgba(135,206,250,0.25428635);\">:</span> <span style=\"background-color:rgba(135,206,250,0.33694574);\">red</span> <span style=\"background-color:rgba(135,206,250,0.27126223);\">blend</span> <span style=\"background-color:rgba(135,206,250,0.15361238);\">:</span> <span style=\"background-color:rgba(135,206,250,0.1004754);\">a</span> <span style=\"background-color:rgba(135,206,250,0.12059926);\">blend</span> <span style=\"background-color:rgba(135,206,250,0.11420961);\">of</span> <span style=\"background-color:rgba(135,206,250,0.1558382);\">sangiovese</span> <span style=\"background-color:rgba(135,206,250,0.12372328);\">,</span> <span style=\"background-color:rgba(135,206,250,0.11665306);\">cabernet</span> <span style=\"background-color:rgba(135,206,250,0.11650715);\">sauvignon</span> <span style=\"background-color:rgba(135,206,250,0.14873569);\">and</span> <span style=\"background-color:rgba(135,206,250,0.08824165);\">petit</span> <span style=\"background-color:rgba(135,206,250,0.25636536);\">verdot</span> <span style=\"background-color:rgba(135,206,250,0.22673826);\">,</span> <span style=\"background-color:rgba(135,206,250,0.6809985);\">this</span> <span style=\"background-color:rgba(135,206,250,0.97530156);\">is</span> <span style=\"background-color:rgba(135,206,250,1.0);\">a</span> <span style=\"background-color:rgba(135,206,250,0.54999423);\">thick</span> <span style=\"background-color:rgba(135,206,250,0.9140647);\">,</span> <span style=\"background-color:rgba(135,206,250,0.652457);\">dense</span>"
      ],
      "text/plain": [
       "<IPython.core.display.HTML object>"
      ]
     },
     "metadata": {},
     "output_type": "display_data"
    },
    {
     "name": "stdout",
     "output_type": "stream",
     "text": [
      "and:   \t43.15%\n",
      ",:   \t25.19%\n",
      "wine:   \t20.82%\n",
      "cabernet:   \t2.77%\n",
      "merlot:   \t1.21%\n",
      "--------\n",
      "\n"
     ]
    },
    {
     "data": {
      "text/html": [
       "<span style=\"background-color:rgba(135,206,250,0.10800861);\">wine</span> <span style=\"background-color:rgba(135,206,250,0.17779765);\">review</span> <span style=\"background-color:rgba(135,206,250,0.31518263);\">:</span> <span style=\"background-color:rgba(135,206,250,0.28321335);\">us</span> <span style=\"background-color:rgba(135,206,250,0.09953165);\">:</span> <span style=\"background-color:rgba(135,206,250,0.19560634);\">chardaney</span> <span style=\"background-color:rgba(135,206,250,0.10290999);\">:</span> <span style=\"background-color:rgba(135,206,250,0.15243272);\">red</span> <span style=\"background-color:rgba(135,206,250,0.15808836);\">blend</span> <span style=\"background-color:rgba(135,206,250,0.076602034);\">:</span> <span style=\"background-color:rgba(135,206,250,0.05266794);\">a</span> <span style=\"background-color:rgba(135,206,250,0.07475029);\">blend</span> <span style=\"background-color:rgba(135,206,250,0.052670673);\">of</span> <span style=\"background-color:rgba(135,206,250,0.072703615);\">sangiovese</span> <span style=\"background-color:rgba(135,206,250,0.0730937);\">,</span> <span style=\"background-color:rgba(135,206,250,0.050263125);\">cabernet</span> <span style=\"background-color:rgba(135,206,250,0.068587296);\">sauvignon</span> <span style=\"background-color:rgba(135,206,250,0.058007456);\">and</span> <span style=\"background-color:rgba(135,206,250,0.06356183);\">petit</span> <span style=\"background-color:rgba(135,206,250,0.086156);\">verdot</span> <span style=\"background-color:rgba(135,206,250,0.1380544);\">,</span> <span style=\"background-color:rgba(135,206,250,0.16106436);\">this</span> <span style=\"background-color:rgba(135,206,250,0.20480296);\">is</span> <span style=\"background-color:rgba(135,206,250,0.18044245);\">a</span> <span style=\"background-color:rgba(135,206,250,0.67757195);\">thick</span> <span style=\"background-color:rgba(135,206,250,0.6832853);\">,</span> <span style=\"background-color:rgba(135,206,250,1.0);\">dense</span> <span style=\"background-color:rgba(135,206,250,0.3022492);\">and</span>"
      ],
      "text/plain": [
       "<IPython.core.display.HTML object>"
      ]
     },
     "metadata": {},
     "output_type": "display_data"
    },
    {
     "name": "stdout",
     "output_type": "stream",
     "text": [
      "extracted:   \t14.53%\n",
      "tannic:   \t10.78%\n",
      "concentrated:   \t10.43%\n",
      "chewy:   \t8.31%\n",
      "dense:   \t4.78%\n",
      "--------\n",
      "\n"
     ]
    },
    {
     "data": {
      "text/html": [
       "<span style=\"background-color:rgba(135,206,250,0.31066853);\">wine</span> <span style=\"background-color:rgba(135,206,250,0.49656558);\">review</span> <span style=\"background-color:rgba(135,206,250,0.42867216);\">:</span> <span style=\"background-color:rgba(135,206,250,0.40027946);\">us</span> <span style=\"background-color:rgba(135,206,250,0.19488643);\">:</span> <span style=\"background-color:rgba(135,206,250,0.3483162);\">chardaney</span> <span style=\"background-color:rgba(135,206,250,0.256803);\">:</span> <span style=\"background-color:rgba(135,206,250,0.26570976);\">red</span> <span style=\"background-color:rgba(135,206,250,0.21590453);\">blend</span> <span style=\"background-color:rgba(135,206,250,0.15422942);\">:</span> <span style=\"background-color:rgba(135,206,250,0.090143315);\">a</span> <span style=\"background-color:rgba(135,206,250,0.1045014);\">blend</span> <span style=\"background-color:rgba(135,206,250,0.10730447);\">of</span> <span style=\"background-color:rgba(135,206,250,0.101944834);\">sangiovese</span> <span style=\"background-color:rgba(135,206,250,0.116300665);\">,</span> <span style=\"background-color:rgba(135,206,250,0.08189281);\">cabernet</span> <span style=\"background-color:rgba(135,206,250,0.08566962);\">sauvignon</span> <span style=\"background-color:rgba(135,206,250,0.11268682);\">and</span> <span style=\"background-color:rgba(135,206,250,0.09892392);\">petit</span> <span style=\"background-color:rgba(135,206,250,0.16478834);\">verdot</span> <span style=\"background-color:rgba(135,206,250,0.17928585);\">,</span> <span style=\"background-color:rgba(135,206,250,0.4064744);\">this</span> <span style=\"background-color:rgba(135,206,250,0.5158595);\">is</span> <span style=\"background-color:rgba(135,206,250,0.43842658);\">a</span> <span style=\"background-color:rgba(135,206,250,0.3594539);\">thick</span> <span style=\"background-color:rgba(135,206,250,0.55816126);\">,</span> <span style=\"background-color:rgba(135,206,250,0.37612298);\">dense</span> <span style=\"background-color:rgba(135,206,250,1.0);\">and</span> <span style=\"background-color:rgba(135,206,250,0.6012512);\">tannic</span>"
      ],
      "text/plain": [
       "<IPython.core.display.HTML object>"
      ]
     },
     "metadata": {},
     "output_type": "display_data"
    },
    {
     "name": "stdout",
     "output_type": "stream",
     "text": [
      "wine:   \t83.3%\n",
      "blend:   \t5.61%\n",
      ",:   \t2.97%\n",
      "cabernet:   \t1.85%\n",
      "expression:   \t1.2%\n",
      "--------\n",
      "\n"
     ]
    },
    {
     "data": {
      "text/html": [
       "<span style=\"background-color:rgba(135,206,250,0.25163966);\">wine</span> <span style=\"background-color:rgba(135,206,250,0.7345617);\">review</span> <span style=\"background-color:rgba(135,206,250,0.69994795);\">:</span> <span style=\"background-color:rgba(135,206,250,0.6134321);\">us</span> <span style=\"background-color:rgba(135,206,250,0.29771903);\">:</span> <span style=\"background-color:rgba(135,206,250,0.35547268);\">chardaney</span> <span style=\"background-color:rgba(135,206,250,0.31620437);\">:</span> <span style=\"background-color:rgba(135,206,250,0.11997873);\">red</span> <span style=\"background-color:rgba(135,206,250,0.28758222);\">blend</span> <span style=\"background-color:rgba(135,206,250,0.19772466);\">:</span> <span style=\"background-color:rgba(135,206,250,0.18801452);\">a</span> <span style=\"background-color:rgba(135,206,250,0.17581296);\">blend</span> <span style=\"background-color:rgba(135,206,250,0.11446816);\">of</span> <span style=\"background-color:rgba(135,206,250,0.06698255);\">sangiovese</span> <span style=\"background-color:rgba(135,206,250,0.1503587);\">,</span> <span style=\"background-color:rgba(135,206,250,0.060377512);\">cabernet</span> <span style=\"background-color:rgba(135,206,250,0.07328616);\">sauvignon</span> <span style=\"background-color:rgba(135,206,250,0.11952083);\">and</span> <span style=\"background-color:rgba(135,206,250,0.0605176);\">petit</span> <span style=\"background-color:rgba(135,206,250,0.11573261);\">verdot</span> <span style=\"background-color:rgba(135,206,250,0.22436377);\">,</span> <span style=\"background-color:rgba(135,206,250,0.45092064);\">this</span> <span style=\"background-color:rgba(135,206,250,0.5670666);\">is</span> <span style=\"background-color:rgba(135,206,250,0.53224427);\">a</span> <span style=\"background-color:rgba(135,206,250,0.4342958);\">thick</span> <span style=\"background-color:rgba(135,206,250,0.69026834);\">,</span> <span style=\"background-color:rgba(135,206,250,0.56362265);\">dense</span> <span style=\"background-color:rgba(135,206,250,0.75171185);\">and</span> <span style=\"background-color:rgba(135,206,250,0.8984672);\">tannic</span> <span style=\"background-color:rgba(135,206,250,1.0);\">wine</span>"
      ],
      "text/plain": [
       "<IPython.core.display.HTML object>"
      ]
     },
     "metadata": {},
     "output_type": "display_data"
    },
    {
     "name": "stdout",
     "output_type": "stream",
     "text": [
      "that:   \t32.7%\n",
      ",:   \t31.37%\n",
      ".:   \t29.14%\n",
      "with:   \t5.03%\n",
      "from:   \t0.37%\n",
      "--------\n",
      "\n"
     ]
    },
    {
     "data": {
      "text/html": [
       "<span style=\"background-color:rgba(135,206,250,0.11051089);\">wine</span> <span style=\"background-color:rgba(135,206,250,0.17433816);\">review</span> <span style=\"background-color:rgba(135,206,250,0.29123288);\">:</span> <span style=\"background-color:rgba(135,206,250,0.2517829);\">us</span> <span style=\"background-color:rgba(135,206,250,0.11068889);\">:</span> <span style=\"background-color:rgba(135,206,250,0.1830369);\">chardaney</span> <span style=\"background-color:rgba(135,206,250,0.09389951);\">:</span> <span style=\"background-color:rgba(135,206,250,0.066355534);\">red</span> <span style=\"background-color:rgba(135,206,250,0.09118465);\">blend</span> <span style=\"background-color:rgba(135,206,250,0.06429083);\">:</span> <span style=\"background-color:rgba(135,206,250,0.06211699);\">a</span> <span style=\"background-color:rgba(135,206,250,0.052856307);\">blend</span> <span style=\"background-color:rgba(135,206,250,0.034857925);\">of</span> <span style=\"background-color:rgba(135,206,250,0.036375698);\">sangiovese</span> <span style=\"background-color:rgba(135,206,250,0.04934595);\">,</span> <span style=\"background-color:rgba(135,206,250,0.035834584);\">cabernet</span> <span style=\"background-color:rgba(135,206,250,0.041940056);\">sauvignon</span> <span style=\"background-color:rgba(135,206,250,0.0399553);\">and</span> <span style=\"background-color:rgba(135,206,250,0.035155278);\">petit</span> <span style=\"background-color:rgba(135,206,250,0.05317506);\">verdot</span> <span style=\"background-color:rgba(135,206,250,0.066050045);\">,</span> <span style=\"background-color:rgba(135,206,250,0.0869356);\">this</span> <span style=\"background-color:rgba(135,206,250,0.11981718);\">is</span> <span style=\"background-color:rgba(135,206,250,0.16272531);\">a</span> <span style=\"background-color:rgba(135,206,250,0.21047609);\">thick</span> <span style=\"background-color:rgba(135,206,250,0.13316175);\">,</span> <span style=\"background-color:rgba(135,206,250,0.20967166);\">dense</span> <span style=\"background-color:rgba(135,206,250,0.294375);\">and</span> <span style=\"background-color:rgba(135,206,250,0.36783248);\">tannic</span> <span style=\"background-color:rgba(135,206,250,1.0);\">wine</span> <span style=\"background-color:rgba(135,206,250,0.16592975);\">that</span>"
      ],
      "text/plain": [
       "<IPython.core.display.HTML object>"
      ]
     },
     "metadata": {},
     "output_type": "display_data"
    },
    {
     "name": "stdout",
     "output_type": "stream",
     "text": [
      "':   \t21.76%\n",
      "is:   \t13.38%\n",
      "shows:   \t9.98%\n",
      "has:   \t9.29%\n",
      "will:   \t7.24%\n",
      "--------\n",
      "\n"
     ]
    },
    {
     "data": {
      "text/html": [
       "<span style=\"background-color:rgba(135,206,250,0.25348374);\">wine</span> <span style=\"background-color:rgba(135,206,250,0.43638092);\">review</span> <span style=\"background-color:rgba(135,206,250,1.0);\">:</span> <span style=\"background-color:rgba(135,206,250,0.85951406);\">us</span> <span style=\"background-color:rgba(135,206,250,0.46798536);\">:</span> <span style=\"background-color:rgba(135,206,250,0.4616536);\">chardaney</span> <span style=\"background-color:rgba(135,206,250,0.5724287);\">:</span> <span style=\"background-color:rgba(135,206,250,0.28231373);\">red</span> <span style=\"background-color:rgba(135,206,250,0.22422267);\">blend</span> <span style=\"background-color:rgba(135,206,250,0.1389818);\">:</span> <span style=\"background-color:rgba(135,206,250,0.093672715);\">a</span> <span style=\"background-color:rgba(135,206,250,0.083789855);\">blend</span> <span style=\"background-color:rgba(135,206,250,0.07517644);\">of</span> <span style=\"background-color:rgba(135,206,250,0.11244636);\">sangiovese</span> <span style=\"background-color:rgba(135,206,250,0.09561891);\">,</span> <span style=\"background-color:rgba(135,206,250,0.077223115);\">cabernet</span> <span style=\"background-color:rgba(135,206,250,0.08757471);\">sauvignon</span> <span style=\"background-color:rgba(135,206,250,0.11792603);\">and</span> <span style=\"background-color:rgba(135,206,250,0.08301409);\">petit</span> <span style=\"background-color:rgba(135,206,250,0.10070833);\">verdot</span> <span style=\"background-color:rgba(135,206,250,0.11132949);\">,</span> <span style=\"background-color:rgba(135,206,250,0.16010645);\">this</span> <span style=\"background-color:rgba(135,206,250,0.10964074);\">is</span> <span style=\"background-color:rgba(135,206,250,0.12761647);\">a</span> <span style=\"background-color:rgba(135,206,250,0.34389746);\">thick</span> <span style=\"background-color:rgba(135,206,250,0.18632875);\">,</span> <span style=\"background-color:rgba(135,206,250,0.31717715);\">dense</span> <span style=\"background-color:rgba(135,206,250,0.26521266);\">and</span> <span style=\"background-color:rgba(135,206,250,0.3963436);\">tannic</span> <span style=\"background-color:rgba(135,206,250,0.5106691);\">wine</span> <span style=\"background-color:rgba(135,206,250,0.5180986);\">that</span> <span style=\"background-color:rgba(135,206,250,0.83170694);\">delivers</span>"
      ],
      "text/plain": [
       "<IPython.core.display.HTML object>"
      ]
     },
     "metadata": {},
     "output_type": "display_data"
    },
    {
     "name": "stdout",
     "output_type": "stream",
     "text": [
      "a:   \t23.66%\n",
      "the:   \t5.22%\n",
      "power:   \t4.66%\n",
      "plenty:   \t4.55%\n",
      "blackberry:   \t4.21%\n",
      "--------\n",
      "\n"
     ]
    },
    {
     "data": {
      "text/html": [
       "<span style=\"background-color:rgba(135,206,250,0.07843881);\">wine</span> <span style=\"background-color:rgba(135,206,250,0.12798767);\">review</span> <span style=\"background-color:rgba(135,206,250,0.34550357);\">:</span> <span style=\"background-color:rgba(135,206,250,0.26610366);\">us</span> <span style=\"background-color:rgba(135,206,250,0.061957233);\">:</span> <span style=\"background-color:rgba(135,206,250,0.16663703);\">chardaney</span> <span style=\"background-color:rgba(135,206,250,0.07829445);\">:</span> <span style=\"background-color:rgba(135,206,250,0.13203748);\">red</span> <span style=\"background-color:rgba(135,206,250,0.11939618);\">blend</span> <span style=\"background-color:rgba(135,206,250,0.044481017);\">:</span> <span style=\"background-color:rgba(135,206,250,0.01855182);\">a</span> <span style=\"background-color:rgba(135,206,250,0.043765098);\">blend</span> <span style=\"background-color:rgba(135,206,250,0.029970856);\">of</span> <span style=\"background-color:rgba(135,206,250,0.04227425);\">sangiovese</span> <span style=\"background-color:rgba(135,206,250,0.037647504);\">,</span> <span style=\"background-color:rgba(135,206,250,0.02966343);\">cabernet</span> <span style=\"background-color:rgba(135,206,250,0.03556695);\">sauvignon</span> <span style=\"background-color:rgba(135,206,250,0.034913138);\">and</span> <span style=\"background-color:rgba(135,206,250,0.03337318);\">petit</span> <span style=\"background-color:rgba(135,206,250,0.03491164);\">verdot</span> <span style=\"background-color:rgba(135,206,250,0.04375307);\">,</span> <span style=\"background-color:rgba(135,206,250,0.05846228);\">this</span> <span style=\"background-color:rgba(135,206,250,0.045406524);\">is</span> <span style=\"background-color:rgba(135,206,250,0.022060776);\">a</span> <span style=\"background-color:rgba(135,206,250,0.14434537);\">thick</span> <span style=\"background-color:rgba(135,206,250,0.07420636);\">,</span> <span style=\"background-color:rgba(135,206,250,0.13354531);\">dense</span> <span style=\"background-color:rgba(135,206,250,0.1020203);\">and</span> <span style=\"background-color:rgba(135,206,250,0.2646004);\">tannic</span> <span style=\"background-color:rgba(135,206,250,0.3079074);\">wine</span> <span style=\"background-color:rgba(135,206,250,0.29137996);\">that</span> <span style=\"background-color:rgba(135,206,250,1.0);\">delivers</span> <span style=\"background-color:rgba(135,206,250,0.1470356);\">a</span>"
      ],
      "text/plain": [
       "<IPython.core.display.HTML object>"
      ]
     },
     "metadata": {},
     "output_type": "display_data"
    },
    {
     "name": "stdout",
     "output_type": "stream",
     "text": [
      "lot:   \t15.79%\n",
      "wealth:   \t8.08%\n",
      "mix:   \t6.69%\n",
      "deep:   \t3.64%\n",
      "[UNK]:   \t2.74%\n",
      "--------\n",
      "\n"
     ]
    },
    {
     "data": {
      "text/html": [
       "<span style=\"background-color:rgba(135,206,250,0.10898579);\">wine</span> <span style=\"background-color:rgba(135,206,250,0.19971964);\">review</span> <span style=\"background-color:rgba(135,206,250,0.48196435);\">:</span> <span style=\"background-color:rgba(135,206,250,0.4238964);\">us</span> <span style=\"background-color:rgba(135,206,250,0.11452426);\">:</span> <span style=\"background-color:rgba(135,206,250,0.20357247);\">chardaney</span> <span style=\"background-color:rgba(135,206,250,0.15115596);\">:</span> <span style=\"background-color:rgba(135,206,250,0.15151407);\">red</span> <span style=\"background-color:rgba(135,206,250,0.16850717);\">blend</span> <span style=\"background-color:rgba(135,206,250,0.0777018);\">:</span> <span style=\"background-color:rgba(135,206,250,0.05081034);\">a</span> <span style=\"background-color:rgba(135,206,250,0.057217147);\">blend</span> <span style=\"background-color:rgba(135,206,250,0.036993526);\">of</span> <span style=\"background-color:rgba(135,206,250,0.06273878);\">sangiovese</span> <span style=\"background-color:rgba(135,206,250,0.053658698);\">,</span> <span style=\"background-color:rgba(135,206,250,0.03780634);\">cabernet</span> <span style=\"background-color:rgba(135,206,250,0.040455576);\">sauvignon</span> <span style=\"background-color:rgba(135,206,250,0.059758626);\">and</span> <span style=\"background-color:rgba(135,206,250,0.024200805);\">petit</span> <span style=\"background-color:rgba(135,206,250,0.07004321);\">verdot</span> <span style=\"background-color:rgba(135,206,250,0.063447066);\">,</span> <span style=\"background-color:rgba(135,206,250,0.0754272);\">this</span> <span style=\"background-color:rgba(135,206,250,0.090513155);\">is</span> <span style=\"background-color:rgba(135,206,250,0.066415295);\">a</span> <span style=\"background-color:rgba(135,206,250,0.082883045);\">thick</span> <span style=\"background-color:rgba(135,206,250,0.09315722);\">,</span> <span style=\"background-color:rgba(135,206,250,0.07057832);\">dense</span> <span style=\"background-color:rgba(135,206,250,0.14408924);\">and</span> <span style=\"background-color:rgba(135,206,250,0.27090794);\">tannic</span> <span style=\"background-color:rgba(135,206,250,0.40282714);\">wine</span> <span style=\"background-color:rgba(135,206,250,0.24601106);\">that</span> <span style=\"background-color:rgba(135,206,250,1.0);\">delivers</span> <span style=\"background-color:rgba(135,206,250,0.8087148);\">a</span> <span style=\"background-color:rgba(135,206,250,0.32135087);\">deep</span>"
      ],
      "text/plain": [
       "<IPython.core.display.HTML object>"
      ]
     },
     "metadata": {},
     "output_type": "display_data"
    },
    {
     "name": "stdout",
     "output_type": "stream",
     "text": [
      ",:   \t55.15%\n",
      "core:   \t25.58%\n",
      "and:   \t2.97%\n",
      "color:   \t2.36%\n",
      "array:   \t2.06%\n",
      "--------\n",
      "\n"
     ]
    },
    {
     "data": {
      "text/html": [
       "<span style=\"background-color:rgba(135,206,250,0.09848679);\">wine</span> <span style=\"background-color:rgba(135,206,250,0.3119954);\">review</span> <span style=\"background-color:rgba(135,206,250,0.28803304);\">:</span> <span style=\"background-color:rgba(135,206,250,0.2285748);\">us</span> <span style=\"background-color:rgba(135,206,250,0.08743629);\">:</span> <span style=\"background-color:rgba(135,206,250,0.1121404);\">chardaney</span> <span style=\"background-color:rgba(135,206,250,0.10265088);\">:</span> <span style=\"background-color:rgba(135,206,250,0.09674133);\">red</span> <span style=\"background-color:rgba(135,206,250,0.06461912);\">blend</span> <span style=\"background-color:rgba(135,206,250,0.062362477);\">:</span> <span style=\"background-color:rgba(135,206,250,0.040834356);\">a</span> <span style=\"background-color:rgba(135,206,250,0.024687503);\">blend</span> <span style=\"background-color:rgba(135,206,250,0.030757364);\">of</span> <span style=\"background-color:rgba(135,206,250,0.043223973);\">sangiovese</span> <span style=\"background-color:rgba(135,206,250,0.039373495);\">,</span> <span style=\"background-color:rgba(135,206,250,0.025838288);\">cabernet</span> <span style=\"background-color:rgba(135,206,250,0.032883152);\">sauvignon</span> <span style=\"background-color:rgba(135,206,250,0.029115735);\">and</span> <span style=\"background-color:rgba(135,206,250,0.021735545);\">petit</span> <span style=\"background-color:rgba(135,206,250,0.04494987);\">verdot</span> <span style=\"background-color:rgba(135,206,250,0.052935015);\">,</span> <span style=\"background-color:rgba(135,206,250,0.06448894);\">this</span> <span style=\"background-color:rgba(135,206,250,0.121056624);\">is</span> <span style=\"background-color:rgba(135,206,250,0.06652427);\">a</span> <span style=\"background-color:rgba(135,206,250,0.08166604);\">thick</span> <span style=\"background-color:rgba(135,206,250,0.10415339);\">,</span> <span style=\"background-color:rgba(135,206,250,0.083982766);\">dense</span> <span style=\"background-color:rgba(135,206,250,0.12323518);\">and</span> <span style=\"background-color:rgba(135,206,250,0.23064333);\">tannic</span> <span style=\"background-color:rgba(135,206,250,0.30953956);\">wine</span> <span style=\"background-color:rgba(135,206,250,0.25548592);\">that</span> <span style=\"background-color:rgba(135,206,250,1.0);\">delivers</span> <span style=\"background-color:rgba(135,206,250,0.6257507);\">a</span> <span style=\"background-color:rgba(135,206,250,0.3372077);\">deep</span> <span style=\"background-color:rgba(135,206,250,0.26489207);\">core</span>"
      ],
      "text/plain": [
       "<IPython.core.display.HTML object>"
      ]
     },
     "metadata": {},
     "output_type": "display_data"
    },
    {
     "name": "stdout",
     "output_type": "stream",
     "text": [
      "of:   \t99.77%\n",
      "and:   \t0.08%\n",
      "that:   \t0.05%\n",
      ".:   \t0.03%\n",
      ",:   \t0.03%\n",
      "--------\n",
      "\n"
     ]
    },
    {
     "data": {
      "text/html": [
       "<span style=\"background-color:rgba(135,206,250,0.073589034);\">wine</span> <span style=\"background-color:rgba(135,206,250,0.13664506);\">review</span> <span style=\"background-color:rgba(135,206,250,0.32427055);\">:</span> <span style=\"background-color:rgba(135,206,250,0.3356922);\">us</span> <span style=\"background-color:rgba(135,206,250,0.068577364);\">:</span> <span style=\"background-color:rgba(135,206,250,0.18002537);\">chardaney</span> <span style=\"background-color:rgba(135,206,250,0.11734133);\">:</span> <span style=\"background-color:rgba(135,206,250,0.17067704);\">red</span> <span style=\"background-color:rgba(135,206,250,0.12292972);\">blend</span> <span style=\"background-color:rgba(135,206,250,0.05178813);\">:</span> <span style=\"background-color:rgba(135,206,250,0.040405046);\">a</span> <span style=\"background-color:rgba(135,206,250,0.039672356);\">blend</span> <span style=\"background-color:rgba(135,206,250,0.021066923);\">of</span> <span style=\"background-color:rgba(135,206,250,0.06604323);\">sangiovese</span> <span style=\"background-color:rgba(135,206,250,0.045177404);\">,</span> <span style=\"background-color:rgba(135,206,250,0.03852304);\">cabernet</span> <span style=\"background-color:rgba(135,206,250,0.05212645);\">sauvignon</span> <span style=\"background-color:rgba(135,206,250,0.04424284);\">and</span> <span style=\"background-color:rgba(135,206,250,0.039133493);\">petit</span> <span style=\"background-color:rgba(135,206,250,0.06792583);\">verdot</span> <span style=\"background-color:rgba(135,206,250,0.05411691);\">,</span> <span style=\"background-color:rgba(135,206,250,0.067386374);\">this</span> <span style=\"background-color:rgba(135,206,250,0.04269391);\">is</span> <span style=\"background-color:rgba(135,206,250,0.043314103);\">a</span> <span style=\"background-color:rgba(135,206,250,0.12812747);\">thick</span> <span style=\"background-color:rgba(135,206,250,0.06852856);\">,</span> <span style=\"background-color:rgba(135,206,250,0.11015871);\">dense</span> <span style=\"background-color:rgba(135,206,250,0.07949943);\">and</span> <span style=\"background-color:rgba(135,206,250,0.23106435);\">tannic</span> <span style=\"background-color:rgba(135,206,250,0.20311221);\">wine</span> <span style=\"background-color:rgba(135,206,250,0.14653414);\">that</span> <span style=\"background-color:rgba(135,206,250,0.48263794);\">delivers</span> <span style=\"background-color:rgba(135,206,250,0.27164388);\">a</span> <span style=\"background-color:rgba(135,206,250,0.63858616);\">deep</span> <span style=\"background-color:rgba(135,206,250,1.0);\">core</span> <span style=\"background-color:rgba(135,206,250,0.22687306);\">of</span>"
      ],
      "text/plain": [
       "<IPython.core.display.HTML object>"
      ]
     },
     "metadata": {},
     "output_type": "display_data"
    },
    {
     "name": "stdout",
     "output_type": "stream",
     "text": [
      "black:   \t42.7%\n",
      "blackberry:   \t19.78%\n",
      "dark:   \t13.09%\n",
      "blueberry:   \t3.42%\n",
      "cassis:   \t2.0%\n",
      "--------\n",
      "\n"
     ]
    },
    {
     "data": {
      "text/html": [
       "<span style=\"background-color:rgba(135,206,250,0.17991875);\">wine</span> <span style=\"background-color:rgba(135,206,250,0.26270416);\">review</span> <span style=\"background-color:rgba(135,206,250,0.6778769);\">:</span> <span style=\"background-color:rgba(135,206,250,0.72368383);\">us</span> <span style=\"background-color:rgba(135,206,250,0.21175572);\">:</span> <span style=\"background-color:rgba(135,206,250,0.29664972);\">chardaney</span> <span style=\"background-color:rgba(135,206,250,0.31083634);\">:</span> <span style=\"background-color:rgba(135,206,250,0.19630022);\">red</span> <span style=\"background-color:rgba(135,206,250,0.15774925);\">blend</span> <span style=\"background-color:rgba(135,206,250,0.10199736);\">:</span> <span style=\"background-color:rgba(135,206,250,0.048736937);\">a</span> <span style=\"background-color:rgba(135,206,250,0.05018454);\">blend</span> <span style=\"background-color:rgba(135,206,250,0.050550118);\">of</span> <span style=\"background-color:rgba(135,206,250,0.065413624);\">sangiovese</span> <span style=\"background-color:rgba(135,206,250,0.061598405);\">,</span> <span style=\"background-color:rgba(135,206,250,0.057441037);\">cabernet</span> <span style=\"background-color:rgba(135,206,250,0.075135335);\">sauvignon</span> <span style=\"background-color:rgba(135,206,250,0.0824326);\">and</span> <span style=\"background-color:rgba(135,206,250,0.032833677);\">petit</span> <span style=\"background-color:rgba(135,206,250,0.065864824);\">verdot</span> <span style=\"background-color:rgba(135,206,250,0.07093083);\">,</span> <span style=\"background-color:rgba(135,206,250,0.10049764);\">this</span> <span style=\"background-color:rgba(135,206,250,0.071242034);\">is</span> <span style=\"background-color:rgba(135,206,250,0.06321117);\">a</span> <span style=\"background-color:rgba(135,206,250,0.12702876);\">thick</span> <span style=\"background-color:rgba(135,206,250,0.08850133);\">,</span> <span style=\"background-color:rgba(135,206,250,0.116348006);\">dense</span> <span style=\"background-color:rgba(135,206,250,0.13453007);\">and</span> <span style=\"background-color:rgba(135,206,250,0.19768621);\">tannic</span> <span style=\"background-color:rgba(135,206,250,0.27006802);\">wine</span> <span style=\"background-color:rgba(135,206,250,0.18294899);\">that</span> <span style=\"background-color:rgba(135,206,250,0.5586216);\">delivers</span> <span style=\"background-color:rgba(135,206,250,0.4802597);\">a</span> <span style=\"background-color:rgba(135,206,250,0.6830881);\">deep</span> <span style=\"background-color:rgba(135,206,250,1.0);\">core</span> <span style=\"background-color:rgba(135,206,250,0.85069543);\">of</span> <span style=\"background-color:rgba(135,206,250,0.29420596);\">black</span>"
      ],
      "text/plain": [
       "<IPython.core.display.HTML object>"
      ]
     },
     "metadata": {},
     "output_type": "display_data"
    },
    {
     "name": "stdout",
     "output_type": "stream",
     "text": [
      "cherry:   \t51.42%\n",
      "-:   \t9.94%\n",
      "olive:   \t8.83%\n",
      "fruit:   \t8.67%\n",
      "licorice:   \t4.32%\n",
      "--------\n",
      "\n"
     ]
    },
    {
     "data": {
      "text/html": [
       "<span style=\"background-color:rgba(135,206,250,0.11471433);\">wine</span> <span style=\"background-color:rgba(135,206,250,0.2592368);\">review</span> <span style=\"background-color:rgba(135,206,250,0.51643366);\">:</span> <span style=\"background-color:rgba(135,206,250,0.44884712);\">us</span> <span style=\"background-color:rgba(135,206,250,0.14583722);\">:</span> <span style=\"background-color:rgba(135,206,250,0.22217013);\">chardaney</span> <span style=\"background-color:rgba(135,206,250,0.15877172);\">:</span> <span style=\"background-color:rgba(135,206,250,0.07703752);\">red</span> <span style=\"background-color:rgba(135,206,250,0.1040806);\">blend</span> <span style=\"background-color:rgba(135,206,250,0.08952448);\">:</span> <span style=\"background-color:rgba(135,206,250,0.06247437);\">a</span> <span style=\"background-color:rgba(135,206,250,0.054679655);\">blend</span> <span style=\"background-color:rgba(135,206,250,0.08269984);\">of</span> <span style=\"background-color:rgba(135,206,250,0.050804086);\">sangiovese</span> <span style=\"background-color:rgba(135,206,250,0.055563685);\">,</span> <span style=\"background-color:rgba(135,206,250,0.039181847);\">cabernet</span> <span style=\"background-color:rgba(135,206,250,0.04285285);\">sauvignon</span> <span style=\"background-color:rgba(135,206,250,0.042142116);\">and</span> <span style=\"background-color:rgba(135,206,250,0.023155315);\">petit</span> <span style=\"background-color:rgba(135,206,250,0.049805254);\">verdot</span> <span style=\"background-color:rgba(135,206,250,0.064030744);\">,</span> <span style=\"background-color:rgba(135,206,250,0.079311274);\">this</span> <span style=\"background-color:rgba(135,206,250,0.08604686);\">is</span> <span style=\"background-color:rgba(135,206,250,0.09007184);\">a</span> <span style=\"background-color:rgba(135,206,250,0.13320515);\">thick</span> <span style=\"background-color:rgba(135,206,250,0.08947793);\">,</span> <span style=\"background-color:rgba(135,206,250,0.13103376);\">dense</span> <span style=\"background-color:rgba(135,206,250,0.09238901);\">and</span> <span style=\"background-color:rgba(135,206,250,0.19150999);\">tannic</span> <span style=\"background-color:rgba(135,206,250,0.24337296);\">wine</span> <span style=\"background-color:rgba(135,206,250,0.21142055);\">that</span> <span style=\"background-color:rgba(135,206,250,0.5374914);\">delivers</span> <span style=\"background-color:rgba(135,206,250,0.5392593);\">a</span> <span style=\"background-color:rgba(135,206,250,0.48227465);\">deep</span> <span style=\"background-color:rgba(135,206,250,1.0);\">core</span> <span style=\"background-color:rgba(135,206,250,0.9065231);\">of</span> <span style=\"background-color:rgba(135,206,250,0.43316203);\">black</span> <span style=\"background-color:rgba(135,206,250,0.46265706);\">cherry</span>"
      ],
      "text/plain": [
       "<IPython.core.display.HTML object>"
      ]
     },
     "metadata": {},
     "output_type": "display_data"
    },
    {
     "name": "stdout",
     "output_type": "stream",
     "text": [
      ",:   \t70.02%\n",
      "and:   \t22.06%\n",
      "fruit:   \t2.0%\n",
      "flavor:   \t1.45%\n",
      ".:   \t1.29%\n",
      "--------\n",
      "\n"
     ]
    },
    {
     "data": {
      "text/html": [
       "<span style=\"background-color:rgba(135,206,250,0.052551553);\">wine</span> <span style=\"background-color:rgba(135,206,250,0.12765989);\">review</span> <span style=\"background-color:rgba(135,206,250,0.36657852);\">:</span> <span style=\"background-color:rgba(135,206,250,0.30637038);\">us</span> <span style=\"background-color:rgba(135,206,250,0.06780447);\">:</span> <span style=\"background-color:rgba(135,206,250,0.1272921);\">chardaney</span> <span style=\"background-color:rgba(135,206,250,0.08321251);\">:</span> <span style=\"background-color:rgba(135,206,250,0.08785912);\">red</span> <span style=\"background-color:rgba(135,206,250,0.13269298);\">blend</span> <span style=\"background-color:rgba(135,206,250,0.046295676);\">:</span> <span style=\"background-color:rgba(135,206,250,0.025538087);\">a</span> <span style=\"background-color:rgba(135,206,250,0.051405057);\">blend</span> <span style=\"background-color:rgba(135,206,250,0.028769884);\">of</span> <span style=\"background-color:rgba(135,206,250,0.040088702);\">sangiovese</span> <span style=\"background-color:rgba(135,206,250,0.03194997);\">,</span> <span style=\"background-color:rgba(135,206,250,0.025600865);\">cabernet</span> <span style=\"background-color:rgba(135,206,250,0.034441154);\">sauvignon</span> <span style=\"background-color:rgba(135,206,250,0.03893705);\">and</span> <span style=\"background-color:rgba(135,206,250,0.021612452);\">petit</span> <span style=\"background-color:rgba(135,206,250,0.03717773);\">verdot</span> <span style=\"background-color:rgba(135,206,250,0.036107857);\">,</span> <span style=\"background-color:rgba(135,206,250,0.10223611);\">this</span> <span style=\"background-color:rgba(135,206,250,0.09470966);\">is</span> <span style=\"background-color:rgba(135,206,250,0.028984971);\">a</span> <span style=\"background-color:rgba(135,206,250,0.110747695);\">thick</span> <span style=\"background-color:rgba(135,206,250,0.044819437);\">,</span> <span style=\"background-color:rgba(135,206,250,0.083064236);\">dense</span> <span style=\"background-color:rgba(135,206,250,0.07507305);\">and</span> <span style=\"background-color:rgba(135,206,250,0.14488563);\">tannic</span> <span style=\"background-color:rgba(135,206,250,0.13377304);\">wine</span> <span style=\"background-color:rgba(135,206,250,0.12582546);\">that</span> <span style=\"background-color:rgba(135,206,250,0.27840468);\">delivers</span> <span style=\"background-color:rgba(135,206,250,0.15393706);\">a</span> <span style=\"background-color:rgba(135,206,250,0.29222348);\">deep</span> <span style=\"background-color:rgba(135,206,250,0.3190485);\">core</span> <span style=\"background-color:rgba(135,206,250,0.33695662);\">of</span> <span style=\"background-color:rgba(135,206,250,0.3633163);\">black</span> <span style=\"background-color:rgba(135,206,250,1.0);\">cherry</span> <span style=\"background-color:rgba(135,206,250,0.3721646);\">,</span>"
      ],
      "text/plain": [
       "<IPython.core.display.HTML object>"
      ]
     },
     "metadata": {},
     "output_type": "display_data"
    },
    {
     "name": "stdout",
     "output_type": "stream",
     "text": [
      "cassis:   \t17.26%\n",
      "blackberry:   \t17.08%\n",
      "chocolate:   \t14.28%\n",
      "blueberry:   \t9.88%\n",
      "black:   \t7.01%\n",
      "--------\n",
      "\n"
     ]
    },
    {
     "data": {
      "text/html": [
       "<span style=\"background-color:rgba(135,206,250,0.11609853);\">wine</span> <span style=\"background-color:rgba(135,206,250,0.26959682);\">review</span> <span style=\"background-color:rgba(135,206,250,0.51436377);\">:</span> <span style=\"background-color:rgba(135,206,250,0.44774783);\">us</span> <span style=\"background-color:rgba(135,206,250,0.16185966);\">:</span> <span style=\"background-color:rgba(135,206,250,0.16396691);\">chardaney</span> <span style=\"background-color:rgba(135,206,250,0.14438662);\">:</span> <span style=\"background-color:rgba(135,206,250,0.05893802);\">red</span> <span style=\"background-color:rgba(135,206,250,0.08100106);\">blend</span> <span style=\"background-color:rgba(135,206,250,0.07122257);\">:</span> <span style=\"background-color:rgba(135,206,250,0.045198403);\">a</span> <span style=\"background-color:rgba(135,206,250,0.045596108);\">blend</span> <span style=\"background-color:rgba(135,206,250,0.06951503);\">of</span> <span style=\"background-color:rgba(135,206,250,0.029713925);\">sangiovese</span> <span style=\"background-color:rgba(135,206,250,0.043329008);\">,</span> <span style=\"background-color:rgba(135,206,250,0.026972588);\">cabernet</span> <span style=\"background-color:rgba(135,206,250,0.028321693);\">sauvignon</span> <span style=\"background-color:rgba(135,206,250,0.034669694);\">and</span> <span style=\"background-color:rgba(135,206,250,0.01833483);\">petit</span> <span style=\"background-color:rgba(135,206,250,0.02838754);\">verdot</span> <span style=\"background-color:rgba(135,206,250,0.046921734);\">,</span> <span style=\"background-color:rgba(135,206,250,0.09298391);\">this</span> <span style=\"background-color:rgba(135,206,250,0.1131278);\">is</span> <span style=\"background-color:rgba(135,206,250,0.06694148);\">a</span> <span style=\"background-color:rgba(135,206,250,0.081612244);\">thick</span> <span style=\"background-color:rgba(135,206,250,0.07352002);\">,</span> <span style=\"background-color:rgba(135,206,250,0.06837661);\">dense</span> <span style=\"background-color:rgba(135,206,250,0.084475085);\">and</span> <span style=\"background-color:rgba(135,206,250,0.101544484);\">tannic</span> <span style=\"background-color:rgba(135,206,250,0.22650184);\">wine</span> <span style=\"background-color:rgba(135,206,250,0.21307957);\">that</span> <span style=\"background-color:rgba(135,206,250,0.49173024);\">delivers</span> <span style=\"background-color:rgba(135,206,250,0.32450122);\">a</span> <span style=\"background-color:rgba(135,206,250,0.20611595);\">deep</span> <span style=\"background-color:rgba(135,206,250,0.41304848);\">core</span> <span style=\"background-color:rgba(135,206,250,0.54367673);\">of</span> <span style=\"background-color:rgba(135,206,250,0.20302875);\">black</span> <span style=\"background-color:rgba(135,206,250,0.43557855);\">cherry</span> <span style=\"background-color:rgba(135,206,250,1.0);\">,</span> <span style=\"background-color:rgba(135,206,250,0.44180086);\">spice</span>"
      ],
      "text/plain": [
       "<IPython.core.display.HTML object>"
      ]
     },
     "metadata": {},
     "output_type": "display_data"
    },
    {
     "name": "stdout",
     "output_type": "stream",
     "text": [
      "and:   \t59.38%\n",
      ",:   \t40.33%\n",
      "cake:   \t0.09%\n",
      ".:   \t0.06%\n",
      "that:   \t0.02%\n",
      "--------\n",
      "\n"
     ]
    },
    {
     "data": {
      "text/html": [
       "<span style=\"background-color:rgba(135,206,250,0.05165666);\">wine</span> <span style=\"background-color:rgba(135,206,250,0.09199901);\">review</span> <span style=\"background-color:rgba(135,206,250,0.20148656);\">:</span> <span style=\"background-color:rgba(135,206,250,0.21273986);\">us</span> <span style=\"background-color:rgba(135,206,250,0.06735163);\">:</span> <span style=\"background-color:rgba(135,206,250,0.13262133);\">chardaney</span> <span style=\"background-color:rgba(135,206,250,0.06528049);\">:</span> <span style=\"background-color:rgba(135,206,250,0.09802726);\">red</span> <span style=\"background-color:rgba(135,206,250,0.110350244);\">blend</span> <span style=\"background-color:rgba(135,206,250,0.042938262);\">:</span> <span style=\"background-color:rgba(135,206,250,0.02876955);\">a</span> <span style=\"background-color:rgba(135,206,250,0.041376006);\">blend</span> <span style=\"background-color:rgba(135,206,250,0.021749541);\">of</span> <span style=\"background-color:rgba(135,206,250,0.038724393);\">sangiovese</span> <span style=\"background-color:rgba(135,206,250,0.033213336);\">,</span> <span style=\"background-color:rgba(135,206,250,0.025300024);\">cabernet</span> <span style=\"background-color:rgba(135,206,250,0.033745874);\">sauvignon</span> <span style=\"background-color:rgba(135,206,250,0.030445851);\">and</span> <span style=\"background-color:rgba(135,206,250,0.024563422);\">petit</span> <span style=\"background-color:rgba(135,206,250,0.03259411);\">verdot</span> <span style=\"background-color:rgba(135,206,250,0.036304027);\">,</span> <span style=\"background-color:rgba(135,206,250,0.039736148);\">this</span> <span style=\"background-color:rgba(135,206,250,0.03387504);\">is</span> <span style=\"background-color:rgba(135,206,250,0.027272211);\">a</span> <span style=\"background-color:rgba(135,206,250,0.089512505);\">thick</span> <span style=\"background-color:rgba(135,206,250,0.04077302);\">,</span> <span style=\"background-color:rgba(135,206,250,0.07769771);\">dense</span> <span style=\"background-color:rgba(135,206,250,0.039142873);\">and</span> <span style=\"background-color:rgba(135,206,250,0.113043435);\">tannic</span> <span style=\"background-color:rgba(135,206,250,0.0651902);\">wine</span> <span style=\"background-color:rgba(135,206,250,0.050623048);\">that</span> <span style=\"background-color:rgba(135,206,250,0.09744231);\">delivers</span> <span style=\"background-color:rgba(135,206,250,0.055001743);\">a</span> <span style=\"background-color:rgba(135,206,250,0.15849566);\">deep</span> <span style=\"background-color:rgba(135,206,250,0.11819547);\">core</span> <span style=\"background-color:rgba(135,206,250,0.15921657);\">of</span> <span style=\"background-color:rgba(135,206,250,0.21476236);\">black</span> <span style=\"background-color:rgba(135,206,250,0.4478066);\">cherry</span> <span style=\"background-color:rgba(135,206,250,0.63993573);\">,</span> <span style=\"background-color:rgba(135,206,250,1.0);\">spice</span> <span style=\"background-color:rgba(135,206,250,0.2504449);\">and</span>"
      ],
      "text/plain": [
       "<IPython.core.display.HTML object>"
      ]
     },
     "metadata": {},
     "output_type": "display_data"
    },
    {
     "name": "stdout",
     "output_type": "stream",
     "text": [
      "chocolate:   \t15.17%\n",
      "leather:   \t14.78%\n",
      "black:   \t7.48%\n",
      "a:   \t5.96%\n",
      "dark:   \t5.92%\n",
      "--------\n",
      "\n"
     ]
    },
    {
     "data": {
      "text/html": [
       "<span style=\"background-color:rgba(135,206,250,0.109961);\">wine</span> <span style=\"background-color:rgba(135,206,250,0.2564539);\">review</span> <span style=\"background-color:rgba(135,206,250,0.6032508);\">:</span> <span style=\"background-color:rgba(135,206,250,0.50216264);\">us</span> <span style=\"background-color:rgba(135,206,250,0.14930397);\">:</span> <span style=\"background-color:rgba(135,206,250,0.15042382);\">chardaney</span> <span style=\"background-color:rgba(135,206,250,0.16427091);\">:</span> <span style=\"background-color:rgba(135,206,250,0.06004323);\">red</span> <span style=\"background-color:rgba(135,206,250,0.10868404);\">blend</span> <span style=\"background-color:rgba(135,206,250,0.064427935);\">:</span> <span style=\"background-color:rgba(135,206,250,0.039839868);\">a</span> <span style=\"background-color:rgba(135,206,250,0.042922158);\">blend</span> <span style=\"background-color:rgba(135,206,250,0.05243714);\">of</span> <span style=\"background-color:rgba(135,206,250,0.02490991);\">sangiovese</span> <span style=\"background-color:rgba(135,206,250,0.034704313);\">,</span> <span style=\"background-color:rgba(135,206,250,0.024297787);\">cabernet</span> <span style=\"background-color:rgba(135,206,250,0.02073211);\">sauvignon</span> <span style=\"background-color:rgba(135,206,250,0.02778002);\">and</span> <span style=\"background-color:rgba(135,206,250,0.012777575);\">petit</span> <span style=\"background-color:rgba(135,206,250,0.023889827);\">verdot</span> <span style=\"background-color:rgba(135,206,250,0.04069301);\">,</span> <span style=\"background-color:rgba(135,206,250,0.07430227);\">this</span> <span style=\"background-color:rgba(135,206,250,0.09615794);\">is</span> <span style=\"background-color:rgba(135,206,250,0.05419773);\">a</span> <span style=\"background-color:rgba(135,206,250,0.05398143);\">thick</span> <span style=\"background-color:rgba(135,206,250,0.063542604);\">,</span> <span style=\"background-color:rgba(135,206,250,0.044733107);\">dense</span> <span style=\"background-color:rgba(135,206,250,0.06261871);\">and</span> <span style=\"background-color:rgba(135,206,250,0.097237565);\">tannic</span> <span style=\"background-color:rgba(135,206,250,0.21510196);\">wine</span> <span style=\"background-color:rgba(135,206,250,0.17054643);\">that</span> <span style=\"background-color:rgba(135,206,250,0.39794436);\">delivers</span> <span style=\"background-color:rgba(135,206,250,0.21192034);\">a</span> <span style=\"background-color:rgba(135,206,250,0.121316664);\">deep</span> <span style=\"background-color:rgba(135,206,250,0.31712598);\">core</span> <span style=\"background-color:rgba(135,206,250,0.3534229);\">of</span> <span style=\"background-color:rgba(135,206,250,0.12795798);\">black</span> <span style=\"background-color:rgba(135,206,250,0.25938478);\">cherry</span> <span style=\"background-color:rgba(135,206,250,0.716591);\">,</span> <span style=\"background-color:rgba(135,206,250,0.31343308);\">spice</span> <span style=\"background-color:rgba(135,206,250,1.0);\">and</span> <span style=\"background-color:rgba(135,206,250,0.50490385);\">peppercorn</span>"
      ],
      "text/plain": [
       "<IPython.core.display.HTML object>"
      ]
     },
     "metadata": {},
     "output_type": "display_data"
    },
    {
     "name": "stdout",
     "output_type": "stream",
     "text": [
      ".:   \t86.8%\n",
      ",:   \t4.45%\n",
      "flavors:   \t3.14%\n",
      "that:   \t1.21%\n",
      "flavor:   \t0.6%\n",
      "--------\n",
      "\n"
     ]
    },
    {
     "data": {
      "text/html": [
       "<span style=\"background-color:rgba(135,206,250,0.06982687);\">wine</span> <span style=\"background-color:rgba(135,206,250,0.12842093);\">review</span> <span style=\"background-color:rgba(135,206,250,0.39178494);\">:</span> <span style=\"background-color:rgba(135,206,250,0.32698694);\">us</span> <span style=\"background-color:rgba(135,206,250,0.10050716);\">:</span> <span style=\"background-color:rgba(135,206,250,0.15936483);\">chardaney</span> <span style=\"background-color:rgba(135,206,250,0.080967434);\">:</span> <span style=\"background-color:rgba(135,206,250,0.059600264);\">red</span> <span style=\"background-color:rgba(135,206,250,0.08249936);\">blend</span> <span style=\"background-color:rgba(135,206,250,0.04840388);\">:</span> <span style=\"background-color:rgba(135,206,250,0.043622598);\">a</span> <span style=\"background-color:rgba(135,206,250,0.0400644);\">blend</span> <span style=\"background-color:rgba(135,206,250,0.022175921);\">of</span> <span style=\"background-color:rgba(135,206,250,0.027847325);\">sangiovese</span> <span style=\"background-color:rgba(135,206,250,0.032542855);\">,</span> <span style=\"background-color:rgba(135,206,250,0.026939483);\">cabernet</span> <span style=\"background-color:rgba(135,206,250,0.02809636);\">sauvignon</span> <span style=\"background-color:rgba(135,206,250,0.02330905);\">and</span> <span style=\"background-color:rgba(135,206,250,0.01912631);\">petit</span> <span style=\"background-color:rgba(135,206,250,0.031162832);\">verdot</span> <span style=\"background-color:rgba(135,206,250,0.035056464);\">,</span> <span style=\"background-color:rgba(135,206,250,0.036265597);\">this</span> <span style=\"background-color:rgba(135,206,250,0.035369735);\">is</span> <span style=\"background-color:rgba(135,206,250,0.04403156);\">a</span> <span style=\"background-color:rgba(135,206,250,0.07037447);\">thick</span> <span style=\"background-color:rgba(135,206,250,0.041744508);\">,</span> <span style=\"background-color:rgba(135,206,250,0.05865362);\">dense</span> <span style=\"background-color:rgba(135,206,250,0.03601679);\">and</span> <span style=\"background-color:rgba(135,206,250,0.087304175);\">tannic</span> <span style=\"background-color:rgba(135,206,250,0.08559272);\">wine</span> <span style=\"background-color:rgba(135,206,250,0.040700287);\">that</span> <span style=\"background-color:rgba(135,206,250,0.15652111);\">delivers</span> <span style=\"background-color:rgba(135,206,250,0.10353942);\">a</span> <span style=\"background-color:rgba(135,206,250,0.111896075);\">deep</span> <span style=\"background-color:rgba(135,206,250,0.13661599);\">core</span> <span style=\"background-color:rgba(135,206,250,0.07493818);\">of</span> <span style=\"background-color:rgba(135,206,250,0.11663572);\">black</span> <span style=\"background-color:rgba(135,206,250,0.2099897);\">cherry</span> <span style=\"background-color:rgba(135,206,250,0.24595284);\">,</span> <span style=\"background-color:rgba(135,206,250,0.4297886);\">spice</span> <span style=\"background-color:rgba(135,206,250,0.4705674);\">and</span> <span style=\"background-color:rgba(135,206,250,1.0);\">peppercorn</span> <span style=\"background-color:rgba(135,206,250,0.17559151);\">that</span>"
      ],
      "text/plain": [
       "<IPython.core.display.HTML object>"
      ]
     },
     "metadata": {},
     "output_type": "display_data"
    },
    {
     "name": "stdout",
     "output_type": "stream",
     "text": [
      "are:   \t20.88%\n",
      "is:   \t10.17%\n",
      "':   \t6.59%\n",
      "[UNK]:   \t4.47%\n",
      "complement:   \t3.32%\n",
      "--------\n",
      "\n"
     ]
    },
    {
     "data": {
      "text/html": [
       "<span style=\"background-color:rgba(135,206,250,0.1253985);\">wine</span> <span style=\"background-color:rgba(135,206,250,0.24814494);\">review</span> <span style=\"background-color:rgba(135,206,250,1.0);\">:</span> <span style=\"background-color:rgba(135,206,250,0.6708505);\">us</span> <span style=\"background-color:rgba(135,206,250,0.1948477);\">:</span> <span style=\"background-color:rgba(135,206,250,0.21352704);\">chardaney</span> <span style=\"background-color:rgba(135,206,250,0.2592589);\">:</span> <span style=\"background-color:rgba(135,206,250,0.12553458);\">red</span> <span style=\"background-color:rgba(135,206,250,0.08774724);\">blend</span> <span style=\"background-color:rgba(135,206,250,0.071914054);\">:</span> <span style=\"background-color:rgba(135,206,250,0.04429154);\">a</span> <span style=\"background-color:rgba(135,206,250,0.03601112);\">blend</span> <span style=\"background-color:rgba(135,206,250,0.04276914);\">of</span> <span style=\"background-color:rgba(135,206,250,0.04028346);\">sangiovese</span> <span style=\"background-color:rgba(135,206,250,0.047142137);\">,</span> <span style=\"background-color:rgba(135,206,250,0.031828623);\">cabernet</span> <span style=\"background-color:rgba(135,206,250,0.035330933);\">sauvignon</span> <span style=\"background-color:rgba(135,206,250,0.060540106);\">and</span> <span style=\"background-color:rgba(135,206,250,0.024615968);\">petit</span> <span style=\"background-color:rgba(135,206,250,0.03670088);\">verdot</span> <span style=\"background-color:rgba(135,206,250,0.052778736);\">,</span> <span style=\"background-color:rgba(135,206,250,0.053634737);\">this</span> <span style=\"background-color:rgba(135,206,250,0.028087635);\">is</span> <span style=\"background-color:rgba(135,206,250,0.052035157);\">a</span> <span style=\"background-color:rgba(135,206,250,0.07617114);\">thick</span> <span style=\"background-color:rgba(135,206,250,0.060936738);\">,</span> <span style=\"background-color:rgba(135,206,250,0.07050354);\">dense</span> <span style=\"background-color:rgba(135,206,250,0.085332856);\">and</span> <span style=\"background-color:rgba(135,206,250,0.096645765);\">tannic</span> <span style=\"background-color:rgba(135,206,250,0.062464166);\">wine</span> <span style=\"background-color:rgba(135,206,250,0.050019927);\">that</span> <span style=\"background-color:rgba(135,206,250,0.097097866);\">delivers</span> <span style=\"background-color:rgba(135,206,250,0.093018726);\">a</span> <span style=\"background-color:rgba(135,206,250,0.13030788);\">deep</span> <span style=\"background-color:rgba(135,206,250,0.11952196);\">core</span> <span style=\"background-color:rgba(135,206,250,0.12246802);\">of</span> <span style=\"background-color:rgba(135,206,250,0.10416181);\">black</span> <span style=\"background-color:rgba(135,206,250,0.2047698);\">cherry</span> <span style=\"background-color:rgba(135,206,250,0.2999869);\">,</span> <span style=\"background-color:rgba(135,206,250,0.32771128);\">spice</span> <span style=\"background-color:rgba(135,206,250,0.2798297);\">and</span> <span style=\"background-color:rgba(135,206,250,0.5325102);\">peppercorn</span> <span style=\"background-color:rgba(135,206,250,0.5978771);\">that</span> <span style=\"background-color:rgba(135,206,250,0.6696489);\">carries</span>"
      ],
      "text/plain": [
       "<IPython.core.display.HTML object>"
      ]
     },
     "metadata": {},
     "output_type": "display_data"
    },
    {
     "name": "stdout",
     "output_type": "stream",
     "text": [
      "through:   \t68.62%\n",
      "a:   \t11.74%\n",
      "the:   \t7.61%\n",
      "over:   \t2.72%\n",
      "its:   \t1.36%\n",
      "--------\n",
      "\n"
     ]
    },
    {
     "data": {
      "text/html": [
       "<span style=\"background-color:rgba(135,206,250,0.04315419);\">wine</span> <span style=\"background-color:rgba(135,206,250,0.07590534);\">review</span> <span style=\"background-color:rgba(135,206,250,0.32926595);\">:</span> <span style=\"background-color:rgba(135,206,250,0.2737299);\">us</span> <span style=\"background-color:rgba(135,206,250,0.04703694);\">:</span> <span style=\"background-color:rgba(135,206,250,0.13380824);\">chardaney</span> <span style=\"background-color:rgba(135,206,250,0.05788033);\">:</span> <span style=\"background-color:rgba(135,206,250,0.1065814);\">red</span> <span style=\"background-color:rgba(135,206,250,0.10147982);\">blend</span> <span style=\"background-color:rgba(135,206,250,0.031085068);\">:</span> <span style=\"background-color:rgba(135,206,250,0.012466809);\">a</span> <span style=\"background-color:rgba(135,206,250,0.03426735);\">blend</span> <span style=\"background-color:rgba(135,206,250,0.018743353);\">of</span> <span style=\"background-color:rgba(135,206,250,0.033026777);\">sangiovese</span> <span style=\"background-color:rgba(135,206,250,0.024311747);\">,</span> <span style=\"background-color:rgba(135,206,250,0.02203353);\">cabernet</span> <span style=\"background-color:rgba(135,206,250,0.024802212);\">sauvignon</span> <span style=\"background-color:rgba(135,206,250,0.02167457);\">and</span> <span style=\"background-color:rgba(135,206,250,0.019139834);\">petit</span> <span style=\"background-color:rgba(135,206,250,0.021683626);\">verdot</span> <span style=\"background-color:rgba(135,206,250,0.023668852);\">,</span> <span style=\"background-color:rgba(135,206,250,0.027998747);\">this</span> <span style=\"background-color:rgba(135,206,250,0.018247377);\">is</span> <span style=\"background-color:rgba(135,206,250,0.010143688);\">a</span> <span style=\"background-color:rgba(135,206,250,0.070011266);\">thick</span> <span style=\"background-color:rgba(135,206,250,0.025667893);\">,</span> <span style=\"background-color:rgba(135,206,250,0.0565962);\">dense</span> <span style=\"background-color:rgba(135,206,250,0.025046652);\">and</span> <span style=\"background-color:rgba(135,206,250,0.094722174);\">tannic</span> <span style=\"background-color:rgba(135,206,250,0.056043662);\">wine</span> <span style=\"background-color:rgba(135,206,250,0.030065708);\">that</span> <span style=\"background-color:rgba(135,206,250,0.06499243);\">delivers</span> <span style=\"background-color:rgba(135,206,250,0.015059088);\">a</span> <span style=\"background-color:rgba(135,206,250,0.092735834);\">deep</span> <span style=\"background-color:rgba(135,206,250,0.07615476);\">core</span> <span style=\"background-color:rgba(135,206,250,0.0478154);\">of</span> <span style=\"background-color:rgba(135,206,250,0.07731516);\">black</span> <span style=\"background-color:rgba(135,206,250,0.08702272);\">cherry</span> <span style=\"background-color:rgba(135,206,250,0.100053445);\">,</span> <span style=\"background-color:rgba(135,206,250,0.14217685);\">spice</span> <span style=\"background-color:rgba(135,206,250,0.14529938);\">and</span> <span style=\"background-color:rgba(135,206,250,0.31292343);\">peppercorn</span> <span style=\"background-color:rgba(135,206,250,0.27125838);\">that</span> <span style=\"background-color:rgba(135,206,250,1.0);\">carries</span> <span style=\"background-color:rgba(135,206,250,0.13116305);\">a</span>"
      ],
      "text/plain": [
       "<IPython.core.display.HTML object>"
      ]
     },
     "metadata": {},
     "output_type": "display_data"
    },
    {
     "name": "stdout",
     "output_type": "stream",
     "text": [
      "hint:   \t25.4%\n",
      "touch:   \t11.04%\n",
      "long:   \t7.97%\n",
      "deep:   \t4.1%\n",
      "whiff:   \t3.83%\n",
      "--------\n",
      "\n"
     ]
    },
    {
     "data": {
      "text/html": [
       "<span style=\"background-color:rgba(135,206,250,0.09924282);\">wine</span> <span style=\"background-color:rgba(135,206,250,0.28263634);\">review</span> <span style=\"background-color:rgba(135,206,250,0.39718655);\">:</span> <span style=\"background-color:rgba(135,206,250,0.22464825);\">us</span> <span style=\"background-color:rgba(135,206,250,0.17774364);\">:</span> <span style=\"background-color:rgba(135,206,250,0.10265553);\">chardaney</span> <span style=\"background-color:rgba(135,206,250,0.09074105);\">:</span> <span style=\"background-color:rgba(135,206,250,0.05692387);\">red</span> <span style=\"background-color:rgba(135,206,250,0.04400487);\">blend</span> <span style=\"background-color:rgba(135,206,250,0.055818908);\">:</span> <span style=\"background-color:rgba(135,206,250,0.026466371);\">a</span> <span style=\"background-color:rgba(135,206,250,0.020603184);\">blend</span> <span style=\"background-color:rgba(135,206,250,0.038212355);\">of</span> <span style=\"background-color:rgba(135,206,250,0.020475106);\">sangiovese</span> <span style=\"background-color:rgba(135,206,250,0.036951438);\">,</span> <span style=\"background-color:rgba(135,206,250,0.01599578);\">cabernet</span> <span style=\"background-color:rgba(135,206,250,0.021082928);\">sauvignon</span> <span style=\"background-color:rgba(135,206,250,0.038954265);\">and</span> <span style=\"background-color:rgba(135,206,250,0.0126485005);\">petit</span> <span style=\"background-color:rgba(135,206,250,0.01963723);\">verdot</span> <span style=\"background-color:rgba(135,206,250,0.04189478);\">,</span> <span style=\"background-color:rgba(135,206,250,0.037597783);\">this</span> <span style=\"background-color:rgba(135,206,250,0.042353038);\">is</span> <span style=\"background-color:rgba(135,206,250,0.032511484);\">a</span> <span style=\"background-color:rgba(135,206,250,0.03408091);\">thick</span> <span style=\"background-color:rgba(135,206,250,0.052721277);\">,</span> <span style=\"background-color:rgba(135,206,250,0.031217154);\">dense</span> <span style=\"background-color:rgba(135,206,250,0.06780099);\">and</span> <span style=\"background-color:rgba(135,206,250,0.06622031);\">tannic</span> <span style=\"background-color:rgba(135,206,250,0.051854994);\">wine</span> <span style=\"background-color:rgba(135,206,250,0.05651584);\">that</span> <span style=\"background-color:rgba(135,206,250,0.13160712);\">delivers</span> <span style=\"background-color:rgba(135,206,250,0.06277663);\">a</span> <span style=\"background-color:rgba(135,206,250,0.054153413);\">deep</span> <span style=\"background-color:rgba(135,206,250,0.06307226);\">core</span> <span style=\"background-color:rgba(135,206,250,0.120681785);\">of</span> <span style=\"background-color:rgba(135,206,250,0.08465837);\">black</span> <span style=\"background-color:rgba(135,206,250,0.111054845);\">cherry</span> <span style=\"background-color:rgba(135,206,250,0.20749322);\">,</span> <span style=\"background-color:rgba(135,206,250,0.17460668);\">spice</span> <span style=\"background-color:rgba(135,206,250,0.26399377);\">and</span> <span style=\"background-color:rgba(135,206,250,0.46505082);\">peppercorn</span> <span style=\"background-color:rgba(135,206,250,0.31665587);\">that</span> <span style=\"background-color:rgba(135,206,250,1.0);\">carries</span> <span style=\"background-color:rgba(135,206,250,0.7011463);\">a</span> <span style=\"background-color:rgba(135,206,250,0.45944798);\">hint</span>"
      ],
      "text/plain": [
       "<IPython.core.display.HTML object>"
      ]
     },
     "metadata": {},
     "output_type": "display_data"
    },
    {
     "name": "stdout",
     "output_type": "stream",
     "text": [
      "of:   \t99.96%\n",
      "at:   \t0.01%\n",
      "in:   \t0.01%\n",
      "to:   \t0.01%\n",
      "from:   \t0.0%\n",
      "--------\n",
      "\n"
     ]
    },
    {
     "data": {
      "text/html": [
       "<span style=\"background-color:rgba(135,206,250,0.042033974);\">wine</span> <span style=\"background-color:rgba(135,206,250,0.08177999);\">review</span> <span style=\"background-color:rgba(135,206,250,0.27520213);\">:</span> <span style=\"background-color:rgba(135,206,250,0.29704523);\">us</span> <span style=\"background-color:rgba(135,206,250,0.05036667);\">:</span> <span style=\"background-color:rgba(135,206,250,0.13471541);\">chardaney</span> <span style=\"background-color:rgba(135,206,250,0.07967124);\">:</span> <span style=\"background-color:rgba(135,206,250,0.11894731);\">red</span> <span style=\"background-color:rgba(135,206,250,0.084009245);\">blend</span> <span style=\"background-color:rgba(135,206,250,0.03376512);\">:</span> <span style=\"background-color:rgba(135,206,250,0.024467068);\">a</span> <span style=\"background-color:rgba(135,206,250,0.024421586);\">blend</span> <span style=\"background-color:rgba(135,206,250,0.012649392);\">of</span> <span style=\"background-color:rgba(135,206,250,0.04501581);\">sangiovese</span> <span style=\"background-color:rgba(135,206,250,0.027526792);\">,</span> <span style=\"background-color:rgba(135,206,250,0.024158077);\">cabernet</span> <span style=\"background-color:rgba(135,206,250,0.03300334);\">sauvignon</span> <span style=\"background-color:rgba(135,206,250,0.026678456);\">and</span> <span style=\"background-color:rgba(135,206,250,0.02068989);\">petit</span> <span style=\"background-color:rgba(135,206,250,0.040370677);\">verdot</span> <span style=\"background-color:rgba(135,206,250,0.029247753);\">,</span> <span style=\"background-color:rgba(135,206,250,0.028138474);\">this</span> <span style=\"background-color:rgba(135,206,250,0.016906332);\">is</span> <span style=\"background-color:rgba(135,206,250,0.018519549);\">a</span> <span style=\"background-color:rgba(135,206,250,0.05526809);\">thick</span> <span style=\"background-color:rgba(135,206,250,0.030834164);\">,</span> <span style=\"background-color:rgba(135,206,250,0.04475046);\">dense</span> <span style=\"background-color:rgba(135,206,250,0.03273103);\">and</span> <span style=\"background-color:rgba(135,206,250,0.10756289);\">tannic</span> <span style=\"background-color:rgba(135,206,250,0.044424225);\">wine</span> <span style=\"background-color:rgba(135,206,250,0.031707752);\">that</span> <span style=\"background-color:rgba(135,206,250,0.05331446);\">delivers</span> <span style=\"background-color:rgba(135,206,250,0.03055278);\">a</span> <span style=\"background-color:rgba(135,206,250,0.08794227);\">deep</span> <span style=\"background-color:rgba(135,206,250,0.060537707);\">core</span> <span style=\"background-color:rgba(135,206,250,0.02432134);\">of</span> <span style=\"background-color:rgba(135,206,250,0.08674161);\">black</span> <span style=\"background-color:rgba(135,206,250,0.13123399);\">cherry</span> <span style=\"background-color:rgba(135,206,250,0.08298324);\">,</span> <span style=\"background-color:rgba(135,206,250,0.1870911);\">spice</span> <span style=\"background-color:rgba(135,206,250,0.106753446);\">and</span> <span style=\"background-color:rgba(135,206,250,0.27249166);\">peppercorn</span> <span style=\"background-color:rgba(135,206,250,0.17585519);\">that</span> <span style=\"background-color:rgba(135,206,250,0.4389321);\">carries</span> <span style=\"background-color:rgba(135,206,250,0.3208367);\">a</span> <span style=\"background-color:rgba(135,206,250,1.0);\">hint</span> <span style=\"background-color:rgba(135,206,250,0.2041837);\">of</span>"
      ],
      "text/plain": [
       "<IPython.core.display.HTML object>"
      ]
     },
     "metadata": {},
     "output_type": "display_data"
    },
    {
     "name": "stdout",
     "output_type": "stream",
     "text": [
      "leather:   \t12.76%\n",
      "chocolate:   \t11.79%\n",
      "tobacco:   \t4.51%\n",
      "cedar:   \t3.73%\n",
      "dark:   \t3.5%\n",
      "--------\n",
      "\n"
     ]
    },
    {
     "data": {
      "text/html": [
       "<span style=\"background-color:rgba(135,206,250,0.05733257);\">wine</span> <span style=\"background-color:rgba(135,206,250,0.13225946);\">review</span> <span style=\"background-color:rgba(135,206,250,0.29548883);\">:</span> <span style=\"background-color:rgba(135,206,250,0.32733524);\">us</span> <span style=\"background-color:rgba(135,206,250,0.10936682);\">:</span> <span style=\"background-color:rgba(135,206,250,0.12187852);\">chardaney</span> <span style=\"background-color:rgba(135,206,250,0.08446793);\">:</span> <span style=\"background-color:rgba(135,206,250,0.050022587);\">red</span> <span style=\"background-color:rgba(135,206,250,0.07295348);\">blend</span> <span style=\"background-color:rgba(135,206,250,0.048467457);\">:</span> <span style=\"background-color:rgba(135,206,250,0.027548177);\">a</span> <span style=\"background-color:rgba(135,206,250,0.0343561);\">blend</span> <span style=\"background-color:rgba(135,206,250,0.033822928);\">of</span> <span style=\"background-color:rgba(135,206,250,0.024088053);\">sangiovese</span> <span style=\"background-color:rgba(135,206,250,0.02600616);\">,</span> <span style=\"background-color:rgba(135,206,250,0.01902667);\">cabernet</span> <span style=\"background-color:rgba(135,206,250,0.018836759);\">sauvignon</span> <span style=\"background-color:rgba(135,206,250,0.022933776);\">and</span> <span style=\"background-color:rgba(135,206,250,0.010186889);\">petit</span> <span style=\"background-color:rgba(135,206,250,0.019053655);\">verdot</span> <span style=\"background-color:rgba(135,206,250,0.025104616);\">,</span> <span style=\"background-color:rgba(135,206,250,0.03937313);\">this</span> <span style=\"background-color:rgba(135,206,250,0.045604195);\">is</span> <span style=\"background-color:rgba(135,206,250,0.026845297);\">a</span> <span style=\"background-color:rgba(135,206,250,0.040527925);\">thick</span> <span style=\"background-color:rgba(135,206,250,0.03205954);\">,</span> <span style=\"background-color:rgba(135,206,250,0.03473773);\">dense</span> <span style=\"background-color:rgba(135,206,250,0.034802236);\">and</span> <span style=\"background-color:rgba(135,206,250,0.06365966);\">tannic</span> <span style=\"background-color:rgba(135,206,250,0.06362361);\">wine</span> <span style=\"background-color:rgba(135,206,250,0.06263785);\">that</span> <span style=\"background-color:rgba(135,206,250,0.14508107);\">delivers</span> <span style=\"background-color:rgba(135,206,250,0.05677287);\">a</span> <span style=\"background-color:rgba(135,206,250,0.063842945);\">deep</span> <span style=\"background-color:rgba(135,206,250,0.119528495);\">core</span> <span style=\"background-color:rgba(135,206,250,0.0917352);\">of</span> <span style=\"background-color:rgba(135,206,250,0.04719265);\">black</span> <span style=\"background-color:rgba(135,206,250,0.116034485);\">cherry</span> <span style=\"background-color:rgba(135,206,250,0.10370316);\">,</span> <span style=\"background-color:rgba(135,206,250,0.10152517);\">spice</span> <span style=\"background-color:rgba(135,206,250,0.13205284);\">and</span> <span style=\"background-color:rgba(135,206,250,0.15082097);\">peppercorn</span> <span style=\"background-color:rgba(135,206,250,0.29723716);\">that</span> <span style=\"background-color:rgba(135,206,250,0.58505374);\">carries</span> <span style=\"background-color:rgba(135,206,250,0.6124936);\">a</span> <span style=\"background-color:rgba(135,206,250,0.77843726);\">hint</span> <span style=\"background-color:rgba(135,206,250,1.0);\">of</span> <span style=\"background-color:rgba(135,206,250,0.3011078);\">vanilla</span>"
      ],
      "text/plain": [
       "<IPython.core.display.HTML object>"
      ]
     },
     "metadata": {},
     "output_type": "display_data"
    },
    {
     "name": "stdout",
     "output_type": "stream",
     "text": [
      ".:   \t64.69%\n",
      "on:   \t8.22%\n",
      "and:   \t7.95%\n",
      "bean:   \t6.53%\n",
      ",:   \t3.31%\n",
      "--------\n",
      "\n"
     ]
    },
    {
     "data": {
      "text/html": [
       "<span style=\"background-color:rgba(135,206,250,0.08988977);\">wine</span> <span style=\"background-color:rgba(135,206,250,0.097300984);\">review</span> <span style=\"background-color:rgba(135,206,250,1.0);\">:</span> <span style=\"background-color:rgba(135,206,250,0.97349095);\">us</span> <span style=\"background-color:rgba(135,206,250,0.16507305);\">:</span> <span style=\"background-color:rgba(135,206,250,0.33225563);\">chardaney</span> <span style=\"background-color:rgba(135,206,250,0.2958726);\">:</span> <span style=\"background-color:rgba(135,206,250,0.17329237);\">red</span> <span style=\"background-color:rgba(135,206,250,0.14259921);\">blend</span> <span style=\"background-color:rgba(135,206,250,0.061713826);\">:</span> <span style=\"background-color:rgba(135,206,250,0.033203326);\">a</span> <span style=\"background-color:rgba(135,206,250,0.049354665);\">blend</span> <span style=\"background-color:rgba(135,206,250,0.031652678);\">of</span> <span style=\"background-color:rgba(135,206,250,0.046712868);\">sangiovese</span> <span style=\"background-color:rgba(135,206,250,0.048626058);\">,</span> <span style=\"background-color:rgba(135,206,250,0.03560729);\">cabernet</span> <span style=\"background-color:rgba(135,206,250,0.03344056);\">sauvignon</span> <span style=\"background-color:rgba(135,206,250,0.041539);\">and</span> <span style=\"background-color:rgba(135,206,250,0.033186246);\">petit</span> <span style=\"background-color:rgba(135,206,250,0.04342246);\">verdot</span> <span style=\"background-color:rgba(135,206,250,0.04414786);\">,</span> <span style=\"background-color:rgba(135,206,250,0.07817016);\">this</span> <span style=\"background-color:rgba(135,206,250,0.047765527);\">is</span> <span style=\"background-color:rgba(135,206,250,0.025686588);\">a</span> <span style=\"background-color:rgba(135,206,250,0.07432206);\">thick</span> <span style=\"background-color:rgba(135,206,250,0.048932377);\">,</span> <span style=\"background-color:rgba(135,206,250,0.049536157);\">dense</span> <span style=\"background-color:rgba(135,206,250,0.04705198);\">and</span> <span style=\"background-color:rgba(135,206,250,0.120955236);\">tannic</span> <span style=\"background-color:rgba(135,206,250,0.07942304);\">wine</span> <span style=\"background-color:rgba(135,206,250,0.052721594);\">that</span> <span style=\"background-color:rgba(135,206,250,0.085922);\">delivers</span> <span style=\"background-color:rgba(135,206,250,0.035226803);\">a</span> <span style=\"background-color:rgba(135,206,250,0.091217965);\">deep</span> <span style=\"background-color:rgba(135,206,250,0.078958474);\">core</span> <span style=\"background-color:rgba(135,206,250,0.046193197);\">of</span> <span style=\"background-color:rgba(135,206,250,0.066195786);\">black</span> <span style=\"background-color:rgba(135,206,250,0.10957514);\">cherry</span> <span style=\"background-color:rgba(135,206,250,0.081191935);\">,</span> <span style=\"background-color:rgba(135,206,250,0.101102374);\">spice</span> <span style=\"background-color:rgba(135,206,250,0.08522001);\">and</span> <span style=\"background-color:rgba(135,206,250,0.11091525);\">peppercorn</span> <span style=\"background-color:rgba(135,206,250,0.099173866);\">that</span> <span style=\"background-color:rgba(135,206,250,0.263839);\">carries</span> <span style=\"background-color:rgba(135,206,250,0.111994885);\">a</span> <span style=\"background-color:rgba(135,206,250,0.14193249);\">hint</span> <span style=\"background-color:rgba(135,206,250,0.13692659);\">of</span> <span style=\"background-color:rgba(135,206,250,0.225236);\">vanilla</span> <span style=\"background-color:rgba(135,206,250,0.4053421);\">.</span>"
      ],
      "text/plain": [
       "<IPython.core.display.HTML object>"
      ]
     },
     "metadata": {},
     "output_type": "display_data"
    },
    {
     "name": "stdout",
     "output_type": "stream",
     "text": [
      ":   \t27.15%\n",
      "the:   \t26.41%\n",
      "it:   \t21.84%\n",
      "a:   \t3.54%\n",
      "drink:   \t2.11%\n",
      "--------\n",
      "\n"
     ]
    },
    {
     "data": {
      "text/html": [
       "<span style=\"background-color:rgba(135,206,250,0.03592499);\">wine</span> <span style=\"background-color:rgba(135,206,250,0.06624461);\">review</span> <span style=\"background-color:rgba(135,206,250,0.13914517);\">:</span> <span style=\"background-color:rgba(135,206,250,0.15643202);\">us</span> <span style=\"background-color:rgba(135,206,250,0.06099384);\">:</span> <span style=\"background-color:rgba(135,206,250,0.07163155);\">chardaney</span> <span style=\"background-color:rgba(135,206,250,0.061725058);\">:</span> <span style=\"background-color:rgba(135,206,250,0.064210616);\">red</span> <span style=\"background-color:rgba(135,206,250,0.0558971);\">blend</span> <span style=\"background-color:rgba(135,206,250,0.030428423);\">:</span> <span style=\"background-color:rgba(135,206,250,0.0142825795);\">a</span> <span style=\"background-color:rgba(135,206,250,0.020569982);\">blend</span> <span style=\"background-color:rgba(135,206,250,0.020420864);\">of</span> <span style=\"background-color:rgba(135,206,250,0.025222097);\">sangiovese</span> <span style=\"background-color:rgba(135,206,250,0.020483457);\">,</span> <span style=\"background-color:rgba(135,206,250,0.019003721);\">cabernet</span> <span style=\"background-color:rgba(135,206,250,0.017453682);\">sauvignon</span> <span style=\"background-color:rgba(135,206,250,0.023406932);\">and</span> <span style=\"background-color:rgba(135,206,250,0.010312745);\">petit</span> <span style=\"background-color:rgba(135,206,250,0.02303168);\">verdot</span> <span style=\"background-color:rgba(135,206,250,0.02136146);\">,</span> <span style=\"background-color:rgba(135,206,250,0.02356618);\">this</span> <span style=\"background-color:rgba(135,206,250,0.022436813);\">is</span> <span style=\"background-color:rgba(135,206,250,0.012489069);\">a</span> <span style=\"background-color:rgba(135,206,250,0.018528152);\">thick</span> <span style=\"background-color:rgba(135,206,250,0.02437024);\">,</span> <span style=\"background-color:rgba(135,206,250,0.015365995);\">dense</span> <span style=\"background-color:rgba(135,206,250,0.03178564);\">and</span> <span style=\"background-color:rgba(135,206,250,0.06497709);\">tannic</span> <span style=\"background-color:rgba(135,206,250,0.048606753);\">wine</span> <span style=\"background-color:rgba(135,206,250,0.023859318);\">that</span> <span style=\"background-color:rgba(135,206,250,0.05148736);\">delivers</span> <span style=\"background-color:rgba(135,206,250,0.020557577);\">a</span> <span style=\"background-color:rgba(135,206,250,0.031519268);\">deep</span> <span style=\"background-color:rgba(135,206,250,0.045635097);\">core</span> <span style=\"background-color:rgba(135,206,250,0.043847866);\">of</span> <span style=\"background-color:rgba(135,206,250,0.035427004);\">black</span> <span style=\"background-color:rgba(135,206,250,0.06762813);\">cherry</span> <span style=\"background-color:rgba(135,206,250,0.050276075);\">,</span> <span style=\"background-color:rgba(135,206,250,0.057884887);\">spice</span> <span style=\"background-color:rgba(135,206,250,0.06815559);\">and</span> <span style=\"background-color:rgba(135,206,250,0.074293755);\">peppercorn</span> <span style=\"background-color:rgba(135,206,250,0.084810674);\">that</span> <span style=\"background-color:rgba(135,206,250,0.1954072);\">carries</span> <span style=\"background-color:rgba(135,206,250,0.12869956);\">a</span> <span style=\"background-color:rgba(135,206,250,0.2034121);\">hint</span> <span style=\"background-color:rgba(135,206,250,0.29086927);\">of</span> <span style=\"background-color:rgba(135,206,250,0.30142936);\">vanilla</span> <span style=\"background-color:rgba(135,206,250,1.0);\">.</span> <span style=\"background-color:rgba(135,206,250,0.23735455);\">smooth</span>"
      ],
      "text/plain": [
       "<IPython.core.display.HTML object>"
      ]
     },
     "metadata": {},
     "output_type": "display_data"
    },
    {
     "name": "stdout",
     "output_type": "stream",
     "text": [
      "and:   \t65.83%\n",
      ",:   \t16.68%\n",
      "in:   \t4.47%\n",
      "as:   \t3.2%\n",
      "on:   \t2.39%\n",
      "--------\n",
      "\n"
     ]
    },
    {
     "data": {
      "text/html": [
       "<span style=\"background-color:rgba(135,206,250,0.02689229);\">wine</span> <span style=\"background-color:rgba(135,206,250,0.064497784);\">review</span> <span style=\"background-color:rgba(135,206,250,0.17126001);\">:</span> <span style=\"background-color:rgba(135,206,250,0.19737065);\">us</span> <span style=\"background-color:rgba(135,206,250,0.04437764);\">:</span> <span style=\"background-color:rgba(135,206,250,0.08019816);\">chardaney</span> <span style=\"background-color:rgba(135,206,250,0.049268197);\">:</span> <span style=\"background-color:rgba(135,206,250,0.05190533);\">red</span> <span style=\"background-color:rgba(135,206,250,0.09189404);\">blend</span> <span style=\"background-color:rgba(135,206,250,0.028685717);\">:</span> <span style=\"background-color:rgba(135,206,250,0.015698142);\">a</span> <span style=\"background-color:rgba(135,206,250,0.03325794);\">blend</span> <span style=\"background-color:rgba(135,206,250,0.01667047);\">of</span> <span style=\"background-color:rgba(135,206,250,0.025099272);\">sangiovese</span> <span style=\"background-color:rgba(135,206,250,0.018467167);\">,</span> <span style=\"background-color:rgba(135,206,250,0.015318454);\">cabernet</span> <span style=\"background-color:rgba(135,206,250,0.018965881);\">sauvignon</span> <span style=\"background-color:rgba(135,206,250,0.021048617);\">and</span> <span style=\"background-color:rgba(135,206,250,0.010859066);\">petit</span> <span style=\"background-color:rgba(135,206,250,0.020655405);\">verdot</span> <span style=\"background-color:rgba(135,206,250,0.018308882);\">,</span> <span style=\"background-color:rgba(135,206,250,0.043744624);\">this</span> <span style=\"background-color:rgba(135,206,250,0.039944723);\">is</span> <span style=\"background-color:rgba(135,206,250,0.012456493);\">a</span> <span style=\"background-color:rgba(135,206,250,0.04292469);\">thick</span> <span style=\"background-color:rgba(135,206,250,0.020756112);\">,</span> <span style=\"background-color:rgba(135,206,250,0.029745739);\">dense</span> <span style=\"background-color:rgba(135,206,250,0.026703594);\">and</span> <span style=\"background-color:rgba(135,206,250,0.06354135);\">tannic</span> <span style=\"background-color:rgba(135,206,250,0.038444825);\">wine</span> <span style=\"background-color:rgba(135,206,250,0.045509085);\">that</span> <span style=\"background-color:rgba(135,206,250,0.06518901);\">delivers</span> <span style=\"background-color:rgba(135,206,250,0.021082092);\">a</span> <span style=\"background-color:rgba(135,206,250,0.051376432);\">deep</span> <span style=\"background-color:rgba(135,206,250,0.045644835);\">core</span> <span style=\"background-color:rgba(135,206,250,0.03315027);\">of</span> <span style=\"background-color:rgba(135,206,250,0.046910364);\">black</span> <span style=\"background-color:rgba(135,206,250,0.07120062);\">cherry</span> <span style=\"background-color:rgba(135,206,250,0.042615432);\">,</span> <span style=\"background-color:rgba(135,206,250,0.07062077);\">spice</span> <span style=\"background-color:rgba(135,206,250,0.0775844);\">and</span> <span style=\"background-color:rgba(135,206,250,0.11454743);\">peppercorn</span> <span style=\"background-color:rgba(135,206,250,0.09386303);\">that</span> <span style=\"background-color:rgba(135,206,250,0.2491108);\">carries</span> <span style=\"background-color:rgba(135,206,250,0.0975217);\">a</span> <span style=\"background-color:rgba(135,206,250,0.2937865);\">hint</span> <span style=\"background-color:rgba(135,206,250,0.1663606);\">of</span> <span style=\"background-color:rgba(135,206,250,0.38542065);\">vanilla</span> <span style=\"background-color:rgba(135,206,250,1.0);\">.</span> <span style=\"background-color:rgba(135,206,250,0.71994424);\">smooth</span> <span style=\"background-color:rgba(135,206,250,0.28736356);\">,</span>"
      ],
      "text/plain": [
       "<IPython.core.display.HTML object>"
      ]
     },
     "metadata": {},
     "output_type": "display_data"
    },
    {
     "name": "stdout",
     "output_type": "stream",
     "text": [
      "supple:   \t12.85%\n",
      "velvety:   \t9.62%\n",
      "it:   \t5.81%\n",
      "polished:   \t4.6%\n",
      "rich:   \t4.0%\n",
      "--------\n",
      "\n"
     ]
    },
    {
     "data": {
      "text/html": [
       "<span style=\"background-color:rgba(135,206,250,0.06785408);\">wine</span> <span style=\"background-color:rgba(135,206,250,0.11030679);\">review</span> <span style=\"background-color:rgba(135,206,250,0.38945746);\">:</span> <span style=\"background-color:rgba(135,206,250,0.39734727);\">us</span> <span style=\"background-color:rgba(135,206,250,0.10544531);\">:</span> <span style=\"background-color:rgba(135,206,250,0.2085844);\">chardaney</span> <span style=\"background-color:rgba(135,206,250,0.12794971);\">:</span> <span style=\"background-color:rgba(135,206,250,0.122341424);\">red</span> <span style=\"background-color:rgba(135,206,250,0.114497624);\">blend</span> <span style=\"background-color:rgba(135,206,250,0.065173216);\">:</span> <span style=\"background-color:rgba(135,206,250,0.028203571);\">a</span> <span style=\"background-color:rgba(135,206,250,0.04238273);\">blend</span> <span style=\"background-color:rgba(135,206,250,0.03713697);\">of</span> <span style=\"background-color:rgba(135,206,250,0.069559455);\">sangiovese</span> <span style=\"background-color:rgba(135,206,250,0.052220196);\">,</span> <span style=\"background-color:rgba(135,206,250,0.043841425);\">cabernet</span> <span style=\"background-color:rgba(135,206,250,0.049416266);\">sauvignon</span> <span style=\"background-color:rgba(135,206,250,0.0614273);\">and</span> <span style=\"background-color:rgba(135,206,250,0.022159684);\">petit</span> <span style=\"background-color:rgba(135,206,250,0.06849057);\">verdot</span> <span style=\"background-color:rgba(135,206,250,0.052223545);\">,</span> <span style=\"background-color:rgba(135,206,250,0.037551068);\">this</span> <span style=\"background-color:rgba(135,206,250,0.03887638);\">is</span> <span style=\"background-color:rgba(135,206,250,0.021221612);\">a</span> <span style=\"background-color:rgba(135,206,250,0.04454999);\">thick</span> <span style=\"background-color:rgba(135,206,250,0.052749135);\">,</span> <span style=\"background-color:rgba(135,206,250,0.03139526);\">dense</span> <span style=\"background-color:rgba(135,206,250,0.070174165);\">and</span> <span style=\"background-color:rgba(135,206,250,0.17961301);\">tannic</span> <span style=\"background-color:rgba(135,206,250,0.08589585);\">wine</span> <span style=\"background-color:rgba(135,206,250,0.03285608);\">that</span> <span style=\"background-color:rgba(135,206,250,0.07336078);\">delivers</span> <span style=\"background-color:rgba(135,206,250,0.031233095);\">a</span> <span style=\"background-color:rgba(135,206,250,0.07344313);\">deep</span> <span style=\"background-color:rgba(135,206,250,0.08321584);\">core</span> <span style=\"background-color:rgba(135,206,250,0.06307996);\">of</span> <span style=\"background-color:rgba(135,206,250,0.0572738);\">black</span> <span style=\"background-color:rgba(135,206,250,0.12125024);\">cherry</span> <span style=\"background-color:rgba(135,206,250,0.08865003);\">,</span> <span style=\"background-color:rgba(135,206,250,0.14621931);\">spice</span> <span style=\"background-color:rgba(135,206,250,0.12820381);\">and</span> <span style=\"background-color:rgba(135,206,250,0.13877468);\">peppercorn</span> <span style=\"background-color:rgba(135,206,250,0.09490585);\">that</span> <span style=\"background-color:rgba(135,206,250,0.29140165);\">carries</span> <span style=\"background-color:rgba(135,206,250,0.18346594);\">a</span> <span style=\"background-color:rgba(135,206,250,0.30324435);\">hint</span> <span style=\"background-color:rgba(135,206,250,0.4225277);\">of</span> <span style=\"background-color:rgba(135,206,250,0.44735906);\">vanilla</span> <span style=\"background-color:rgba(135,206,250,1.0);\">.</span> <span style=\"background-color:rgba(135,206,250,0.46642765);\">smooth</span> <span style=\"background-color:rgba(135,206,250,0.9495301);\">,</span> <span style=\"background-color:rgba(135,206,250,0.67547476);\">firm</span>"
      ],
      "text/plain": [
       "<IPython.core.display.HTML object>"
      ]
     },
     "metadata": {},
     "output_type": "display_data"
    },
    {
     "name": "stdout",
     "output_type": "stream",
     "text": [
      "tannins:   \t55.68%\n",
      "and:   \t35.1%\n",
      ",:   \t5.71%\n",
      "structure:   \t0.67%\n",
      "but:   \t0.37%\n",
      "--------\n",
      "\n"
     ]
    },
    {
     "data": {
      "text/html": [
       "<span style=\"background-color:rgba(135,206,250,0.042250104);\">wine</span> <span style=\"background-color:rgba(135,206,250,0.07425528);\">review</span> <span style=\"background-color:rgba(135,206,250,0.14497492);\">:</span> <span style=\"background-color:rgba(135,206,250,0.21369685);\">us</span> <span style=\"background-color:rgba(135,206,250,0.06930705);\">:</span> <span style=\"background-color:rgba(135,206,250,0.13454182);\">chardaney</span> <span style=\"background-color:rgba(135,206,250,0.063087694);\">:</span> <span style=\"background-color:rgba(135,206,250,0.089353114);\">red</span> <span style=\"background-color:rgba(135,206,250,0.10665671);\">blend</span> <span style=\"background-color:rgba(135,206,250,0.0387402);\">:</span> <span style=\"background-color:rgba(135,206,250,0.024936004);\">a</span> <span style=\"background-color:rgba(135,206,250,0.039054535);\">blend</span> <span style=\"background-color:rgba(135,206,250,0.019884644);\">of</span> <span style=\"background-color:rgba(135,206,250,0.035831656);\">sangiovese</span> <span style=\"background-color:rgba(135,206,250,0.029085485);\">,</span> <span style=\"background-color:rgba(135,206,250,0.022094449);\">cabernet</span> <span style=\"background-color:rgba(135,206,250,0.028934844);\">sauvignon</span> <span style=\"background-color:rgba(135,206,250,0.025561765);\">and</span> <span style=\"background-color:rgba(135,206,250,0.019785862);\">petit</span> <span style=\"background-color:rgba(135,206,250,0.026473245);\">verdot</span> <span style=\"background-color:rgba(135,206,250,0.027571386);\">,</span> <span style=\"background-color:rgba(135,206,250,0.025931915);\">this</span> <span style=\"background-color:rgba(135,206,250,0.020536022);\">is</span> <span style=\"background-color:rgba(135,206,250,0.017923323);\">a</span> <span style=\"background-color:rgba(135,206,250,0.054684818);\">thick</span> <span style=\"background-color:rgba(135,206,250,0.027724696);\">,</span> <span style=\"background-color:rgba(135,206,250,0.046553135);\">dense</span> <span style=\"background-color:rgba(135,206,250,0.027520789);\">and</span> <span style=\"background-color:rgba(135,206,250,0.0741044);\">tannic</span> <span style=\"background-color:rgba(135,206,250,0.033662613);\">wine</span> <span style=\"background-color:rgba(135,206,250,0.02698032);\">that</span> <span style=\"background-color:rgba(135,206,250,0.04969764);\">delivers</span> <span style=\"background-color:rgba(135,206,250,0.023874689);\">a</span> <span style=\"background-color:rgba(135,206,250,0.074443005);\">deep</span> <span style=\"background-color:rgba(135,206,250,0.04793522);\">core</span> <span style=\"background-color:rgba(135,206,250,0.026636664);\">of</span> <span style=\"background-color:rgba(135,206,250,0.053919453);\">black</span> <span style=\"background-color:rgba(135,206,250,0.07056166);\">cherry</span> <span style=\"background-color:rgba(135,206,250,0.047620136);\">,</span> <span style=\"background-color:rgba(135,206,250,0.07249133);\">spice</span> <span style=\"background-color:rgba(135,206,250,0.04584079);\">and</span> <span style=\"background-color:rgba(135,206,250,0.08551371);\">peppercorn</span> <span style=\"background-color:rgba(135,206,250,0.052247837);\">that</span> <span style=\"background-color:rgba(135,206,250,0.10840478);\">carries</span> <span style=\"background-color:rgba(135,206,250,0.05793021);\">a</span> <span style=\"background-color:rgba(135,206,250,0.14130215);\">hint</span> <span style=\"background-color:rgba(135,206,250,0.12209151);\">of</span> <span style=\"background-color:rgba(135,206,250,0.2559179);\">vanilla</span> <span style=\"background-color:rgba(135,206,250,0.4381016);\">.</span> <span style=\"background-color:rgba(135,206,250,0.47606286);\">smooth</span> <span style=\"background-color:rgba(135,206,250,0.85722136);\">,</span> <span style=\"background-color:rgba(135,206,250,1.0);\">firm</span> <span style=\"background-color:rgba(135,206,250,0.25544134);\">and</span>"
      ],
      "text/plain": [
       "<IPython.core.display.HTML object>"
      ]
     },
     "metadata": {},
     "output_type": "display_data"
    },
    {
     "name": "stdout",
     "output_type": "stream",
     "text": [
      "tannic:   \t7.26%\n",
      "velvety:   \t7.17%\n",
      "integrated:   \t5.63%\n",
      "polished:   \t5.55%\n",
      "fine:   \t5.29%\n",
      "--------\n",
      "\n"
     ]
    },
    {
     "data": {
      "text/html": [
       "<span style=\"background-color:rgba(135,206,250,0.091068804);\">wine</span> <span style=\"background-color:rgba(135,206,250,0.14837311);\">review</span> <span style=\"background-color:rgba(135,206,250,0.4824037);\">:</span> <span style=\"background-color:rgba(135,206,250,0.48608968);\">us</span> <span style=\"background-color:rgba(135,206,250,0.11917954);\">:</span> <span style=\"background-color:rgba(135,206,250,0.1906251);\">chardaney</span> <span style=\"background-color:rgba(135,206,250,0.16123448);\">:</span> <span style=\"background-color:rgba(135,206,250,0.17028993);\">red</span> <span style=\"background-color:rgba(135,206,250,0.1333063);\">blend</span> <span style=\"background-color:rgba(135,206,250,0.06991374);\">:</span> <span style=\"background-color:rgba(135,206,250,0.03078785);\">a</span> <span style=\"background-color:rgba(135,206,250,0.043927986);\">blend</span> <span style=\"background-color:rgba(135,206,250,0.045524374);\">of</span> <span style=\"background-color:rgba(135,206,250,0.07353737);\">sangiovese</span> <span style=\"background-color:rgba(135,206,250,0.040988527);\">,</span> <span style=\"background-color:rgba(135,206,250,0.051218428);\">cabernet</span> <span style=\"background-color:rgba(135,206,250,0.047265485);\">sauvignon</span> <span style=\"background-color:rgba(135,206,250,0.04316758);\">and</span> <span style=\"background-color:rgba(135,206,250,0.025720468);\">petit</span> <span style=\"background-color:rgba(135,206,250,0.047940515);\">verdot</span> <span style=\"background-color:rgba(135,206,250,0.03998663);\">,</span> <span style=\"background-color:rgba(135,206,250,0.030527124);\">this</span> <span style=\"background-color:rgba(135,206,250,0.040386602);\">is</span> <span style=\"background-color:rgba(135,206,250,0.023103397);\">a</span> <span style=\"background-color:rgba(135,206,250,0.042931136);\">thick</span> <span style=\"background-color:rgba(135,206,250,0.043531362);\">,</span> <span style=\"background-color:rgba(135,206,250,0.03924078);\">dense</span> <span style=\"background-color:rgba(135,206,250,0.051741872);\">and</span> <span style=\"background-color:rgba(135,206,250,0.09714145);\">tannic</span> <span style=\"background-color:rgba(135,206,250,0.11089164);\">wine</span> <span style=\"background-color:rgba(135,206,250,0.0419017);\">that</span> <span style=\"background-color:rgba(135,206,250,0.09305107);\">delivers</span> <span style=\"background-color:rgba(135,206,250,0.0367485);\">a</span> <span style=\"background-color:rgba(135,206,250,0.07571512);\">deep</span> <span style=\"background-color:rgba(135,206,250,0.093644895);\">core</span> <span style=\"background-color:rgba(135,206,250,0.07784329);\">of</span> <span style=\"background-color:rgba(135,206,250,0.07363628);\">black</span> <span style=\"background-color:rgba(135,206,250,0.121613465);\">cherry</span> <span style=\"background-color:rgba(135,206,250,0.07989817);\">,</span> <span style=\"background-color:rgba(135,206,250,0.10006019);\">spice</span> <span style=\"background-color:rgba(135,206,250,0.1049362);\">and</span> <span style=\"background-color:rgba(135,206,250,0.11888734);\">peppercorn</span> <span style=\"background-color:rgba(135,206,250,0.11199657);\">that</span> <span style=\"background-color:rgba(135,206,250,0.17592405);\">carries</span> <span style=\"background-color:rgba(135,206,250,0.14047115);\">a</span> <span style=\"background-color:rgba(135,206,250,0.26322788);\">hint</span> <span style=\"background-color:rgba(135,206,250,0.3258551);\">of</span> <span style=\"background-color:rgba(135,206,250,0.28784728);\">vanilla</span> <span style=\"background-color:rgba(135,206,250,0.8566812);\">.</span> <span style=\"background-color:rgba(135,206,250,0.31812477);\">smooth</span> <span style=\"background-color:rgba(135,206,250,0.5929956);\">,</span> <span style=\"background-color:rgba(135,206,250,0.9107967);\">firm</span> <span style=\"background-color:rgba(135,206,250,1.0);\">and</span> <span style=\"background-color:rgba(135,206,250,0.6050325);\">velvety</span>"
      ],
      "text/plain": [
       "<IPython.core.display.HTML object>"
      ]
     },
     "metadata": {},
     "output_type": "display_data"
    },
    {
     "name": "stdout",
     "output_type": "stream",
     "text": [
      "tannins:   \t37.02%\n",
      "in:   \t25.1%\n",
      "on:   \t13.96%\n",
      ",:   \t11.82%\n",
      "texture:   \t2.92%\n",
      "--------\n",
      "\n"
     ]
    },
    {
     "data": {
      "text/html": [
       "<span style=\"background-color:rgba(135,206,250,0.08549257);\">wine</span> <span style=\"background-color:rgba(135,206,250,0.17336327);\">review</span> <span style=\"background-color:rgba(135,206,250,0.6139197);\">:</span> <span style=\"background-color:rgba(135,206,250,0.40962046);\">us</span> <span style=\"background-color:rgba(135,206,250,0.14863391);\">:</span> <span style=\"background-color:rgba(135,206,250,0.14351158);\">chardaney</span> <span style=\"background-color:rgba(135,206,250,0.14793238);\">:</span> <span style=\"background-color:rgba(135,206,250,0.07985015);\">red</span> <span style=\"background-color:rgba(135,206,250,0.100048594);\">blend</span> <span style=\"background-color:rgba(135,206,250,0.059108365);\">:</span> <span style=\"background-color:rgba(135,206,250,0.037174564);\">a</span> <span style=\"background-color:rgba(135,206,250,0.036182843);\">blend</span> <span style=\"background-color:rgba(135,206,250,0.02875727);\">of</span> <span style=\"background-color:rgba(135,206,250,0.029654754);\">sangiovese</span> <span style=\"background-color:rgba(135,206,250,0.0363949);\">,</span> <span style=\"background-color:rgba(135,206,250,0.02970809);\">cabernet</span> <span style=\"background-color:rgba(135,206,250,0.023615163);\">sauvignon</span> <span style=\"background-color:rgba(135,206,250,0.045328915);\">and</span> <span style=\"background-color:rgba(135,206,250,0.014698285);\">petit</span> <span style=\"background-color:rgba(135,206,250,0.026086103);\">verdot</span> <span style=\"background-color:rgba(135,206,250,0.033346623);\">,</span> <span style=\"background-color:rgba(135,206,250,0.055235498);\">this</span> <span style=\"background-color:rgba(135,206,250,0.022607135);\">is</span> <span style=\"background-color:rgba(135,206,250,0.027854457);\">a</span> <span style=\"background-color:rgba(135,206,250,0.019068617);\">thick</span> <span style=\"background-color:rgba(135,206,250,0.03631384);\">,</span> <span style=\"background-color:rgba(135,206,250,0.017397964);\">dense</span> <span style=\"background-color:rgba(135,206,250,0.055114057);\">and</span> <span style=\"background-color:rgba(135,206,250,0.054053057);\">tannic</span> <span style=\"background-color:rgba(135,206,250,0.03811292);\">wine</span> <span style=\"background-color:rgba(135,206,250,0.04966209);\">that</span> <span style=\"background-color:rgba(135,206,250,0.06574089);\">delivers</span> <span style=\"background-color:rgba(135,206,250,0.046920873);\">a</span> <span style=\"background-color:rgba(135,206,250,0.040853802);\">deep</span> <span style=\"background-color:rgba(135,206,250,0.084404156);\">core</span> <span style=\"background-color:rgba(135,206,250,0.047633532);\">of</span> <span style=\"background-color:rgba(135,206,250,0.028007714);\">black</span> <span style=\"background-color:rgba(135,206,250,0.05470901);\">cherry</span> <span style=\"background-color:rgba(135,206,250,0.07728833);\">,</span> <span style=\"background-color:rgba(135,206,250,0.0754345);\">spice</span> <span style=\"background-color:rgba(135,206,250,0.10745142);\">and</span> <span style=\"background-color:rgba(135,206,250,0.07177474);\">peppercorn</span> <span style=\"background-color:rgba(135,206,250,0.10238412);\">that</span> <span style=\"background-color:rgba(135,206,250,0.29280448);\">carries</span> <span style=\"background-color:rgba(135,206,250,0.11523672);\">a</span> <span style=\"background-color:rgba(135,206,250,0.15669319);\">hint</span> <span style=\"background-color:rgba(135,206,250,0.12226206);\">of</span> <span style=\"background-color:rgba(135,206,250,0.13430047);\">vanilla</span> <span style=\"background-color:rgba(135,206,250,0.5501017);\">.</span> <span style=\"background-color:rgba(135,206,250,0.30222887);\">smooth</span> <span style=\"background-color:rgba(135,206,250,0.43383858);\">,</span> <span style=\"background-color:rgba(135,206,250,0.34779721);\">firm</span> <span style=\"background-color:rgba(135,206,250,0.49299604);\">and</span> <span style=\"background-color:rgba(135,206,250,1.0);\">velvety</span> <span style=\"background-color:rgba(135,206,250,0.3272664);\">on</span>"
      ],
      "text/plain": [
       "<IPython.core.display.HTML object>"
      ]
     },
     "metadata": {},
     "output_type": "display_data"
    },
    {
     "name": "stdout",
     "output_type": "stream",
     "text": [
      "the:   \t99.95%\n",
      "its:   \t0.01%\n",
      "entry:   \t0.01%\n",
      "a:   \t0.01%\n",
      "both:   \t0.01%\n",
      "--------\n",
      "\n"
     ]
    },
    {
     "data": {
      "text/html": [
       "<span style=\"background-color:rgba(135,206,250,0.047750507);\">wine</span> <span style=\"background-color:rgba(135,206,250,0.068960145);\">review</span> <span style=\"background-color:rgba(135,206,250,0.2537753);\">:</span> <span style=\"background-color:rgba(135,206,250,0.29626292);\">us</span> <span style=\"background-color:rgba(135,206,250,0.06574889);\">:</span> <span style=\"background-color:rgba(135,206,250,0.16466734);\">chardaney</span> <span style=\"background-color:rgba(135,206,250,0.078723766);\">:</span> <span style=\"background-color:rgba(135,206,250,0.13091336);\">red</span> <span style=\"background-color:rgba(135,206,250,0.09329463);\">blend</span> <span style=\"background-color:rgba(135,206,250,0.03667458);\">:</span> <span style=\"background-color:rgba(135,206,250,0.020254152);\">a</span> <span style=\"background-color:rgba(135,206,250,0.0379176);\">blend</span> <span style=\"background-color:rgba(135,206,250,0.01922138);\">of</span> <span style=\"background-color:rgba(135,206,250,0.042991452);\">sangiovese</span> <span style=\"background-color:rgba(135,206,250,0.031498518);\">,</span> <span style=\"background-color:rgba(135,206,250,0.030330414);\">cabernet</span> <span style=\"background-color:rgba(135,206,250,0.028949104);\">sauvignon</span> <span style=\"background-color:rgba(135,206,250,0.022806406);\">and</span> <span style=\"background-color:rgba(135,206,250,0.025053192);\">petit</span> <span style=\"background-color:rgba(135,206,250,0.036272805);\">verdot</span> <span style=\"background-color:rgba(135,206,250,0.028941795);\">,</span> <span style=\"background-color:rgba(135,206,250,0.025547886);\">this</span> <span style=\"background-color:rgba(135,206,250,0.016919458);\">is</span> <span style=\"background-color:rgba(135,206,250,0.014075299);\">a</span> <span style=\"background-color:rgba(135,206,250,0.047047418);\">thick</span> <span style=\"background-color:rgba(135,206,250,0.028429244);\">,</span> <span style=\"background-color:rgba(135,206,250,0.031603612);\">dense</span> <span style=\"background-color:rgba(135,206,250,0.02316388);\">and</span> <span style=\"background-color:rgba(135,206,250,0.08408474);\">tannic</span> <span style=\"background-color:rgba(135,206,250,0.053067245);\">wine</span> <span style=\"background-color:rgba(135,206,250,0.020693168);\">that</span> <span style=\"background-color:rgba(135,206,250,0.0424271);\">delivers</span> <span style=\"background-color:rgba(135,206,250,0.017898146);\">a</span> <span style=\"background-color:rgba(135,206,250,0.06428498);\">deep</span> <span style=\"background-color:rgba(135,206,250,0.07245361);\">core</span> <span style=\"background-color:rgba(135,206,250,0.022907974);\">of</span> <span style=\"background-color:rgba(135,206,250,0.052919105);\">black</span> <span style=\"background-color:rgba(135,206,250,0.07932335);\">cherry</span> <span style=\"background-color:rgba(135,206,250,0.04526229);\">,</span> <span style=\"background-color:rgba(135,206,250,0.076342925);\">spice</span> <span style=\"background-color:rgba(135,206,250,0.0386157);\">and</span> <span style=\"background-color:rgba(135,206,250,0.0674096);\">peppercorn</span> <span style=\"background-color:rgba(135,206,250,0.037515264);\">that</span> <span style=\"background-color:rgba(135,206,250,0.093166396);\">carries</span> <span style=\"background-color:rgba(135,206,250,0.033970743);\">a</span> <span style=\"background-color:rgba(135,206,250,0.109019235);\">hint</span> <span style=\"background-color:rgba(135,206,250,0.06826541);\">of</span> <span style=\"background-color:rgba(135,206,250,0.117621645);\">vanilla</span> <span style=\"background-color:rgba(135,206,250,0.3189691);\">.</span> <span style=\"background-color:rgba(135,206,250,0.22168812);\">smooth</span> <span style=\"background-color:rgba(135,206,250,0.3538607);\">,</span> <span style=\"background-color:rgba(135,206,250,0.30691975);\">firm</span> <span style=\"background-color:rgba(135,206,250,0.34414);\">and</span> <span style=\"background-color:rgba(135,206,250,0.66356164);\">velvety</span> <span style=\"background-color:rgba(135,206,250,1.0);\">on</span> <span style=\"background-color:rgba(135,206,250,0.26520512);\">the</span>"
      ],
      "text/plain": [
       "<IPython.core.display.HTML object>"
      ]
     },
     "metadata": {},
     "output_type": "display_data"
    },
    {
     "name": "stdout",
     "output_type": "stream",
     "text": [
      "palate:   \t80.8%\n",
      "finish:   \t18.5%\n",
      "midpalate:   \t0.3%\n",
      "tongue:   \t0.16%\n",
      "long:   \t0.08%\n",
      "--------\n",
      "\n"
     ]
    },
    {
     "data": {
      "text/html": [
       "<span style=\"background-color:rgba(135,206,250,0.037925236);\">wine</span> <span style=\"background-color:rgba(135,206,250,0.1157168);\">review</span> <span style=\"background-color:rgba(135,206,250,0.32299763);\">:</span> <span style=\"background-color:rgba(135,206,250,0.30600083);\">us</span> <span style=\"background-color:rgba(135,206,250,0.089168444);\">:</span> <span style=\"background-color:rgba(135,206,250,0.10316263);\">chardaney</span> <span style=\"background-color:rgba(135,206,250,0.07185634);\">:</span> <span style=\"background-color:rgba(135,206,250,0.030856121);\">red</span> <span style=\"background-color:rgba(135,206,250,0.054155942);\">blend</span> <span style=\"background-color:rgba(135,206,250,0.04082736);\">:</span> <span style=\"background-color:rgba(135,206,250,0.029645784);\">a</span> <span style=\"background-color:rgba(135,206,250,0.025325496);\">blend</span> <span style=\"background-color:rgba(135,206,250,0.017948765);\">of</span> <span style=\"background-color:rgba(135,206,250,0.018110452);\">sangiovese</span> <span style=\"background-color:rgba(135,206,250,0.02116954);\">,</span> <span style=\"background-color:rgba(135,206,250,0.01409876);\">cabernet</span> <span style=\"background-color:rgba(135,206,250,0.013584918);\">sauvignon</span> <span style=\"background-color:rgba(135,206,250,0.015087239);\">and</span> <span style=\"background-color:rgba(135,206,250,0.0071035023);\">petit</span> <span style=\"background-color:rgba(135,206,250,0.016057726);\">verdot</span> <span style=\"background-color:rgba(135,206,250,0.020089462);\">,</span> <span style=\"background-color:rgba(135,206,250,0.027594153);\">this</span> <span style=\"background-color:rgba(135,206,250,0.030892411);\">is</span> <span style=\"background-color:rgba(135,206,250,0.025126673);\">a</span> <span style=\"background-color:rgba(135,206,250,0.027212732);\">thick</span> <span style=\"background-color:rgba(135,206,250,0.025041308);\">,</span> <span style=\"background-color:rgba(135,206,250,0.023793062);\">dense</span> <span style=\"background-color:rgba(135,206,250,0.022058904);\">and</span> <span style=\"background-color:rgba(135,206,250,0.038824968);\">tannic</span> <span style=\"background-color:rgba(135,206,250,0.028749483);\">wine</span> <span style=\"background-color:rgba(135,206,250,0.038057636);\">that</span> <span style=\"background-color:rgba(135,206,250,0.105606504);\">delivers</span> <span style=\"background-color:rgba(135,206,250,0.046080265);\">a</span> <span style=\"background-color:rgba(135,206,250,0.04131136);\">deep</span> <span style=\"background-color:rgba(135,206,250,0.046740256);\">core</span> <span style=\"background-color:rgba(135,206,250,0.038201272);\">of</span> <span style=\"background-color:rgba(135,206,250,0.040593605);\">black</span> <span style=\"background-color:rgba(135,206,250,0.06215468);\">cherry</span> <span style=\"background-color:rgba(135,206,250,0.05746684);\">,</span> <span style=\"background-color:rgba(135,206,250,0.058295578);\">spice</span> <span style=\"background-color:rgba(135,206,250,0.049234986);\">and</span> <span style=\"background-color:rgba(135,206,250,0.061359327);\">peppercorn</span> <span style=\"background-color:rgba(135,206,250,0.07635227);\">that</span> <span style=\"background-color:rgba(135,206,250,0.1988271);\">carries</span> <span style=\"background-color:rgba(135,206,250,0.10391979);\">a</span> <span style=\"background-color:rgba(135,206,250,0.112329006);\">hint</span> <span style=\"background-color:rgba(135,206,250,0.09714805);\">of</span> <span style=\"background-color:rgba(135,206,250,0.102959454);\">vanilla</span> <span style=\"background-color:rgba(135,206,250,0.61244416);\">.</span> <span style=\"background-color:rgba(135,206,250,0.18595916);\">smooth</span> <span style=\"background-color:rgba(135,206,250,0.2545661);\">,</span> <span style=\"background-color:rgba(135,206,250,0.23480067);\">firm</span> <span style=\"background-color:rgba(135,206,250,0.31643704);\">and</span> <span style=\"background-color:rgba(135,206,250,0.35440657);\">velvety</span> <span style=\"background-color:rgba(135,206,250,1.0);\">on</span> <span style=\"background-color:rgba(135,206,250,0.7101696);\">the</span> <span style=\"background-color:rgba(135,206,250,0.4442104);\">palate</span>"
      ],
      "text/plain": [
       "<IPython.core.display.HTML object>"
      ]
     },
     "metadata": {},
     "output_type": "display_data"
    },
    {
     "name": "stdout",
     "output_type": "stream",
     "text": [
      ",:   \t85.04%\n",
      ".:   \t11.57%\n",
      "and:   \t1.0%\n",
      "that:   \t0.42%\n",
      "with:   \t0.41%\n",
      "--------\n",
      "\n"
     ]
    },
    {
     "data": {
      "text/html": [
       "<span style=\"background-color:rgba(135,206,250,0.027937772);\">wine</span> <span style=\"background-color:rgba(135,206,250,0.06400869);\">review</span> <span style=\"background-color:rgba(135,206,250,0.18757015);\">:</span> <span style=\"background-color:rgba(135,206,250,0.22828056);\">us</span> <span style=\"background-color:rgba(135,206,250,0.04778242);\">:</span> <span style=\"background-color:rgba(135,206,250,0.0905358);\">chardaney</span> <span style=\"background-color:rgba(135,206,250,0.053904995);\">:</span> <span style=\"background-color:rgba(135,206,250,0.055857837);\">red</span> <span style=\"background-color:rgba(135,206,250,0.09040276);\">blend</span> <span style=\"background-color:rgba(135,206,250,0.030799987);\">:</span> <span style=\"background-color:rgba(135,206,250,0.016154505);\">a</span> <span style=\"background-color:rgba(135,206,250,0.032551058);\">blend</span> <span style=\"background-color:rgba(135,206,250,0.01801651);\">of</span> <span style=\"background-color:rgba(135,206,250,0.027714867);\">sangiovese</span> <span style=\"background-color:rgba(135,206,250,0.0189868);\">,</span> <span style=\"background-color:rgba(135,206,250,0.015927373);\">cabernet</span> <span style=\"background-color:rgba(135,206,250,0.020333307);\">sauvignon</span> <span style=\"background-color:rgba(135,206,250,0.021172842);\">and</span> <span style=\"background-color:rgba(135,206,250,0.01144322);\">petit</span> <span style=\"background-color:rgba(135,206,250,0.021189738);\">verdot</span> <span style=\"background-color:rgba(135,206,250,0.01727429);\">,</span> <span style=\"background-color:rgba(135,206,250,0.036118846);\">this</span> <span style=\"background-color:rgba(135,206,250,0.03354743);\">is</span> <span style=\"background-color:rgba(135,206,250,0.010833609);\">a</span> <span style=\"background-color:rgba(135,206,250,0.037579793);\">thick</span> <span style=\"background-color:rgba(135,206,250,0.01847012);\">,</span> <span style=\"background-color:rgba(135,206,250,0.025933335);\">dense</span> <span style=\"background-color:rgba(135,206,250,0.023601668);\">and</span> <span style=\"background-color:rgba(135,206,250,0.05531274);\">tannic</span> <span style=\"background-color:rgba(135,206,250,0.034128398);\">wine</span> <span style=\"background-color:rgba(135,206,250,0.041120153);\">that</span> <span style=\"background-color:rgba(135,206,250,0.055230714);\">delivers</span> <span style=\"background-color:rgba(135,206,250,0.017003225);\">a</span> <span style=\"background-color:rgba(135,206,250,0.046372026);\">deep</span> <span style=\"background-color:rgba(135,206,250,0.039226353);\">core</span> <span style=\"background-color:rgba(135,206,250,0.027671814);\">of</span> <span style=\"background-color:rgba(135,206,250,0.039705064);\">black</span> <span style=\"background-color:rgba(135,206,250,0.060511272);\">cherry</span> <span style=\"background-color:rgba(135,206,250,0.034958303);\">,</span> <span style=\"background-color:rgba(135,206,250,0.05324846);\">spice</span> <span style=\"background-color:rgba(135,206,250,0.05104001);\">and</span> <span style=\"background-color:rgba(135,206,250,0.066785775);\">peppercorn</span> <span style=\"background-color:rgba(135,206,250,0.07058657);\">that</span> <span style=\"background-color:rgba(135,206,250,0.16098952);\">carries</span> <span style=\"background-color:rgba(135,206,250,0.035922874);\">a</span> <span style=\"background-color:rgba(135,206,250,0.10701516);\">hint</span> <span style=\"background-color:rgba(135,206,250,0.05940269);\">of</span> <span style=\"background-color:rgba(135,206,250,0.108602114);\">vanilla</span> <span style=\"background-color:rgba(135,206,250,0.29996815);\">.</span> <span style=\"background-color:rgba(135,206,250,0.18563588);\">smooth</span> <span style=\"background-color:rgba(135,206,250,0.08724838);\">,</span> <span style=\"background-color:rgba(135,206,250,0.25601047);\">firm</span> <span style=\"background-color:rgba(135,206,250,0.33279216);\">and</span> <span style=\"background-color:rgba(135,206,250,0.40094504);\">velvety</span> <span style=\"background-color:rgba(135,206,250,0.3848229);\">on</span> <span style=\"background-color:rgba(135,206,250,0.42338708);\">the</span> <span style=\"background-color:rgba(135,206,250,1.0);\">palate</span> <span style=\"background-color:rgba(135,206,250,0.458461);\">,</span>"
      ],
      "text/plain": [
       "<IPython.core.display.HTML object>"
      ]
     },
     "metadata": {},
     "output_type": "display_data"
    },
    {
     "name": "stdout",
     "output_type": "stream",
     "text": [
      "it:   \t45.82%\n",
      "the:   \t30.87%\n",
      "with:   \t6.04%\n",
      "this:   \t3.3%\n",
      "which:   \t2.35%\n",
      "--------\n",
      "\n"
     ]
    },
    {
     "data": {
      "text/html": [
       "<span style=\"background-color:rgba(135,206,250,0.05518152);\">wine</span> <span style=\"background-color:rgba(135,206,250,0.09513739);\">review</span> <span style=\"background-color:rgba(135,206,250,0.5793134);\">:</span> <span style=\"background-color:rgba(135,206,250,0.55273336);\">us</span> <span style=\"background-color:rgba(135,206,250,0.0749854);\">:</span> <span style=\"background-color:rgba(135,206,250,0.19777004);\">chardaney</span> <span style=\"background-color:rgba(135,206,250,0.117824346);\">:</span> <span style=\"background-color:rgba(135,206,250,0.15497734);\">red</span> <span style=\"background-color:rgba(135,206,250,0.103307106);\">blend</span> <span style=\"background-color:rgba(135,206,250,0.04780861);\">:</span> <span style=\"background-color:rgba(135,206,250,0.03127167);\">a</span> <span style=\"background-color:rgba(135,206,250,0.032287184);\">blend</span> <span style=\"background-color:rgba(135,206,250,0.023415295);\">of</span> <span style=\"background-color:rgba(135,206,250,0.058576163);\">sangiovese</span> <span style=\"background-color:rgba(135,206,250,0.03802463);\">,</span> <span style=\"background-color:rgba(135,206,250,0.030656196);\">cabernet</span> <span style=\"background-color:rgba(135,206,250,0.042160667);\">sauvignon</span> <span style=\"background-color:rgba(135,206,250,0.038693104);\">and</span> <span style=\"background-color:rgba(135,206,250,0.024733514);\">petit</span> <span style=\"background-color:rgba(135,206,250,0.038795814);\">verdot</span> <span style=\"background-color:rgba(135,206,250,0.03345424);\">,</span> <span style=\"background-color:rgba(135,206,250,0.026973806);\">this</span> <span style=\"background-color:rgba(135,206,250,0.01682801);\">is</span> <span style=\"background-color:rgba(135,206,250,0.01943016);\">a</span> <span style=\"background-color:rgba(135,206,250,0.075537786);\">thick</span> <span style=\"background-color:rgba(135,206,250,0.032119658);\">,</span> <span style=\"background-color:rgba(135,206,250,0.05609225);\">dense</span> <span style=\"background-color:rgba(135,206,250,0.038133103);\">and</span> <span style=\"background-color:rgba(135,206,250,0.11790159);\">tannic</span> <span style=\"background-color:rgba(135,206,250,0.038896732);\">wine</span> <span style=\"background-color:rgba(135,206,250,0.027685804);\">that</span> <span style=\"background-color:rgba(135,206,250,0.043290216);\">delivers</span> <span style=\"background-color:rgba(135,206,250,0.024757432);\">a</span> <span style=\"background-color:rgba(135,206,250,0.10179054);\">deep</span> <span style=\"background-color:rgba(135,206,250,0.055847544);\">core</span> <span style=\"background-color:rgba(135,206,250,0.025450373);\">of</span> <span style=\"background-color:rgba(135,206,250,0.06425794);\">black</span> <span style=\"background-color:rgba(135,206,250,0.09510322);\">cherry</span> <span style=\"background-color:rgba(135,206,250,0.046048485);\">,</span> <span style=\"background-color:rgba(135,206,250,0.10650738);\">spice</span> <span style=\"background-color:rgba(135,206,250,0.058790635);\">and</span> <span style=\"background-color:rgba(135,206,250,0.10347686);\">peppercorn</span> <span style=\"background-color:rgba(135,206,250,0.042107724);\">that</span> <span style=\"background-color:rgba(135,206,250,0.070001826);\">carries</span> <span style=\"background-color:rgba(135,206,250,0.040709484);\">a</span> <span style=\"background-color:rgba(135,206,250,0.076152325);\">hint</span> <span style=\"background-color:rgba(135,206,250,0.04217158);\">of</span> <span style=\"background-color:rgba(135,206,250,0.10940998);\">vanilla</span> <span style=\"background-color:rgba(135,206,250,0.21090958);\">.</span> <span style=\"background-color:rgba(135,206,250,0.21850131);\">smooth</span> <span style=\"background-color:rgba(135,206,250,0.15874524);\">,</span> <span style=\"background-color:rgba(135,206,250,0.3320561);\">firm</span> <span style=\"background-color:rgba(135,206,250,0.19762379);\">and</span> <span style=\"background-color:rgba(135,206,250,0.41380003);\">velvety</span> <span style=\"background-color:rgba(135,206,250,0.15018845);\">on</span> <span style=\"background-color:rgba(135,206,250,0.23292592);\">the</span> <span style=\"background-color:rgba(135,206,250,1.0);\">palate</span> <span style=\"background-color:rgba(135,206,250,0.92139006);\">,</span> <span style=\"background-color:rgba(135,206,250,0.5355217);\">with</span>"
      ],
      "text/plain": [
       "<IPython.core.display.HTML object>"
      ]
     },
     "metadata": {},
     "output_type": "display_data"
    },
    {
     "name": "stdout",
     "output_type": "stream",
     "text": [
      "a:   \t71.43%\n",
      "fine:   \t2.19%\n",
      "an:   \t1.98%\n",
      "the:   \t1.36%\n",
      "more:   \t1.23%\n",
      "--------\n",
      "\n"
     ]
    },
    {
     "data": {
      "text/html": [
       "<span style=\"background-color:rgba(135,206,250,0.03522838);\">wine</span> <span style=\"background-color:rgba(135,206,250,0.056773696);\">review</span> <span style=\"background-color:rgba(135,206,250,0.22882381);\">:</span> <span style=\"background-color:rgba(135,206,250,0.26470545);\">us</span> <span style=\"background-color:rgba(135,206,250,0.049314894);\">:</span> <span style=\"background-color:rgba(135,206,250,0.13300958);\">chardaney</span> <span style=\"background-color:rgba(135,206,250,0.055071812);\">:</span> <span style=\"background-color:rgba(135,206,250,0.09769389);\">red</span> <span style=\"background-color:rgba(135,206,250,0.09176424);\">blend</span> <span style=\"background-color:rgba(135,206,250,0.03060728);\">:</span> <span style=\"background-color:rgba(135,206,250,0.011596521);\">a</span> <span style=\"background-color:rgba(135,206,250,0.032127194);\">blend</span> <span style=\"background-color:rgba(135,206,250,0.017684769);\">of</span> <span style=\"background-color:rgba(135,206,250,0.035479054);\">sangiovese</span> <span style=\"background-color:rgba(135,206,250,0.022410419);\">,</span> <span style=\"background-color:rgba(135,206,250,0.021704903);\">cabernet</span> <span style=\"background-color:rgba(135,206,250,0.024053488);\">sauvignon</span> <span style=\"background-color:rgba(135,206,250,0.018749999);\">and</span> <span style=\"background-color:rgba(135,206,250,0.017458845);\">petit</span> <span style=\"background-color:rgba(135,206,250,0.020132378);\">verdot</span> <span style=\"background-color:rgba(135,206,250,0.018363647);\">,</span> <span style=\"background-color:rgba(135,206,250,0.016241312);\">this</span> <span style=\"background-color:rgba(135,206,250,0.011189095);\">is</span> <span style=\"background-color:rgba(135,206,250,0.0067968997);\">a</span> <span style=\"background-color:rgba(135,206,250,0.042973254);\">thick</span> <span style=\"background-color:rgba(135,206,250,0.017531846);\">,</span> <span style=\"background-color:rgba(135,206,250,0.036295243);\">dense</span> <span style=\"background-color:rgba(135,206,250,0.016654352);\">and</span> <span style=\"background-color:rgba(135,206,250,0.05880334);\">tannic</span> <span style=\"background-color:rgba(135,206,250,0.030036975);\">wine</span> <span style=\"background-color:rgba(135,206,250,0.016516874);\">that</span> <span style=\"background-color:rgba(135,206,250,0.03278947);\">delivers</span> <span style=\"background-color:rgba(135,206,250,0.008453549);\">a</span> <span style=\"background-color:rgba(135,206,250,0.06362399);\">deep</span> <span style=\"background-color:rgba(135,206,250,0.041594084);\">core</span> <span style=\"background-color:rgba(135,206,250,0.016840052);\">of</span> <span style=\"background-color:rgba(135,206,250,0.035668343);\">black</span> <span style=\"background-color:rgba(135,206,250,0.034336075);\">cherry</span> <span style=\"background-color:rgba(135,206,250,0.02523025);\">,</span> <span style=\"background-color:rgba(135,206,250,0.044881154);\">spice</span> <span style=\"background-color:rgba(135,206,250,0.027385429);\">and</span> <span style=\"background-color:rgba(135,206,250,0.04955953);\">peppercorn</span> <span style=\"background-color:rgba(135,206,250,0.025997281);\">that</span> <span style=\"background-color:rgba(135,206,250,0.053579006);\">carries</span> <span style=\"background-color:rgba(135,206,250,0.013076082);\">a</span> <span style=\"background-color:rgba(135,206,250,0.052264355);\">hint</span> <span style=\"background-color:rgba(135,206,250,0.031729143);\">of</span> <span style=\"background-color:rgba(135,206,250,0.05211495);\">vanilla</span> <span style=\"background-color:rgba(135,206,250,0.11614446);\">.</span> <span style=\"background-color:rgba(135,206,250,0.132695);\">smooth</span> <span style=\"background-color:rgba(135,206,250,0.07120189);\">,</span> <span style=\"background-color:rgba(135,206,250,0.15657754);\">firm</span> <span style=\"background-color:rgba(135,206,250,0.09780975);\">and</span> <span style=\"background-color:rgba(135,206,250,0.23208925);\">velvety</span> <span style=\"background-color:rgba(135,206,250,0.18358739);\">on</span> <span style=\"background-color:rgba(135,206,250,0.14702545);\">the</span> <span style=\"background-color:rgba(135,206,250,0.5327821);\">palate</span> <span style=\"background-color:rgba(135,206,250,0.5061373);\">,</span> <span style=\"background-color:rgba(135,206,250,1.0);\">with</span> <span style=\"background-color:rgba(135,206,250,0.18005419);\">a</span>"
      ],
      "text/plain": [
       "<IPython.core.display.HTML object>"
      ]
     },
     "metadata": {},
     "output_type": "display_data"
    },
    {
     "name": "stdout",
     "output_type": "stream",
     "text": [
      "long:   \t15.71%\n",
      "hint:   \t9.55%\n",
      "lingering:   \t5.94%\n",
      "velvety:   \t3.86%\n",
      "touch:   \t3.58%\n",
      "--------\n",
      "\n"
     ]
    },
    {
     "data": {
      "text/html": [
       "<span style=\"background-color:rgba(135,206,250,0.07107583);\">wine</span> <span style=\"background-color:rgba(135,206,250,0.17991972);\">review</span> <span style=\"background-color:rgba(135,206,250,0.22139868);\">:</span> <span style=\"background-color:rgba(135,206,250,0.15203321);\">us</span> <span style=\"background-color:rgba(135,206,250,0.143253);\">:</span> <span style=\"background-color:rgba(135,206,250,0.07919843);\">chardaney</span> <span style=\"background-color:rgba(135,206,250,0.069254644);\">:</span> <span style=\"background-color:rgba(135,206,250,0.04294378);\">red</span> <span style=\"background-color:rgba(135,206,250,0.0342857);\">blend</span> <span style=\"background-color:rgba(135,206,250,0.043214317);\">:</span> <span style=\"background-color:rgba(135,206,250,0.018901495);\">a</span> <span style=\"background-color:rgba(135,206,250,0.014999443);\">blend</span> <span style=\"background-color:rgba(135,206,250,0.029111853);\">of</span> <span style=\"background-color:rgba(135,206,250,0.016338069);\">sangiovese</span> <span style=\"background-color:rgba(135,206,250,0.02667041);\">,</span> <span style=\"background-color:rgba(135,206,250,0.011726993);\">cabernet</span> <span style=\"background-color:rgba(135,206,250,0.014843084);\">sauvignon</span> <span style=\"background-color:rgba(135,206,250,0.02678461);\">and</span> <span style=\"background-color:rgba(135,206,250,0.009300245);\">petit</span> <span style=\"background-color:rgba(135,206,250,0.0134574585);\">verdot</span> <span style=\"background-color:rgba(135,206,250,0.025710817);\">,</span> <span style=\"background-color:rgba(135,206,250,0.017893797);\">this</span> <span style=\"background-color:rgba(135,206,250,0.020226667);\">is</span> <span style=\"background-color:rgba(135,206,250,0.016511664);\">a</span> <span style=\"background-color:rgba(135,206,250,0.016609883);\">thick</span> <span style=\"background-color:rgba(135,206,250,0.02844936);\">,</span> <span style=\"background-color:rgba(135,206,250,0.014876204);\">dense</span> <span style=\"background-color:rgba(135,206,250,0.035967384);\">and</span> <span style=\"background-color:rgba(135,206,250,0.032854695);\">tannic</span> <span style=\"background-color:rgba(135,206,250,0.024155473);\">wine</span> <span style=\"background-color:rgba(135,206,250,0.025747571);\">that</span> <span style=\"background-color:rgba(135,206,250,0.056237694);\">delivers</span> <span style=\"background-color:rgba(135,206,250,0.025437413);\">a</span> <span style=\"background-color:rgba(135,206,250,0.026072314);\">deep</span> <span style=\"background-color:rgba(135,206,250,0.029102111);\">core</span> <span style=\"background-color:rgba(135,206,250,0.04904947);\">of</span> <span style=\"background-color:rgba(135,206,250,0.027587594);\">black</span> <span style=\"background-color:rgba(135,206,250,0.036183376);\">cherry</span> <span style=\"background-color:rgba(135,206,250,0.05466243);\">,</span> <span style=\"background-color:rgba(135,206,250,0.030426232);\">spice</span> <span style=\"background-color:rgba(135,206,250,0.06100937);\">and</span> <span style=\"background-color:rgba(135,206,250,0.042695597);\">peppercorn</span> <span style=\"background-color:rgba(135,206,250,0.047537483);\">that</span> <span style=\"background-color:rgba(135,206,250,0.08543338);\">carries</span> <span style=\"background-color:rgba(135,206,250,0.043658786);\">a</span> <span style=\"background-color:rgba(135,206,250,0.04675058);\">hint</span> <span style=\"background-color:rgba(135,206,250,0.08845433);\">of</span> <span style=\"background-color:rgba(135,206,250,0.062894605);\">vanilla</span> <span style=\"background-color:rgba(135,206,250,0.19164342);\">.</span> <span style=\"background-color:rgba(135,206,250,0.090113536);\">smooth</span> <span style=\"background-color:rgba(135,206,250,0.1363135);\">,</span> <span style=\"background-color:rgba(135,206,250,0.10613771);\">firm</span> <span style=\"background-color:rgba(135,206,250,0.1599134);\">and</span> <span style=\"background-color:rgba(135,206,250,0.15092829);\">velvety</span> <span style=\"background-color:rgba(135,206,250,0.20132247);\">on</span> <span style=\"background-color:rgba(135,206,250,0.27277437);\">the</span> <span style=\"background-color:rgba(135,206,250,0.49224353);\">palate</span> <span style=\"background-color:rgba(135,206,250,0.65250677);\">,</span> <span style=\"background-color:rgba(135,206,250,1.0);\">with</span> <span style=\"background-color:rgba(135,206,250,0.6006093);\">a</span> <span style=\"background-color:rgba(135,206,250,0.40913108);\">hint</span>"
      ],
      "text/plain": [
       "<IPython.core.display.HTML object>"
      ]
     },
     "metadata": {},
     "output_type": "display_data"
    },
    {
     "name": "stdout",
     "output_type": "stream",
     "text": [
      "of:   \t100.0%\n",
      "at:   \t0.0%\n",
      "and:   \t0.0%\n",
      "to:   \t0.0%\n",
      "from:   \t0.0%\n",
      "--------\n",
      "\n"
     ]
    },
    {
     "data": {
      "text/html": [
       "<span style=\"background-color:rgba(135,206,250,0.035197143);\">wine</span> <span style=\"background-color:rgba(135,206,250,0.060646996);\">review</span> <span style=\"background-color:rgba(135,206,250,0.1599554);\">:</span> <span style=\"background-color:rgba(135,206,250,0.2659038);\">us</span> <span style=\"background-color:rgba(135,206,250,0.04825702);\">:</span> <span style=\"background-color:rgba(135,206,250,0.11857592);\">chardaney</span> <span style=\"background-color:rgba(135,206,250,0.07265842);\">:</span> <span style=\"background-color:rgba(135,206,250,0.103384726);\">red</span> <span style=\"background-color:rgba(135,206,250,0.072418965);\">blend</span> <span style=\"background-color:rgba(135,206,250,0.03179732);\">:</span> <span style=\"background-color:rgba(135,206,250,0.023468977);\">a</span> <span style=\"background-color:rgba(135,206,250,0.022420023);\">blend</span> <span style=\"background-color:rgba(135,206,250,0.012720733);\">of</span> <span style=\"background-color:rgba(135,206,250,0.043774948);\">sangiovese</span> <span style=\"background-color:rgba(135,206,250,0.024616076);\">,</span> <span style=\"background-color:rgba(135,206,250,0.022521762);\">cabernet</span> <span style=\"background-color:rgba(135,206,250,0.029642683);\">sauvignon</span> <span style=\"background-color:rgba(135,206,250,0.021641199);\">and</span> <span style=\"background-color:rgba(135,206,250,0.018939769);\">petit</span> <span style=\"background-color:rgba(135,206,250,0.036292106);\">verdot</span> <span style=\"background-color:rgba(135,206,250,0.0219473);\">,</span> <span style=\"background-color:rgba(135,206,250,0.017414827);\">this</span> <span style=\"background-color:rgba(135,206,250,0.010534387);\">is</span> <span style=\"background-color:rgba(135,206,250,0.012454496);\">a</span> <span style=\"background-color:rgba(135,206,250,0.029542018);\">thick</span> <span style=\"background-color:rgba(135,206,250,0.020080833);\">,</span> <span style=\"background-color:rgba(135,206,250,0.02356674);\">dense</span> <span style=\"background-color:rgba(135,206,250,0.019780802);\">and</span> <span style=\"background-color:rgba(135,206,250,0.058187343);\">tannic</span> <span style=\"background-color:rgba(135,206,250,0.024007037);\">wine</span> <span style=\"background-color:rgba(135,206,250,0.018390575);\">that</span> <span style=\"background-color:rgba(135,206,250,0.025670782);\">delivers</span> <span style=\"background-color:rgba(135,206,250,0.015986541);\">a</span> <span style=\"background-color:rgba(135,206,250,0.044120505);\">deep</span> <span style=\"background-color:rgba(135,206,250,0.025718011);\">core</span> <span style=\"background-color:rgba(135,206,250,0.0131234415);\">of</span> <span style=\"background-color:rgba(135,206,250,0.03580854);\">black</span> <span style=\"background-color:rgba(135,206,250,0.05679941);\">cherry</span> <span style=\"background-color:rgba(135,206,250,0.029818155);\">,</span> <span style=\"background-color:rgba(135,206,250,0.061504327);\">spice</span> <span style=\"background-color:rgba(135,206,250,0.030897265);\">and</span> <span style=\"background-color:rgba(135,206,250,0.053917345);\">peppercorn</span> <span style=\"background-color:rgba(135,206,250,0.028031409);\">that</span> <span style=\"background-color:rgba(135,206,250,0.051083505);\">carries</span> <span style=\"background-color:rgba(135,206,250,0.024991332);\">a</span> <span style=\"background-color:rgba(135,206,250,0.04021646);\">hint</span> <span style=\"background-color:rgba(135,206,250,0.01921701);\">of</span> <span style=\"background-color:rgba(135,206,250,0.062144782);\">vanilla</span> <span style=\"background-color:rgba(135,206,250,0.09984456);\">.</span> <span style=\"background-color:rgba(135,206,250,0.08725612);\">smooth</span> <span style=\"background-color:rgba(135,206,250,0.062699154);\">,</span> <span style=\"background-color:rgba(135,206,250,0.10049552);\">firm</span> <span style=\"background-color:rgba(135,206,250,0.07318884);\">and</span> <span style=\"background-color:rgba(135,206,250,0.15938139);\">velvety</span> <span style=\"background-color:rgba(135,206,250,0.08421363);\">on</span> <span style=\"background-color:rgba(135,206,250,0.17915127);\">the</span> <span style=\"background-color:rgba(135,206,250,0.39143085);\">palate</span> <span style=\"background-color:rgba(135,206,250,0.26681873);\">,</span> <span style=\"background-color:rgba(135,206,250,0.4432873);\">with</span> <span style=\"background-color:rgba(135,206,250,0.31550953);\">a</span> <span style=\"background-color:rgba(135,206,250,1.0);\">hint</span> <span style=\"background-color:rgba(135,206,250,0.20705399);\">of</span>"
      ],
      "text/plain": [
       "<IPython.core.display.HTML object>"
      ]
     },
     "metadata": {},
     "output_type": "display_data"
    },
    {
     "name": "stdout",
     "output_type": "stream",
     "text": [
      "chocolate:   \t19.24%\n",
      "tobacco:   \t5.59%\n",
      "black:   \t5.48%\n",
      "leather:   \t4.86%\n",
      "dark:   \t3.17%\n",
      "--------\n",
      "\n"
     ]
    },
    {
     "data": {
      "text/html": [
       "<span style=\"background-color:rgba(135,206,250,0.037692517);\">wine</span> <span style=\"background-color:rgba(135,206,250,0.06703395);\">review</span> <span style=\"background-color:rgba(135,206,250,0.16373238);\">:</span> <span style=\"background-color:rgba(135,206,250,0.3440093);\">us</span> <span style=\"background-color:rgba(135,206,250,0.06779301);\">:</span> <span style=\"background-color:rgba(135,206,250,0.13599698);\">chardaney</span> <span style=\"background-color:rgba(135,206,250,0.10242451);\">:</span> <span style=\"background-color:rgba(135,206,250,0.15105966);\">red</span> <span style=\"background-color:rgba(135,206,250,0.10707452);\">blend</span> <span style=\"background-color:rgba(135,206,250,0.050213702);\">:</span> <span style=\"background-color:rgba(135,206,250,0.024136702);\">a</span> <span style=\"background-color:rgba(135,206,250,0.036905184);\">blend</span> <span style=\"background-color:rgba(135,206,250,0.028652366);\">of</span> <span style=\"background-color:rgba(135,206,250,0.0760576);\">sangiovese</span> <span style=\"background-color:rgba(135,206,250,0.039108314);\">,</span> <span style=\"background-color:rgba(135,206,250,0.046371415);\">cabernet</span> <span style=\"background-color:rgba(135,206,250,0.04659648);\">sauvignon</span> <span style=\"background-color:rgba(135,206,250,0.03427561);\">and</span> <span style=\"background-color:rgba(135,206,250,0.022009);\">petit</span> <span style=\"background-color:rgba(135,206,250,0.055508375);\">verdot</span> <span style=\"background-color:rgba(135,206,250,0.03498091);\">,</span> <span style=\"background-color:rgba(135,206,250,0.029302489);\">this</span> <span style=\"background-color:rgba(135,206,250,0.029669695);\">is</span> <span style=\"background-color:rgba(135,206,250,0.014954264);\">a</span> <span style=\"background-color:rgba(135,206,250,0.038720995);\">thick</span> <span style=\"background-color:rgba(135,206,250,0.03419517);\">,</span> <span style=\"background-color:rgba(135,206,250,0.029548429);\">dense</span> <span style=\"background-color:rgba(135,206,250,0.032634746);\">and</span> <span style=\"background-color:rgba(135,206,250,0.09487533);\">tannic</span> <span style=\"background-color:rgba(135,206,250,0.055632867);\">wine</span> <span style=\"background-color:rgba(135,206,250,0.027304368);\">that</span> <span style=\"background-color:rgba(135,206,250,0.058026597);\">delivers</span> <span style=\"background-color:rgba(135,206,250,0.02062235);\">a</span> <span style=\"background-color:rgba(135,206,250,0.055523727);\">deep</span> <span style=\"background-color:rgba(135,206,250,0.049120862);\">core</span> <span style=\"background-color:rgba(135,206,250,0.03577512);\">of</span> <span style=\"background-color:rgba(135,206,250,0.056987602);\">black</span> <span style=\"background-color:rgba(135,206,250,0.097261);\">cherry</span> <span style=\"background-color:rgba(135,206,250,0.050507326);\">,</span> <span style=\"background-color:rgba(135,206,250,0.0781738);\">spice</span> <span style=\"background-color:rgba(135,206,250,0.054784127);\">and</span> <span style=\"background-color:rgba(135,206,250,0.06814758);\">peppercorn</span> <span style=\"background-color:rgba(135,206,250,0.039965786);\">that</span> <span style=\"background-color:rgba(135,206,250,0.06389218);\">carries</span> <span style=\"background-color:rgba(135,206,250,0.030651068);\">a</span> <span style=\"background-color:rgba(135,206,250,0.060467698);\">hint</span> <span style=\"background-color:rgba(135,206,250,0.05197339);\">of</span> <span style=\"background-color:rgba(135,206,250,0.08606541);\">vanilla</span> <span style=\"background-color:rgba(135,206,250,0.18214214);\">.</span> <span style=\"background-color:rgba(135,206,250,0.103092976);\">smooth</span> <span style=\"background-color:rgba(135,206,250,0.08952975);\">,</span> <span style=\"background-color:rgba(135,206,250,0.09900547);\">firm</span> <span style=\"background-color:rgba(135,206,250,0.10379044);\">and</span> <span style=\"background-color:rgba(135,206,250,0.16008121);\">velvety</span> <span style=\"background-color:rgba(135,206,250,0.16491237);\">on</span> <span style=\"background-color:rgba(135,206,250,0.18606995);\">the</span> <span style=\"background-color:rgba(135,206,250,0.5088588);\">palate</span> <span style=\"background-color:rgba(135,206,250,0.3243434);\">,</span> <span style=\"background-color:rgba(135,206,250,0.724462);\">with</span> <span style=\"background-color:rgba(135,206,250,0.66974795);\">a</span> <span style=\"background-color:rgba(135,206,250,0.9826458);\">hint</span> <span style=\"background-color:rgba(135,206,250,1.0);\">of</span> <span style=\"background-color:rgba(135,206,250,0.38569653);\">fresh</span>"
      ],
      "text/plain": [
       "<IPython.core.display.HTML object>"
      ]
     },
     "metadata": {},
     "output_type": "display_data"
    },
    {
     "name": "stdout",
     "output_type": "stream",
     "text": [
      "herb:   \t21.91%\n",
      "acidity:   \t15.42%\n",
      "tobacco:   \t9.81%\n",
      "-:   \t9.41%\n",
      "herbs:   \t6.61%\n",
      "--------\n",
      "\n"
     ]
    },
    {
     "data": {
      "text/html": [
       "<span style=\"background-color:rgba(135,206,250,0.046140548);\">wine</span> <span style=\"background-color:rgba(135,206,250,0.113914624);\">review</span> <span style=\"background-color:rgba(135,206,250,0.21537109);\">:</span> <span style=\"background-color:rgba(135,206,250,0.22241752);\">us</span> <span style=\"background-color:rgba(135,206,250,0.10173225);\">:</span> <span style=\"background-color:rgba(135,206,250,0.07334142);\">chardaney</span> <span style=\"background-color:rgba(135,206,250,0.076271184);\">:</span> <span style=\"background-color:rgba(135,206,250,0.038838346);\">red</span> <span style=\"background-color:rgba(135,206,250,0.09022595);\">blend</span> <span style=\"background-color:rgba(135,206,250,0.047201794);\">:</span> <span style=\"background-color:rgba(135,206,250,0.028494751);\">a</span> <span style=\"background-color:rgba(135,206,250,0.036979165);\">blend</span> <span style=\"background-color:rgba(135,206,250,0.028372398);\">of</span> <span style=\"background-color:rgba(135,206,250,0.020211851);\">sangiovese</span> <span style=\"background-color:rgba(135,206,250,0.02117421);\">,</span> <span style=\"background-color:rgba(135,206,250,0.019304931);\">cabernet</span> <span style=\"background-color:rgba(135,206,250,0.01375092);\">sauvignon</span> <span style=\"background-color:rgba(135,206,250,0.017596774);\">and</span> <span style=\"background-color:rgba(135,206,250,0.0063530244);\">petit</span> <span style=\"background-color:rgba(135,206,250,0.0151270125);\">verdot</span> <span style=\"background-color:rgba(135,206,250,0.018781595);\">,</span> <span style=\"background-color:rgba(135,206,250,0.023339534);\">this</span> <span style=\"background-color:rgba(135,206,250,0.032368194);\">is</span> <span style=\"background-color:rgba(135,206,250,0.020437257);\">a</span> <span style=\"background-color:rgba(135,206,250,0.0144948885);\">thick</span> <span style=\"background-color:rgba(135,206,250,0.02252164);\">,</span> <span style=\"background-color:rgba(135,206,250,0.011641181);\">dense</span> <span style=\"background-color:rgba(135,206,250,0.023357857);\">and</span> <span style=\"background-color:rgba(135,206,250,0.028639797);\">tannic</span> <span style=\"background-color:rgba(135,206,250,0.030063745);\">wine</span> <span style=\"background-color:rgba(135,206,250,0.03705948);\">that</span> <span style=\"background-color:rgba(135,206,250,0.0905203);\">delivers</span> <span style=\"background-color:rgba(135,206,250,0.03824856);\">a</span> <span style=\"background-color:rgba(135,206,250,0.02021593);\">deep</span> <span style=\"background-color:rgba(135,206,250,0.050242502);\">core</span> <span style=\"background-color:rgba(135,206,250,0.053298496);\">of</span> <span style=\"background-color:rgba(135,206,250,0.025191976);\">black</span> <span style=\"background-color:rgba(135,206,250,0.060164046);\">cherry</span> <span style=\"background-color:rgba(135,206,250,0.05132073);\">,</span> <span style=\"background-color:rgba(135,206,250,0.051049553);\">spice</span> <span style=\"background-color:rgba(135,206,250,0.05235754);\">and</span> <span style=\"background-color:rgba(135,206,250,0.046005458);\">peppercorn</span> <span style=\"background-color:rgba(135,206,250,0.07598028);\">that</span> <span style=\"background-color:rgba(135,206,250,0.16997631);\">carries</span> <span style=\"background-color:rgba(135,206,250,0.06663511);\">a</span> <span style=\"background-color:rgba(135,206,250,0.09051541);\">hint</span> <span style=\"background-color:rgba(135,206,250,0.09889809);\">of</span> <span style=\"background-color:rgba(135,206,250,0.07555609);\">vanilla</span> <span style=\"background-color:rgba(135,206,250,0.3144339);\">.</span> <span style=\"background-color:rgba(135,206,250,0.066756316);\">smooth</span> <span style=\"background-color:rgba(135,206,250,0.108172305);\">,</span> <span style=\"background-color:rgba(135,206,250,0.09219376);\">firm</span> <span style=\"background-color:rgba(135,206,250,0.11510419);\">and</span> <span style=\"background-color:rgba(135,206,250,0.1148509);\">velvety</span> <span style=\"background-color:rgba(135,206,250,0.22055385);\">on</span> <span style=\"background-color:rgba(135,206,250,0.294292);\">the</span> <span style=\"background-color:rgba(135,206,250,0.30385306);\">palate</span> <span style=\"background-color:rgba(135,206,250,0.3716907);\">,</span> <span style=\"background-color:rgba(135,206,250,1.0);\">with</span> <span style=\"background-color:rgba(135,206,250,0.50808024);\">a</span> <span style=\"background-color:rgba(135,206,250,0.9482143);\">hint</span> <span style=\"background-color:rgba(135,206,250,0.88447946);\">of</span> <span style=\"background-color:rgba(135,206,250,0.4624391);\">fresh</span> <span style=\"background-color:rgba(135,206,250,0.48533326);\">greens</span>"
      ],
      "text/plain": [
       "<IPython.core.display.HTML object>"
      ]
     },
     "metadata": {},
     "output_type": "display_data"
    },
    {
     "name": "stdout",
     "output_type": "stream",
     "text": [
      ".:   \t36.91%\n",
      "and:   \t34.93%\n",
      ",:   \t16.91%\n",
      "on:   \t2.03%\n",
      "that:   \t1.57%\n",
      "--------\n",
      "\n"
     ]
    },
    {
     "data": {
      "text/html": [
       "<span style=\"background-color:rgba(135,206,250,0.08350244);\">wine</span> <span style=\"background-color:rgba(135,206,250,0.07520966);\">review</span> <span style=\"background-color:rgba(135,206,250,0.80487514);\">:</span> <span style=\"background-color:rgba(135,206,250,1.0);\">us</span> <span style=\"background-color:rgba(135,206,250,0.16472629);\">:</span> <span style=\"background-color:rgba(135,206,250,0.33512396);\">chardaney</span> <span style=\"background-color:rgba(135,206,250,0.32785583);\">:</span> <span style=\"background-color:rgba(135,206,250,0.19251841);\">red</span> <span style=\"background-color:rgba(135,206,250,0.1620174);\">blend</span> <span style=\"background-color:rgba(135,206,250,0.07837752);\">:</span> <span style=\"background-color:rgba(135,206,250,0.034716677);\">a</span> <span style=\"background-color:rgba(135,206,250,0.05439235);\">blend</span> <span style=\"background-color:rgba(135,206,250,0.03457789);\">of</span> <span style=\"background-color:rgba(135,206,250,0.04556428);\">sangiovese</span> <span style=\"background-color:rgba(135,206,250,0.046667233);\">,</span> <span style=\"background-color:rgba(135,206,250,0.03207358);\">cabernet</span> <span style=\"background-color:rgba(135,206,250,0.030293876);\">sauvignon</span> <span style=\"background-color:rgba(135,206,250,0.035302233);\">and</span> <span style=\"background-color:rgba(135,206,250,0.028148292);\">petit</span> <span style=\"background-color:rgba(135,206,250,0.038003713);\">verdot</span> <span style=\"background-color:rgba(135,206,250,0.034230333);\">,</span> <span style=\"background-color:rgba(135,206,250,0.05035107);\">this</span> <span style=\"background-color:rgba(135,206,250,0.030422956);\">is</span> <span style=\"background-color:rgba(135,206,250,0.016836178);\">a</span> <span style=\"background-color:rgba(135,206,250,0.045488223);\">thick</span> <span style=\"background-color:rgba(135,206,250,0.033148266);\">,</span> <span style=\"background-color:rgba(135,206,250,0.029309943);\">dense</span> <span style=\"background-color:rgba(135,206,250,0.029943585);\">and</span> <span style=\"background-color:rgba(135,206,250,0.07586811);\">tannic</span> <span style=\"background-color:rgba(135,206,250,0.043232843);\">wine</span> <span style=\"background-color:rgba(135,206,250,0.032304797);\">that</span> <span style=\"background-color:rgba(135,206,250,0.051127337);\">delivers</span> <span style=\"background-color:rgba(135,206,250,0.019246316);\">a</span> <span style=\"background-color:rgba(135,206,250,0.057493467);\">deep</span> <span style=\"background-color:rgba(135,206,250,0.048185356);\">core</span> <span style=\"background-color:rgba(135,206,250,0.027664948);\">of</span> <span style=\"background-color:rgba(135,206,250,0.03404233);\">black</span> <span style=\"background-color:rgba(135,206,250,0.05927218);\">cherry</span> <span style=\"background-color:rgba(135,206,250,0.042288415);\">,</span> <span style=\"background-color:rgba(135,206,250,0.05342421);\">spice</span> <span style=\"background-color:rgba(135,206,250,0.042255178);\">and</span> <span style=\"background-color:rgba(135,206,250,0.05243159);\">peppercorn</span> <span style=\"background-color:rgba(135,206,250,0.042577934);\">that</span> <span style=\"background-color:rgba(135,206,250,0.04807564);\">carries</span> <span style=\"background-color:rgba(135,206,250,0.025873113);\">a</span> <span style=\"background-color:rgba(135,206,250,0.05244706);\">hint</span> <span style=\"background-color:rgba(135,206,250,0.035583578);\">of</span> <span style=\"background-color:rgba(135,206,250,0.059404578);\">vanilla</span> <span style=\"background-color:rgba(135,206,250,0.10041693);\">.</span> <span style=\"background-color:rgba(135,206,250,0.08607523);\">smooth</span> <span style=\"background-color:rgba(135,206,250,0.062350117);\">,</span> <span style=\"background-color:rgba(135,206,250,0.07112073);\">firm</span> <span style=\"background-color:rgba(135,206,250,0.06381008);\">and</span> <span style=\"background-color:rgba(135,206,250,0.109959885);\">velvety</span> <span style=\"background-color:rgba(135,206,250,0.048583042);\">on</span> <span style=\"background-color:rgba(135,206,250,0.06240122);\">the</span> <span style=\"background-color:rgba(135,206,250,0.21725713);\">palate</span> <span style=\"background-color:rgba(135,206,250,0.11628601);\">,</span> <span style=\"background-color:rgba(135,206,250,0.16187115);\">with</span> <span style=\"background-color:rgba(135,206,250,0.10086572);\">a</span> <span style=\"background-color:rgba(135,206,250,0.12769529);\">hint</span> <span style=\"background-color:rgba(135,206,250,0.13731004);\">of</span> <span style=\"background-color:rgba(135,206,250,0.23018928);\">fresh</span> <span style=\"background-color:rgba(135,206,250,0.48614687);\">greens</span> <span style=\"background-color:rgba(135,206,250,0.5640512);\">.</span>"
      ],
      "text/plain": [
       "<IPython.core.display.HTML object>"
      ]
     },
     "metadata": {},
     "output_type": "display_data"
    },
    {
     "name": "stdout",
     "output_type": "stream",
     "text": [
      ":   \t95.96%\n",
      "it:   \t0.95%\n",
      "drink:   \t0.8%\n",
      "the:   \t0.61%\n",
      "a:   \t0.47%\n",
      "--------\n",
      "\n"
     ]
    }
   ],
   "source": [
    "from gpt_tf import print_probs\n",
    "\n",
    "print_probs(info,vocab)"
   ]
  }
 ],
 "metadata": {
  "kernelspec": {
   "display_name": "dl_311_venv",
   "language": "python",
   "name": "python3"
  },
  "language_info": {
   "codemirror_mode": {
    "name": "ipython",
    "version": 3
   },
   "file_extension": ".py",
   "mimetype": "text/x-python",
   "name": "python",
   "nbconvert_exporter": "python",
   "pygments_lexer": "ipython3",
   "version": "3.11.6"
  }
 },
 "nbformat": 4,
 "nbformat_minor": 2
}
